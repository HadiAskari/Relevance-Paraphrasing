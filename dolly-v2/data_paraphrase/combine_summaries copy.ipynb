{
 "cells": [
  {
   "cell_type": "code",
   "execution_count": 207,
   "metadata": {},
   "outputs": [],
   "source": [
    "import pickle as pkl\n",
    "import nltk\n",
    "import os\n",
    "from datasets import load_dataset\n",
    "from nltk.tokenize import sent_tokenize, word_tokenize\n",
    "import multiprocessing\n",
    "import evaluate\n",
    "from rouge_score import rouge_scorer\n",
    "from tqdm.auto import tqdm\n",
    "from natsort import natsorted\n",
    "import random\n",
    "import pandas as pd\n",
    "from datasets import load_dataset, DatasetDict, load_from_disk"
   ]
  },
  {
   "cell_type": "code",
   "execution_count": 2,
   "metadata": {},
   "outputs": [
    {
     "name": "stdout",
     "output_type": "stream",
     "text": [
      "11490\n",
      " Sure! Here is a summary of the article in three numbered sentences:\n",
      "\n",
      "1. The Palestinian Authority officially became the 123rd member of the International Criminal Court (ICC) on Wednesday, giving the court jurisdiction over alleged crimes in Palestinian territories.\n",
      "2. The ICC has initiated a preliminary examination into the situation in the Palestinian territories, potentially paving the way for investigations into possible war crimes committed by Israelis and Palestinians.\n",
      "3. The accession to the ICC is seen as a move towards greater justice and accountability for alleged crimes committed in the occupied Palestinian territories, but both Israel and the United States have objected to the Palestinians' attempts to join the court.\n"
     ]
    }
   ],
   "source": [
    "pkls=os.listdir('cnn')\n",
    "pkls=natsorted(pkls)\n",
    "pkls_list=[]\n",
    "for pikl in pkls:\n",
    "    with open('cnn/{}'.format(pikl),'rb') as f:\n",
    "        file=pkl.load(f)\n",
    "    if not file:\n",
    "        file.append(' ')\n",
    "    pkls_list.extend(file)\n",
    "\n",
    "print(len(pkls_list))\n",
    "print(pkls_list[0])"
   ]
  },
  {
   "cell_type": "code",
   "execution_count": 3,
   "metadata": {},
   "outputs": [
    {
     "name": "stdout",
     "output_type": "stream",
     "text": [
      "13\n",
      "29\n",
      "56\n",
      "98\n",
      "187\n",
      "197\n",
      "216\n",
      "236\n",
      "237\n",
      "242\n",
      "259\n",
      "297\n",
      "304\n",
      "306\n",
      "347\n",
      "364\n",
      "397\n",
      "404\n",
      "408\n",
      "409\n",
      "430\n",
      "437\n",
      "456\n",
      "492\n",
      "493\n",
      "574\n",
      "582\n",
      "678\n",
      "716\n",
      "725\n",
      "727\n",
      "770\n",
      "805\n",
      "817\n",
      "827\n",
      "841\n",
      "842\n",
      "861\n",
      "865\n",
      "902\n",
      "904\n",
      "993\n",
      "1011\n",
      "1018\n",
      "1036\n",
      "1037\n",
      "1097\n",
      "1221\n",
      "1292\n",
      "1349\n",
      "1401\n",
      "1505\n",
      "1546\n",
      "1566\n",
      "1587\n",
      "1673\n",
      "1678\n",
      "1680\n",
      "2021\n",
      "2024\n",
      "2123\n",
      "2227\n",
      "2303\n",
      "2325\n",
      "2326\n",
      "2373\n",
      "2661\n",
      "2663\n",
      "2703\n",
      "2764\n",
      "2796\n",
      "2958\n",
      "2965\n",
      "2975\n",
      "2981\n",
      "3111\n",
      "3141\n",
      "3247\n",
      "3314\n",
      "3329\n",
      "3349\n",
      "3417\n",
      "3500\n",
      "3574\n",
      "3590\n",
      "3779\n",
      "4071\n",
      "4168\n",
      "4216\n",
      "4342\n",
      "4354\n",
      "4464\n",
      "4475\n",
      "4483\n",
      "4596\n",
      "4632\n",
      "4643\n",
      "4658\n",
      "4659\n",
      "4662\n",
      "4857\n",
      "4865\n",
      "4870\n",
      "4884\n",
      "4886\n",
      "4941\n",
      "4943\n",
      "4949\n",
      "4973\n",
      "4978\n",
      "4980\n",
      "4987\n",
      "4988\n",
      "5010\n",
      "5018\n",
      "5043\n",
      "5065\n",
      "5070\n",
      "5075\n",
      "5109\n",
      "5110\n",
      "5147\n",
      "5157\n",
      "5178\n",
      "5182\n",
      "5185\n",
      "5197\n",
      "5198\n",
      "5205\n",
      "5211\n",
      "5215\n",
      "5228\n",
      "5237\n",
      "5240\n",
      "5246\n",
      "5247\n",
      "5259\n",
      "5270\n",
      "5330\n",
      "5343\n",
      "5346\n",
      "5373\n",
      "5376\n",
      "5395\n",
      "5404\n",
      "5407\n",
      "5414\n",
      "5427\n",
      "5456\n",
      "5469\n",
      "5470\n",
      "5471\n",
      "5500\n",
      "5507\n",
      "5526\n",
      "5579\n",
      "5580\n",
      "5602\n",
      "5604\n",
      "5605\n",
      "5634\n",
      "5641\n",
      "5642\n",
      "5668\n",
      "5719\n",
      "5730\n",
      "5740\n",
      "5765\n",
      "5768\n",
      "5770\n",
      "5780\n",
      "5793\n",
      "5807\n",
      "5814\n",
      "5881\n",
      "5893\n",
      "5913\n",
      "5919\n",
      "5969\n",
      "6000\n",
      "6014\n",
      "6054\n",
      "6074\n",
      "6083\n",
      "6084\n",
      "6104\n",
      "6107\n",
      "6115\n",
      "6137\n",
      "6181\n",
      "6193\n",
      "6212\n",
      "6215\n",
      "6225\n",
      "6248\n",
      "6255\n",
      "6256\n",
      "6264\n",
      "6346\n",
      "6347\n",
      "6354\n",
      "6361\n",
      "6362\n",
      "6378\n",
      "6389\n",
      "6395\n",
      "6429\n",
      "6458\n",
      "6498\n",
      "6515\n",
      "6532\n",
      "6535\n",
      "6563\n",
      "6564\n",
      "6565\n",
      "6577\n",
      "6599\n",
      "6622\n",
      "6635\n",
      "6648\n",
      "6650\n",
      "6652\n",
      "6662\n",
      "6666\n",
      "6673\n",
      "6689\n",
      "6732\n",
      "6759\n",
      "6789\n",
      "6805\n",
      "6807\n",
      "6815\n",
      "6839\n",
      "6843\n",
      "6854\n",
      "6859\n",
      "6891\n",
      "6895\n",
      "6927\n",
      "6932\n",
      "6947\n",
      "6949\n",
      "6967\n",
      "6969\n",
      "6975\n",
      "6997\n",
      "7003\n",
      "7008\n",
      "7014\n",
      "7027\n",
      "7043\n",
      "7048\n",
      "7061\n",
      "7076\n",
      "7088\n",
      "7090\n",
      "7120\n",
      "7143\n",
      "7146\n",
      "7149\n",
      "7154\n",
      "7169\n",
      "7175\n",
      "7202\n",
      "7204\n",
      "7206\n",
      "7209\n",
      "7271\n",
      "7276\n",
      "7299\n",
      "7312\n",
      "7317\n",
      "7341\n",
      "7342\n",
      "7343\n",
      "7359\n",
      "7381\n",
      "7390\n",
      "7446\n",
      "7469\n",
      "7487\n",
      "7488\n",
      "7492\n",
      "7501\n",
      "7519\n",
      "7529\n",
      "7535\n",
      "7564\n",
      "7581\n",
      "7624\n",
      "7637\n",
      "7663\n",
      "7687\n",
      "7716\n",
      "7734\n",
      "7757\n",
      "7778\n",
      "7785\n",
      "7794\n",
      "7797\n",
      "7809\n",
      "7895\n",
      "7902\n",
      "7903\n",
      "7905\n",
      "7910\n",
      "7916\n",
      "7921\n",
      "7941\n",
      "7953\n",
      "7959\n",
      "7961\n",
      "8002\n",
      "8023\n",
      "8042\n",
      "8049\n",
      "8056\n",
      "8072\n",
      "8103\n",
      "8128\n",
      "8130\n",
      "8139\n",
      "8152\n",
      "8156\n",
      "8159\n",
      "8175\n",
      "8190\n",
      "8201\n",
      "8212\n",
      "8221\n",
      "8225\n",
      "8269\n",
      "8272\n",
      "8282\n",
      "8289\n",
      "8298\n",
      "8304\n",
      "8306\n",
      "8320\n",
      "8333\n",
      "8340\n",
      "8344\n",
      "8374\n",
      "8376\n",
      "8379\n",
      "8383\n",
      "8419\n",
      "8433\n",
      "8443\n",
      "8446\n",
      "8468\n",
      "8486\n",
      "8492\n",
      "8497\n",
      "8526\n",
      "8538\n",
      "8541\n",
      "8547\n",
      "8554\n",
      "8562\n",
      "8591\n",
      "8606\n",
      "8636\n",
      "8642\n",
      "8648\n",
      "8651\n",
      "8652\n",
      "8658\n",
      "8717\n",
      "8734\n",
      "8763\n",
      "8842\n",
      "8851\n",
      "8869\n",
      "8904\n",
      "8918\n",
      "8922\n",
      "8924\n",
      "8928\n",
      "8933\n",
      "8937\n",
      "8943\n",
      "8953\n",
      "8966\n",
      "8967\n",
      "8974\n",
      "8977\n",
      "9006\n",
      "9017\n",
      "9026\n",
      "9059\n",
      "9060\n",
      "9092\n",
      "9133\n",
      "9145\n",
      "9149\n",
      "9159\n",
      "9195\n",
      "9197\n",
      "9232\n",
      "9235\n",
      "9240\n",
      "9293\n",
      "9310\n",
      "9332\n",
      "9333\n",
      "9340\n",
      "9352\n",
      "9397\n",
      "9399\n",
      "9427\n",
      "9429\n",
      "9441\n",
      "9474\n",
      "9483\n",
      "9489\n",
      "9507\n",
      "9516\n",
      "9519\n",
      "9527\n",
      "9552\n",
      "9558\n",
      "9591\n",
      "9671\n",
      "9699\n",
      "9709\n",
      "9725\n",
      "9730\n",
      "9735\n",
      "9757\n",
      "9759\n",
      "9766\n",
      "9860\n",
      "9861\n",
      "9873\n",
      "9899\n",
      "9905\n",
      "9909\n",
      "9942\n",
      "9951\n",
      "9982\n",
      "9989\n",
      "9992\n",
      "9996\n",
      "10000\n",
      "10013\n",
      "10026\n",
      "10030\n",
      "10082\n",
      "10119\n",
      "10120\n",
      "10142\n",
      "10144\n",
      "10155\n",
      "10175\n",
      "10211\n",
      "10212\n",
      "10221\n",
      "10222\n",
      "10228\n",
      "10233\n",
      "10239\n",
      "10259\n",
      "10261\n",
      "10309\n",
      "10320\n",
      "10335\n",
      "10340\n",
      "10348\n",
      "10357\n",
      "10362\n",
      "10369\n",
      "10375\n",
      "10376\n",
      "10377\n",
      "10402\n",
      "10443\n",
      "10456\n",
      "10460\n",
      "10473\n",
      "10497\n",
      "10525\n",
      "10529\n",
      "10536\n",
      "10555\n",
      "10563\n",
      "10571\n",
      "10584\n",
      "10585\n",
      "10612\n",
      "10623\n",
      "10646\n",
      "10659\n",
      "10660\n",
      "10691\n",
      "10696\n",
      "10719\n",
      "10729\n",
      "10742\n",
      "10750\n",
      "10768\n",
      "10771\n",
      "10786\n",
      "10833\n",
      "10885\n",
      "10946\n",
      "10959\n",
      "10965\n",
      "10982\n",
      "11021\n",
      "11043\n",
      "11065\n",
      "11079\n",
      "11080\n",
      "11099\n",
      "11144\n",
      "11152\n",
      "11173\n",
      "11174\n",
      "11186\n",
      "11193\n",
      "11199\n",
      "11210\n",
      "11226\n",
      "11234\n",
      "11239\n",
      "11271\n",
      "11272\n",
      "11306\n",
      "11368\n",
      "11375\n",
      "11380\n",
      "11419\n",
      "11441\n",
      "11459\n",
      "11464\n",
      "11468\n",
      "11480\n",
      "11486\n",
      "539\n"
     ]
    }
   ],
   "source": [
    "count=0\n",
    "for idx,item in enumerate(pkls_list):\n",
    "    if item == \" \":\n",
    "        print(idx)\n",
    "        count+=1\n",
    "print(count)"
   ]
  },
  {
   "cell_type": "code",
   "execution_count": 24,
   "metadata": {},
   "outputs": [],
   "source": [
    "pkls_list=[orig_file[2]]"
   ]
  },
  {
   "cell_type": "code",
   "execution_count": 25,
   "metadata": {},
   "outputs": [],
   "source": [
    "cnn_list=[]\n",
    "for i in range(len(pkls_list)):\n",
    "    temp=[]\n",
    "    splits=pkls_list[i].split('\\n')\n",
    "    for split in splits:\n",
    "        if split:\n",
    "            if split[0].isdigit():\n",
    "                try:\n",
    "                    temp.append(split.split(\".\")[1].strip())\n",
    "                except:\n",
    "                    print(split)\n",
    "    cnn_list.append(temp)"
   ]
  },
  {
   "cell_type": "code",
   "execution_count": 26,
   "metadata": {},
   "outputs": [
    {
     "data": {
      "text/plain": [
       "1"
      ]
     },
     "execution_count": 26,
     "metadata": {},
     "output_type": "execute_result"
    }
   ],
   "source": [
    "len(cnn_list)"
   ]
  },
  {
   "cell_type": "code",
   "execution_count": 27,
   "metadata": {},
   "outputs": [
    {
     "data": {
      "text/plain": [
       "[['Mohammad Javad Zarif is the Iranian Foreign Minister',\n",
       "  \"If you've been following the news lately, you know that he is U\",\n",
       "  'A recent search for \"Mohammad Javad Zarif\" and \"jovial\" yields thousands of results highlighting a misunderstanding of his personality, which tends to get overshadowed by the realities of his position, namely, his role in resolving the Alavi Foundation probe, and his role in the Iranian Revolution and subsequent time in the United States']]"
      ]
     },
     "execution_count": 27,
     "metadata": {},
     "output_type": "execute_result"
    }
   ],
   "source": [
    "cnn_list"
   ]
  },
  {
   "cell_type": "code",
   "execution_count": 6,
   "metadata": {},
   "outputs": [
    {
     "data": {
      "text/plain": [
       "['Former New England Patriots player Aaron Hernandez is facing three more legal proceedings, including one criminal trial and two civil lawsuits, after being convicted of murder and other charges in the death of Odin Lloyd',\n",
       " 'The double-murder trial for the deaths of Daniel de Abreu and Safiro Furtado is set to resume, with a new court date to be determined, and Hernandez is also facing civil suits from the families of the victims and a man who claims Hernandez shot him in a Miami strip club',\n",
       " \"Hernandez's legal team has stated that he was unable to effectively defend himself during his trial in Massachusetts due to various factors, and the NFL players union has filed a grievance over unpaid bonus money on behalf of Hernandez\"]"
      ]
     },
     "execution_count": 6,
     "metadata": {},
     "output_type": "execute_result"
    }
   ],
   "source": [
    "cnn_list[200]"
   ]
  },
  {
   "cell_type": "code",
   "execution_count": 34,
   "metadata": {},
   "outputs": [],
   "source": [
    "# with open('reddit.pkl', 'wb') as f:\n",
    "#     pkl.dump(cnn_list,f) "
   ]
  },
  {
   "cell_type": "code",
   "execution_count": 20,
   "metadata": {},
   "outputs": [],
   "source": []
  },
  {
   "cell_type": "code",
   "execution_count": 56,
   "metadata": {},
   "outputs": [],
   "source": [
    "dataset = load_dataset(\"cnn_dailymail\", '3.0.0')\n",
    "article_key = 'article'\n",
    "summary_key = 'highlights'\n",
    "dataset=dataset['test']"
   ]
  },
  {
   "cell_type": "code",
   "execution_count": 73,
   "metadata": {},
   "outputs": [],
   "source": [
    "dataset = load_dataset(\"EdinburghNLP/xsum\")\n",
    "article_key = 'document'\n",
    "summary_key = 'summary'\n",
    "dataset=dataset['test']"
   ]
  },
  {
   "cell_type": "code",
   "execution_count": 264,
   "metadata": {},
   "outputs": [],
   "source": [
    "dataset = load_dataset(\"argilla/news-summary\")\n",
    "article_key = 'text'\n",
    "summary_key = 'prediction'\n",
    "dataset = DatasetDict({\n",
    "    'train': dataset['test'],\n",
    "    'test': dataset['train']})\n",
    "\n",
    "dataset=dataset['test']"
   ]
  },
  {
   "cell_type": "code",
   "execution_count": 241,
   "metadata": {},
   "outputs": [],
   "source": [
    "data = load_dataset('reddit_tifu', 'long')\n",
    "article_key = 'documents'\n",
    "summary_key = 'tldr'\n",
    "    # 80% train, 20% test + validation\n",
    "train_testvalid = data['train'].train_test_split(test_size=0.2, seed=42)\n",
    "# Split the 20% test + valid in half test, half valid\n",
    "test_valid = train_testvalid['test'].train_test_split(test_size=0.5, seed=42)\n",
    "# gather everyone if you want to have a single DatasetDict\n",
    "dataset = DatasetDict({\n",
    "    'train': train_testvalid['train'],\n",
    "    'test': test_valid['test'],\n",
    "    'validation': test_valid['train']})\n",
    "\n",
    "dataset=dataset['test']"
   ]
  },
  {
   "cell_type": "code",
   "execution_count": 4,
   "metadata": {},
   "outputs": [],
   "source": [
    "articles=dataset.select(range(10))[article_key]"
   ]
  },
  {
   "cell_type": "code",
   "execution_count": 294,
   "metadata": {},
   "outputs": [],
   "source": [
    "articles=dataset.select([0,1,2,3,7,8,10,11,12,16])[article_key]"
   ]
  },
  {
   "cell_type": "code",
   "execution_count": 266,
   "metadata": {},
   "outputs": [
    {
     "data": {
      "text/plain": [
       "['PHNOM PENH (Reuters) - Sweden said on Tuesday it was stopping new aid for Cambodia, except in education and research, and would no longer support a reform programme after the main opposition party was outlawed by the Supreme Court at the government s request. The announcement marked the first concrete action by a European Union country in protest at a political crackdown in which veteran Prime Minister Hun Sen s main rival has also been arrested and civil rights groups and independent media attacked. The United States cut election funding and said it would take more punitive steps after last week s ban on the Cambodia National Rescue Party (CNRP). The European Union has also threatened action. Sweden s embassy in Phnom Penh said the country was reviewing its engagement with Cambodia.   We will not initiate any new government-to-government development cooperation agreements, except in the areas of education and research,  it said in a statement. As a consequence, it would be unable to support decentralisation reform in its current form. That reform aims to strengthen lower levels of government, such as local communes. The CNRP won control of more than 40 percent of the communes in elections in June, but has now had to give them up to the ruling Cambodian People s Party (CPP). The CNRP was banned after its leader, Kem Sokha, was arrested for alleged treason. The government says he sought to take power with American help. He rejects that allegation as politically motivated, to allow Hun Sen to extend his more than three decades in power in next year s general election. Responding to the Swedish statement, a senior official said Cambodia welcomed friendship with Sweden or other countries, but said they must understand the CNRP had been banned because the courts found it had committed treason.      People should respect the Cambodian people s decision in accordance with the principle of democracy and the rule of law,  said Huy Vannak, undersecretary of state at the Interior Ministry. Sweden, which has given Cambodia an estimated $100 million in aid over five years, ranked third among individual EU member states in Cambodia s database of donors last year, after France and Germany. Swedish fashion group H&M is also a key buyer from Cambodia s garment factories - the country s main export earner. But Western donors have less sway than they once did since China has emerged as Cambodia s biggest aid donor and investor. Meeting on Monday on the sidelines of a meeting of Asia-Europe foreign ministers in Myanmar, Chinese Foreign Minister Wang Yi told his Cambodian counterpart Prak Sokhon that China supported the government s actions. China has repeatedly expressed its support for Cambodia, making no criticism of the government led by Hun Sen, a former Khmer Rouge commander, who is one of Beijing s most important allies in Southeast Asia.    (The story adds dropped word  after  in paragraph 1) ',\n",
       " 'MOSCOW (Reuters) - Russia has suspended its diplomatic presence in Yemen and all its staff have left the country due to the situation in the capital Sanaa, the RIA news agency cited Russian Foreign Ministry spokeswoman Maria Zakharova as saying on Tuesday. The Russian ambassador to Yemen and some diplomatic staff will be working temporarily out of the Saudi capital Riyadh, the Interfax news agency cited the ministry as saying. Yemen s conflict, pitting the Houthi movement against a Saudi-led military alliance which backs a government based in the south, has unleashed what the United Nations calls the world s worst humanitarian crisis. A Russian plane evacuated embassy staff and some Russian nationals from Sanaa earlier on Tuesday, Saudi state news agency SPA said, citing the Saudi-led military coalition fighting against the Houthi movement that controls the Yemeni capital. The agency quoted an official source in the coalition as saying it had received a request for permission for a Russian plane to evacuate the personnel, and that the plane had left Sanaa airport. ',\n",
       " 'WASHINGTON (Reuters) - Senate Republican leader Mitch McConnell told President Barack Obama’s Supreme Court nominee Merrick Garland by phone on Wednesday that Republicans will not act on his nomination or meet with him, a McConnell spokesman said.”Rather than put Judge Garland through more unnecessary political routines orchestrated by the White House, the leader decided it would be more considerate of the nominee’s time to speak with him today by phone,” McConnell spokesman Don Stewart said in a statement.  McConnell told the appellate court judge that “since the Senate will not be acting on this nomination, he would not be holding a perfunctory meeting, but he wished Judge Garland well,” Stewart added.  ',\n",
       " 'TOKYO (Reuters) - Japan Airlines Co (9201.T) said on Monday it has begun screening passengers from the seven Muslim-majority countries affected by the President Donald Trump’s travel ban before their departure for the United States. Officials at Japan’s second biggest carrier will contact the U.S. Customs and Border Protection agency when passengers from those countries check in at the airport before departure to confirm whether they will be allowed entry, a spokesman for the airline said. ',\n",
       " 'COPENHAGEN (Reuters) - Iceland will hold a snap parliamentary election on Oct. 28, President Gudni Johannesson said on Monday, after the current government collapsed last week due to a scandal involving the prime minister s father. Prime Minister Bjarni Benediktsson had called for the vote after one party in the ruling coalition quit the government formed less than nine months ago. The outgoing government would be the shortest-living in Iceland s history. The previous government was felled by the Panama Papers scandal over offshore tax havens. ',\n",
       " 'LOS ANGELES (Reuters) - Dr. Linda Liau works with the precision of a master, peering into a patient’s head with magnifying loupes as she removes a brain tumor. When Liau was called into an emergency room as a surgeon more than 20 years ago to help treat a car crash victim, another member of the medical team assumed she was a nurse. Even today, the 49-year-old neurosurgeon sometimes gets a surprised reaction from new patients who were expecting a man.  Such an assumption is common in career fields dominated by men. Neurosurgery, welding, venture capitalism, construction, film directing and the electrical trade - these are six jobs where U.S. women have made inroads but are still vastly outnumbered. And one position, U.S. president, has never been filled by a woman. With presumptive Democratic nominee Hillary Clinton seeking to become the first to break that barrier, several women in career fields made up mostly of men told Reuters that they saw her candidacy as significant. “I think ultimately the goal would be to be gender-blind completely, so the fact that we’re even talking about having a female president as a novelty is, in a way, sad,” Liau said. On a construction site, Joundi White, 31, has often been reminded of her gender. Early in her career, the reminders were pet names such as “sweetheart” and “honey.” Now, she can rarely shake the sense that she is outnumbered. “I eat lunch alone,” White said. “I don’t have people to relate to at work.  “Don’t get me wrong, I identify more with the guys, but to them, ultimately, I’m just a girl.” Wearing a hard hat, White passes under heavy steel beams, walking along the commuter train tracks she is helping build in her working-class neighborhood in southern Los Angeles.  Welder Darlene Thompson, 45, is also no stranger to the construction site, or to the hostility that she says women often encounter in the field. These days, she teaches others as an instructor at Los Angeles Trade Technical College.  In a heavy coat and blue gloves, she looks from under her helmet at the white-hot flame of a welding torch.  It was a fight to learn these skills. More than a decade ago, when she began receiving job training as a welfare recipient, Thompson had to argue for the chance to study welding. Public assistance administrators wanted to push her toward cosmetology or culinary arts, she said.  Thompson did not say how she would cast her ballot in November but said she would not vote for Clinton just because the candidate is a woman. Republican presidential nominee Donald Trump’s slogan has resonated with her. “When they talk about ‘Let’s make America great again,’” Thompson said, “what I think of is the companies in Detroit, the automotive industry going back to Detroit and giving back jobs.” A well-paid job as an electrician has opened up opportunities for Hannah Cooper, 28. For one thing, she was able to buy a house in the expensive Los Angeles real estate market. Sometimes, she will encounter someone on a construction site who knows her mother, Kelly Cooper, who also was an electrician.  “Everyone remembers her because there’s only a few women,” Cooper said. Kelly Cooper began as an apprentice in 1975. “You have to have thick skin to be anyone in the trade,”she said. “To be a woman in the trade, you have to have a particularly thick skin.”  She is now director of construction for the Los Angeles Department of General Services. Eva Ho, 44, is a woman working in the technology field, which is unusual enough. But she is also a venture capitalist, which is rarer still. “In some ways the V.C. career has really been an old boys club, and it’s been dominated by white men for the last three or four decades,” Ho said.  A graduate of Harvard and Cornell, Ho said she was drawn to work in technology because of its ability to drive social change. But she came late to it, never having used a computer until college. For the Burtons, who work together as filmmakers through their company Five Sisters Productions, their career had its seeds in their childhood as the daughters of a writer and a former professional musician.  Both parents were feminists who thought their five daughters could do anything, said Ursula Burton, a director, producer and actor.  Now the possibility of a female president could help create more opportunities for women, she said.  “Having a woman president opens up the presidency for girls,” Burton said, “and it will shift the perception for boys of what girls can do.”  ',\n",
       " 'ROME/TUNIS (Reuters) - A powerful armed group, known for smuggling people from Libya, is seeking legitimacy and state security jobs from the Tripoli government in exchange for stopping migrant boats from leaving the coast of Sabratha for Italy, a senior group member said. The group, the Anas al-Dabbashi brigade, struck a deal with Libya s United Nations-backed Government of National Accord (GNA) this summer to clamp down on trafficking, the senior brigade member, who gave his name as Mohamed, told Reuters. The need for the GNA to strike such a deal would illustrate the power of armed groups in western Libya, which continue to hold the real influence locally as they have since a 2011 uprising that ousted Muammar Gaddafi. The revelation would also throw light on the fragility of the sharp recent reduction in migrant arrivals from Italy, which took over from the Aegean route as the main focus of European concerns in the crisis. The GNA did not respond to requests for comment. Local sources, who declined to be named, said there had been at least one meeting between government officials and Ahmed al-Dabbashi, identified as one of the main  facilitators  of human smuggling in Libya in a U.N. report earlier this year.  Mohamed said there had been a number of such meetings, and that the brigade was also offered the possibility of an amnesty for past smuggling activity. To show it could uphold the deal with Tripoli, the several-hundred-strong brigade has cracked down on departures with the help of the coastguard leading to an 80 percent fall in the arrival of rescued migrants in Italy last month, Mohamed said. With a national election looming in the first half of next year, the government in Rome, which welcomed the sudden decline shown in official data, is under pressure to show it can stop, or at least slow, migration from the oil-producing desert state. Libya remains split between rival political camps and armed alliances. The GNA has struggled to impose its authority on Tripoli and other parts of western Libya, and has been rejected by factions that control the east of the country. Mohamed said the GNA, under pressure from Italy to halt the migrant flows, had exerted pressure on the Dabbashi brigade. The GNA  said that they would gather all the cities west of Tripoli against us, and they would come and fight us.         On the other hand, they have offered to let us join the police, and let us join the military,  Mohamed said.  If this plan goes forward and the (Tripoli) government was telling the truth ... in six months time everybody in this battalion will be like normal police.  A second source in Sabratha spoke to Ahmed al-Dabbashi, who confirmed that Mohamed was a member of the brigade. It is the first time a brigade member has spoken at length about why the group suddenly shifted from smuggling to policing, a change first reported by Reuters last month. Some international media reported that Dabbashi had received five million euros directly from Italy s secret services to stop the migrant boats, but Mohamed denied this. Italy has also denied any direct payments to armed groups. The fragility of the security situation in Sabratha was underscored by territorial clashes that erupted there over the weekend, with Dabbashi s group battling cross-town rivals in some of the heaviest fighting the city has seen in recent years. Explosions could be heard as far away as the port of Zawiya, 22 km (14 miles) away. Both sides in the fighting claim to have the backing of the Tripoli government, and both battled together to drive Islamic State forces out of the area last year.      With Italy and the EU offering millions of euros to local authorities in Libya who can put a cap on trafficking, armed groups have an interest in proving that they are the only ones who can police the territory.  This smuggling thing   everybody knows that Libya is not going to be like this forever,  Mohamed said.  If you are just a little bit smart, you will go with the government.  As a result of the policing by Dabbashi and coastguard interceptions, arrivals of rescued migrants in Italy fell 50 percent in July from a year earlier, and declined more than 80 percent in August   two months that had been peak periods during the previous three years. Overall, there have been more than 100,000 arrivals in Italy this year, a decline of more than 20 percent compared to 2016, official Italian data show. To rein in smuggling, Italy has spearheaded efforts to bolster the Libyan coast guard, and it is dealing directly with local governments to try to offer incentives for them to shut it down, including with Sabratha s mayor, Hussein al-Thwadi. Thwadi sought support directly from Italy, meeting the ambassador earlier this month and Interior Minister Marco Minniti in July.     The Dabbashi brigade, which also guards an oil and gas facility west of Sabratha run jointly by Libya s National Oil Corporation (NOC) and Italian firm Eni, denied any direct contacts with Italy. It is allied to Brigade 48, a group of some 300 soldiers aligned with the GNA.   We only have deals with the (Tripoli) government,  Mohamed said.  They said they might forgive all of what we have done in the past,  he added, referring to people smuggling. But it is unclear if Tripoli can deliver on its promises to integrate Dabbashi s men, or whether any group can hold the line against forces who want to keep smuggling. On Saturday, Libyan coastguard officials said they had turned back more than 1,000 migrants traveling in at least eight boats. On the same day, the Dabbashi brigade intercepted about 3,000 more, said Mohamed. More than 1,500 were rescued at sea and brought to Italy.  A lot of people are pressuring us to stop this,  Mohamed said of Dabbashi s crackdown on departing migrant boats.  They want to start (human trafficking) again.   ',\n",
       " 'WASHINGTON (Reuters) - President Donald Trump on Wednesday moved a step closer to fulfilling his campaign promise to reform the troubled Veterans Affairs department, but some veterans groups are concerned that the administration may be working toward privatizing their healthcare. Trump signed a law extending the pilot “Veterans Choice” program, which allows some veterans to receive healthcare from local doctors and hospitals closer to their homes than the VA’s 150 hospitals and nearly 1,000 outpatient clinics. The law eases procedures for reimbursing private providers and creates a system for sharing medical records with them. “This new law is a good start, but there is still much work to do,” Trump said at a signing ceremony attended by VA Secretary David Shulkin and Florida Governor Rick Scott. \\xa0“We will fight each and every day to deliver the long-awaited reforms our veterans deserve.” Trump pledged to hold a news conference next week on “all of the tremendous things that are happening at the VA and what we’ve done in terms of progress and achievement.” Reforming the agency, rocked by a waiting-time scandal in 2014, was one of Trump’s most-repeated campaign trail promises. He has frequently suggested having the government pay outside physicians to provide veteran healthcare. During his confirmation hearings, Shulkin said he supported overhauling the agency but did not believe in privatizing it. Still, on Tuesday the VA announced it was seeking cutting-edge treatments from the healthcare industry for brain injuries, mental health problems and chronic pain. Extension of the “Veterans Choice” program could worry Democrats and other critics that Trump and Shulkin are inching toward sending some of the $65.6 billion the department spends annually on medical care to corporations and private businesses. Conservatives calling for privatization say the VA provides medical services to only about 45 percent of veterans, and they point to delays and inefficiencies dogging the current system.  Some veterans groups and Democrats have warned against moving funds away from healthcare providers with expertise in injuries and illnesses unique to serving in the armed forces. In a March report, the Government Accountability Office said veterans in the Choice program still face long wait times, mostly because cases must be referred to private contractors for scheduling.  Last year a congressionally mandated panel of experts found the Choice program was inefficient, but recommended establishing a community-based healthcare system that would include private doctors. ',\n",
       " 'LONDON (Reuters) - British police said a bomb was used during an explosion at a London metro station which injured 18 people in what officers described as a  terrorist incident.   We now assess that this was a detonation of an improvised explosive device,  Britain s top counter-terrorism officer Mark Rowley said on Friday.  London s police is being supported by Britain s MI5 intelligence service, he said. ',\n",
       " 'MOSCOW (Reuters) - Russian President Vladimir Putin hosted Saudi Arabia s King Salman for talks at the Kremlin on Thursday, cementing a relationship that is pivotal for world oil prices and could decide the outcome of the conflict in Syria. King Salman, the first sitting Saudi monarch ever to visit Russia, led a delegation to Moscow that agreed joint investment deals worth several billion dollars, providing much-needed investment for a Russian economy battered by low oil prices and Western sanctions. Saudi Arabia said it had signed a memorandum of understanding on the purchase from Russia of S-400 air defense systems. That marked a shift for the kingdom, which buys most of its military kit from the United States and Britain. On the political front, there was no sign of any substantial breakthrough on the issues that have long divided Moscow and Riyadh, including the fact that they back rival sides in Syria s war. However, any discord was eclipsed by mutual expressions of respect, and the pomp and ceremony laid on by Russian officials to greet the Saudi king.  On his journey into central Moscow from Vnukovo airport late on Wednesday, King Salman s limousine passed billboards bearing his photograph and messages in Russian and Arabic welcoming him. On Thursday, Putin received the monarch in the gold-decorated St. Andrew Hall, one of the grandest spaces in the Kremlin, attended by soldiers in ceremonial dress and with an orchestra playing their countries  national anthems.  I am sure that your visit will provide a good impulse for the development of relations between our two states,  Putin told King Salman later as they sat alongside each other in the Kremlin s lavishly-decorated Green Parlour. Russia and Saudi Arabia, despite their differences, have been drawn together by a common interest in propping up flagging world oil prices, and by the fact that Moscow, since its military intervention in Syria, has clout in the Middle East that other players in the region cannot ignore.  The Saudi king invited Putin to visit his country - an offer the Russian leader accepted - and said they planned to keep cooperating to keep world oil prices stable. Moscow and Riyadh worked together to secure a deal between OPEC and other oil producers to cut output until the end of March 2018, helping support prices. Energy Minister Khalid al-Falih said Saudi Arabia was  flexible  regarding Moscow s suggestion to extend the pact until the end of next year. The message of further joint Saudi-Russia action on output helped push up oil prices on Thursday. Brent crude was up more than 2 percent at $57.12 a barrel by 1615 GMT. In Syria, Riyadh supports rebels fighting President Bashar al-Assad s army, while Russian and Iranian forces have sided with Assad. This leaves Moscow aligned with Saudi Arabia s arch-rival Iran, whose influence Riyadh fears is growing in the region. Briefing the media after the talks, Russian Foreign Minister Sergei Lavrov focused on the common ground, saying the two leaders had agreed on the importance of fighting terrorism, finding peaceful solutions to conflicts in the Middle East, and on the principle of territorial integrity. His Saudi counterpart, Adel al-Jubeir, said new horizons had opened for Russia-Saudi ties that he could not previously have imagined.   Relations between Russia and Saudi Arabia have reached a historical moment,  said Jubeir, speaking through an interpreter.  We are certain that the further strengthening of Russian-Saudi relations will have a positive impact on strengthening stability and security in the region and the world.  A package of investments announced during the visit will go some way to plugging the vacuum left by sluggish Western investment in Russia that is, in part, a result of sanctions imposed after Moscow annexed Crimea in 2014. Among the deals was an agreement between Russian sovereign wealth fund RDIF and Saudi Arabia s Public Investment Fund to invest up to $100 million in transport projects in Russia. The two countries also signed a deal to set up a $1 billion joint investment fund.  Another memorandum of understanding was signed under which Russian petrochemicals firm Sibur would explore cooperation with Saudi Arabia.  RDIF head Kirill Dmitriev said his fund was interested in partnering with Saudi investors to acquire a minority stake in Russian oilfield services firm Eurasia Drilling. Absent from the slew of deals was any agreement on Saudi Aramco taking a stake in an Arctic liquefied natural gas project run by Russia s Novatek. Russian Energy Minister Alexander Novak said earlier this month that Saudi officials were studying joint gas projects with Novatek. However, Aramco chief executive Amin Nasser said such a deal was not being discussed at this stage. ']"
      ]
     },
     "execution_count": 266,
     "metadata": {},
     "output_type": "execute_result"
    }
   ],
   "source": [
    "articles"
   ]
  },
  {
   "cell_type": "code",
   "execution_count": 295,
   "metadata": {},
   "outputs": [],
   "source": [
    "for k,v in enumerate(articles):\n",
    "    articles[k]=v.replace('\\n',\"\")"
   ]
  },
  {
   "cell_type": "code",
   "execution_count": 268,
   "metadata": {},
   "outputs": [],
   "source": [
    "gold=dataset.select(range(10))[summary_key]"
   ]
  },
  {
   "cell_type": "code",
   "execution_count": 296,
   "metadata": {},
   "outputs": [],
   "source": [
    "gold=dataset.select([0,1,2,3,7,8,10,11,12,16])[summary_key]"
   ]
  },
  {
   "cell_type": "code",
   "execution_count": 164,
   "metadata": {},
   "outputs": [
    {
     "data": {
      "text/plain": [
       "['well this was around 9 years ago when i was a 2nd grader. so basically it was some kids birthday and since it was primary school most kids brought cupcakes and the teacher would pass it out to the class. me being the hungry little shit that i was i was desperately in the mood for some vanilla cupcakes but the teacher decided to pass out the chocolate ones first. after she had finished passing out the chocolate ones she picks up the vanilla ones and says, \"raise your hand if you want vanilla!\". at that moment i was talking to a friend and it took me a bit to process the fact that she just asked who wanted vanilla. i proceed to raise my hand and it turns out the cupcakes were right above me. i knocked the cupcakes out of her hand and they spilled  all over her. she got bat-shit angry and begins to make a scene in the middle of the whole cafeteria. she explained how i \"ruined her brand new shoes\" and the bitch even asked me if i had an allowance so i could pay for her shoes. she had asked me at the time if i was messing around and i said yes because i literally didn\\'t know what else to say. after numerous emails from my mom to the teacher things finally cleared up and all was back to normal.**',\n",
       " 'so obligatory this just happened tonight. i am still cleaning up.so flashback to dinner tonight, mom\\'s delicious (but greasy) hand breaded, and deep fried chicken strips. i had my girlfriend over for dinner and we were going to go see a movie after dinner (spectre, great movie, 10/10). well, my body has handled greasy foods moderately for the past couple years, and i was aware of this, so i figured that eating the strips wouldn\\'t be bad at all. so we eat dinner and we head off to the movie. my girlfriend said she really wanted a large popcorn with extra butter and loads of salt. so we get one to share and we go into the theatre. during the movie, we eat the popcorn, my butt rumbles a little but i think nothing of it; i\\'ve been fine with grease for a while. my gf who has a similar issue to mine, says she\\'s going to go take a shit in the middle of the movie. i start to dread what\\'s going to happen to me. she comes back 20 minutes later and says, \"my ass just vomited 2 metric tons of liquid shit.\" i began to feel a stronger rumble in my buttocks. i power through the movie with more ass rumbling, each time a little stronger than the last. so we finish the movie. as we are driving home from the movie, my ass takes one final rumble, and i let out a stream of liquid ass so fast the cops would have pulled it over for speeding. it gets all over the driver\\'s seat and smells like, well liquid ass. well my gf starts gagging at the smell, and vomits. it was a very un-fun drive the rest of the way home. i drop her off and that brought me to the writing of this post. so i guess the moral of the story is don\\'t underestimate your body\\'s ability to handle certain foods under a very high stress level? the worst part is i ruined a new pair of really nice underwear.',\n",
       " 'sup pals?the foundation to this fuck up happened about last week with the execution of it happening just a few days ago, but since it violates both the weekday rules, i had to bite my tongue and wait.anyways, down to brass tacks; i\\'ve been working odd hours to meet deadlines recently plus promoting a few parties for some side scratch, basically my sleep schedule has been completely fucked for the past couple months. naturally my girlfriend, who sleeps like a normal human being for the most part, started getting a little bummed out recently on account that we are living on two different schedules. so, about 3 weeks ago she started trying to wake me up when she felt my 6 hour quota had been met to give us a few hours of quality time together before she went to bed. very fair, but i\\'m also very deep sleeper, so she was very frustrated that she only got me out of bed a handful of times with the majority of those consisting of me roaming around the apartment like a husk with only one eye open for the first hour of consciousness. we had a talk about it, and i assured her that this wouldn\\'t be forever, and i joked that if she really wanted to get me up maybe she should blow me into awareness. we laughed, made up, and the week pushed on. fast forward to thursday night, i\\'m in the strong embrace of an epic sleep, adventuring through the alternate reality that is my dreamscape when i feel this beautiful, warming sensation emanating from my loins, embracing my whole body, and i was so content, so happy, so relaxed until it was all shattered by a high pitched scream. a mixture of anger, complete horror, and utter disbelief which manifested itself into the words \"what the fuck!\" simultaneously, of a sudden my face is now being splashed with some luke warm mystery liquid, and a slightly warmer liquid is gently raining down everywhere. i snap awake and realize...i just pissed in my girlfriends mouth, she spit that mouthful of piss in my face, and i\\'m now continuing to rain down a morning, or in this case evening wood sprinkle system-esque cascade of piss. fuck.  edit: thanks for the gold homie! i can\\'t wait to tell my lady all the new reddit perks pissing in her mouth just afforded me! perfect timing because just last night before we went out she told me i spend too much time browsing on here (i do).',\n",
       " \"this was a few months ago when i had just sort of received my learner's permit after getting like 98% or something on the test and had just started driving my manual car. this is going to be difficult to explain without making myself look stupid, but anyway: i was driving down station street with my dad supervising in the passenger seat and we're quietly chatting about all manner of nonsense as i trundle along at about 60km/h when suddenly a fire truck comes right up behind us, sirens blaring and travelling at at least 80, so my dad explains that i should pull as far to the left as i safely can to let them through, so i cautiously guide my car into the bike lane, making sure i won't kill any cyclists in the process. the fire truck safely screams pass and i pull back out onto the road. i get into the town of chelsea and go through the lights at the 4-way intersection. i'm halfway to the next street corner when i spot another fire truck in the distance coming head-on towards me. now, from the start i've got no idea where the fire is and where the fire truck wants to go. so i go across past the side street and this fire truck starts veering over into my lane, which has had its width severely reduced by the cars parked along the corner in front of the pizza shop and all i can see is this huge truck flashing its lights at me as it tries to go through my lane to get into the side street, my dad pushing himself down into his seat bracing for impact and the cars parked next to me. all i can hear is my dad screaming 'woah, woah, woah! woah! woah woah woah' in my left ear and the fire truck's sirens and horn in my right ear. i continue through at the same speed gripping the steering wheel like my life depends on it, concentrating very hard on not crashing into anything. i get past everything and go around the corner that made this entire situation much more complicated than it would have been on a straight road. the rest of the drive is my dad freaking out at me and telling me i was millimetres away from the parked cars. within a week though, he was much more relaxed about the whole event and let me back out on the roads again.\",\n",
       " 'throwaway for obvious reasons but this happened on tuesday. i see myself as a straight male(considering i am married with 2 kids) but i do enjoy a little \"butt play\" here and there. so the other day it is my day off, my wife is at work and my kids are at school. i decide i am going to masturbate but add in a little butt play. my butt play object of choice? cucumber with saran wrap on it. so i grab me a cucumber(the smallest one because well i dont do this too often) and put some saran wrap on it and slather it up with lotion. i proceed to put it between the mattress and box springs and lay on my back. i lift my self up off the ground while simultaneously pushing myself onto the cucumber. all is good and well and i finish..for lack of a better term and get up to clean up. i go and dispose of everything and notice something feels \"off\" down there so i reach down there and i only feel one ball.....i start freaking the fuck out because one of my balls is stuck inside my body somehow. apparently the angle i was at combined with the movements i was making sent one of my balls back inside my body. so i am panicking...don\\'t know what to do..i am jumping up and down for about a minute trying to get him to fall back down into my sack and it\\'s not working. i am having a full blown panic attacking now and dont know what to do. so i start pushing on my abdomen and i finally feel my ball fall back down to where he belongs...needless to say i am definitely rethinking butt play time.',\n",
       " \"good lord, this happened four months ago and even thinking about it still exhausts me. i was taking a study abroad course in costa rica with other students from my college. we stayed with host families in san jose, the national capital, and took daily spanish classes at a local school. every day after class, we would go on excursions with instructors from our college to places like museums and monuments. one day we saw a musical performance at the *teatro nacional*. it was still early in the afternoon when it was over, so we were all free to go shopping, get something to eat, or go home. now, up to this point i had usually stuck with whatever group was going to go somewhere interesting, but after a week of arguing and rushing around to places that i didn't really care about, i decided to explore the city by myself. the theatre was very close to our school, so i knew how to get around the area. i took this time to go to places that i had been wanting to see, especially chinatown (yes, san jose of all places has a chinatown.) i browsed a few shops but didn't buy much, and i concluded my adventure by having a smoothie at an ice cream shop. afterwards, i made my way toward *parque central*, which was my reference point for getting to the homebound bus. i retraced my steps to get back where i wanted to be, and it seemed like i was doing okay until i didn't recognize the shops around me. i backtracked and turned a different corner. nope, in still didn't recognize anything. this happened several times. i was starting to get annoyed, but i thought that one more turn would get me where i needed to be. it look at least an hour, but i did indeed get to the park. then i needed to find my bus stop. once again, i turned corners and went down streets and still couldn't find where i needed to go. the infuriating part was that i was going in circles over and over and recognized everything around me, but i just couldn't remember which turns i was supposed to make. there came a point where passers-by could tell that i was walking in circles, and a girl pulled me aside and asked if i needed help. she barely spoke english and i barely spoke spanish, and she realized that she didn't understand anything that i was saying. she took me to a local bank where she knew there would be english-speakers, and i asked a man how to get to the *barrio pilar* bus stop. he spoke to the girl for a minute and she told me that it was exactly five blocks ahead. i thanked her as much as i could and did what she told. thankfully, the bus was right there. i thought my predicament was over, but then there was the matter of getting off at the right stop. all of the houses in the neighborhood started blending together, especially as it started getting dark. i was confused, because i suspected that i had passed my stop but i recognized some of the landmarks i was passing. i got off at the stop that i thought was closest to mine and started walking. i still had no idea where i was going, and i didn't want to use google maps because (a) my phone battery was under 10% and (b) international data usage was insanely expensive. once again i recognized my surroundings, but still couldn't seem to navigate. it was starting to get really dark, and i was starting to get really scared. the streets were insufficiently lit, and some streets weren't lit much at all. i once passed by a loud barking dog that frightened me so much that i nearly cried, which is a testament to how paranoid i was because i love dogs. my eyes and ears were on 360 mode, looking out for anything suspicious. any time i could see or hear another person approaching i would run in the opposite direction; it didn't matter who it was. it was late at night in a urban neighborhood, and i couldn't take any chances. i walked and walked and walked, desperately trying to remember where my host family's house was, but no matter what i did i just got more lost. i eventually gave up and used google maps, praying that my battery wouldn't die on me. to my great relief i finally found the house. my host mother wanted to know what in the world i was doing out and about at 11 pm, and i explained that i had just gotten very, very lost. i flopped onto my bed, incredibly thankful that i was somewhere safe. an interesting side note: i found out via an email from my psychiatrist a week later that i have inattentive adhd. that may have had something to do with it.\",\n",
       " \"i'm going to start off by saying that i hate birds. no particular reason why, they just give me the creeps. also, this happened yesterday.anyways, there's this beach by my house with a snack bar that serves things like ice cream, fries, hotdogs etc. on this day i was craving fries and gravy real bad. did i mention that the seagull population was surprisingly bigger than normal that day. i order my fries and immediately get the attention of the seagulls. i then grab a handful of fries and throw them as far away as possible to distract the seagulls so i can get away. here's where it gets bad. the fry toss may have distracted about 10 seagulls, there were still about 30 more. literally a tornado of seagulls started swarming me, getting about half a foot from my face. one seagull even ate fries right from the tray in my hand. here's where it gets funny. there's a park there with a bunch of kids and their parents. obviously i'm freaking out, i'm swearing, they're all laughing, i end up throwing my tray of fries, hitting a cloud of seagulls in the process and running away as fast as i can. terrible day.\",\n",
       " 'this fuck up actually happened today, what a privilege it is to share it will all of you. first and foremost, i must say that i just recently mastered the art of cooking with a skillet. i\\'m about to graduate high school and was just recently released from the confines of only knowing how to construct and consume cold sandwiches. today, i had what you might call an intense craving for a quesadilla of my own design. i\\'m only available to cook quesadillas on weekends, so as you can imagine, i went all out: chicken, onions, spinach, three kinds of cheese, and ready to serve with salsa and guacamole. you know the old saying, \"good things come to those who wait?\" unfortunately, i didn\\'t adhere that advice at 12:43 p.m. on saturday february 13th. i usually like my tortillas a little bit overdone so they are nice and crispy. hearing and smelling my delicious mexican cuisine simmering away in the skillet, i decided i was too hungry to wait for it to be well done, and decided to precede to flip it over. problem was, i couldn\\'t find a spatula: so i used a fork. what proceeded could only be described as horrendous and heart-breaking.the prongs of the fork caught the tortilla at an awkward angle and opened it, gracefully dropping it face-down and spilling all the ingredients into the pan. had i waited longer for the cheese to melt, this could have been avoided. not wanting the cheese to melt into the pan (becoming harder to scrub off), i lifted the pan from the stove to put in the sink. in my haste, i tipped the pan sideways and spilled scalding-hot ingredients all over the floor and all over my nearby dog, coating him in the searing remnants of the wonderful goodness that was once a vessel through which the culinary soul could be moved. you know that feeling you get when you accidentally hurt your pet? yeah, i am shit. as my dog yelped i yelled, \"fuck!\" at the top of my lungs. normally i wouldn\\'t use this kind of language in the household, but knowing my parents weren\\'t home, i let her rip: or so i thought. turns out my dad was at the front door talking to our super conservative stain glassed ass neighbors, whom i heard audibly gasp from the kitchen. safe to say, i won\\'t be getting fundraiser sales from them this year.oh, and i burned myself as well. all my ingredients gone, i had to settle for a cheese quesadilla instead. my dog now rolls over in fear every time i come near him. all for a quesadilla. a quesadilla. edit: dog is okay. just a little freaked out.',\n",
       " \"happened last night, but still posting here. i was in the shower last night, sat down in the tub to scrub my feet and legs with my back facing the spigot or whatever it's called. whenever i try to stand up, i hear a loud scraping noise and feel a quick tinge of pain. i look back and see blood seeping through my skin with a long cut next to the scraped part. it's about an inch to the left and a tiny bit above the top of my butt crack. i grabbed the nearest bottle of soap and washed that fucker out. we didn't have any bandaids big enough to cover all of it with the padded part, so i put the pad on the worst part and now whenever i rip it off, it'll be pulling on the wound. oh, i forgot to mention i have gym class later and i'll surely be feeling it when we're doing stretches. kill me now.\",\n",
       " 'during the summer break, me and my brother usually take it easy and be extremely lazy. my brother was watching anime on netflix (like he always does) while i was playing crusader kings 2. he summoned me from the other room and asked if he can use my ipad (rules state that since it\\'s my ipad, he needs permission to use it). without much thought, i allowed him to use it while i was playing my game. little did i know that he was watching anime so he got the idea of fapping to some hentai porn on the internet. hours flew by, and i received my ipad back. i looked on the safari while my mother was passing by and we both saw the dozens and dozens of tabs full of hentai porn videos, pictures and gifs. as expected, my mother gave the usual yet lovely words \"wtf taylor?! this is fucking disgusting! you better get that shit away from me!\" afterwards, i had to explain to her that it wasn\\'t me that looked up said sites so i can prevent from me being grounded. then, my parents gave a good talking to my brother about his porn habits and tastes. it was quite hilarious to hear. lesson learned: don\\'t give your anime fapping brother an ipad while he\\'s alone.']"
      ]
     },
     "execution_count": 164,
     "metadata": {},
     "output_type": "execute_result"
    }
   ],
   "source": [
    "articles"
   ]
  },
  {
   "cell_type": "code",
   "execution_count": 165,
   "metadata": {},
   "outputs": [
    {
     "data": {
      "text/plain": [
       "['** i wanted vanilla cupcakes so i raised my hand and knocked a whole box of cupcakes all over my teacher.',\n",
       " 'i shit my pants after eating a lot of grease.',\n",
       " 'asked my girlfriend to wake up with a blowjob and instead of waking up to a glorious orgasm, i filled her mouth with enough piss to make bear grylls flinch.',\n",
       " \"i nearly crashed into some parked cars and a fire truck in chelsea in a bizarre situation that wasn't included on my driving test, probably due to it being incredibly specific.\",\n",
       " 'ball stuck in body from butt play masturbation.',\n",
       " 'i hate people so i wandered off by myself in the largest city in costa rica, got very lost, got help, then got very lost again. also, my phone was dead.**',\n",
       " 'bought french fries, attacked by  seagulls, got scared and started swearing next to a park, everyone was laughing at me, threw my fries and ran.',\n",
       " 'tried to make a quesadilla, ended up burning my dog and disgracing my family in front of out fundamentalist neighbors.',\n",
       " \"cut/scraped my left buttocks on the spigot in my shower and i'll be feeling it during gym class.\",\n",
       " 'i gave my brother my ipad while he was alone, fapped to hentai porn, gave back said ipad without clearing browser tabs, history and was discovered by me and my mother at the same time and was mistaken for me.']"
      ]
     },
     "execution_count": 165,
     "metadata": {},
     "output_type": "execute_result"
    }
   ],
   "source": [
    "gold"
   ]
  },
  {
   "cell_type": "code",
   "execution_count": 297,
   "metadata": {},
   "outputs": [
    {
     "name": "stdout",
     "output_type": "stream",
     "text": [
      "Sweden stops some new aid for Cambodia in protest over crackdown\n",
      "U.N. chief calls for united, 'appropriate action' on North Korea\n",
      "House tax positions begin to emerge ahead of talks with Senate\n",
      "Russia suspends diplomatic presence in Yemen, moves envoy to Riyadh: agencies\n",
      "Ex-Michigan lawmaker to stand trial; charges dismissed against another\n",
      "JAL to screen majority-muslim country passengers before departure for U.S.\n",
      "Trump wins Christie backing, marches toward Super Tuesday\n",
      "Iceland sets snap election for Oct. 28: president\n",
      "Ex-Georgian leader risks extradition on return to Ukraine\n",
      "Trump extends program allowing some veterans to use local doctors, hospitals\n"
     ]
    }
   ],
   "source": [
    "gold_new=[]\n",
    "for i in range(10):\n",
    "    print(gold[i][0]['text'])\n",
    "    gold_new.append(gold[i][0]['text'])\n",
    "    "
   ]
  },
  {
   "cell_type": "code",
   "execution_count": 271,
   "metadata": {},
   "outputs": [
    {
     "data": {
      "text/plain": [
       "['Sweden stops some new aid for Cambodia in protest over crackdown',\n",
       " 'Russia suspends diplomatic presence in Yemen, moves envoy to Riyadh: agencies',\n",
       " 'Top Senate Republican tells Supreme Court nominee: Senate will not act',\n",
       " 'JAL to screen majority-muslim country passengers before departure for U.S.',\n",
       " 'Iceland sets snap election for Oct. 28: president',\n",
       " 'Women in male-dominated career fields watch a unique U.S. presidential campaign',\n",
       " 'Armed group seeks legitimacy with Tripoli migrant deal, source says',\n",
       " 'Trump extends program allowing some veterans to use local doctors, hospitals',\n",
       " 'London metro station incident caused by bomb, top UK police officer says',\n",
       " \"Russia, Saudi Arabia cement new friendship with king's visit\"]"
      ]
     },
     "execution_count": 271,
     "metadata": {},
     "output_type": "execute_result"
    }
   ],
   "source": [
    "gold_new\n"
   ]
  },
  {
   "cell_type": "code",
   "execution_count": 244,
   "metadata": {},
   "outputs": [],
   "source": [
    "for k,v in enumerate(gold):\n",
    "    gold[k]=v.replace('\\n',\"\")"
   ]
  },
  {
   "cell_type": "code",
   "execution_count": 298,
   "metadata": {},
   "outputs": [],
   "source": [
    "for k,v in enumerate(gold_new):\n",
    "    gold_new[k]=v.replace('\\n',\"\")"
   ]
  },
  {
   "cell_type": "code",
   "execution_count": 299,
   "metadata": {},
   "outputs": [],
   "source": [
    "with open('news_capped_random.pkl', 'rb') as f:\n",
    "    para_file=pkl.load(f) \n",
    "    "
   ]
  },
  {
   "cell_type": "code",
   "execution_count": 300,
   "metadata": {},
   "outputs": [],
   "source": [
    "paraphrased=[]\n",
    "#for i in range(10):\n",
    "for i in [0,1,2,3,7,8,10,11,12,16]:\n",
    "    paraphrased.append(\" \".join(para_file[i]))\n",
    "    "
   ]
  },
  {
   "cell_type": "code",
   "execution_count": 284,
   "metadata": {},
   "outputs": [
    {
     "data": {
      "text/plain": [
       "['']"
      ]
     },
     "execution_count": 284,
     "metadata": {},
     "output_type": "execute_result"
    }
   ],
   "source": [
    "para_file[14]"
   ]
  },
  {
   "cell_type": "code",
   "execution_count": 301,
   "metadata": {},
   "outputs": [
    {
     "data": {
      "text/plain": [
       "[' The CNRP was banned after its leader',\n",
       " ' Such a response must include wise and bold diplomacy to be effective,  Feltman told the council',\n",
       " ' \"House members',\n",
       " 'Due to the unstable situation in the capital city of Sanaa, Russia has temporarily withdrawn its diplomatic personnel from Yemen',\n",
       " 'A judge in Michigan dismissed charges against a former state representative, Todd Courser, on Tuesday, while ruling that another lawmaker should stand trial for attempting to cover up an extramarital affair',\n",
       " \"Japan Airlines has started screening passengers from seven Muslim-majority countries before they depart for the United States, as required by President Donald Trump's travel ban\",\n",
       " ' presidential election - although Clinton has yet to secure her party’s nomination',\n",
       " \"Iceland will hold an unexpected parliamentary election on October 28th following the collapse of the current government due to a scandal involving the prime minister's father\",\n",
       " ' Saakashvili has been involved in a campaign to unseat his former ally Petro Poroshenko',\n",
       " 'President Trump signed legislation that extends the \"Veterans Choice\" program, which allows certain veterans to obtain medical care from nearby private physicians and facilities instead of the Veterans Administration\\'s extensive network of 150 hospitals and nearly 1,000 outpatient clinics']"
      ]
     },
     "execution_count": 301,
     "metadata": {},
     "output_type": "execute_result"
    }
   ],
   "source": [
    "paraphrased"
   ]
  },
  {
   "cell_type": "code",
   "execution_count": 302,
   "metadata": {},
   "outputs": [],
   "source": [
    "with open('../data_original/reddit_capped_random.pkl', 'rb') as f:\n",
    "    orig_file=pkl.load(f) "
   ]
  },
  {
   "cell_type": "code",
   "execution_count": 303,
   "metadata": {},
   "outputs": [],
   "source": [
    "orig_file_new=[]\n",
    "for i in range(len(orig_file)):\n",
    "    try:\n",
    "        temp=[]\n",
    "        splits=orig_file[i].split('\\n')\n",
    "        #print(splits)\n",
    "        if len(splits)>1:\n",
    "            for split in splits:\n",
    "                if split:\n",
    "                    if split[0].isdigit():\n",
    "                        try:\n",
    "                            temp.append(split.split(\".\")[1].strip())\n",
    "                        except:\n",
    "                            #print(split)\n",
    "                            pass\n",
    "            orig_file_new.append(\" \".join(temp))\n",
    "        else:\n",
    "            orig_file_new.append(orig_file[i])\n",
    "            \n",
    "    except:\n",
    "        orig_file_new.append(orig_file[i])"
   ]
  },
  {
   "cell_type": "code",
   "execution_count": 304,
   "metadata": {},
   "outputs": [],
   "source": [
    "original=[]\n",
    "#for i in range(10):\n",
    "for i in [0,1,2,3,7,8,10,11,12,16]:\n",
    "    original.append(\"\".join(orig_file_new[i]))"
   ]
  },
  {
   "cell_type": "code",
   "execution_count": 305,
   "metadata": {},
   "outputs": [
    {
     "data": {
      "text/plain": [
       "[{'score': 1.0,\n",
       "  'text': 'Ex-Michigan lawmaker to stand trial; charges dismissed against another'}]"
      ]
     },
     "execution_count": 305,
     "metadata": {},
     "output_type": "execute_result"
    }
   ],
   "source": [
    "gold[4]"
   ]
  },
  {
   "cell_type": "code",
   "execution_count": 306,
   "metadata": {},
   "outputs": [],
   "source": [
    "dic={'Article':articles, 'Paraphrased':paraphrased, 'Original': original, 'Gold':gold_new }"
   ]
  },
  {
   "cell_type": "code",
   "execution_count": 262,
   "metadata": {},
   "outputs": [],
   "source": [
    "df=pd.DataFrame.from_dict(dic)"
   ]
  },
  {
   "cell_type": "code",
   "execution_count": 307,
   "metadata": {},
   "outputs": [],
   "source": [
    "df.to_csv('../annotation/dolly-news.csv', index=False)"
   ]
  },
  {
   "cell_type": "code",
   "execution_count": 218,
   "metadata": {},
   "outputs": [
    {
     "data": {
      "text/plain": [
       "['well this was around 9 years ago when i was a 2nd grader. so basically it was some kids birthday and since it was primary school most kids brought cupcakes and the teacher would pass it out to the class. me being the hungry little shit that i was i was desperately in the mood for some vanilla cupcakes but the teacher decided to pass out the chocolate ones first. after she had finished passing out the chocolate ones she picks up the vanilla ones and says, \"raise your hand if you want vanilla!\". at that moment i was talking to a friend and it took me a bit to process the fact that she just asked who wanted vanilla. I reached up and found the cupcakes were conveniently located just above me. I accidentally knocked the cupcakes out of her hand, causing them to spill all over her. she got bat-shit angry and begins to make a scene in the middle of the whole cafeteria. she explained how i \"ruined her brand new shoes\" and the bitch even asked me if i had an allowance so i could pay for her shoes. she had asked me at the time if i was messing around and i said yes because i literally didn\\'t know what else to say. after numerous emails from my',\n",
       " \"This was a few months ago when I had just received my learner's permit after getting 98% on my test and started driving my manual car. This is going to be difficult to explain without looking stupid, but anyway: I was driving down Station Street with my dad supervising in the passenger seat and we were quietly chatting about all manner of nonsense as I trundle along at about 60km/h when suddenly a fire truck came right up behind us, sirens blaring and traveling at at least 80. I should have pulled as far to the left as I safely could to let them through. I cautiously guided my car into the bike lane, making sure I wouldn't kill any cyclists in the process. The fire truck safely screamed past me and I pulled back out onto the road. I got into the town of Chelsea and went through the lights at the 4-way intersection. I was halfway to the next street corner when I spotted another fire truck in the distance coming head-on towards me. Now, from the start I had no idea where the fire was, and where the fire truck wanted to go. As I crossed the street, a fire truck suddenly swerved into my lane, narrowed by parked cars in front of the pizza shop. The truck's massive\",\n",
       " \"I became lost in San Jose, Costa Rica four months ago and still can't find my way around. I was on a study abroad trip where I stayed with local host families and explored the city by myself. I went to San Jose's Chinatown and Parque Central, but got lost and ended up back at my host family's house. I had to Google Maps my way out of there. I also ran into a neighbor's barking dog and nearly cried. My psychiatrist thought I had inattentive adhd because of my difficulty recognizing and navigating my surroundings.\",\n",
       " 'Yesterday, I had an intense desire for fries and gravy. While I was eating, the seagull population was surprisingly bigger than normal. As soon as I started throwing fries to distract the seagulls, one seagull ate fries right from the tray in my hand.',\n",
       " \"This is a story about a sadistic mistake that occurred when cooking a quesadilla. The mistake resulted in the cook having to clean burnt oil from the floor, and having to listen to their parent scold them from the doorway. Despite this, the story has a silver lining; the cook's pet dog now shies away from the kitchen.\",\n",
       " \"The article describes a encounter between a male airport passenger and a female airport passenger. The encounter takes place on the airport's moving staircase. The female passenger approaches the male passenger and attempts to communicate with him. The male passenger quickly avoids the female passenger and attempts to communicate with other passengers. The female passenger notices the male passenger and follows him until the male passenger loses sight of the female passenger. The male passenger writes a a letter describing his feelings towards the female passenger. The letter is written on the airport's runway, and the male passenger hopes that the female passenger will read the letter.\",\n",
       " \"Tonight I (white male 20) decided to have a few drinks with friends (two white females 20/21) in my room and drove them up town in our college town to the clubs. No big deal. I do this all the time. It is time to leave and I decided to grab my car from the near by parking lot and pick up my friends at the door. I come across a very intoxicated women (black and underaged) in the grass struggling to put on her shoes. She has lost her phone and her keys but has had enough to drink, she doesn't care one bit. I know that recent events in my college town, two women getting raped in the past three weeks, means it is not safe for me to just blow this off. I made a choice to help her back to her dorm and make my friends late to the clubs up town. I struggle to get her to comply, but she agrees it is for the best for her to go home. While I'm escorting her back to her dorm and trying to provide a sense of stability, I receive an angry call from my friends, insisting that I cancel my plans with my new responsibility and join them instead. I explain the situation and they are having none of it. They\",\n",
       " \"whilst driving to pick up glass panels to replace a damaged section of a greenhouse, I hit the bumper of the van I was supposed to be driving too heavily, nearly hitting my boss's dog and smashing the glass panels at the end of the greenhouse.\",\n",
       " 'So for those of you who don\\'t know, there is a google survey app for android you can download where you get to take surveys. After completing the surveys, you receive anywhere from $0.10 to $2.00 for doing a survey to use on the google play store. I have consistently provided inaccurate information through these surveys. The more I fabricate these answers, the more \"valuable\" it makes my opinion. The more valuable my opinion is, the more surveys I get which means more Play Store credit. If I had been honest, I would not have gotten any surveys, much like when I told my friend about the app and never got a survey after his first one. To date, I have accumulated approximately $35 in Play Store credit through completing surveys. So this morning, I got a Google survey on my tablet. It was a 3 question survey. The survey asked if I had ever been to a water park called Kelp Water Parks. I said yes. Then it asked what my favorite slide was. I just chose a random name of a ride and proceeded to the next question. Only then did I find out it wasn\\'t a survey, but it was designed to fish out individuals like me. Individuals who provide inaccurate or false information on surveys',\n",
       " 'The two boys were deaf communicating with each other using sign language. Since the boys were on a subway ride, they were curious as to why the two were making strange symbols with their hands. The signs the boys were using were sign for \"gang sign.\" The signer was annoyed when the curious boy asked them a second time, and decided to leave the subway because he felt frustrated.']"
      ]
     },
     "execution_count": 218,
     "metadata": {},
     "output_type": "execute_result"
    }
   ],
   "source": [
    "paraphrased"
   ]
  },
  {
   "cell_type": "code",
   "execution_count": 124,
   "metadata": {},
   "outputs": [
    {
     "data": {
      "text/plain": [
       "['There is a \"chronic\" need for more housing for prison leavers in Wales, according to a charity.',\n",
       " 'A man has appeared in court after firearms, ammunition and cash were seized by police in Edinburgh.',\n",
       " 'Four people accused of kidnapping and torturing a mentally disabled man in a \"racially motivated\" attack streamed on Facebook have been denied bail.',\n",
       " 'West Brom have appointed Nicky Hammond as technical director, ending his 20-year association with Reading.',\n",
       " 'The pancreas can be triggered to regenerate itself through a type of fasting diet, say US researchers.',\n",
       " 'A \"medal at any cost\" approach created a \"culture of fear\" at British Cycling, says former rider Wendy Houvenaghel.',\n",
       " 'Have you heard the one about the computer programmer who bought a failing comedy club in Texas and turned it into a million dollar a year business?',\n",
       " \"The reaction from BT's investors told us much about media regulator Ofcom's ruling on the fate of Openreach, the BT subsidiary that provides much of the UK's broadband infrastructure.\",\n",
       " \"Manager Brendan Rodgers is sure Celtic can exploit the wide open spaces of Hampden when they meet Rangers in Sunday's League Cup semi-final.\",\n",
       " \"Queen's University Belfast is cutting 236 jobs and 290 student places due to a funding reduction.\"]"
      ]
     },
     "execution_count": 124,
     "metadata": {},
     "output_type": "execute_result"
    }
   ],
   "source": [
    "gold"
   ]
  },
  {
   "cell_type": "code",
   "execution_count": null,
   "metadata": {},
   "outputs": [],
   "source": []
  }
 ],
 "metadata": {
  "kernelspec": {
   "display_name": "acl",
   "language": "python",
   "name": "python3"
  },
  "language_info": {
   "codemirror_mode": {
    "name": "ipython",
    "version": 3
   },
   "file_extension": ".py",
   "mimetype": "text/x-python",
   "name": "python",
   "nbconvert_exporter": "python",
   "pygments_lexer": "ipython3",
   "version": "3.11.5"
  }
 },
 "nbformat": 4,
 "nbformat_minor": 2
}
