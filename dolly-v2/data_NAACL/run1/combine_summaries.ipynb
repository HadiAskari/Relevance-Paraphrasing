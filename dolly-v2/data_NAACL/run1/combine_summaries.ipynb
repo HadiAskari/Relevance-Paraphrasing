{
 "cells": [
  {
   "cell_type": "code",
   "execution_count": 84,
   "metadata": {},
   "outputs": [
    {
     "name": "stderr",
     "output_type": "stream",
     "text": [
      "[nltk_data] Downloading package punkt to /home/haskari/nltk_data...\n",
      "[nltk_data]   Package punkt is already up-to-date!\n"
     ]
    }
   ],
   "source": [
    "import pickle as pkl\n",
    "import nltk\n",
    "import os\n",
    "from datasets import load_dataset\n",
    "from nltk.tokenize import sent_tokenize, word_tokenize\n",
    "import multiprocessing\n",
    "import evaluate\n",
    "from rouge_score import rouge_scorer\n",
    "from tqdm.auto import tqdm\n",
    "from natsort import natsorted\n",
    "import random\n",
    "import nltk\n",
    "nltk.download('punkt')  # Download the tokenizer model\n",
    "\n",
    "from nltk.tokenize import sent_tokenize"
   ]
  },
  {
   "cell_type": "code",
   "execution_count": 99,
   "metadata": {},
   "outputs": [
    {
     "name": "stdout",
     "output_type": "stream",
     "text": [
      "484\n",
      "Generate a 1 sentence summary for the given article.\n",
      "\n",
      "Article:\n",
      "this was a few months ago when i had just sort of received my learner's permit after getting like 98% or something on the test and had just started driving my manual car. this is going to be difficult to explain without making myself look stupid, but anyway: i was driving down station street with my dad supervising in the passenger seat and we're quietly chatting about all manner of nonsense as i trundle along at about 60km/h when suddenly a fire truck comes right up behind us, sirens blaring and travelling at at least 80, so my dad explains that i should pull as far to the left as i safely can to let them through, so i cautiously guide my car into the bike lane, making sure i won't kill any cyclists in the process. the fire truck safely screams pass and i pull back out onto the road. i get into the town of chelsea and go through the lights at the 4-way intersection. i'm halfway to the next street corner when i spot another fire truck in the distance coming head-on towards me. now, from the start i've got no idea where the fire is and where the fire truck wants to go. so i go across past the side street and this fire truck starts veering over into my lane, which has had its width severely reduced by the cars parked along the corner in front of the pizza shop and all i can see is this huge truck flashing its lights at me as it tries to go through my lane to get into the side street, my dad pushing himself down into his seat bracing for impact and the cars parked next to me. all i can hear is my dad screaming 'woah, woah, woah! woah! woah woah woah' in my left ear and the fire truck's sirens and horn in my right ear. i continue through at the same speed gripping the steering wheel like my life depends on it, concentrating very hard on not crashing into anything. i get past everything and go around the corner that made this entire situation much more complicated than it would have been on a straight road. the rest of the drive is my dad freaking out at me and telling me i was millimetres away from the parked cars. within a week though, he was much more relaxed about the whole event and let me back out on the roads again.\n",
      "A month ago, I just received my learner's permit and started driving my manual car. While driving down Station Street with my dad supervising, I accidentally drove into the bike lane to let a fire truck pass. The fire truck was travelling at least 80km/h and was trying to go through a narrow lane to access a side street. My dad told me to pull over to the left to let the fire truck through. I was scared that I would hit cyclists while driving in the bike lane, but I managed to guide my car into the bike lane safely. I was relieved when the fire truck safely passed by. I was about to turn the next corner when I spotted another fire truck heading towards me. I was worried that the truck would try to go through my lane, but I managed to stay in the right lane and the trucks safely passed by each other. I was relieved when I turned the next corner and my dad was not in the car with me. A week later, my dad was much more relaxed about the whole situation and let me drive again.\n"
     ]
    }
   ],
   "source": [
    "pkls=os.listdir('reddit')\n",
    "pkls=natsorted(pkls)\n",
    "pkls_list=[]\n",
    "for pikl in pkls:\n",
    "    with open('reddit/{}'.format(pikl),'rb') as f:\n",
    "        file=pkl.load(f)\n",
    "    if not file:\n",
    "        file.append(' ')\n",
    "    pkls_list.extend(file)\n",
    "\n",
    "print(len(pkls_list))\n",
    "print(pkls_list[0])"
   ]
  },
  {
   "cell_type": "code",
   "execution_count": 100,
   "metadata": {},
   "outputs": [],
   "source": [
    "new_pkls_list=[]\n",
    "for item in pkls_list:\n",
    "    new_pkls_list.append(item.split('\\n')[-1])"
   ]
  },
  {
   "cell_type": "code",
   "execution_count": 101,
   "metadata": {},
   "outputs": [
    {
     "data": {
      "text/plain": [
       "\"My husband is allergic to dust. Well, more specifically dust mite poop. So it falls on me to rid the house of dust via vacuuming, dusting, laundry, and whatever the hell else I can think of. He's still getting reactions, though, and he thinks it's because I can't reach all the way under the bed with the vacuum. It's not my fault he's tall and needs a king size bed but apparently it is my fault that I don't have go-go-gadget-arms. I've asked him a few times to help me move the bed away from the wall so I can vacuum, and suddenly he gets a genius idea that if we move the bed away from the wall, I can vacuum all the way under it! Hmmm. Of course it didn't help that he expressed the idea with quite a lot of persnicketyness and a snappy attitude. I thought I would avoid a fight by just going along with his brilliant addendum of tipping the bed frame on its side instead of just moving it to the other side of the room. I had reservations but I also wanted to get the damn thing over with. So he's crankily barking orders while tipping the thing up (sans mattress at this point) and I'm doing my best to keep up, starting to get cranky myself, when we hear a snap. The longways side plank broke off from the headboard on the side that I sleep on. Now this frame is not simple in any meaning of the word. It has two rows of about fifteen thin bowed planks where the mattress sits and these fuckers were torture to get into their individual slots on both ends. Now that the side plank has come unattached, these shits start slipping out too. It took us about an hour and a half and a dozen whispered fights (kid sleeping down the hall) to get the thing back together. Think it ends there? Not today, Satan! We get into bed, turn out the light, and the kid wakes up. I go settle her, get back in bed and ten or fifteen minutes later, she wakes up again. I settle her again, get back in bed, and I'm so worked up from the ordeal I can't sleep. She wakes again an hour later when I had just drifted off. Husband sleeps through it so I go to her again. Half asleep\""
      ]
     },
     "execution_count": 101,
     "metadata": {},
     "output_type": "execute_result"
    }
   ],
   "source": [
    "new_pkls_list[3]"
   ]
  },
  {
   "cell_type": "code",
   "execution_count": 102,
   "metadata": {},
   "outputs": [
    {
     "name": "stdout",
     "output_type": "stream",
     "text": [
      "0\n"
     ]
    }
   ],
   "source": [
    "count=0\n",
    "for idx,item in enumerate(new_pkls_list):\n",
    "    if item == \" \":\n",
    "        # print(idx)\n",
    "        count+=1\n",
    "print(count)"
   ]
  },
  {
   "cell_type": "code",
   "execution_count": 103,
   "metadata": {},
   "outputs": [],
   "source": [
    "cnn_list=[]\n",
    "for items in new_pkls_list:\n",
    "    cnn_list.append(sent_tokenize(items))"
   ]
  },
  {
   "cell_type": "code",
   "execution_count": 104,
   "metadata": {},
   "outputs": [],
   "source": [
    "# cnn_list[1]"
   ]
  },
  {
   "cell_type": "code",
   "execution_count": 105,
   "metadata": {},
   "outputs": [
    {
     "data": {
      "text/plain": [
       "484"
      ]
     },
     "execution_count": 105,
     "metadata": {},
     "output_type": "execute_result"
    }
   ],
   "source": [
    "len(cnn_list)"
   ]
  },
  {
   "cell_type": "code",
   "execution_count": 106,
   "metadata": {},
   "outputs": [
    {
     "data": {
      "text/plain": [
       "['This one sentence summary was generated from a short article about a guy that watched a doggy style video on his phone.']"
      ]
     },
     "execution_count": 106,
     "metadata": {},
     "output_type": "execute_result"
    }
   ],
   "source": [
    "cnn_list[23]"
   ]
  },
  {
   "cell_type": "code",
   "execution_count": 107,
   "metadata": {},
   "outputs": [],
   "source": [
    "random.seed(42)\n",
    "cnn_list_capped=[]\n",
    "for item in cnn_list:\n",
    "    temp=[]\n",
    "    try:\n",
    "        length=len(item)\n",
    "        if length>1: #For Non CNN\n",
    "            temp.append(item[0])\n",
    "            \n",
    "            # temp.append(item[0])\n",
    "            # temp.append(item[1])\n",
    "            # temp.append(item[2])\n",
    "        else:\n",
    "            cnn_list_capped.append(item)\n",
    "            continue\n",
    "    \n",
    "        # choose=random.randint(0,length-1)\n",
    "        # cnn_list_capped.append([item[0]])\n",
    "    except:\n",
    "        print('here')\n",
    "        cnn_list_capped.append([])\n",
    "    cnn_list_capped.append(temp)"
   ]
  },
  {
   "cell_type": "code",
   "execution_count": 108,
   "metadata": {},
   "outputs": [
    {
     "data": {
      "text/plain": [
       "1"
      ]
     },
     "execution_count": 108,
     "metadata": {},
     "output_type": "execute_result"
    }
   ],
   "source": [
    "len(cnn_list_capped[0])"
   ]
  },
  {
   "cell_type": "code",
   "execution_count": 109,
   "metadata": {},
   "outputs": [
    {
     "data": {
      "text/plain": [
       "['Tonight I (white male 20) decided to have a few drinks with friends (two white females 20/21) in my room and drive them up town in our college town to the clubs.',\n",
       " 'No big deal.',\n",
       " 'I do this all the time.',\n",
       " 'It is getting time to leave and I decided to grab my car from the near by parking lot and pick up my friends at the door.',\n",
       " 'On my way tot he lot I come up to a very intoxicated women (black and very underaged) in the grass struggling to put on her shoes.',\n",
       " \"She has lost her phone and her keys but has had enough to drink she doesn't care one bit.\",\n",
       " 'I know that recent events in my college town, two women getting raped in the past three weeks, means it is not safe for me to just blow this off.',\n",
       " 'I made a choice to help her back to her dorm and mostly make my friends late to the clubs up town.',\n",
       " 'I struggle to get her to comply, but she agrees it is for the best for her to go home.',\n",
       " 'In the process of taking her back to her dorm and attempting to be the stable anchor for her while she meanders in the general direction, I receive an infuriated call from my friends, demanding I bail on my new ward and accommodate the original plans.',\n",
       " 'I explain the situation and they are having none of it.',\n",
       " 'So now I am certain that my better judgement has cost me a preciously cherished friendship.']"
      ]
     },
     "execution_count": 109,
     "metadata": {},
     "output_type": "execute_result"
    }
   ],
   "source": [
    "cnn_list[2]"
   ]
  },
  {
   "cell_type": "code",
   "execution_count": 110,
   "metadata": {},
   "outputs": [
    {
     "data": {
      "text/plain": [
       "['Tonight I (white male 20) decided to have a few drinks with friends (two white females 20/21) in my room and drive them up town in our college town to the clubs.']"
      ]
     },
     "execution_count": 110,
     "metadata": {},
     "output_type": "execute_result"
    }
   ],
   "source": [
    "cnn_list_capped[2]"
   ]
  },
  {
   "cell_type": "code",
   "execution_count": 111,
   "metadata": {},
   "outputs": [
    {
     "data": {
      "text/plain": [
       "484"
      ]
     },
     "execution_count": 111,
     "metadata": {},
     "output_type": "execute_result"
    }
   ],
   "source": [
    "len(cnn_list_capped)"
   ]
  },
  {
   "cell_type": "code",
   "execution_count": 112,
   "metadata": {},
   "outputs": [],
   "source": [
    "with open('reddit.pkl', 'wb') as f:\n",
    "    pkl.dump(cnn_list_capped,f) "
   ]
  },
  {
   "cell_type": "code",
   "execution_count": 54,
   "metadata": {},
   "outputs": [],
   "source": [
    "with open('news.pkl', 'rb') as f:\n",
    "    file=pkl.load(f) "
   ]
  },
  {
   "cell_type": "code",
   "execution_count": 55,
   "metadata": {},
   "outputs": [
    {
     "data": {
      "text/plain": [
       "[\"Senate Republican leader Mitch McConnell told President Barack Obama's Supreme Court nominee Merrick Garland by phone that Republicans will not act on his nomination or meet with him.\"]"
      ]
     },
     "execution_count": 55,
     "metadata": {},
     "output_type": "execute_result"
    }
   ],
   "source": [
    "file[0]"
   ]
  },
  {
   "cell_type": "code",
   "execution_count": null,
   "metadata": {},
   "outputs": [],
   "source": []
  }
 ],
 "metadata": {
  "kernelspec": {
   "display_name": "acl",
   "language": "python",
   "name": "python3"
  },
  "language_info": {
   "codemirror_mode": {
    "name": "ipython",
    "version": 3
   },
   "file_extension": ".py",
   "mimetype": "text/x-python",
   "name": "python",
   "nbconvert_exporter": "python",
   "pygments_lexer": "ipython3",
   "version": "3.12.2"
  }
 },
 "nbformat": 4,
 "nbformat_minor": 2
}
