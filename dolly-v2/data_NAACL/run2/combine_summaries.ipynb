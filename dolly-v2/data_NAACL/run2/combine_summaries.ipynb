{
 "cells": [
  {
   "cell_type": "code",
   "execution_count": 16,
   "metadata": {},
   "outputs": [
    {
     "name": "stderr",
     "output_type": "stream",
     "text": [
      "[nltk_data] Downloading package punkt to /home/haskari/nltk_data...\n",
      "[nltk_data]   Package punkt is already up-to-date!\n"
     ]
    }
   ],
   "source": [
    "import pickle as pkl\n",
    "import nltk\n",
    "import os\n",
    "from datasets import load_dataset\n",
    "from nltk.tokenize import sent_tokenize, word_tokenize\n",
    "import multiprocessing\n",
    "import evaluate\n",
    "from rouge_score import rouge_scorer\n",
    "from tqdm.auto import tqdm\n",
    "from natsort import natsorted\n",
    "import random\n",
    "import nltk\n",
    "nltk.download('punkt')  # Download the tokenizer model\n",
    "\n",
    "from nltk.tokenize import sent_tokenize"
   ]
  },
  {
   "cell_type": "code",
   "execution_count": 44,
   "metadata": {},
   "outputs": [
    {
     "name": "stdout",
     "output_type": "stream",
     "text": [
      "115\n",
      "Generate a 1 sentence summary for the given article.\n",
      "\n",
      "Article:\n",
      "WASHINGTON (Reuters) - Senate Republican leader Mitch McConnell told President Barack Obama’s Supreme Court nominee Merrick Garland by phone on Wednesday that Republicans will not act on his nomination or meet with him, a McConnell spokesman said.”Rather than put Judge Garland through more unnecessary political routines orchestrated by the White House, the leader decided it would be more considerate of the nominee’s time to speak with him today by phone,” McConnell spokesman Don Stewart said in a statement.  McConnell told the appellate court judge that “since the Senate will not be acting on this nomination, he would not be holding a perfunctory meeting, but he wished Judge Garland well,” Stewart added.  \n",
      "McConnell told President Barack Obama’s Supreme Court nominee Merrick Garland by phone that Republicans will not act on his nomination or meet with him.\n"
     ]
    }
   ],
   "source": [
    "pkls=os.listdir('news')\n",
    "pkls=natsorted(pkls)\n",
    "pkls_list=[]\n",
    "for pikl in pkls:\n",
    "    with open('news/{}'.format(pikl),'rb') as f:\n",
    "        file=pkl.load(f)\n",
    "    if not file:\n",
    "        file.append(' ')\n",
    "    pkls_list.extend(file)\n",
    "\n",
    "print(len(pkls_list))\n",
    "print(pkls_list[0])"
   ]
  },
  {
   "cell_type": "code",
   "execution_count": 45,
   "metadata": {},
   "outputs": [],
   "source": [
    "new_pkls_list=[]\n",
    "for item in pkls_list:\n",
    "    new_pkls_list.append(item.split('\\n')[-1])"
   ]
  },
  {
   "cell_type": "code",
   "execution_count": 46,
   "metadata": {},
   "outputs": [
    {
     "data": {
      "text/plain": [
       "'10. A U.S. judge approves a $25 million settlement to resolve a class action lawsuit that claimed fraud against Trump and his Trump University real estate seminars.'"
      ]
     },
     "execution_count": 46,
     "metadata": {},
     "output_type": "execute_result"
    }
   ],
   "source": [
    "new_pkls_list[3]"
   ]
  },
  {
   "cell_type": "code",
   "execution_count": 47,
   "metadata": {},
   "outputs": [
    {
     "name": "stdout",
     "output_type": "stream",
     "text": [
      "0\n"
     ]
    }
   ],
   "source": [
    "count=0\n",
    "for idx,item in enumerate(new_pkls_list):\n",
    "    if item == \" \":\n",
    "        # print(idx)\n",
    "        count+=1\n",
    "print(count)"
   ]
  },
  {
   "cell_type": "code",
   "execution_count": 48,
   "metadata": {},
   "outputs": [],
   "source": [
    "cnn_list=[]\n",
    "for items in new_pkls_list:\n",
    "    cnn_list.append(sent_tokenize(items))"
   ]
  },
  {
   "cell_type": "code",
   "execution_count": 49,
   "metadata": {},
   "outputs": [],
   "source": [
    "# cnn_list[1]"
   ]
  },
  {
   "cell_type": "code",
   "execution_count": 50,
   "metadata": {},
   "outputs": [
    {
     "data": {
      "text/plain": [
       "115"
      ]
     },
     "execution_count": 50,
     "metadata": {},
     "output_type": "execute_result"
    }
   ],
   "source": [
    "len(cnn_list)"
   ]
  },
  {
   "cell_type": "code",
   "execution_count": 51,
   "metadata": {},
   "outputs": [
    {
     "data": {
      "text/plain": [
       "['Britain believes North Korea was behind the WannaCry cyber attack that disrupted businesses and government services worldwide, including the National Health Service (NHS) in England.',\n",
       " 'Security Minister Ben Wallace said Britain believes North Korea took on the role of WannaCry ransomware attack, which it believed was carried out by a foreign state.',\n",
       " 'The attack affected more than 300,000 computers in 150 countries and demanded victims pay ransoms starting at $300 to regain access to their machines.',\n",
       " 'The report from the National Audit Office said the attack could have been prevented with better IT security, and the NHS would have been protected had it followed basic best practices.']"
      ]
     },
     "execution_count": 51,
     "metadata": {},
     "output_type": "execute_result"
    }
   ],
   "source": [
    "cnn_list[23]"
   ]
  },
  {
   "cell_type": "code",
   "execution_count": 52,
   "metadata": {},
   "outputs": [],
   "source": [
    "random.seed(42)\n",
    "cnn_list_capped=[]\n",
    "for item in cnn_list:\n",
    "    temp=[]\n",
    "    try:\n",
    "        length=len(item)\n",
    "        if length>1: #For Non CNN\n",
    "            temp.append(item[0])\n",
    "            \n",
    "            # temp.append(item[0])\n",
    "            # temp.append(item[1])\n",
    "            # temp.append(item[2])\n",
    "        else:\n",
    "            cnn_list_capped.append(item)\n",
    "            continue\n",
    "    \n",
    "        # choose=random.randint(0,length-1)\n",
    "        # cnn_list_capped.append([item[0]])\n",
    "    except:\n",
    "        print('here')\n",
    "        cnn_list_capped.append([])\n",
    "    cnn_list_capped.append(temp)"
   ]
  },
  {
   "cell_type": "code",
   "execution_count": 53,
   "metadata": {},
   "outputs": [
    {
     "data": {
      "text/plain": [
       "1"
      ]
     },
     "execution_count": 53,
     "metadata": {},
     "output_type": "execute_result"
    }
   ],
   "source": [
    "len(cnn_list_capped[0])"
   ]
  },
  {
   "cell_type": "code",
   "execution_count": 54,
   "metadata": {},
   "outputs": [
    {
     "data": {
      "text/plain": [
       "['Luis Miranda is expected to leave the Democratic National Committee on Tuesday amid fallout from the party’s email hacking scandal.']"
      ]
     },
     "execution_count": 54,
     "metadata": {},
     "output_type": "execute_result"
    }
   ],
   "source": [
    "cnn_list[2]"
   ]
  },
  {
   "cell_type": "code",
   "execution_count": 55,
   "metadata": {},
   "outputs": [
    {
     "data": {
      "text/plain": [
       "['Luis Miranda is expected to leave the Democratic National Committee on Tuesday amid fallout from the party’s email hacking scandal.']"
      ]
     },
     "execution_count": 55,
     "metadata": {},
     "output_type": "execute_result"
    }
   ],
   "source": [
    "cnn_list_capped[2]"
   ]
  },
  {
   "cell_type": "code",
   "execution_count": 56,
   "metadata": {},
   "outputs": [
    {
     "data": {
      "text/plain": [
       "115"
      ]
     },
     "execution_count": 56,
     "metadata": {},
     "output_type": "execute_result"
    }
   ],
   "source": [
    "len(cnn_list_capped)"
   ]
  },
  {
   "cell_type": "code",
   "execution_count": 57,
   "metadata": {},
   "outputs": [],
   "source": [
    "with open('news.pkl', 'wb') as f:\n",
    "    pkl.dump(cnn_list_capped,f) "
   ]
  },
  {
   "cell_type": "code",
   "execution_count": 54,
   "metadata": {},
   "outputs": [],
   "source": [
    "with open('news.pkl', 'rb') as f:\n",
    "    file=pkl.load(f) "
   ]
  },
  {
   "cell_type": "code",
   "execution_count": 55,
   "metadata": {},
   "outputs": [
    {
     "data": {
      "text/plain": [
       "[\"Senate Republican leader Mitch McConnell told President Barack Obama's Supreme Court nominee Merrick Garland by phone that Republicans will not act on his nomination or meet with him.\"]"
      ]
     },
     "execution_count": 55,
     "metadata": {},
     "output_type": "execute_result"
    }
   ],
   "source": [
    "file[0]"
   ]
  },
  {
   "cell_type": "code",
   "execution_count": null,
   "metadata": {},
   "outputs": [],
   "source": []
  }
 ],
 "metadata": {
  "kernelspec": {
   "display_name": "acl",
   "language": "python",
   "name": "python3"
  },
  "language_info": {
   "codemirror_mode": {
    "name": "ipython",
    "version": 3
   },
   "file_extension": ".py",
   "mimetype": "text/x-python",
   "name": "python",
   "nbconvert_exporter": "python",
   "pygments_lexer": "ipython3",
   "version": "3.12.2"
  }
 },
 "nbformat": 4,
 "nbformat_minor": 2
}
