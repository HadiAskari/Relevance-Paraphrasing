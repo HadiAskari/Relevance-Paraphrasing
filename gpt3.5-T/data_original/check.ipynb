{
 "cells": [
  {
   "cell_type": "code",
   "execution_count": 1,
   "metadata": {},
   "outputs": [
    {
     "ename": "ModuleNotFoundError",
     "evalue": "No module named 'MENLI'",
     "output_type": "error",
     "traceback": [
      "\u001b[0;31m---------------------------------------------------------------------------\u001b[0m",
      "\u001b[0;31mModuleNotFoundError\u001b[0m                       Traceback (most recent call last)",
      "Cell \u001b[0;32mIn[1], line 4\u001b[0m\n\u001b[1;32m      1\u001b[0m \u001b[38;5;28;01mimport\u001b[39;00m \u001b[38;5;21;01mpickle\u001b[39;00m \u001b[38;5;28;01mas\u001b[39;00m \u001b[38;5;21;01mpkl\u001b[39;00m\n\u001b[1;32m      2\u001b[0m \u001b[38;5;28;01mimport\u001b[39;00m \u001b[38;5;21;01mrandom\u001b[39;00m\n\u001b[0;32m----> 4\u001b[0m \u001b[38;5;28;01mfrom\u001b[39;00m \u001b[38;5;21;01mMENLI\u001b[39;00m\u001b[38;5;21;01m.\u001b[39;00m\u001b[38;5;21;01mMENLI\u001b[39;00m \u001b[38;5;28;01mimport\u001b[39;00m MENLI\n\u001b[1;32m      6\u001b[0m \u001b[38;5;66;03m# scorer = MENLI(direction=\"avg\", formula=\"e\", src=False, nli_weight=0.3, combine_with=\"BERTScore-F\", model=\"D\")\u001b[39;00m\n\u001b[1;32m      7\u001b[0m \u001b[38;5;66;03m# res=[]\u001b[39;00m\n\u001b[1;32m      8\u001b[0m \u001b[38;5;66;03m# count=0\u001b[39;00m\n\u001b[0;32m   (...)\u001b[0m\n\u001b[1;32m     22\u001b[0m    \n\u001b[1;32m     23\u001b[0m \u001b[38;5;66;03m# return sum(res)/len(res)\u001b[39;00m\n",
      "\u001b[0;31mModuleNotFoundError\u001b[0m: No module named 'MENLI'"
     ]
    }
   ],
   "source": [
    "import pickle as pkl\n",
    "import random\n",
    "\n",
    "from MENLI.MENLI import MENLI\n",
    "\n",
    "scorer = MENLI(direction=\"avg\", formula=\"e\", src=False, nli_weight=0.3, combine_with=\"BERTScore-F\", model=\"D\")\n",
    "res=[]\n",
    "count=0\n",
    "# refs and hyps in form of list of String\n",
    "for cand, ref in tqdm(zip(p_data_mistral_cnn['highlights'],p_data_mistral_cnn['model_summaries'])):\n",
    "    count+=1\n",
    "    # if count>=20:\n",
    "    #     break\n",
    "    if len(cand)!=len(ref):\n",
    "        continue\n",
    "    if not cand or not ref:\n",
    "        continue\n",
    "    scores=scorer.score_all(srcs=[],refs=cand, hyps=ref) \n",
    "\n",
    "    res.append(sum(scores)/len(scores))\n",
    "    \n",
    "   \n",
    "# return sum(res)/len(res)"
   ]
  },
  {
   "cell_type": "code",
   "execution_count": 9,
   "metadata": {},
   "outputs": [],
   "source": [
    "with open('xsum_new_new.pkl', 'rb') as f:\n",
    "    pkls_list=pkl.load(f)"
   ]
  },
  {
   "cell_type": "code",
   "execution_count": 10,
   "metadata": {},
   "outputs": [],
   "source": [
    "cnn_list_capped=[]\n",
    "\n",
    "for item in pkls_list:\n",
    "    try:\n",
    "        length=len(item)\n",
    "        choose=random.randint(0,length-1)\n",
    "        cnn_list_capped.append([item[0]])\n",
    "    except:\n",
    "        cnn_list_capped.append([])"
   ]
  },
  {
   "cell_type": "code",
   "execution_count": 11,
   "metadata": {},
   "outputs": [
    {
     "data": {
      "text/plain": [
       "['16 tie.']"
      ]
     },
     "execution_count": 11,
     "metadata": {},
     "output_type": "execute_result"
    }
   ],
   "source": [
    "cnn_list_capped[59]"
   ]
  },
  {
   "cell_type": "code",
   "execution_count": 12,
   "metadata": {},
   "outputs": [],
   "source": [
    "with open('xsum_capped-random.pkl', 'wb') as f:\n",
    "    pkl.dump(cnn_list_capped,f)"
   ]
  },
  {
   "cell_type": "code",
   "execution_count": 30,
   "metadata": {},
   "outputs": [],
   "source": [
    "import pickle as pkl\n",
    "import nltk\n",
    "import os\n",
    "from datasets import load_dataset\n",
    "from nltk.tokenize import sent_tokenize, word_tokenize\n",
    "import multiprocessing\n",
    "import evaluate\n",
    "from rouge_score import rouge_scorer\n",
    "from tqdm.auto import tqdm\n",
    "from natsort import natsorted\n",
    "import random\n",
    "import pandas as pd\n",
    "from datasets import load_dataset, DatasetDict, load_from_disk\n",
    "import datasets"
   ]
  },
  {
   "cell_type": "code",
   "execution_count": 22,
   "metadata": {},
   "outputs": [
    {
     "name": "stdout",
     "output_type": "stream",
     "text": [
      "4214\n",
      "1. As a second grader at a birthday celebration in primary school, the author accidentally knocked vanilla cupcakes onto the teacher, causing a scene and leading to accusations of ruining her shoes.\n"
     ]
    }
   ],
   "source": [
    "pkls=os.listdir('reddit')\n",
    "pkls=natsorted(pkls)\n",
    "pkls_list=[]\n",
    "for pikl in pkls:\n",
    "    with open('reddit/{}'.format(pikl),'rb') as f:\n",
    "        file=pkl.load(f)\n",
    "    if not file:\n",
    "        file.append(' ')\n",
    "    pkls_list.extend(file)\n",
    "\n",
    "print(len(pkls_list))\n",
    "print(pkls_list[0])"
   ]
  },
  {
   "cell_type": "code",
   "execution_count": 23,
   "metadata": {},
   "outputs": [
    {
     "name": "stdout",
     "output_type": "stream",
     "text": [
      "0\n"
     ]
    }
   ],
   "source": [
    "count=0\n",
    "for idx,item in enumerate(pkls_list):\n",
    "    if item == \" \":\n",
    "        print(idx)\n",
    "        count+=1\n",
    "print(count)"
   ]
  },
  {
   "cell_type": "code",
   "execution_count": 24,
   "metadata": {},
   "outputs": [],
   "source": [
    "cnn_list=[]\n",
    "for i in range(len(pkls_list)):\n",
    "    temp=[]\n",
    "    splits=pkls_list[i].split('\\n')\n",
    "    for split in splits:\n",
    "        if split:\n",
    "            if split[0].isdigit():\n",
    "                try:\n",
    "                    temp.append(split.split(\".\")[1].strip())\n",
    "                except:\n",
    "                    print(split)\n",
    "    cnn_list.append(temp)"
   ]
  },
  {
   "cell_type": "code",
   "execution_count": 25,
   "metadata": {},
   "outputs": [
    {
     "data": {
      "text/plain": [
       "4214"
      ]
     },
     "execution_count": 25,
     "metadata": {},
     "output_type": "execute_result"
    }
   ],
   "source": [
    "len(cnn_list)"
   ]
  },
  {
   "cell_type": "code",
   "execution_count": 26,
   "metadata": {},
   "outputs": [
    {
     "data": {
      "text/plain": [
       "[\"During lunch, a student's attempt to focus on copying notes led to a disruptive outburst that resulted in a 2-hour detention for causing a commotion in the lunchroom\"]"
      ]
     },
     "execution_count": 26,
     "metadata": {},
     "output_type": "execute_result"
    }
   ],
   "source": [
    "cnn_list[213]"
   ]
  },
  {
   "cell_type": "code",
   "execution_count": 27,
   "metadata": {},
   "outputs": [],
   "source": [
    "with open('reddit_final.pkl', 'wb') as f:\n",
    "    pkl.dump(cnn_list,f) "
   ]
  },
  {
   "cell_type": "code",
   "execution_count": 108,
   "metadata": {},
   "outputs": [
    {
     "name": "stderr",
     "output_type": "stream",
     "text": [
      "/home/haskari/miniconda3/envs/paraphrase/lib/python3.12/site-packages/datasets/load.py:1461: FutureWarning: The repository for reddit_tifu contains custom code which must be executed to correctly load the dataset. You can inspect the repository content at https://hf.co/datasets/reddit_tifu\n",
      "You can avoid this message in future by passing the argument `trust_remote_code=True`.\n",
      "Passing `trust_remote_code=True` will be mandatory to load this dataset from the next major release of `datasets`.\n",
      "  warnings.warn(\n"
     ]
    }
   ],
   "source": [
    "# xsum_ds = datasets.load_dataset(\"EdinburghNLP/xsum\")    \n",
    "# xsum_ds = xsum_ds['test']\n",
    "\n",
    "reddit_ds = datasets.load_dataset(\"reddit_tifu\", \"long\")\n",
    "train_testvalid = reddit_ds['train'].train_test_split(test_size=0.2, seed=42)\n",
    "test_valid = train_testvalid['test'].train_test_split(test_size=0.5, seed=42)\n",
    "reddit_ds = test_valid['test']"
   ]
  },
  {
   "cell_type": "code",
   "execution_count": 109,
   "metadata": {},
   "outputs": [],
   "source": [
    "# articles=xsum_ds['document']\n",
    "# gold_summaries=xsum_ds['summary']\n",
    "\n",
    "articles=reddit_ds['documents']\n",
    "gold_summaries=reddit_ds['tldr']"
   ]
  },
  {
   "cell_type": "code",
   "execution_count": 110,
   "metadata": {},
   "outputs": [],
   "source": [
    "# with open('xsum_final.pkl', 'rb') as f:\n",
    "#     original_summaries=pkl.load(f)\n",
    "\n",
    "with open('reddit_final.pkl', 'rb') as f:\n",
    "    original_summaries=pkl.load(f)"
   ]
  },
  {
   "cell_type": "code",
   "execution_count": 111,
   "metadata": {},
   "outputs": [
    {
     "data": {
      "text/plain": [
       "['The author experienced a situation where their dog became aggressive towards the mailman after they forgot to lock the dog away, leading to the dog escaping and the author getting locked out of their apartment for four hours']"
      ]
     },
     "execution_count": 111,
     "metadata": {},
     "output_type": "execute_result"
    }
   ],
   "source": [
    "original_summaries[43]"
   ]
  },
  {
   "cell_type": "code",
   "execution_count": 116,
   "metadata": {},
   "outputs": [],
   "source": [
    "# with open('../data_paraphrase/xsum.pkl', 'rb') as f:\n",
    "#     paraphrased_summaries=pkl.load(f)\n",
    "\n",
    "with open('../data_paraphrase/reddit.pkl', 'rb') as f:\n",
    "    paraphrased_summaries=pkl.load(f)"
   ]
  },
  {
   "cell_type": "code",
   "execution_count": 117,
   "metadata": {},
   "outputs": [
    {
     "data": {
      "text/plain": [
       "[\"The author, as a second grader, accidentally knocked vanilla cupcakes out of their teacher's hand, causing a scene in the cafeteria and leading to accusations of ruining the teacher's shoes\"]"
      ]
     },
     "execution_count": 117,
     "metadata": {},
     "output_type": "execute_result"
    }
   ],
   "source": [
    "paraphrased_summaries[0]"
   ]
  },
  {
   "cell_type": "code",
   "execution_count": 118,
   "metadata": {},
   "outputs": [
    {
     "name": "stdout",
     "output_type": "stream",
     "text": [
      "4214\n",
      "4214\n",
      "4214\n",
      "4214\n"
     ]
    }
   ],
   "source": [
    "print(len(articles))\n",
    "print(len(gold_summaries))\n",
    "print(len(original_summaries))\n",
    "print(len(paraphrased_summaries))"
   ]
  },
  {
   "cell_type": "code",
   "execution_count": 148,
   "metadata": {},
   "outputs": [],
   "source": [
    "# articles=articles[-100:]\n",
    "# gold_summaries=gold_summaries[-100:]\n",
    "# original_summaries=original_summaries[-100:]\n",
    "# paraphrased_summaries=paraphrased_summaries[-100:]\n",
    "\n",
    "articles=articles[-90:]\n",
    "gold_summaries=gold_summaries[-90:]\n",
    "original_summaries=original_summaries[-90:]\n",
    "paraphrased_summaries=paraphrased_summaries[-90:]"
   ]
  },
  {
   "cell_type": "code",
   "execution_count": 149,
   "metadata": {},
   "outputs": [],
   "source": [
    "final_art=[]\n",
    "final_gold=[]\n",
    "final_orig=[]\n",
    "final_para=[]"
   ]
  },
  {
   "cell_type": "code",
   "execution_count": 150,
   "metadata": {},
   "outputs": [
    {
     "name": "stdout",
     "output_type": "stream",
     "text": [
      "here\n"
     ]
    }
   ],
   "source": [
    "count=0\n",
    "for art, gold, orig, para in zip(articles,gold_summaries,original_summaries,paraphrased_summaries):\n",
    "    if art and gold and orig and para:\n",
    "        # print(count)\n",
    "        if count>=10:\n",
    "            print('here')\n",
    "            break\n",
    "        final_art.append(art)\n",
    "        final_gold.append(gold)\n",
    "        final_orig.append(orig[0])\n",
    "        final_para.append(para[0])\n",
    "        count+=1\n",
    "        \n",
    "        "
   ]
  },
  {
   "cell_type": "code",
   "execution_count": 151,
   "metadata": {},
   "outputs": [
    {
     "data": {
      "text/plain": [
       "['okay so this happened a year ago. my buddy kade and i used to go to a gymnastics studio after school. we wrestled a lot. one day he had me on my back, knees up, and was going to stomp my knees. but his foot slipped, and it crushed my balls.',\n",
       " \"very recently, i was travelling in wales with my girlfriend, her sister and her sister's 2 young daughters, aged 10 and 6. we were driving around on a very hot day, in a stuffy, cramped car. i was sitting in the back, next to the 6 year old in the middle, and the 10 year old on the other side, while my girlfriend was in the front passenger side, and her sister was driving. \\n\\nwe were about an hour into the drive and i was feeling a bit unwell. my stomach was churning and i was feeling light headed. also the music on in the car was a disney cd, on repeat. it was like one of dante's circles of hell. my gf's nieces were squealing with delight at the horrendous music being played on repeat, and i was losing the will to live. also i couldn't put the windows down, as these brats kept complaining that they were too cold, so the car was unbearably hot.\\n\\ni became aware of the strong urge to fart, but because of the close quarters in the stuffy car, i didn't want everyone choking on my personal bum brew. so i held it in as long as i could, also i wasn't sure just how safe it would be.\\n\\nafter a while this became unbearable. i waited to see if we were going to stop soon, but it didn't look like it, so i had no choice but to let it out as discretely as i could. so i leaned forward a little bit, and i felt the warm gush of air silently bubbling out of me. it lasted for almost a full minute, my gf's sister picked up on it while it was still in progress. \\n\\nit smelt terrible. it was even viler than i thought it would be, you could taste the richness of it on your tongue, you could feel it overwhelming your palate. my gf's sister asked, 'who was that?' there was no answer. both girls in the back were silent. because it was lingering so long, she assumed it was more than a fart. 'did either of you have an accident?' both girls denied it, until the 6 year old suddently burst into tears. \\n\\nthis was like an admission, so the car was abruptly pulled over at the next rest station, which was thankfully close, and both girls were dragged out to use the toilet, even the 10 year old, who was silent all that time. they were dragged to the toilet to get their pants checked. i said i needed to pee so i jumped out too, headed for the gents, peed and checked my pants too (they were thankfully clean). when i returned, we waited for another 15 minutes before my gf's sister and the girls returned, the 6 year old still crying, with reports of clean pants.\\n\\nwhy she was crying i don't know, as we continued the drive, she was still sniffling. we got to our destination half an hour later, driving in silence, no music, no talking, with the windows down. it was bliss. i talked to my girlfriend later on about the crying and she explained how she had an accident in school recently, and she kept denying it, she sat in class with smelly underwear and denied it constantly, even when the teacher discovered what she had done. she must have been crying because it reminded her of the telling off she got for lying about it last time.\",\n",
       " 'first off this was not today but in march, sue me.\\n\\nso, every year my high school band goes on a field trip, and this alternates between in state (texas for anyone curious) and out of state trips, and the one for the 2014-2015 school year was an out of state trip to disney world in orlando.\\n\\nso my friends and i are all hanging out, and we\\'re a very close bunch, and we have a bunch of in jokes with each other, one of them being that when somebody starts bitching, i would mimic the tone of their voice in a whine, comedic gold i know, but it was something that we all enjoyed, however following the events of this story i have removed the practice from my life.\\n\\nso it\\'s about 6 of us in line for that epcot ride where you go inside of the giant golf ball thing (i forget what it\\'s called) and we\\'re all joking and having a good time, all is well.\\n\\nof the 6 of us in line, i happen to be at the front, and in front of me is a woman of about thirty and her child who looks to be about 3 years old, however i\\'m not paying attention to them as my focus is devoted to the conversation i\\'m having with my friends. in the midst of this conversation, i hear a whine and before i can think, i mimic it in a mocking tone, just as i always have.\\n\\nbut this time it wasn\\'t my friends who wined, instead the whine belongs to the baby sitting next to me, and the fact that i just mocked someone who can\\'t even talk yet hits me.\\n\\nimmediately the emergency alarms in my head start screaming and every orifice of my body erupts with a disgusting mixture of spaghetti and sweat as i try to collect myself enough to apologize, but i fail on all fronts and instead of \"i\\'m sorry\" what comes out of my mouth is a familiar mixture of pasta and tomato sauce.\\n\\ni look up at the woman as if to say \"i\\'m sorry i just insulted the involuntary actions of your fucking child\" but i am met with a look of horror and disgust that remains unmatched in my 16 years of life.\\n\\ni start laughing as i attempt to explain myself, which causes me to fail at explaining myself, and there i stand, with this woman\\'s mortified stare burning into my skull, and i\\'m fucking giggling about it.\\n\\nat this point i realize any attempt to salvage this situation is useless and go the back of my group of friends, who are all of course losing their shit at my expense, 15 year olds are dicks, and i was no exception.',\n",
       " \"yesterday i was to meet a friend downtown, and, arriving, early, i decided to visit a cafe i don't normally go into. desperately needing to charge my phone, i decided that i'd better have an iced coffee in order to use their outlets. i ordered a large, sat down next to the outlet, and took a big gulp.\\n\\nwow was that stuff intense! being a hipster coffee bar, i only raised my eyebrows at the intense, almost sour, bitterness of the coffee. i must have just been surprised it couldn't really taste that wild. but another sip from the large mason jar (hipster place, remember) only brought the same acrid tastes across my tongue.\\n\\nnow, i'm no coffee snob. i'll drink whatever's in front of me, so long as it's black. i don't know what makes a good coffee, what the latest trends are, how long to roast beans. i just know what i like, and i certainly didn't like this. i wasn't about to show everybody how little i know about coffee though, and so i choked down the whole thing in a few minutes and took off to meet my friend.\\n\\nit wasn't long until my day started to get weird. i wondered aloud to my friend if i'd had something g to drink or smoke and simply forgotten about it? perhaps i'd somehow been drugged along the way. she had me meeting some new friends of hers that i didn't know and it didn't help that my intense nervousness and jumpiness make me look like a tweaker.\\n\\ni had a beer to try and calm my nerves and figure out what was going on. my friend opened it for me considering i couldn't stop my hands shaking enough to get the cap off. my heart felt like it was about to explore out of my chest and i could feel the paranoia mounting. what the hell was wrong with me? what was going on?\\n\\nit was then that i remembered the coffee from the cafe and whether it was the effect of my high or just the fact it wasn't directly in front of me but suddenly i could place what tasted so off about it. that wasn't cold brew, that was espresso in ice!!\\n\\ni realized i'd chugged the equivalent of 7 or 8 espressos in 10 minutes.\\n\\nafter hitting my head against the wall some j realized all i could do was wait it out. never in my life have actually experience a mind-altering high from caffeine alone and trust me, it was not an enjoyable experience. 1/10 would not recommend.\",\n",
       " \"i feel like it's cheesy every time i see this on a tifu, but i feel obliged to tell you guys that this happened yesterday. \\n\\ntwo weeks ago i went on a sweet vacation to la with my girlfriend, who is a photographer with an older olympus camera. during the trip, there was obviously alcohol involved, and it isn't news to anyone that i lose a couple iq's and a lot of memory is erased when i drink.\\n\\nfast forward to yesterday. i took the film in to be developed, and behind the counter was a sweet looking lady that was all smiles and more than willing to help me out. after coming to pick up the film, feeling accomplished, i strutted back to my car, plopped myself down and promptly popped open the box of photos. on the thumbnail photo, i notice a pic of a toilet. confused, i quickly flip through all of them to see why. there it is, me, taking a piss mid stream, with my dick peeking in at the bottom. [mrw](http://media.giphy.com/media/uvtkiyewyehrc/giphy.gif) i realize that the tech just saw my junk in a very compromising state. i had no recollection of doing this. my plan of action...peel out of the driveway and never return to that place again.\",\n",
       " \"**update: all is well, they just decided to use the centrifuge without the inner lid(nothing serious broken, like the spinning rod/center or whatever it's called). they just told me to attach a note saying to secure the tubes well to avoid it flying away. not sure it's the best solution, but it's an old one that i think is barely used. so...all went well i guess / also thanks to everyone who commented. :)**\\n\\n\\nsooo this happened today afternoon, i'm writing this at night.\\n\\n\\ni just started grad school in february, the newest face in my lab.\\n\\nbeing socially awkward, i try my best to not fuck up anything, even the smallest things. well, i fucked up big-time. \\n\\nfor the first time in months, i needed to use a centrifuge. i needed something that can spin 17,000 rpm with temperature adjustments. the one i ever used was in the lab, but someone was using it and i needed to use a shared one somewhere else.\\n\\nbeing a total noob, i asked my lab colleague i did not know how to use any other centrifuge, but she said i'll figure it out and sent me with someone who also didn't use other centrifuges. i figured since it's a basic equipment, i'll figure it out - what could go wrong? \\n\\n\\nwell me and the other person who went along with me were new to the lab life so we both chose the old one - not a fancy new one sitting 6 feet away, because the old one 'looked' easier to use.\\n\\nwell it was easy, but it was made in 1997 as i later found out, so it had...some ancient parts i never saw in other labs. the separate lid (not the main one hinged on the equipment) that goes on the spinning thing, it was a screw-on. i didn't know that, and 'pushed' in the lid as it always was on every centrifuge i ever used or saw in my life. the lid was also made of metal.\\n\\n\\ni turned the rpm setting to 17,000, and pushed the start button and waited for the temp to drop - i hadn't put any tubes in, as i needed to lower the temperature first(thank goodness for this, i nearly wasted *8* rat brains that i spent *3 weeks* on).\\n\\n\\nthe rpm goes up to 5000...10000...11000...and suddenly the fucking loud sound of metal clanking and the burning smell. i quickly turned off the switch in like 5 seconds but of course the thing still spinned and the clanking noise was loud enough to bring all the people in the lab next door come running. eventually it stopped, i carefully opened the centrifuge...and the metal lid was off. it was not properly fixed, it was made of a heavy fucking metal, the machine didn't have a sensor or anything, it was made in 1997 when i was in kindergarten...i reported it to the office and they called someone to look at the centrifuge - who will come tomorrow. the metal lid is fucked so it's useless, the spinning thing also got scratched, but *seemed* to be spinning ok(hopefully).\\n\\n\\nworst case scenario: me or the lab i belong to may have to pay around 5000-10000 usd from what i found out on the internet, in which case, i might as well sell my kidney or my lab members and professor will hate me forever and i will have to leave and i will have nowhere to go so i might as well hang myself lol.\\n\\n\\ni may or may not post an update tomorrow depending on how many people are interested in this post lol\\n\\n\\ni'm going to drink myself to sleep tonight because i can't otherwise haha\",\n",
       " 'this fu occurred in the wondrous kingdom of thailand on my first time there. safe to say, fucking up tends to come easily in such a situation. i was inspired to post this due to reading some things about scams in thailand, particularly rental damage scams. this however involves actual damage.\\n\\nso i\\'m on a wonderful island, and have been staying at a hostel for about a week, having a blast, partying, etc. all is well and the group of folks i\\'ve gotten to know over the past week are discussing our plan to head to the secret party that evening. the main reason the party is somewhat secret is that it\\'s on a secluded cove that is accessible only via offroad-jungle-mafia taxi, or by long-tail boat, both of which cost $10 each way. \\n\\nso as we\\'re discussing, one of the guys starts talking about how he knows someone we can rent an offroad truck from, and he could drive us all to the party. it would be $3 each as opposed to $20 each, for our transport to and from the party. me, hesitant as i\\'ve been on the jungle taxi before, knows that this is no sunday drive. it\\'s a steep, death climb of a dirt road over a mountain with little thought given to modern road building techniques, such as s-curves. \\n\\ni tell him it\\'s not a good idea, this road is absolutely nuts and it\\'d been raining for a while that day, most certainly washing out portions of the road. well, he begins his counterargument about how he own his own 4wd truck back home, goes off-roading regularly, shows me all the pictures, he\\'s seen the road before, etc etc. against my better judgement, and the advice rendered to me by numerous folks hanging around, i figure, what\\'s the worst that could happen? 8 other people agreed to go as well, so technically we all f\\'d up, but it was me who had a leading role in asking people if they wanted to come. \\n\\nstep 2 is finding someone to use their passport to rent the truck. only one person in the group still had their passport, everyone else had used theirs to rent motos or something else like that. the one person gladly agreed, despite our warning about the risk. they just said if something happens it\\'s not my fault... (don\\'t even get me started on this, they kept saying this over and over)\\n\\nanyways, we get the truck, $30 for 24 hours between 9 people was a good deal. with some last minute warnings from the hostel staff that we were literally asking god to strike his hammer of death upon us by doing this, we set off.\\n\\nwe didn\\'t know exactly which road/dirt path was the right one, but we sort of guessed and ended up being right in the end. all\\'s going okay up the death climb, which i recognized from my last time on the taxi, when all of a sudden on a 25% grade incline, whoops, tailgate flies open and we almost lost someone off the back. me and the other guy in the bed grabbed him just in time. \\n\\nphew, crisis averted. \\n\\nwell, it wasn\\'t long after that the climb started to get really intense, and they\\'ve placed these concrete strips, just barely a tire\\'s width, up the incline so as to allow for traction. well, the driver(and supposed off-road expert) apparently didn\\'t realize this and totally missed the strips, putting us with 2 tires in the middle of the strips and 2 tires on the outside. the rain had eroded away a lot of the dirt surrounding the strips and they were now raised a good 6-12 inches from the surrounding dirt. \\n\\nso at this point we\\'re a bit stuck. everyone\\'s worst fears are coming true. but wait... there\\'s more!! (cue billy mays)\\n\\nagainst everyone\\'s advice to just back up the truck and try to get on the strips correctly, or better yet, turn around and take a real taxi, the driver tries to back up at an angle to try to jump the truck\\'s tires back onto the strips. aaaannnnnd then we all heard a familiar sound.\\n\\nscrape scrape scrape. pfffffffffffffffffffff\\n\\nand that\\'s it folks! tire\\'s done. we\\'re stuck in the middle of a thai jungle, on a dirt road run by the mafia in the mountains, about 1 hour walking in either direction from a populated place.\\n\\nwell, safe to say, several of us decided to hike to the party anyway and deal with the truck tomorrow. the rest said they were walking back to the main road. \\n\\nanyways, we hiked over this jungle mountain in pitch darkness, using the one cellphone flashlight we had between us, and finally, the deep house beats of the party were heard. ended up being one of the best parties i\\'ve been to and best nights i\\'ve had in my life. buuuut, the next day we slowly realized we still had to deal with the truck.\\n\\nworried it was still in the mountains, it turned out that the other folks had actually just driven the truck back to the main road, on the completely shredded flat tire. i was quite pissed about this at first, thinking we were now going to have to pay for a rim in addition to a tire, but that turned out to be an unnecessary worry. the rim was \"scratched\" so the owner demanded we pay to replace it. i told him it was structurally fine, but nope! it was scratched and he couldn\\'t just paint over it.\\n\\nultimately, we had to come up with about $700 (lowered from $1000) between us 9 to pay for the damage and get the poor person\\'s passport back. i had to leave that same day and i never heard if they actually did recover the passport, but i assume everything worked out. in the end, it was totally worth it, and the greatest adventure of my whole trip in thailand. hiking over a mysterious jungle mountain at 1am in search of a secret party run by the thai mafia was exhilarating, to say the least. however, it did ruin my whole next day, which was my last day there, as i was running around, negotiating with the people in our group, the rental guy, and the not-so-great offroader, and dealing with the person who\\'s passport was held up.',\n",
       " 'today i fucked up.\\nactually it was actually a few weeks ago as most posts on this subreddit are. while i fucked up, this could have ended much worst than it did, so i never got what was coming for my stupidity.\\na little background i am a 26 year old american living in the philippines, i live in the visayas region of the country.\\nso there i was, on a small 8 hour road trip up through the mountains on a 125cc scooter. i was travelling to my gf\\'s family reunion, up in the mountains, usually involves much drinking and roasted pig and tons of other wonderful things. for context, this region is extremely rural.\\nabout 5 hours into the trip the sun was starting to set and my scooter got a flat. no big deal, ill call my gf and she will send relatives from the area, but nope, left my cellphone at home. this being the philippines a passing motorist would surely offer help. after 15 minutes there had been no passing motorists. it is dark and i hear noises coming from the jungle.\\nfive men step out of the jungle, wearing fatigues, carrying an assortment of weaponry from assault rifles to grenades.\\nah great, i am being kidnapped for ransom.\\nmy grasp on the local dialect bisaya is rudimentary at best. i say \"hello\", they say \"good evening\" back, even ask me \"how are you doing?\" i explain i am not doing so well, my bike has a flat.\\nthey reply \"come with us\". oh chucklefuck.\\nthey ditch the bike in the jungle and we start a half kilometer hike up what must be the steepest hill in the world. we eventually reach what must be their camp. just green tarp to keep the rain off and sleeping pads on the ground. there is a small fire going in a depression of the land. they tell me to sit. i sit and we start speaking in broken english/bisaya to each other. they ask me where i am from, tell them i am american.i had my drivers licence on me, would rather them just find out now, than find out later while also finding out i had lied when they took my wallet(something they never ended up doing). they ask me questions about america, what i am doing in the philippines. they tell me they do not like america the country but do not care about the citizens. they tell me they are new people\\'s army, communist rebels. they ask if i am hungry i say yes, they feed me some dried fish and a handful of rice. they bring out a plastic bottle and pour me a drink. it is coconut wine(tuba), but very late in the day so it tastes more like vinegar...it is a large jug, and we start to get drunk. they seemed very childlike after drinking, most of them were in their early twenties, there were only 8 of them in total. i started to feel better about my predicament, as i began to realize that, even if they are communist rebels, they still have that warm filipino hospitality. i eventually ask them \"am i being kidnapped?\", this to them was hilarious, they told me \"no we are not abu sayyaf\" instead they were concerned about the white man standing on the side of an abandoned road right before dark in the middle of the philippines. with the jug of tuba finished, they tell me to \"go to sleep, we will wake up early\". one of the insurgents offers me his bedroll and walks off into the jungle to collect palm fronds to make his own bedding for the night. the next morning we walk down the hill, the men are in civilian clothing, they brought with them tools to vulcanize my scooter tire and they fix the flat! they then asked for a 500php(12 dollars or so) donation which i gladly gave them. they sent me on my way and one of them even said \"come back and visit\".\\nso while i fucked up, everything turned out alright. yet now as i am posting this i remember that the npa is listed as a terror organization by the united states government......sooo technically this may turn into a \"today i fucked up by supporting a terror organization\". we will see what the future brings.',\n",
       " \"this happened about half an hour ago :) i frequently ride my skateboard up to chick-fil-a to get some lunch on saturdays. and today was no exception. i order my food sit down and go to put my straw in my drink (dr pepper), but it wont go in all the way becuase the ice is in the way. normally if you just force it in it'll cooperate, but this straw  was different. i started pushing it down into my drink and moments later liquid starts gushing all over the tray with my food. i'd poked a hole in the bottom of the styrofoam cup -.- and on top of that, i got it on my jeans and shoes both of which were grey. i looked down is shock and dismay, threw the cup away, sorta cleaned up, ate then got the fuck out of there.\",\n",
       " 'this actually has been happening since 2015, i only just discovered my fuck up today.\\n\\ni’m sure many of you are aware of the app venmo. for any of you that are not, venmo is an app that you link your credit card to and you can send money to your friends. the thing with venmo is, you can only send the money you get from venmo to a bank account, not the credit card. here comes the fuck up.\\n\\nwhenever you put in the bank information you don’t have to verify it. you can put deposits into the bank account you entered right away, which was something i was not aware of. now i don’t use venmo all that often, but relatives often send me cash with it for holidays/birthdays or if i go through a drive-thru with some friends. something else that you should know about me is that i am not the most observant person. \\n\\nwhenever i would click “transfer to my bank” i noticed that it had a different bank than the one i use. i thought it must have been an error on venmo’s part, since the last numbers of the account number shown were correct. since the last numbers of the account number were correct, i just assumed that the transactions successfully went through, especially because venmo never sent me a notice saying the transaction failed.\\n\\nfast forward to now where i look at my bank statements and realize my recent venmo transaction didn’t go through. i start panicking and look back at all my past venmo statements, turns out none of them have gone through.\\n\\ni contact venmo to see what the issue is and it turns out that i had entered the wrong bank routing number three years ago. thinking back to that night, i remembered i entered that information was when me and a buddy got high together and played rocket league because he wanted to send me money so we could get domino’s. \\n\\nas it turns out my transactions have been going through, just not to my bank account. it is going to someone that shares the same account number that i do, just with a different bank. did some calculations to find that i have donated over $800 to this stranger.\\n\\ni am currently scrambling to figure out if there is any way i can see a fraction of the money back.']"
      ]
     },
     "execution_count": 151,
     "metadata": {},
     "output_type": "execute_result"
    }
   ],
   "source": [
    "final_art"
   ]
  },
  {
   "cell_type": "code",
   "execution_count": 152,
   "metadata": {},
   "outputs": [
    {
     "data": {
      "text/plain": [
       "['wrestled with a second grader. got sterilized.',\n",
       " 'i farted in a car with my niece, she got blamed for pooping herself.',\n",
       " \"i'm an asshole.\",\n",
       " 'they made my fucking iced coffee out of straight espresso and i chugged it like an idiot',\n",
       " 'got pics developed, tech saw my junk.',\n",
       " 'i broke an expensive lab equipment (5000-10000 usd from what i found on the internet) at school.**',\n",
       " \"trusted guy to drive us to secret jungle party, saving us some pocket change. guy didn't know how to drive on road, got flat tire, passport held hostage, had to cough up hundreds of dollars for a single flat tire.\",\n",
       " 'got drunk with members of a group that are on the u.s. list of terror organizations. may have helped fund terrorism inadvertently.',\n",
       " 'went to chick-fil-a, straw wouldnt go in my drink. forced it in, poked a hole in the cup and got dr pepper all over my jeans, shoes and tray with my food.',\n",
       " 'got high and put my wrong bank information into venmo, have been depositing my transactions into a complete stranger’s bank account instead of my own.']"
      ]
     },
     "execution_count": 152,
     "metadata": {},
     "output_type": "execute_result"
    }
   ],
   "source": [
    "final_gold"
   ]
  },
  {
   "cell_type": "code",
   "execution_count": 153,
   "metadata": {},
   "outputs": [
    {
     "data": {
      "text/plain": [
       "[\"A year ago, while at a gymnastics studio with his friend Kade, the author experienced a painful accident when Kade's foot slipped and crushed his testicles during a wrestling match\",\n",
       " \"During a hot and uncomfortable car ride with his girlfriend's family, a man's discreet attempt to release a fart leads to a chaotic situation involving accusations of an accident and tears from a young girl\",\n",
       " \"During a high school band trip to Disney World, a student accidentally mocked a baby's whine, leading to an awkward and embarrassing encounter with the child's mother\",\n",
       " \"The article describes a person's accidental consumption of a highly caffeinated drink, mistaking it for iced coffee, leading to a distressing and mind-altering experience\",\n",
       " 'The author went on a vacation to LA with their girlfriend, got film developed from the trip, and discovered a photo of themselves urinating that they had no recollection of taking',\n",
       " \"A graduate student in a lab accidentally used an old centrifuge incorrectly, causing a metal lid to fly off and potentially damaging the equipment, leading to concerns about financial repercussions and the student's future in the lab\",\n",
       " 'The article recounts a risky adventure in Thailand involving renting an offroad truck, getting stuck in the jungle, and facing consequences for damages incurred',\n",
       " 'A 26-year-old American living in the Philippines had a flat tire on a road trip and was helped by communist rebels who fixed his scooter and asked for a donation',\n",
       " 'While enjoying lunch at Chick-fil-A, the author accidentally poked a hole in their drink cup, causing liquid to spill all over their tray, jeans, and shoes',\n",
       " \"The individual discovered that they had mistakenly been sending money to a stranger's bank account for the past three years, totaling over $800 in donations\"]"
      ]
     },
     "execution_count": 153,
     "metadata": {},
     "output_type": "execute_result"
    }
   ],
   "source": [
    "final_orig"
   ]
  },
  {
   "cell_type": "code",
   "execution_count": 154,
   "metadata": {},
   "outputs": [
    {
     "data": {
      "text/plain": [
       "[\"During a wrestling match at a gymnastics studio, the author's friend accidentally injured them by crushing their genitals with his foot\",\n",
       " 'During a car trip with his girlfriend, her sister, and her young daughters, the author struggles with discomfort and an urge to fart, leading to an awkward incident where one of the girls has an accident and cries, likely due to a past experience of being reprimanded for dishonesty',\n",
       " \"The author inadvertently mocked a baby's whine while in line for a ride at Disney World, causing embarrassment and receiving a horrified look from the child's mother\",\n",
       " 'The author accidentally consumed an intense iced coffee which turned out to be espresso in ice, causing an unpleasant and mind-altering experience',\n",
       " 'The author went on vacation to Los Angeles with their girlfriend, got drunk and took photos with an ancient Olympus camera, but only discovered later that they had accidentally taken a picture of themselves urinating with their genitals visible when they went to get the film developed',\n",
       " 'The user had a mishap with an old centrifuge, resulting in a metal lid flying off and potential damage to the machine, but no serious harm was done and a solution was found',\n",
       " 'The author and a group of people decided to rent a truck to get to a secret party on a secluded island in Thailand, but ended up damaging the truck, having to hike through the jungle in the dark, and paying $700 for repairs',\n",
       " 'While on a road trip in the Philippines, the author mistakenly ended up with communist rebels, but after a night of bonding and fixing his scooter, he donated money and left on good terms',\n",
       " 'The author accidentally created a hole in their cup while attempting to insert a straw, causing liquid to spill onto their tray, jeans, and shoes at Chick-fil-A',\n",
       " \"The author discovered that they've been accidentally sending money to a stranger's bank account for the past three years through Venmo, resulting in a loss of over $800, and is now attempting to recover some of the funds\"]"
      ]
     },
     "execution_count": 154,
     "metadata": {},
     "output_type": "execute_result"
    }
   ],
   "source": [
    "final_para"
   ]
  },
  {
   "cell_type": "code",
   "execution_count": 155,
   "metadata": {},
   "outputs": [],
   "source": [
    "dic={\"Article\":final_art, \"Gold\":final_gold, \"Original\": final_orig, \"Paraphrased\": final_para}"
   ]
  },
  {
   "cell_type": "code",
   "execution_count": 156,
   "metadata": {},
   "outputs": [],
   "source": [
    "df=pd.DataFrame.from_dict(dic)"
   ]
  },
  {
   "cell_type": "code",
   "execution_count": 157,
   "metadata": {},
   "outputs": [],
   "source": [
    "# df.to_csv('../annotation/xsum_gpt.csv')\n",
    "\n",
    "df.to_csv('../annotation/reddit_gpt.csv')"
   ]
  },
  {
   "cell_type": "code",
   "execution_count": null,
   "metadata": {},
   "outputs": [],
   "source": []
  }
 ],
 "metadata": {
  "kernelspec": {
   "display_name": "acl",
   "language": "python",
   "name": "python3"
  },
  "language_info": {
   "codemirror_mode": {
    "name": "ipython",
    "version": 3
   },
   "file_extension": ".py",
   "mimetype": "text/x-python",
   "name": "python",
   "nbconvert_exporter": "python",
   "pygments_lexer": "ipython3",
   "version": "3.12.2"
  },
  "orig_nbformat": 4
 },
 "nbformat": 4,
 "nbformat_minor": 2
}
