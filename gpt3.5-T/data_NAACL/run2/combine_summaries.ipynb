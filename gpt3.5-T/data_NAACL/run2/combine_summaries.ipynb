{
 "cells": [
  {
   "cell_type": "code",
   "execution_count": 24,
   "metadata": {},
   "outputs": [],
   "source": [
    "import pickle as pkl\n",
    "import nltk\n",
    "import os\n",
    "from datasets import load_dataset\n",
    "from nltk.tokenize import sent_tokenize, word_tokenize\n",
    "import multiprocessing\n",
    "import evaluate\n",
    "from rouge_score import rouge_scorer\n",
    "from tqdm.auto import tqdm\n",
    "from natsort import natsorted\n",
    "import random\n"
   ]
  },
  {
   "cell_type": "code",
   "execution_count": 25,
   "metadata": {},
   "outputs": [
    {
     "name": "stdout",
     "output_type": "stream",
     "text": [
      "1321\n",
      "1. Amnesty International's annual report on the death penalty reveals a concerning trend of governments using executions to address perceived or real terrorism threats, leading to a stark increase in death sentences in 2014.\n",
      "\n",
      "2. Despite a global decrease in the number of executions by almost 22% compared to the previous year, the report notes a 28% rise in the number of individuals sentenced to death globally, with mass-sentencing practices in countries like Egypt and Nigeria contributing to this increase.\n",
      "\n",
      "3. While some regions show positive developments with reductions in executions, concerns persist over flawed judicial processes leading to death sentences and the need to move towards the abolition of capital punishment, as emphasized by the United Nations Secretary-General.\n"
     ]
    }
   ],
   "source": [
    "pkls=os.listdir('cnn')\n",
    "pkls=natsorted(pkls)\n",
    "pkls_list=[]\n",
    "for pikl in pkls:\n",
    "    with open('cnn/{}'.format(pikl),'rb') as f:\n",
    "        file=pkl.load(f)\n",
    "    if not file:\n",
    "        file.append(' ')\n",
    "    pkls_list.extend(file)\n",
    "\n",
    "print(len(pkls_list))\n",
    "print(pkls_list[0])"
   ]
  },
  {
   "cell_type": "code",
   "execution_count": 26,
   "metadata": {},
   "outputs": [
    {
     "name": "stdout",
     "output_type": "stream",
     "text": [
      "0\n"
     ]
    }
   ],
   "source": [
    "count=0\n",
    "for idx,item in enumerate(pkls_list):\n",
    "    if item == \" \":\n",
    "        # print(idx)\n",
    "        count+=1\n",
    "print(count)"
   ]
  },
  {
   "cell_type": "code",
   "execution_count": 27,
   "metadata": {},
   "outputs": [],
   "source": [
    "cnn_list=[]\n",
    "for i in range(len(pkls_list)):\n",
    "    temp=[]\n",
    "    splits=pkls_list[i].split('\\n')\n",
    "    for split in splits:\n",
    "        if split:\n",
    "            if split[0].isdigit():\n",
    "                try:\n",
    "                    temp.append(split.split(\".\",1)[1].strip())\n",
    "                except Exception as e:\n",
    "                    print(split)\n",
    "                    print(e)\n",
    "    cnn_list.append(temp)"
   ]
  },
  {
   "cell_type": "code",
   "execution_count": 28,
   "metadata": {},
   "outputs": [
    {
     "data": {
      "text/plain": [
       "1321"
      ]
     },
     "execution_count": 28,
     "metadata": {},
     "output_type": "execute_result"
    }
   ],
   "source": [
    "len(cnn_list)"
   ]
  },
  {
   "cell_type": "code",
   "execution_count": 29,
   "metadata": {},
   "outputs": [
    {
     "data": {
      "text/plain": [
       "['Government officials in the U.S. Virgin Islands are investigating instances where the pesticide methyl bromide was used improperly, leading to severe illnesses among vacationers at the Sirenusa resort and possibly at other locations.',\n",
       " 'Terminix, a pest control company, is under scrutiny for allegedly using methyl bromide indoors, which is banned, and authorities are working to track down individuals who may have been exposed to the pesticide.',\n",
       " 'The local Department of Planning and Natural Resources is overseeing the investigation, while the EPA has designated the agency as \"high risk\" due to management standards issues unrelated to pesticide enforcement.']"
      ]
     },
     "execution_count": 29,
     "metadata": {},
     "output_type": "execute_result"
    }
   ],
   "source": [
    "cnn_list[79]"
   ]
  },
  {
   "cell_type": "code",
   "execution_count": 30,
   "metadata": {},
   "outputs": [],
   "source": [
    "with open('cnn.pkl', 'wb') as f:\n",
    "    pkl.dump(cnn_list,f) "
   ]
  },
  {
   "cell_type": "code",
   "execution_count": 11,
   "metadata": {},
   "outputs": [],
   "source": [
    "with open('cnn.pkl', 'rb') as f:\n",
    "    file=pkl.load(f) "
   ]
  },
  {
   "cell_type": "code",
   "execution_count": 12,
   "metadata": {},
   "outputs": [
    {
     "data": {
      "text/plain": [
       "['The Palestinian Authority officially became the 123rd member of the International Criminal Court (ICC) on Wednesday, giving the court jurisdiction over alleged crimes in Palestinian territories',\n",
       " 'The ICC has initiated a preliminary examination into the situation in the Palestinian territories, potentially paving the way for investigations into possible war crimes committed by Israelis and Palestinians',\n",
       " \"The accession to the ICC is seen as a move towards greater justice and accountability for alleged crimes committed in the occupied Palestinian territories, but both Israel and the United States have objected to the Palestinians' attempts to join the court\"]"
      ]
     },
     "execution_count": 12,
     "metadata": {},
     "output_type": "execute_result"
    }
   ],
   "source": [
    "file[0]"
   ]
  },
  {
   "cell_type": "code",
   "execution_count": null,
   "metadata": {},
   "outputs": [],
   "source": []
  }
 ],
 "metadata": {
  "kernelspec": {
   "display_name": "acl",
   "language": "python",
   "name": "python3"
  },
  "language_info": {
   "codemirror_mode": {
    "name": "ipython",
    "version": 3
   },
   "file_extension": ".py",
   "mimetype": "text/x-python",
   "name": "python",
   "nbconvert_exporter": "python",
   "pygments_lexer": "ipython3",
   "version": "3.12.2"
  }
 },
 "nbformat": 4,
 "nbformat_minor": 2
}
