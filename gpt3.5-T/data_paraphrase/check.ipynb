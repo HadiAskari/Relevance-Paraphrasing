{
 "cells": [
  {
   "cell_type": "code",
   "execution_count": 1,
   "metadata": {},
   "outputs": [],
   "source": [
    "import pickle as pkl\n",
    "import pandas"
   ]
  },
  {
   "cell_type": "code",
   "execution_count": 4,
   "metadata": {},
   "outputs": [],
   "source": [
    "with open('cnn/9.pkl', 'rb') as f:\n",
    "    file=pkl.load(f)"
   ]
  },
  {
   "cell_type": "code",
   "execution_count": 5,
   "metadata": {},
   "outputs": [
    {
     "name": "stdout",
     "output_type": "stream",
     "text": [
      "['1. TV legend Bob Barker, who hosted \"The Price Is Right\" for 35 years before retiring in 2007, made a surprise return on April 1st to host the game show for one segment.\\n2. Despite his absence from the show for the past eight years, the 91-year-old Barker seemed youthful as he kicked off the first game of the episode, \"Lucky Seven,\" before passing the hosting duties back to current host Drew Carey.\\n3. Barker\\'s return delighted fans of the show, and he appeared to effortlessly slip back into the role after his long hiatus.']\n"
     ]
    }
   ],
   "source": [
    "print(file)"
   ]
  },
  {
   "cell_type": "code",
   "execution_count": null,
   "metadata": {},
   "outputs": [],
   "source": []
  }
 ],
 "metadata": {
  "kernelspec": {
   "display_name": "acl",
   "language": "python",
   "name": "python3"
  },
  "language_info": {
   "codemirror_mode": {
    "name": "ipython",
    "version": 3
   },
   "file_extension": ".py",
   "mimetype": "text/x-python",
   "name": "python",
   "nbconvert_exporter": "python",
   "pygments_lexer": "ipython3",
   "version": "3.11.5"
  }
 },
 "nbformat": 4,
 "nbformat_minor": 2
}
