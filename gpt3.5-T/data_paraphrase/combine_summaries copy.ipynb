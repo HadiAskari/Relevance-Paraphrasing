{
 "cells": [
  {
   "cell_type": "code",
   "execution_count": 1,
   "metadata": {},
   "outputs": [
    {
     "name": "stderr",
     "output_type": "stream",
     "text": [
      "/home/haskari/miniconda3/envs/acl/lib/python3.11/site-packages/tqdm/auto.py:21: TqdmWarning: IProgress not found. Please update jupyter and ipywidgets. See https://ipywidgets.readthedocs.io/en/stable/user_install.html\n",
      "  from .autonotebook import tqdm as notebook_tqdm\n"
     ]
    },
    {
     "name": "stdout",
     "output_type": "stream",
     "text": [
      "[2024-01-24 01:26:27,852] [INFO] [real_accelerator.py:161:get_accelerator] Setting ds_accelerator to cuda (auto detect)\n"
     ]
    }
   ],
   "source": [
    "import pickle as pkl\n",
    "import nltk\n",
    "import os\n",
    "from datasets import load_dataset\n",
    "from nltk.tokenize import sent_tokenize, word_tokenize\n",
    "import multiprocessing\n",
    "import evaluate\n",
    "from rouge_score import rouge_scorer\n",
    "from tqdm.auto import tqdm\n",
    "from natsort import natsorted\n",
    "import random\n",
    "import pandas as pd\n",
    "from datasets import load_dataset, DatasetDict, load_from_disk"
   ]
  },
  {
   "cell_type": "code",
   "execution_count": 2,
   "metadata": {},
   "outputs": [
    {
     "name": "stdout",
     "output_type": "stream",
     "text": [
      "11490\n",
      " Sure! Here is a summary of the article in three numbered sentences:\n",
      "\n",
      "1. The Palestinian Authority officially became the 123rd member of the International Criminal Court (ICC) on Wednesday, giving the court jurisdiction over alleged crimes in Palestinian territories.\n",
      "2. The ICC has initiated a preliminary examination into the situation in the Palestinian territories, potentially paving the way for investigations into possible war crimes committed by Israelis and Palestinians.\n",
      "3. The accession to the ICC is seen as a move towards greater justice and accountability for alleged crimes committed in the occupied Palestinian territories, but both Israel and the United States have objected to the Palestinians' attempts to join the court.\n"
     ]
    }
   ],
   "source": [
    "pkls=os.listdir('cnn')\n",
    "pkls=natsorted(pkls)\n",
    "pkls_list=[]\n",
    "for pikl in pkls:\n",
    "    with open('cnn/{}'.format(pikl),'rb') as f:\n",
    "        file=pkl.load(f)\n",
    "    if not file:\n",
    "        file.append(' ')\n",
    "    pkls_list.extend(file)\n",
    "\n",
    "print(len(pkls_list))\n",
    "print(pkls_list[0])"
   ]
  },
  {
   "cell_type": "code",
   "execution_count": 3,
   "metadata": {},
   "outputs": [
    {
     "name": "stdout",
     "output_type": "stream",
     "text": [
      "13\n",
      "29\n",
      "56\n",
      "98\n",
      "187\n",
      "197\n",
      "216\n",
      "236\n",
      "237\n",
      "242\n",
      "259\n",
      "297\n",
      "304\n",
      "306\n",
      "347\n",
      "364\n",
      "397\n",
      "404\n",
      "408\n",
      "409\n",
      "430\n",
      "437\n",
      "456\n",
      "492\n",
      "493\n",
      "574\n",
      "582\n",
      "678\n",
      "716\n",
      "725\n",
      "727\n",
      "770\n",
      "805\n",
      "817\n",
      "827\n",
      "841\n",
      "842\n",
      "861\n",
      "865\n",
      "902\n",
      "904\n",
      "993\n",
      "1011\n",
      "1018\n",
      "1036\n",
      "1037\n",
      "1097\n",
      "1221\n",
      "1292\n",
      "1349\n",
      "1401\n",
      "1505\n",
      "1546\n",
      "1566\n",
      "1587\n",
      "1673\n",
      "1678\n",
      "1680\n",
      "2021\n",
      "2024\n",
      "2123\n",
      "2227\n",
      "2303\n",
      "2325\n",
      "2326\n",
      "2373\n",
      "2661\n",
      "2663\n",
      "2703\n",
      "2764\n",
      "2796\n",
      "2958\n",
      "2965\n",
      "2975\n",
      "2981\n",
      "3111\n",
      "3141\n",
      "3247\n",
      "3314\n",
      "3329\n",
      "3349\n",
      "3417\n",
      "3500\n",
      "3574\n",
      "3590\n",
      "3779\n",
      "4071\n",
      "4168\n",
      "4216\n",
      "4342\n",
      "4354\n",
      "4464\n",
      "4475\n",
      "4483\n",
      "4596\n",
      "4632\n",
      "4643\n",
      "4658\n",
      "4659\n",
      "4662\n",
      "4857\n",
      "4865\n",
      "4870\n",
      "4884\n",
      "4886\n",
      "4941\n",
      "4943\n",
      "4949\n",
      "4973\n",
      "4978\n",
      "4980\n",
      "4987\n",
      "4988\n",
      "5010\n",
      "5018\n",
      "5043\n",
      "5065\n",
      "5070\n",
      "5075\n",
      "5109\n",
      "5110\n",
      "5147\n",
      "5157\n",
      "5178\n",
      "5182\n",
      "5185\n",
      "5197\n",
      "5198\n",
      "5205\n",
      "5211\n",
      "5215\n",
      "5228\n",
      "5237\n",
      "5240\n",
      "5246\n",
      "5247\n",
      "5259\n",
      "5270\n",
      "5330\n",
      "5343\n",
      "5346\n",
      "5373\n",
      "5376\n",
      "5395\n",
      "5404\n",
      "5407\n",
      "5414\n",
      "5427\n",
      "5456\n",
      "5469\n",
      "5470\n",
      "5471\n",
      "5500\n",
      "5507\n",
      "5526\n",
      "5579\n",
      "5580\n",
      "5602\n",
      "5604\n",
      "5605\n",
      "5634\n",
      "5641\n",
      "5642\n",
      "5668\n",
      "5719\n",
      "5730\n",
      "5740\n",
      "5765\n",
      "5768\n",
      "5770\n",
      "5780\n",
      "5793\n",
      "5807\n",
      "5814\n",
      "5881\n",
      "5893\n",
      "5913\n",
      "5919\n",
      "5969\n",
      "6000\n",
      "6014\n",
      "6054\n",
      "6074\n",
      "6083\n",
      "6084\n",
      "6104\n",
      "6107\n",
      "6115\n",
      "6137\n",
      "6181\n",
      "6193\n",
      "6212\n",
      "6215\n",
      "6225\n",
      "6248\n",
      "6255\n",
      "6256\n",
      "6264\n",
      "6346\n",
      "6347\n",
      "6354\n",
      "6361\n",
      "6362\n",
      "6378\n",
      "6389\n",
      "6395\n",
      "6429\n",
      "6458\n",
      "6498\n",
      "6515\n",
      "6532\n",
      "6535\n",
      "6563\n",
      "6564\n",
      "6565\n",
      "6577\n",
      "6599\n",
      "6622\n",
      "6635\n",
      "6648\n",
      "6650\n",
      "6652\n",
      "6662\n",
      "6666\n",
      "6673\n",
      "6689\n",
      "6732\n",
      "6759\n",
      "6789\n",
      "6805\n",
      "6807\n",
      "6815\n",
      "6839\n",
      "6843\n",
      "6854\n",
      "6859\n",
      "6891\n",
      "6895\n",
      "6927\n",
      "6932\n",
      "6947\n",
      "6949\n",
      "6967\n",
      "6969\n",
      "6975\n",
      "6997\n",
      "7003\n",
      "7008\n",
      "7014\n",
      "7027\n",
      "7043\n",
      "7048\n",
      "7061\n",
      "7076\n",
      "7088\n",
      "7090\n",
      "7120\n",
      "7143\n",
      "7146\n",
      "7149\n",
      "7154\n",
      "7169\n",
      "7175\n",
      "7202\n",
      "7204\n",
      "7206\n",
      "7209\n",
      "7271\n",
      "7276\n",
      "7299\n",
      "7312\n",
      "7317\n",
      "7341\n",
      "7342\n",
      "7343\n",
      "7359\n",
      "7381\n",
      "7390\n",
      "7446\n",
      "7469\n",
      "7487\n",
      "7488\n",
      "7492\n",
      "7501\n",
      "7519\n",
      "7529\n",
      "7535\n",
      "7564\n",
      "7581\n",
      "7624\n",
      "7637\n",
      "7663\n",
      "7687\n",
      "7716\n",
      "7734\n",
      "7757\n",
      "7778\n",
      "7785\n",
      "7794\n",
      "7797\n",
      "7809\n",
      "7895\n",
      "7902\n",
      "7903\n",
      "7905\n",
      "7910\n",
      "7916\n",
      "7921\n",
      "7941\n",
      "7953\n",
      "7959\n",
      "7961\n",
      "8002\n",
      "8023\n",
      "8042\n",
      "8049\n",
      "8056\n",
      "8072\n",
      "8103\n",
      "8128\n",
      "8130\n",
      "8139\n",
      "8152\n",
      "8156\n",
      "8159\n",
      "8175\n",
      "8190\n",
      "8201\n",
      "8212\n",
      "8221\n",
      "8225\n",
      "8269\n",
      "8272\n",
      "8282\n",
      "8289\n",
      "8298\n",
      "8304\n",
      "8306\n",
      "8320\n",
      "8333\n",
      "8340\n",
      "8344\n",
      "8374\n",
      "8376\n",
      "8379\n",
      "8383\n",
      "8419\n",
      "8433\n",
      "8443\n",
      "8446\n",
      "8468\n",
      "8486\n",
      "8492\n",
      "8497\n",
      "8526\n",
      "8538\n",
      "8541\n",
      "8547\n",
      "8554\n",
      "8562\n",
      "8591\n",
      "8606\n",
      "8636\n",
      "8642\n",
      "8648\n",
      "8651\n",
      "8652\n",
      "8658\n",
      "8717\n",
      "8734\n",
      "8763\n",
      "8842\n",
      "8851\n",
      "8869\n",
      "8904\n",
      "8918\n",
      "8922\n",
      "8924\n",
      "8928\n",
      "8933\n",
      "8937\n",
      "8943\n",
      "8953\n",
      "8966\n",
      "8967\n",
      "8974\n",
      "8977\n",
      "9006\n",
      "9017\n",
      "9026\n",
      "9059\n",
      "9060\n",
      "9092\n",
      "9133\n",
      "9145\n",
      "9149\n",
      "9159\n",
      "9195\n",
      "9197\n",
      "9232\n",
      "9235\n",
      "9240\n",
      "9293\n",
      "9310\n",
      "9332\n",
      "9333\n",
      "9340\n",
      "9352\n",
      "9397\n",
      "9399\n",
      "9427\n",
      "9429\n",
      "9441\n",
      "9474\n",
      "9483\n",
      "9489\n",
      "9507\n",
      "9516\n",
      "9519\n",
      "9527\n",
      "9552\n",
      "9558\n",
      "9591\n",
      "9671\n",
      "9699\n",
      "9709\n",
      "9725\n",
      "9730\n",
      "9735\n",
      "9757\n",
      "9759\n",
      "9766\n",
      "9860\n",
      "9861\n",
      "9873\n",
      "9899\n",
      "9905\n",
      "9909\n",
      "9942\n",
      "9951\n",
      "9982\n",
      "9989\n",
      "9992\n",
      "9996\n",
      "10000\n",
      "10013\n",
      "10026\n",
      "10030\n",
      "10082\n",
      "10119\n",
      "10120\n",
      "10142\n",
      "10144\n",
      "10155\n",
      "10175\n",
      "10211\n",
      "10212\n",
      "10221\n",
      "10222\n",
      "10228\n",
      "10233\n",
      "10239\n",
      "10259\n",
      "10261\n",
      "10309\n",
      "10320\n",
      "10335\n",
      "10340\n",
      "10348\n",
      "10357\n",
      "10362\n",
      "10369\n",
      "10375\n",
      "10376\n",
      "10377\n",
      "10402\n",
      "10443\n",
      "10456\n",
      "10460\n",
      "10473\n",
      "10497\n",
      "10525\n",
      "10529\n",
      "10536\n",
      "10555\n",
      "10563\n",
      "10571\n",
      "10584\n",
      "10585\n",
      "10612\n",
      "10623\n",
      "10646\n",
      "10659\n",
      "10660\n",
      "10691\n",
      "10696\n",
      "10719\n",
      "10729\n",
      "10742\n",
      "10750\n",
      "10768\n",
      "10771\n",
      "10786\n",
      "10833\n",
      "10885\n",
      "10946\n",
      "10959\n",
      "10965\n",
      "10982\n",
      "11021\n",
      "11043\n",
      "11065\n",
      "11079\n",
      "11080\n",
      "11099\n",
      "11144\n",
      "11152\n",
      "11173\n",
      "11174\n",
      "11186\n",
      "11193\n",
      "11199\n",
      "11210\n",
      "11226\n",
      "11234\n",
      "11239\n",
      "11271\n",
      "11272\n",
      "11306\n",
      "11368\n",
      "11375\n",
      "11380\n",
      "11419\n",
      "11441\n",
      "11459\n",
      "11464\n",
      "11468\n",
      "11480\n",
      "11486\n",
      "539\n"
     ]
    }
   ],
   "source": [
    "count=0\n",
    "for idx,item in enumerate(pkls_list):\n",
    "    if item == \" \":\n",
    "        print(idx)\n",
    "        count+=1\n",
    "print(count)"
   ]
  },
  {
   "cell_type": "code",
   "execution_count": 4,
   "metadata": {},
   "outputs": [],
   "source": [
    "cnn_list=[]\n",
    "for i in range(len(pkls_list)):\n",
    "    temp=[]\n",
    "    splits=pkls_list[i].split('\\n')\n",
    "    for split in splits:\n",
    "        if split:\n",
    "            if split[0].isdigit():\n",
    "                try:\n",
    "                    temp.append(split.split(\".\")[1].strip())\n",
    "                except:\n",
    "                    print(split)\n",
    "    cnn_list.append(temp)"
   ]
  },
  {
   "cell_type": "code",
   "execution_count": 5,
   "metadata": {},
   "outputs": [
    {
     "data": {
      "text/plain": [
       "11490"
      ]
     },
     "execution_count": 5,
     "metadata": {},
     "output_type": "execute_result"
    }
   ],
   "source": [
    "len(cnn_list)"
   ]
  },
  {
   "cell_type": "code",
   "execution_count": 6,
   "metadata": {},
   "outputs": [
    {
     "data": {
      "text/plain": [
       "['Former New England Patriots player Aaron Hernandez is facing three more legal proceedings, including one criminal trial and two civil lawsuits, after being convicted of murder and other charges in the death of Odin Lloyd',\n",
       " 'The double-murder trial for the deaths of Daniel de Abreu and Safiro Furtado is set to resume, with a new court date to be determined, and Hernandez is also facing civil suits from the families of the victims and a man who claims Hernandez shot him in a Miami strip club',\n",
       " \"Hernandez's legal team has stated that he was unable to effectively defend himself during his trial in Massachusetts due to various factors, and the NFL players union has filed a grievance over unpaid bonus money on behalf of Hernandez\"]"
      ]
     },
     "execution_count": 6,
     "metadata": {},
     "output_type": "execute_result"
    }
   ],
   "source": [
    "cnn_list[200]"
   ]
  },
  {
   "cell_type": "code",
   "execution_count": 34,
   "metadata": {},
   "outputs": [],
   "source": [
    "# with open('reddit.pkl', 'wb') as f:\n",
    "#     pkl.dump(cnn_list,f) "
   ]
  },
  {
   "cell_type": "code",
   "execution_count": 20,
   "metadata": {},
   "outputs": [],
   "source": []
  },
  {
   "cell_type": "code",
   "execution_count": 2,
   "metadata": {},
   "outputs": [],
   "source": [
    "dataset = load_dataset(\"cnn_dailymail\", '3.0.0')\n",
    "article_key = 'article'\n",
    "summary_key = 'highlights'\n",
    "dataset=dataset['test']"
   ]
  },
  {
   "cell_type": "code",
   "execution_count": 22,
   "metadata": {},
   "outputs": [],
   "source": [
    "dataset = load_dataset(\"EdinburghNLP/xsum\")\n",
    "article_key = 'document'\n",
    "summary_key = 'summary'\n",
    "dataset=dataset['test']"
   ]
  },
  {
   "cell_type": "code",
   "execution_count": 37,
   "metadata": {},
   "outputs": [],
   "source": [
    "dataset = load_dataset(\"argilla/news-summary\")\n",
    "article_key = 'text'\n",
    "summary_key = 'prediction'\n",
    "dataset = DatasetDict({\n",
    "    'train': dataset['test'],\n",
    "    'test': dataset['train']})\n",
    "\n",
    "dataset=dataset['test']"
   ]
  },
  {
   "cell_type": "code",
   "execution_count": 80,
   "metadata": {},
   "outputs": [],
   "source": [
    "data = load_dataset('reddit_tifu', 'long')\n",
    "article_key = 'documents'\n",
    "summary_key = 'tldr'\n",
    "    # 80% train, 20% test + validation\n",
    "train_testvalid = data['train'].train_test_split(test_size=0.2, seed=42)\n",
    "# Split the 20% test + valid in half test, half valid\n",
    "test_valid = train_testvalid['test'].train_test_split(test_size=0.5, seed=42)\n",
    "# gather everyone if you want to have a single DatasetDict\n",
    "dataset = DatasetDict({\n",
    "    'train': train_testvalid['train'],\n",
    "    'test': test_valid['test'],\n",
    "    'validation': test_valid['train']})\n",
    "\n",
    "dataset=dataset['test']"
   ]
  },
  {
   "cell_type": "code",
   "execution_count": 38,
   "metadata": {},
   "outputs": [],
   "source": [
    "articles=dataset.select(range(10))[article_key]"
   ]
  },
  {
   "cell_type": "code",
   "execution_count": 81,
   "metadata": {},
   "outputs": [],
   "source": [
    "articles=dataset.select([0,3,6,7,8,11,13,14,15,16])[article_key]"
   ]
  },
  {
   "cell_type": "code",
   "execution_count": 82,
   "metadata": {},
   "outputs": [
    {
     "data": {
      "text/plain": [
       "['well this was around 9 years ago when i was a 2nd grader. so basically it was some kids birthday and since it was primary school most kids brought cupcakes and the teacher would pass it out to the class. me being the hungry little shit that i was i was desperately in the mood for some vanilla cupcakes but the teacher decided to pass out the chocolate ones first. \\n\\nafter she had finished passing out the chocolate ones she picks up the vanilla ones and says, \"raise your hand if you want vanilla!\". at that moment i was talking to a friend and it took me a bit to process the fact that she just asked who wanted vanilla. i proceed to raise my hand and it turns out the cupcakes were right above me. i knocked the cupcakes out of her hand and they spilled  all over her. she got bat-shit angry and begins to make a scene in the middle of the whole cafeteria. she explained how i \"ruined her brand new shoes\" and the bitch even asked me if i had an allowance so i could pay for her shoes. \\n\\nshe had asked me at the time if i was messing around and i said yes because i literally didn\\'t know what else to say. after numerous emails from my mom to the teacher things finally cleared up and all was back to normal.\\n\\n**',\n",
       " \"this was a few months ago when i had just sort of received my learner's permit after getting like 98% or something on the test and had just started driving my manual car. this is going to be difficult to explain without making myself look stupid, but anyway: i was driving down station street with my dad supervising in the passenger seat and we're quietly chatting about all manner of nonsense as i trundle along at about 60km/h when suddenly a fire truck comes right up behind us, sirens blaring and travelling at at least 80, so my dad explains that i should pull as far to the left as i safely can to let them through, so i cautiously guide my car into the bike lane, making sure i won't kill any cyclists in the process. the fire truck safely screams pass and i pull back out onto the road. i get into the town of chelsea and go through the lights at the 4-way intersection. i'm halfway to the next street corner when i spot another fire truck in the distance coming head-on towards me. now, from the start i've got no idea where the fire is and where the fire truck wants to go. so i go across past the side street and this fire truck starts veering over into my lane, which has had its width severely reduced by the cars parked along the corner in front of the pizza shop and all i can see is this huge truck flashing its lights at me as it tries to go through my lane to get into the side street, my dad pushing himself down into his seat bracing for impact and the cars parked next to me. all i can hear is my dad screaming 'woah, woah, woah! woah! woah woah woah' in my left ear and the fire truck's sirens and horn in my right ear. i continue through at the same speed gripping the steering wheel like my life depends on it, concentrating very hard on not crashing into anything. i get past everything and go around the corner that made this entire situation much more complicated than it would have been on a straight road. the rest of the drive is my dad freaking out at me and telling me i was millimetres away from the parked cars. within a week though, he was much more relaxed about the whole event and let me back out on the roads again.\",\n",
       " \"good lord, this happened four months ago and even thinking about it still exhausts me. \\n\\ni was taking a study abroad course in costa rica with other students from my college. we stayed with host families in san jose, the national capital, and took daily spanish classes at a local school. every day after class, we would go on excursions with instructors from our college to places like museums and monuments. \\n\\none day we saw a musical performance at the *teatro nacional*. it was still early in the afternoon when it was over, so we were all free to go shopping, get something to eat, or go home. now, up to this point i had usually stuck with whatever group was going to go somewhere interesting, but after a week of arguing and rushing around to places that i didn't really care about, i decided to explore the city by myself. \\n\\nthe theatre was very close to our school, so i knew how to get around the area. i took this time to go to places that i had been wanting to see, especially chinatown (yes, san jose of all places has a chinatown.) i browsed a few shops but didn't buy much, and i concluded my adventure by having a smoothie at an ice cream shop. afterwards, i made my way toward *parque central*, which was my reference point for getting to the homebound bus. i retraced my steps to get back where i wanted to be, and it seemed like i was doing okay until i didn't recognize the shops around me. i backtracked and turned a different corner. nope, in still didn't recognize anything. this happened several times. i was starting to get annoyed, but i thought that one more turn would get me where i needed to be. it look at least an hour, but i did indeed get to the park. then i needed to find my bus stop. \\n\\nonce again, i turned corners and went down streets and still couldn't find where i needed to go. the infuriating part was that i was going in circles over and over and recognized everything around me, but i just couldn't remember which turns i was supposed to make. there came a point where passers-by could tell that i was walking in circles, and a girl pulled me aside and asked if i needed help. she barely spoke english and i barely spoke spanish, and she realized that she didn't understand anything that i was saying. she took me to a local bank where she knew there would be english-speakers, and i asked a man how to get to the *barrio pilar* bus stop. he spoke to the girl for a minute and she told me that it was exactly five blocks ahead. i thanked her as much as i could and did what she told. thankfully, the bus was right there. \\n\\ni thought my predicament was over, but then there was the matter of getting off at the right stop. all of the houses in the neighborhood started blending together, especially as it started getting dark. i was confused, because i suspected that i had passed my stop but i recognized some of the landmarks i was passing. i got off at the stop that i thought was closest to mine and started walking. i still had no idea where i was going, and i didn't want to use google maps because (a) my phone battery was under 10% and (b) international data usage was insanely expensive. once again i recognized my surroundings, but still couldn't seem to navigate. it was starting to get really dark, and i was starting to get really scared. the streets were insufficiently lit, and some streets weren't lit much at all. i once passed by a loud barking dog that frightened me so much that i nearly cried, which is a testament to how paranoid i was because i love dogs. my eyes and ears were on 360 mode, looking out for anything suspicious. any time i could see or hear another person approaching i would run in the opposite direction; it didn't matter who it was. it was late at night in a urban neighborhood, and i couldn't take any chances. i walked and walked and walked, desperately trying to remember where my host family's house was, but no matter what i did i just got more lost. i eventually gave up and used google maps, praying that my battery wouldn't die on me. \\n\\nto my great relief i finally found the house. my host mother wanted to know what in the world i was doing out and about at 11 pm, and i explained that i had just gotten very, very lost. i flopped onto my bed, incredibly thankful that i was somewhere safe. \\n\\nan interesting side note: i found out via an email from my psychiatrist a week later that i have inattentive adhd. that may have had something to do with it.\",\n",
       " \"i'm going to start off by saying that i hate birds. no particular reason why, they just give me the creeps. also, this happened yesterday.\\n\\nanyways, there's this beach by my house with a snack bar that serves things like ice cream, fries, hotdogs etc. on this day i was craving fries and gravy real bad. did i mention that the seagull population was surprisingly bigger than normal that day. \\n\\ni order my fries and immediately get the attention of the seagulls. i then grab a handful of fries and throw them as far away as possible to distract the seagulls so i can get away. here's where it gets bad. the fry toss may have distracted about 10 seagulls, there were still about 30 more. literally a tornado of seagulls started swarming me, getting about half a foot from my face. one seagull even ate fries right from the tray in my hand. \\n\\nhere's where it gets funny. there's a park there with a bunch of kids and their parents. obviously i'm freaking out, i'm swearing, they're all laughing, i end up throwing my tray of fries, hitting a cloud of seagulls in the process and running away as fast as i can. terrible day.\",\n",
       " 'this fuck up actually happened today, what a privilege it is to share it will all of you. \\n\\nfirst and foremost, i must say that i just recently mastered the art of cooking with a skillet. i\\'m about to graduate high school and was just recently released from the confines of only knowing how to construct and consume cold sandwiches. \\n\\ntoday, i had what you might call an intense craving for a quesadilla of my own design. i\\'m only available to cook quesadillas on weekends, so as you can imagine, i went all out: chicken, onions, spinach, three kinds of cheese, and ready to serve with salsa and guacamole. you know the old saying, \"good things come to those who wait?\" unfortunately, i didn\\'t adhere that advice at 12:43 p.m. on saturday february 13th. \\n\\ni usually like my tortillas a little bit overdone so they are nice and crispy. hearing and smelling my delicious mexican cuisine simmering away in the skillet, i decided i was too hungry to wait for it to be well done, and decided to precede to flip it over. problem was, i couldn\\'t find a spatula: so i used a fork. what proceeded could only be described as horrendous and heart-breaking.\\n\\nthe prongs of the fork caught the tortilla at an awkward angle and opened it, gracefully dropping it face-down and spilling all the ingredients into the pan. had i waited longer for the cheese to melt, this could have been avoided. not wanting the cheese to melt into the pan (becoming harder to scrub off), i lifted the pan from the stove to put in the sink. in my haste, i tipped the pan sideways and spilled scalding-hot ingredients all over the floor and all over my nearby dog, coating him in the searing remnants of the wonderful goodness that was once a vessel through which the culinary soul could be moved. you know that feeling you get when you accidentally hurt your pet? yeah, i am shit. \\n\\nas my dog yelped i yelled, \"fuck!\" at the top of my lungs. normally i wouldn\\'t use this kind of language in the household, but knowing my parents weren\\'t home, i let her rip: or so i thought. turns out my dad was at the front door talking to our super conservative stain glassed ass neighbors, whom i heard audibly gasp from the kitchen. safe to say, i won\\'t be getting fundraiser sales from them this year.\\n\\noh, and i burned myself as well. \\n\\nall my ingredients gone, i had to settle for a cheese quesadilla instead. my dog now rolls over in fear every time i come near him. all for a quesadilla. a quesadilla. \\n\\nedit: dog is okay. just a little freaked out.',\n",
       " \"july 13th. hong kong departures terminal.\\n\\nshe smiled at me on the transfer tram.  i pretended to be annoyed. \\n\\ntried to make contact with me on the escalator. i quickly glanced away.\\n\\nwalked right up to me in the food court. i ignored her and didn’t even smile, acting like she wasn’t there.\\n\\nexcept i noticed her as soon as she entered my world. blue jacket wrapped around her waist, locks like a young michelle pfeiffer, smile lit up the darkest corners of my universe. \\n\\ni’m mid-20s with a world of experience and relationships, and i don't believe in soul mates, but i felt something i never felt before. \\n\\nshe was making her way to an auckland, new zealand gate before i lost track of her and stopped pretending to ignore. i am writing this on the runway of a 2 hour delay on what’s to be a 13 hour flight feeling like a made a life mistake. \\n\\nplanning to post this in a couple days if i still feel as strongly about her. would be lying if this wasn’t a hail mary to make a connection.\",\n",
       " \"tonight i (white male 20) decided to have a few drinks with friends (two white females 20/21) in my room and drive them up town in our college town to the clubs. no big deal. i do this all the time. \\n\\nit is getting time to leave and i decided to grab my car from the near by parking lot and pick up my friends at the door. on my way tot he lot i come up to a very intoxicated women (black and very underaged) in the grass struggling to put on her shoes. she has lost her phone and her keys but has had enough to drink she doesn't care one bit. \\n\\ni know that recent events in my college town, two women getting raped in the past three weeks, means it is not safe for me to just blow this off. i made a choice to help her back to her dorm and mostly make my friends late to the clubs up town. \\n\\ni struggle to get her to comply, but she agrees it is for the best for her to go home. in the process of taking her back to her dorm and attempting to be the stable anchor for her while she meanders in the general direction, i receive an infuriated call from my friends, demanding i bail on my new ward and accommodate the original plans. i explain the situation and they are having none of it. they leave without me to walk up to the club. \\n\\nafter i successfully check the strange woman into her dorm, i attempt to meet my friends halfway and drive them the rest of the way. i park my car in a near by business, get out and try to explain in person the situation. again, they were having none of it. \\n\\nso now i am certain that my better judgement has cost me a preciously cherished friendship.\",\n",
       " 'here\\'s the skinny. i (28f) have somehow become the designated driver at our work. the business van is a [sprinter](http://www.mbvans.com/sprinter/home) with no side windows and i hate driving it. backing it up is stressful, but i don\\'t tell my boss this.\\ntwo days ago i had to pick up stuff from other greenhouses to bring back to ours. three destinations down and two more to go, at the fourth destination, the pickup area was this small area with short cement dividers. while trying to back up and turn at the same time, i hit the bumper on one of the dividers. \\'\\'tis but a scratch, nbd right, so i continue my duties for the day.\\nlater i had to get something from our production site before going out on the last drive of the day. \\none of my boss\\'s have a dog on site who is terrible, she appears from no where, quickly getting behind and in front of moving vehicles, and letting her hound bark rip. \\ni\\'m backing up and turning around, she shows up, i just happen to see her when she let\\'s out her usual hound scream. i turn harder and hit the compost trailer. i get out to see if she and the sprinter our okay. she\\'s perfectly fine because i dodged her but the damage to the sprinter bumper \\'tis not but a scratch. i\\'m rattled. today is not going well. i stare down the dog who stops barking , feels my wrath, and leaves. \\ni go off on my drive, in low spirits. pick up 15 glass panels from another greenhouse, bc a wind storm hecked up a part of our retail section. by this point in the day, it\\'s 4:30pm, my shift ends at 4:30 and i run my own dog training business for which i have a training appoint scheduled for 5. on the drive home, i\\'m driving so carefully. speed limit or just below. a couple yards out from a green light, it turns yellow. sh*t,.. if i keep going i\\'m going to run a red. if i slow down to stop, i risk breaking the glass panels. i opt for not being hit running a red. i hear the glass slide out of position, first slowly, but they are picking up speed and making it\\'s way to the back of my seat and *smash* into thousands of little pieces. the tears begin to roll.\\nget back to work, tell my boss in  \\nmy boss and one coworker cleaned up the mess for me. i apologized the next day. i planned to clean it the following day since i got back to the greenhouse at 5 and we were done at 4:30.\\n\\n\\'tl:dr i fucked up by wrecking the work sprinter\\'s bumper, narrowly miss running over my boss\\'s dog, and smashing glass panels we needed to fix the gaping holes in the greenhouse wall.\\n\\nedit: was supposed to say \"crashing\" not \"rashing\" in the title...',\n",
       " 'so for those of you who don\\'t know, there is a google survey app for android you can download where you get to take surveys. after completing the surveys, you receive anywhere from $0.10 to $2.00 for doing a survey to use on the google play store. \\n\\nnow with these surveys i have always lied. the more i\\'d fabricate these answers, the more \"valuable\" it makes my opinion. the more valuable my opinion is, the more surveys i get which means more play store credit. if i had been honest, i would not have gotten any surveys much like when i told my friend about the app and never got a survey after his first one. so far, i\\'ve received about $35 in play store credit by doing these surveys. \\n\\nso this morning, i got a google survey on my tablet. it was a 3 question survey. the survey asked if i had ever been to a water park called kelp water parks. i said yes. then it asked what my favorite slide was. i just chose a random name of a ride and proceeded to the next question.\\n\\nonly then did i find out it wasn\\'t a survey, but it was designed to fish out people like me. people who lie on their surveys. it told me that the kelp water park didn\\'t exist. google then proceeded to scold me saying lying is a bad thing and it will most likely not consider me for future surveys. google caught me lying and left me feeling like i lied to my own father.',\n",
       " 'so some background information about me. im generally a very stubborn person and very curious. (not a good combo).\\n\\nso i step onto the subway today as per usual routine. when i notice these 2 guys making really weird symbols with their hands. seeing as how they were teenagers i assumed they were trying to pretend to make some gang symbols or what not. so like the little curious fuck i am, i decide to ask them what they were doing. so i approach one of the guys with his head turned to me and im like \" hey man what were you two just doing there with your hands?\" he doesn\\'t even move to look at me so i assume he was listening to his friend. so i politely ask again. this time when i get no response i get frustrated and shout \"are you fucking deaf!\" and storm off to go find a seat somewhere else that\\'s when im approached by someone else who was watching this and he comes real close to me and says ever so calmly...\\n \" they are actually deaf..\"  and right then i put it all together.. they were signing to each other in sign language. without another word i get off at the next stop and wait for the next train..']"
      ]
     },
     "execution_count": 82,
     "metadata": {},
     "output_type": "execute_result"
    }
   ],
   "source": [
    "articles"
   ]
  },
  {
   "cell_type": "code",
   "execution_count": 83,
   "metadata": {},
   "outputs": [],
   "source": [
    "for k,v in enumerate(articles):\n",
    "    articles[k]=v.replace('\\n',\"\")"
   ]
  },
  {
   "cell_type": "code",
   "execution_count": 84,
   "metadata": {},
   "outputs": [],
   "source": [
    "gold=dataset.select(range(10))[summary_key]"
   ]
  },
  {
   "cell_type": "code",
   "execution_count": 85,
   "metadata": {},
   "outputs": [],
   "source": [
    "gold=dataset.select([0,3,6,7,8,11,13,14,15,16])[summary_key]"
   ]
  },
  {
   "cell_type": "code",
   "execution_count": 41,
   "metadata": {},
   "outputs": [
    {
     "name": "stdout",
     "output_type": "stream",
     "text": [
      "Sweden stops some new aid for Cambodia in protest over crackdown\n",
      "U.N. chief calls for united, 'appropriate action' on North Korea\n",
      "House tax positions begin to emerge ahead of talks with Senate\n",
      "Russia suspends diplomatic presence in Yemen, moves envoy to Riyadh: agencies\n",
      "Trump strongly committed to partnership with EU, says VP Pence\n",
      "Commentary: Trump can't fight Islamic State without wading into Syria's war\n",
      "Top Senate Republican tells Supreme Court nominee: Senate will not act\n",
      "Ex-Michigan lawmaker to stand trial; charges dismissed against another\n",
      "JAL to screen majority-muslim country passengers before departure for U.S.\n",
      "WFP chief gets pledge from Congo's president on food aid access\n"
     ]
    }
   ],
   "source": [
    "gold_new=[]\n",
    "for i in range(10):\n",
    "    print(gold[i][0]['text'])\n",
    "    gold_new.append(gold[i][0]['text'])\n",
    "    "
   ]
  },
  {
   "cell_type": "code",
   "execution_count": 42,
   "metadata": {},
   "outputs": [
    {
     "data": {
      "text/plain": [
       "['Sweden stops some new aid for Cambodia in protest over crackdown',\n",
       " \"U.N. chief calls for united, 'appropriate action' on North Korea\",\n",
       " 'House tax positions begin to emerge ahead of talks with Senate',\n",
       " 'Russia suspends diplomatic presence in Yemen, moves envoy to Riyadh: agencies',\n",
       " 'Trump strongly committed to partnership with EU, says VP Pence',\n",
       " \"Commentary: Trump can't fight Islamic State without wading into Syria's war\",\n",
       " 'Top Senate Republican tells Supreme Court nominee: Senate will not act',\n",
       " 'Ex-Michigan lawmaker to stand trial; charges dismissed against another',\n",
       " 'JAL to screen majority-muslim country passengers before departure for U.S.',\n",
       " \"WFP chief gets pledge from Congo's president on food aid access\"]"
      ]
     },
     "execution_count": 42,
     "metadata": {},
     "output_type": "execute_result"
    }
   ],
   "source": [
    "gold_new\n"
   ]
  },
  {
   "cell_type": "code",
   "execution_count": 86,
   "metadata": {},
   "outputs": [],
   "source": [
    "for k,v in enumerate(gold):\n",
    "    gold[k]=v.replace('\\n',\"\")"
   ]
  },
  {
   "cell_type": "code",
   "execution_count": 43,
   "metadata": {},
   "outputs": [],
   "source": [
    "for k,v in enumerate(gold_new):\n",
    "    gold_new[k]=v.replace('\\n',\"\")"
   ]
  },
  {
   "cell_type": "code",
   "execution_count": 44,
   "metadata": {},
   "outputs": [
    {
     "data": {
      "text/plain": [
       "['Sweden stops some new aid for Cambodia in protest over crackdown',\n",
       " \"U.N. chief calls for united, 'appropriate action' on North Korea\",\n",
       " 'House tax positions begin to emerge ahead of talks with Senate',\n",
       " 'Russia suspends diplomatic presence in Yemen, moves envoy to Riyadh: agencies',\n",
       " 'Trump strongly committed to partnership with EU, says VP Pence',\n",
       " \"Commentary: Trump can't fight Islamic State without wading into Syria's war\",\n",
       " 'Top Senate Republican tells Supreme Court nominee: Senate will not act',\n",
       " 'Ex-Michigan lawmaker to stand trial; charges dismissed against another',\n",
       " 'JAL to screen majority-muslim country passengers before departure for U.S.',\n",
       " \"WFP chief gets pledge from Congo's president on food aid access\"]"
      ]
     },
     "execution_count": 44,
     "metadata": {},
     "output_type": "execute_result"
    }
   ],
   "source": [
    "gold_new"
   ]
  },
  {
   "cell_type": "code",
   "execution_count": 87,
   "metadata": {},
   "outputs": [
    {
     "data": {
      "text/plain": [
       "['** i wanted vanilla cupcakes so i raised my hand and knocked a whole box of cupcakes all over my teacher.',\n",
       " \"i nearly crashed into some parked cars and a fire truck in chelsea in a bizarre situation that wasn't included on my driving test, probably due to it being incredibly specific.\",\n",
       " 'i hate people so i wandered off by myself in the largest city in costa rica, got very lost, got help, then got very lost again. also, my phone was dead.**',\n",
       " 'bought french fries, attacked by  seagulls, got scared and started swearing next to a park, everyone was laughing at me, threw my fries and ran.',\n",
       " 'tried to make a quesadilla, ended up burning my dog and disgracing my family in front of out fundamentalist neighbors.',\n",
       " '; crossed paths with someone in the universe whose stardust created a strong chemical reaction with mine and i didn’t even get a name.',\n",
       " 'drunk bitches be tripping',\n",
       " 'format, ask to leave and just walk out.',\n",
       " 'lied to google. received a virtual spanking over their survey app.',\n",
       " 'i yelled \"are you fucking deaf\" to deaf kids.']"
      ]
     },
     "execution_count": 87,
     "metadata": {},
     "output_type": "execute_result"
    }
   ],
   "source": [
    "gold"
   ]
  },
  {
   "cell_type": "code",
   "execution_count": 88,
   "metadata": {},
   "outputs": [],
   "source": [
    "with open('reddit.pkl', 'rb') as f:\n",
    "    para_file=pkl.load(f) "
   ]
  },
  {
   "cell_type": "code",
   "execution_count": 89,
   "metadata": {},
   "outputs": [],
   "source": [
    "paraphrased=[]\n",
    "#for i in range(10):\n",
    "for i in [0,3,6,7,8,11,13,14,15,16]:\n",
    "    paraphrased.append(\" \".join(para_file[i]))\n",
    "    "
   ]
  },
  {
   "cell_type": "code",
   "execution_count": 90,
   "metadata": {},
   "outputs": [],
   "source": [
    "with open('../data_original/reddit_new_new.pkl', 'rb') as f:\n",
    "    orig_file=pkl.load(f) "
   ]
  },
  {
   "cell_type": "code",
   "execution_count": 91,
   "metadata": {},
   "outputs": [],
   "source": [
    "original=[]\n",
    "#for i in range(10):\n",
    "for i in [0,3,6,7,8,11,13,14,15,16]:\n",
    "    original.append(\" \".join(orig_file[i]))"
   ]
  },
  {
   "cell_type": "code",
   "execution_count": 94,
   "metadata": {},
   "outputs": [
    {
     "data": {
      "text/plain": [
       "['The author mistakenly assumed that two teenagers were making gang symbols with their hands, but later realized they were actually communicating in sign language because they were deaf']"
      ]
     },
     "execution_count": 94,
     "metadata": {},
     "output_type": "execute_result"
    }
   ],
   "source": [
    "para_file[16]"
   ]
  },
  {
   "cell_type": "code",
   "execution_count": 95,
   "metadata": {},
   "outputs": [],
   "source": [
    "dic={'Article':articles, 'Paraphrased':paraphrased, 'Original': original, 'Gold':gold }"
   ]
  },
  {
   "cell_type": "code",
   "execution_count": 96,
   "metadata": {},
   "outputs": [],
   "source": [
    "df=pd.DataFrame.from_dict(dic)"
   ]
  },
  {
   "cell_type": "code",
   "execution_count": 97,
   "metadata": {},
   "outputs": [],
   "source": [
    "df.to_csv('../annotation/gpt-reddit.csv', index=False)"
   ]
  },
  {
   "cell_type": "code",
   "execution_count": 36,
   "metadata": {},
   "outputs": [
    {
     "data": {
      "text/plain": [
       "['Prison Link Cymru in Wales is advocating for more investment in housing for ex-offenders, stating that finding suitable accommodation is a challenge and that it would be more cost-effective than imprisoning repeat homeless offenders',\n",
       " 'Properties in the Waterfront Park and Colonsay View areas of the city were searched by officers on Wednesday',\n",
       " 'Four suspects in Chicago are denied bail after allegedly beating and torturing a white teenager with disabilities, in a case that also involved hate crimes due to his race and disabilities',\n",
       " 'The 48-year-old former Arsenal goalkeeper played for the Royals for four years',\n",
       " 'A study published in the journal Cell found that a modified fasting-mimicking diet helped regenerate beta cells in the pancreas in animal experiments, potentially offering a new treatment for diabetes',\n",
       " 'The proposed merger between Essilor and Luxottica, two of the biggest names in the eyewear industry, is raising concerns about reduced competition and choice for consumers',\n",
       " 'Wendy Houvenaghel, a retired Olympic cyclist, has accused British Cycling of ageism and prioritizing winning medals over athlete welfare, echoing the criticisms made by other high-profile cyclists',\n",
       " 'The comedy club industry in the US is experiencing growth and success due to a growing enthusiasm for comedy clubs, a new golden age of stand-up comedy, and the multiple revenue streams they can generate',\n",
       " \"The complications with BT's pension scheme and land deals were reasons for Ofcom to avoid breaking up the company, as it would cause delays and be costly, and the new articles of association may lead to conflicts in the future\",\n",
       " \"Celtic manager Brendan Rodgers is eagerly anticipating the Old Firm derby at Hampden Park, and is focused on his team's performance rather than the potential for a domestic treble\"]"
      ]
     },
     "execution_count": 36,
     "metadata": {},
     "output_type": "execute_result"
    }
   ],
   "source": [
    "paraphrased"
   ]
  },
  {
   "cell_type": "code",
   "execution_count": null,
   "metadata": {},
   "outputs": [],
   "source": []
  }
 ],
 "metadata": {
  "kernelspec": {
   "display_name": "acl",
   "language": "python",
   "name": "python3"
  },
  "language_info": {
   "codemirror_mode": {
    "name": "ipython",
    "version": 3
   },
   "file_extension": ".py",
   "mimetype": "text/x-python",
   "name": "python",
   "nbconvert_exporter": "python",
   "pygments_lexer": "ipython3",
   "version": "3.11.5"
  }
 },
 "nbformat": 4,
 "nbformat_minor": 2
}
