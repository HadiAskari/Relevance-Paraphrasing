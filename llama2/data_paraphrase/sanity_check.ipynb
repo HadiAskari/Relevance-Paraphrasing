{
 "cells": [
  {
   "cell_type": "code",
   "execution_count": 2,
   "metadata": {},
   "outputs": [],
   "source": [
    "import pandas as pd\n",
    "import pickle as pkl\n",
    "import os"
   ]
  },
  {
   "cell_type": "code",
   "execution_count": 7,
   "metadata": {},
   "outputs": [],
   "source": [
    "with open('cnn/15.pkl', 'rb') as f:\n",
    "    file=pkl.load(f)"
   ]
  },
  {
   "cell_type": "code",
   "execution_count": 8,
   "metadata": {},
   "outputs": [
    {
     "name": "stdout",
     "output_type": "stream",
     "text": [
      "[\" Sure! Here is a summary of the article in a numbered list format:\\n\\n1. Walmart's opposition to religious freedom laws in several states has emerged as a powerful symbol of growing support for gay rights in the heartland, reflecting a shift in public opinion on hot-button political issues that divide conservatives and liberals.\\n2. The company's stance has placed it in conflict with many members of the Republican Party, which the company's political action committee has historically backed, and has sparked a debate over the balance between religious liberties and nondiscrimination.\\n3. The backlash over the religious freedom measures in Indiana and Arkansas this week is shining a bright light on the broader business community's overwhelming support for workplace policies that promote gay equality, with many companies affirming that equality is beneficial for their operations and that discrimination is harmful to their bottom line.\"]\n"
     ]
    }
   ],
   "source": [
    "print(file)"
   ]
  },
  {
   "cell_type": "code",
   "execution_count": null,
   "metadata": {},
   "outputs": [],
   "source": []
  }
 ],
 "metadata": {
  "kernelspec": {
   "display_name": "acl",
   "language": "python",
   "name": "python3"
  },
  "language_info": {
   "codemirror_mode": {
    "name": "ipython",
    "version": 3
   },
   "file_extension": ".py",
   "mimetype": "text/x-python",
   "name": "python",
   "nbconvert_exporter": "python",
   "pygments_lexer": "ipython3",
   "version": "3.11.5"
  }
 },
 "nbformat": 4,
 "nbformat_minor": 2
}
