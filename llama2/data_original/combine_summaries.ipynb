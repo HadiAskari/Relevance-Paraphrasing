{
 "cells": [
  {
   "cell_type": "code",
   "execution_count": 1,
   "metadata": {},
   "outputs": [
    {
     "name": "stdout",
     "output_type": "stream",
     "text": [
      "[2023-11-25 06:40:47,107] [INFO] [real_accelerator.py:158:get_accelerator] Setting ds_accelerator to cuda (auto detect)\n"
     ]
    }
   ],
   "source": [
    "import pickle as pkl\n",
    "import nltk\n",
    "import os\n",
    "from datasets import load_dataset\n",
    "from nltk.tokenize import sent_tokenize, word_tokenize\n",
    "import multiprocessing\n",
    "import evaluate\n",
    "from rouge_score import rouge_scorer\n",
    "from tqdm.auto import tqdm\n",
    "from natsort import natsorted\n",
    "import random\n"
   ]
  },
  {
   "cell_type": "code",
   "execution_count": 6,
   "metadata": {},
   "outputs": [
    {
     "name": "stdout",
     "output_type": "stream",
     "text": [
      "11490\n",
      " Sure! Here is a summary of the article in three numbered sentences:\n",
      "\n",
      "1. The Palestinian Authority officially became the 123rd member of the International Criminal Court (ICC) on Wednesday, giving the court jurisdiction over alleged crimes in Palestinian territories.\n",
      "2. The ICC opened a preliminary examination into the situation in Palestinian territories in January, and the formal accession of the Palestinian Authority as a member of the court paves the way for possible war crimes investigations against Israelis.\n",
      "3. The ICC's decision to allow the Palestinians to join the body despite opposition from Israel and the United States is seen as a step towards greater justice and accountability for alleged crimes committed in the region.\n"
     ]
    }
   ],
   "source": [
    "pkls=os.listdir('cnn')\n",
    "pkls=natsorted(pkls)\n",
    "pkls_list=[]\n",
    "for pikl in pkls:\n",
    "    with open('cnn/{}'.format(pikl),'rb') as f:\n",
    "        file=pkl.load(f)\n",
    "    if not file:\n",
    "        file.append(' ')\n",
    "    pkls_list.extend(file)\n",
    "\n",
    "print(len(pkls_list))\n",
    "print(pkls_list[0])\n"
   ]
  },
  {
   "cell_type": "code",
   "execution_count": 16,
   "metadata": {},
   "outputs": [
    {
     "name": "stdout",
     "output_type": "stream",
     "text": [
      "4orsor_\n",
      "4_ 4_\n",
      "115\n"
     ]
    }
   ],
   "source": [
    "cnn_list=[]\n",
    "for i in range(len(pkls_list)):\n",
    "    temp=[]\n",
    "    splits=pkls_list[i].split('\\n')\n",
    "    for split in splits:\n",
    "        if split:\n",
    "            if split[0].isdigit():\n",
    "                try:\n",
    "                    temp.append(split.split(\".\")[1].strip())\n",
    "                except:\n",
    "                    print(split)\n",
    "    cnn_list.append(temp)"
   ]
  },
  {
   "cell_type": "code",
   "execution_count": 17,
   "metadata": {},
   "outputs": [
    {
     "data": {
      "text/plain": [
       "4214"
      ]
     },
     "execution_count": 17,
     "metadata": {},
     "output_type": "execute_result"
    }
   ],
   "source": [
    "len(cnn_list)"
   ]
  },
  {
   "cell_type": "code",
   "execution_count": 18,
   "metadata": {},
   "outputs": [
    {
     "data": {
      "text/plain": [
       "[\"While driving with my learner's permit, I had to suddenly swerve into the bike lane to let a fire truck pass, but another fire truck veered into my lane, causing a tense moment with my dad screaming in my ear and the fire truck's sirens blaring\",\n",
       " 'I managed to navigate the situation without crashing, but my dad was freaked out for a while and only let me drive again a week later']"
      ]
     },
     "execution_count": 18,
     "metadata": {},
     "output_type": "execute_result"
    }
   ],
   "source": [
    "cnn_list[3]"
   ]
  },
  {
   "cell_type": "code",
   "execution_count": 19,
   "metadata": {},
   "outputs": [],
   "source": [
    "cnn_list_capped=[]\n",
    "for item in cnn_list:\n",
    "    try:\n",
    "        length=len(item)\n",
    "        choose=random.randint(0,length-1)\n",
    "        cnn_list_capped.append([item[0]])\n",
    "    except:\n",
    "        cnn_list_capped.append([])"
   ]
  },
  {
   "cell_type": "code",
   "execution_count": 20,
   "metadata": {},
   "outputs": [],
   "source": [
    "with open('reddit_capped_random.pkl', 'wb') as f:\n",
    "    pkl.dump(cnn_list_capped,f)"
   ]
  },
  {
   "cell_type": "code",
   "execution_count": 4,
   "metadata": {},
   "outputs": [],
   "source": [
    "with open('xsum-roleplay/4.pkl', 'rb') as f:\n",
    "    file=pkl.load(f)\n",
    "    "
   ]
  },
  {
   "cell_type": "code",
   "execution_count": 5,
   "metadata": {},
   "outputs": [
    {
     "name": "stdout",
     "output_type": "stream",
     "text": [
      "[' Sure! Here\\'s a summary of the article in a numbered list format:\\n\\n1. Restoring the function of the pancreas\\' beta cells, which control blood sugar levels, reversed symptoms of diabetes in animal experiments, according to a study published in the journal Cell.\\n2. The study found that a modified form of the \"fasting-mimicking diet\" can reboot the body and regenerate beta cells, potentially offering a new treatment for the disease.\\n3. The diet, which involves five days of low-calorie, low-protein, low-carbohydrate food but high in unsaturated fats, followed by 25 days of normal eating, has been shown to improve blood sugar levels in previous studies.\\n4. The researchers believe that the diet triggers the cells in the pancreas to use a form of developmental reprogramming to rebuild the part of the organ that is no longer functioning.\\n5. The study\\'s findings are potentially exciting, but the researchers caution that people should not try this diet at home without medical guidance, as it can be dangerous.']\n"
     ]
    }
   ],
   "source": [
    "print(file)"
   ]
  }
 ],
 "metadata": {
  "kernelspec": {
   "display_name": "acl",
   "language": "python",
   "name": "python3"
  },
  "language_info": {
   "codemirror_mode": {
    "name": "ipython",
    "version": 3
   },
   "file_extension": ".py",
   "mimetype": "text/x-python",
   "name": "python",
   "nbconvert_exporter": "python",
   "pygments_lexer": "ipython3",
   "version": "3.11.5"
  },
  "orig_nbformat": 4
 },
 "nbformat": 4,
 "nbformat_minor": 2
}
