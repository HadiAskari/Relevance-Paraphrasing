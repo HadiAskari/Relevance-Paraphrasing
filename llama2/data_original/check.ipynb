{
 "cells": [
  {
   "cell_type": "code",
   "execution_count": 1,
   "metadata": {},
   "outputs": [
    {
     "ename": "ModuleNotFoundError",
     "evalue": "No module named 'MENLI'",
     "output_type": "error",
     "traceback": [
      "\u001b[0;31m---------------------------------------------------------------------------\u001b[0m",
      "\u001b[0;31mModuleNotFoundError\u001b[0m                       Traceback (most recent call last)",
      "Cell \u001b[0;32mIn[1], line 4\u001b[0m\n\u001b[1;32m      1\u001b[0m \u001b[38;5;28;01mimport\u001b[39;00m \u001b[38;5;21;01mpickle\u001b[39;00m \u001b[38;5;28;01mas\u001b[39;00m \u001b[38;5;21;01mpkl\u001b[39;00m\n\u001b[1;32m      2\u001b[0m \u001b[38;5;28;01mimport\u001b[39;00m \u001b[38;5;21;01mrandom\u001b[39;00m\n\u001b[0;32m----> 4\u001b[0m \u001b[38;5;28;01mfrom\u001b[39;00m \u001b[38;5;21;01mMENLI\u001b[39;00m\u001b[38;5;21;01m.\u001b[39;00m\u001b[38;5;21;01mMENLI\u001b[39;00m \u001b[38;5;28;01mimport\u001b[39;00m MENLI\n\u001b[1;32m      6\u001b[0m \u001b[38;5;66;03m# scorer = MENLI(direction=\"avg\", formula=\"e\", src=False, nli_weight=0.3, combine_with=\"BERTScore-F\", model=\"D\")\u001b[39;00m\n\u001b[1;32m      7\u001b[0m \u001b[38;5;66;03m# res=[]\u001b[39;00m\n\u001b[1;32m      8\u001b[0m \u001b[38;5;66;03m# count=0\u001b[39;00m\n\u001b[0;32m   (...)\u001b[0m\n\u001b[1;32m     22\u001b[0m    \n\u001b[1;32m     23\u001b[0m \u001b[38;5;66;03m# return sum(res)/len(res)\u001b[39;00m\n",
      "\u001b[0;31mModuleNotFoundError\u001b[0m: No module named 'MENLI'"
     ]
    }
   ],
   "source": [
    "import pickle as pkl\n",
    "import random\n",
    "\n",
    "from MENLI.MENLI import MENLI\n",
    "\n",
    "scorer = MENLI(direction=\"avg\", formula=\"e\", src=False, nli_weight=0.3, combine_with=\"BERTScore-F\", model=\"D\")\n",
    "res=[]\n",
    "count=0\n",
    "# refs and hyps in form of list of String\n",
    "for cand, ref in tqdm(zip(p_data_mistral_cnn['highlights'],p_data_mistral_cnn['model_summaries'])):\n",
    "    count+=1\n",
    "    # if count>=20:\n",
    "    #     break\n",
    "    if len(cand)!=len(ref):\n",
    "        continue\n",
    "    if not cand or not ref:\n",
    "        continue\n",
    "    scores=scorer.score_all(srcs=[],refs=cand, hyps=ref) \n",
    "\n",
    "    res.append(sum(scores)/len(scores))\n",
    "    \n",
    "   \n",
    "# return sum(res)/len(res)"
   ]
  },
  {
   "cell_type": "code",
   "execution_count": 9,
   "metadata": {},
   "outputs": [],
   "source": [
    "with open('xsum_new_new.pkl', 'rb') as f:\n",
    "    pkls_list=pkl.load(f)"
   ]
  },
  {
   "cell_type": "code",
   "execution_count": 10,
   "metadata": {},
   "outputs": [],
   "source": [
    "cnn_list_capped=[]\n",
    "\n",
    "for item in pkls_list:\n",
    "    try:\n",
    "        length=len(item)\n",
    "        choose=random.randint(0,length-1)\n",
    "        cnn_list_capped.append([item[0]])\n",
    "    except:\n",
    "        cnn_list_capped.append([])"
   ]
  },
  {
   "cell_type": "code",
   "execution_count": 11,
   "metadata": {},
   "outputs": [
    {
     "data": {
      "text/plain": [
       "['16 tie.']"
      ]
     },
     "execution_count": 11,
     "metadata": {},
     "output_type": "execute_result"
    }
   ],
   "source": [
    "cnn_list_capped[59]"
   ]
  },
  {
   "cell_type": "code",
   "execution_count": 12,
   "metadata": {},
   "outputs": [],
   "source": [
    "with open('xsum_capped-random.pkl', 'wb') as f:\n",
    "    pkl.dump(cnn_list_capped,f)"
   ]
  },
  {
   "cell_type": "code",
   "execution_count": 1,
   "metadata": {},
   "outputs": [],
   "source": [
    "import pickle as pkl\n",
    "import nltk\n",
    "import os\n",
    "from datasets import load_dataset\n",
    "from nltk.tokenize import sent_tokenize, word_tokenize\n",
    "import multiprocessing\n",
    "import evaluate\n",
    "from rouge_score import rouge_scorer\n",
    "from tqdm.auto import tqdm\n",
    "from natsort import natsorted\n",
    "import random\n",
    "import pandas as pd\n",
    "from datasets import load_dataset, DatasetDict, load_from_disk\n",
    "import datasets"
   ]
  },
  {
   "cell_type": "code",
   "execution_count": 22,
   "metadata": {},
   "outputs": [
    {
     "name": "stdout",
     "output_type": "stream",
     "text": [
      "4214\n",
      "1. As a second grader at a birthday celebration in primary school, the author accidentally knocked vanilla cupcakes onto the teacher, causing a scene and leading to accusations of ruining her shoes.\n"
     ]
    }
   ],
   "source": [
    "pkls=os.listdir('reddit')\n",
    "pkls=natsorted(pkls)\n",
    "pkls_list=[]\n",
    "for pikl in pkls:\n",
    "    with open('reddit/{}'.format(pikl),'rb') as f:\n",
    "        file=pkl.load(f)\n",
    "    if not file:\n",
    "        file.append(' ')\n",
    "    pkls_list.extend(file)\n",
    "\n",
    "print(len(pkls_list))\n",
    "print(pkls_list[0])"
   ]
  },
  {
   "cell_type": "code",
   "execution_count": 23,
   "metadata": {},
   "outputs": [
    {
     "name": "stdout",
     "output_type": "stream",
     "text": [
      "0\n"
     ]
    }
   ],
   "source": [
    "count=0\n",
    "for idx,item in enumerate(pkls_list):\n",
    "    if item == \" \":\n",
    "        print(idx)\n",
    "        count+=1\n",
    "print(count)"
   ]
  },
  {
   "cell_type": "code",
   "execution_count": 24,
   "metadata": {},
   "outputs": [],
   "source": [
    "cnn_list=[]\n",
    "for i in range(len(pkls_list)):\n",
    "    temp=[]\n",
    "    splits=pkls_list[i].split('\\n')\n",
    "    for split in splits:\n",
    "        if split:\n",
    "            if split[0].isdigit():\n",
    "                try:\n",
    "                    temp.append(split.split(\".\")[1].strip())\n",
    "                except:\n",
    "                    print(split)\n",
    "    cnn_list.append(temp)"
   ]
  },
  {
   "cell_type": "code",
   "execution_count": 25,
   "metadata": {},
   "outputs": [
    {
     "data": {
      "text/plain": [
       "4214"
      ]
     },
     "execution_count": 25,
     "metadata": {},
     "output_type": "execute_result"
    }
   ],
   "source": [
    "len(cnn_list)"
   ]
  },
  {
   "cell_type": "code",
   "execution_count": 26,
   "metadata": {},
   "outputs": [
    {
     "data": {
      "text/plain": [
       "[\"During lunch, a student's attempt to focus on copying notes led to a disruptive outburst that resulted in a 2-hour detention for causing a commotion in the lunchroom\"]"
      ]
     },
     "execution_count": 26,
     "metadata": {},
     "output_type": "execute_result"
    }
   ],
   "source": [
    "cnn_list[213]"
   ]
  },
  {
   "cell_type": "code",
   "execution_count": 27,
   "metadata": {},
   "outputs": [],
   "source": [
    "with open('reddit_final.pkl', 'wb') as f:\n",
    "    pkl.dump(cnn_list,f) "
   ]
  },
  {
   "cell_type": "code",
   "execution_count": 2,
   "metadata": {},
   "outputs": [],
   "source": [
    "xsum_ds = datasets.load_dataset(\"EdinburghNLP/xsum\")    \n",
    "xsum_ds = xsum_ds['test']\n",
    "\n",
    "# reddit_ds = datasets.load_dataset(\"reddit_tifu\", \"long\")\n",
    "# train_testvalid = reddit_ds['train'].train_test_split(test_size=0.2, seed=42)\n",
    "# test_valid = train_testvalid['test'].train_test_split(test_size=0.5, seed=42)\n",
    "# reddit_ds = test_valid['test']"
   ]
  },
  {
   "cell_type": "code",
   "execution_count": 3,
   "metadata": {},
   "outputs": [],
   "source": [
    "articles=xsum_ds['document']\n",
    "gold_summaries=xsum_ds['summary']\n",
    "\n",
    "# articles=reddit_ds['documents']\n",
    "# gold_summaries=reddit_ds['tldr']"
   ]
  },
  {
   "cell_type": "code",
   "execution_count": 4,
   "metadata": {},
   "outputs": [
    {
     "data": {
      "text/plain": [
       "'Prison Link Cymru had 1,099 referrals in 2015-16 and said some ex-offenders were living rough for up to a year before finding suitable accommodation.\\nWorkers at the charity claim investment in housing would be cheaper than jailing homeless repeat offenders.\\nThe Welsh Government said more people than ever were getting help to address housing problems.\\nChanges to the Housing Act in Wales, introduced in 2015, removed the right for prison leavers to be given priority for accommodation.\\nPrison Link Cymru, which helps people find accommodation after their release, said things were generally good for women because issues such as children or domestic violence were now considered.\\nHowever, the same could not be said for men, the charity said, because issues which often affect them, such as post traumatic stress disorder or drug dependency, were often viewed as less of a priority.\\nAndrew Stevens, who works in Welsh prisons trying to secure housing for prison leavers, said the need for accommodation was \"chronic\".\\n\"There\\'s a desperate need for it, finding suitable accommodation for those leaving prison there is just a lack of it everywhere,\" he said.\\n\"It could take six months to a year, without a lot of help they could be on the streets for six months.\\n\"When you think of the consequences of either being on the street, especially with the cold weather at the moment or you may have a roof over your head, sometimes there is only one choice.\"\\nMr Stevens believes building more one-bedroom flats could help ease the problem.\\n\"The average price is a hundred pounds a week to keep someone in a rented flat, prison is a lot more than that so I would imagine it would save the public purse quite a few pounds,\" he said.\\nOfficial figures show 830 one-bedroom properties were built in the year to March 2016, of an overall total of 6,900 new properties in Wales.\\nMarc, 50, who has been in and out of prison for the past 20 years for burglary offences, said he struggled to find accommodation each time he was released.\\nHe said he would ask himself: \"Where am I going to stay? Where am I going to live? Have I got somewhere where I can see my daughter.\"\\n\"You\\'re put out among the same sort of people doing the same sort of thing, and it\\'s difficult, it\\'s difficult to get away from it. It\\'s like every man for himself, there\\'s nothing.\"\\nMarc has now found stable accommodation with homeless charity Emmaus and said it had been life changing.\\n\"You feel safe, you got hot food, you\\'ve got company of people in similar situations to yourself but all dealing with different issues. It\\'s a constructive, helpful atmosphere,\" he said.\\nTom Clarke, chief executive of Emmaus South Wales, agreed there was not enough support available.\\n\"We do still see [people] homeless on the streets, so clearly they haven\\'t got accommodation and haven\\'t got provision,\" he said.\\n\"I think the key is connecting people with the services they need. I don\\'t delude myself that Emmaus can offer a one size fits all for everyone, we can\\'t.\\n\"But there must be other opportunities and given suitable encouragement I believe that can and should happen.\"\\nA Welsh Government spokesman said the national pathway for homeless services to children, young people and adults in the secure estate had prevented many people from losing their home whilst serving their prison sentence.\\nIt added there were already significant demands for one-bedroom flats across the public and private sector and it was providing 20,000 new affordable homes in the next five years.'"
      ]
     },
     "execution_count": 4,
     "metadata": {},
     "output_type": "execute_result"
    }
   ],
   "source": [
    "articles[0]"
   ]
  },
  {
   "cell_type": "code",
   "execution_count": 7,
   "metadata": {},
   "outputs": [],
   "source": [
    "pkls=os.listdir('/nas02/Hadi/Relevance-Paraphrasing/paraphrased_articles/xsum')\n",
    "pkls=natsorted(pkls)\n",
    "pkls_list=[]\n",
    "count=0\n",
    "for pikl in pkls:\n",
    "    with open('/nas02/Hadi/Relevance-Paraphrasing/paraphrased_articles/xsum/{}'.format(pikl),'rb') as f:\n",
    "        file=pkl.load(f)\n",
    "    if not file:\n",
    "        count+=1\n",
    "        file.append(' ') #no paraphrasing possible\n",
    "    pkls_list.extend(file)"
   ]
  },
  {
   "cell_type": "code",
   "execution_count": 9,
   "metadata": {},
   "outputs": [
    {
     "data": {
      "text/plain": [
       "'Prison Link Cymru had 1,099 referrals in 2015-16 and said some ex-offenders were living rough for up to a year before finding suitable accommodation. Workers at the charity claim investment in housing would be cheaper than jailing homeless repeat offenders. The Welsh Government said more people than ever were getting help to address housing problems.  Prison Link Cymru, which helps people find accommodation after their release, said things were generally good for women because issues such as children or domestic violence were now considered. However, the same could not be said for men, the charity said, because issues which often affect them, such as post traumatic stress disorder or drug dependency, were often viewed as less of a priority.  \"There\\'s a desperate need for it, finding suitable accommodation for those leaving prison there is just a lack of it everywhere,\" he said. \"It could take six months to a year, without a lot of help they could be on the streets for six months. \"When you think of the consequences of either being on the street, especially with the cold weather at the moment or you may have a roof over your head, sometimes there is only one choice.\" Mr Stevens believes building more one-bedroom flats could help ease the problem. \"The average price is a hundred pounds a week to keep someone in a rented flat, prison is a lot more than that so I would imagine it would save the public purse quite a few pounds,\" he said. Official figures show 830 one-bedroom properties were built in the year to March 2016, of an overall total of 6,900 new properties in Wales. Marc, 50, who has been in and out of prison for the past 20 years for burglary offences, said he struggled to find accommodation each time he was released. He said he would ask himself: \"Where am I going to stay? Where am I going to live? Have I got somewhere where I can see my daughter.\" \"You\\'re put out among the same sort of people doing the same sort of thing, and it\\'s difficult, it\\'s difficult to get away from it. It\\'s like every man for himself, there\\'s nothing.\" Marc has now found stable accommodation with homeless charity Emmaus and said it had been life changing. \"You feel safe, you got hot food, you\\'ve got company of people in similar situations to yourself but all dealing with different issues. It\\'s a constructive, helpful atmosphere,\" he said. Tom Clarke, chief executive of Emmaus South Wales, agreed there was not enough support available. \"We do still see [people] homeless on the streets, so clearly they haven\\'t got accommodation and haven\\'t got provision,\" he said. \"I think the key is connecting people with the services they need. I don\\'t delude myself that Emmaus can offer a one size fits all for everyone, we can\\'t. \"But there must be other opportunities and given suitable encouragement I believe that can and should happen.\" A Welsh Government spokesman said the national pathway for homeless services to children, young people and adults in the secure estate had prevented many people from losing their home whilst serving their prison sentence. It added there were already significant demands for one-bedroom flats across the public and private sector and it was providing 20,000 new affordable homes in the next five years.'"
      ]
     },
     "execution_count": 9,
     "metadata": {},
     "output_type": "execute_result"
    }
   ],
   "source": [
    "pkls_list[0]"
   ]
  },
  {
   "cell_type": "code",
   "execution_count": 22,
   "metadata": {},
   "outputs": [],
   "source": [
    "# with open('xsum_capped_random.pkl', 'rb') as f:\n",
    "#     original_summaries=pkl.load(f)\n",
    "\n",
    "with open('reddit_capped_random.pkl', 'rb') as f:\n",
    "    original_summaries=pkl.load(f)"
   ]
  },
  {
   "cell_type": "code",
   "execution_count": 23,
   "metadata": {},
   "outputs": [
    {
     "data": {
      "text/plain": [
       "['You forgot to lock your dog away and it jumped on the mailman, causing you to chase after it and get locked outside your apartment for 4 hours']"
      ]
     },
     "execution_count": 23,
     "metadata": {},
     "output_type": "execute_result"
    }
   ],
   "source": [
    "original_summaries[43]"
   ]
  },
  {
   "cell_type": "code",
   "execution_count": 24,
   "metadata": {},
   "outputs": [],
   "source": [
    "# with open('../data_paraphrase/xsum_capped_random.pkl', 'rb') as f:\n",
    "#     paraphrased_summaries=pkl.load(f)\n",
    "\n",
    "with open('../data_paraphrase/reddit_capped_random.pkl', 'rb') as f:\n",
    "    paraphrased_summaries=pkl.load(f)"
   ]
  },
  {
   "cell_type": "code",
   "execution_count": 25,
   "metadata": {},
   "outputs": [
    {
     "data": {
      "text/plain": [
       "['When I was a second grader, I accidentally knocked over a tray of cupcakes that my teacher had just passed out, causing them to spill all over her and her new shoes']"
      ]
     },
     "execution_count": 25,
     "metadata": {},
     "output_type": "execute_result"
    }
   ],
   "source": [
    "paraphrased_summaries[0]"
   ]
  },
  {
   "cell_type": "code",
   "execution_count": 26,
   "metadata": {},
   "outputs": [
    {
     "name": "stdout",
     "output_type": "stream",
     "text": [
      "4214\n",
      "4214\n",
      "4214\n",
      "4214\n"
     ]
    }
   ],
   "source": [
    "print(len(articles))\n",
    "print(len(gold_summaries))\n",
    "print(len(original_summaries))\n",
    "print(len(paraphrased_summaries))"
   ]
  },
  {
   "cell_type": "code",
   "execution_count": 34,
   "metadata": {},
   "outputs": [],
   "source": [
    "# articles=articles[-100:]\n",
    "# gold_summaries=gold_summaries[-100:]\n",
    "# original_summaries=original_summaries[-100:]\n",
    "# paraphrased_summaries=paraphrased_summaries[-100:]\n",
    "\n",
    "articles=articles[-80:]\n",
    "gold_summaries=gold_summaries[-80:]\n",
    "original_summaries=original_summaries[-80:]\n",
    "paraphrased_summaries=paraphrased_summaries[-80:]"
   ]
  },
  {
   "cell_type": "code",
   "execution_count": 35,
   "metadata": {},
   "outputs": [],
   "source": [
    "final_art=[]\n",
    "final_gold=[]\n",
    "final_orig=[]\n",
    "final_para=[]"
   ]
  },
  {
   "cell_type": "code",
   "execution_count": 36,
   "metadata": {},
   "outputs": [
    {
     "name": "stdout",
     "output_type": "stream",
     "text": [
      "here\n"
     ]
    }
   ],
   "source": [
    "count=0\n",
    "for art, gold, orig, para in zip(articles,gold_summaries,original_summaries,paraphrased_summaries):\n",
    "    if art and gold and orig and para:\n",
    "        # print(count)\n",
    "        if count>=10:\n",
    "            print('here')\n",
    "            break\n",
    "        final_art.append(art)\n",
    "        final_gold.append(gold)\n",
    "        final_orig.append(orig[0])\n",
    "        final_para.append(para[0])\n",
    "        count+=1\n",
    "        \n",
    "        "
   ]
  },
  {
   "cell_type": "code",
   "execution_count": 37,
   "metadata": {},
   "outputs": [
    {
     "data": {
      "text/plain": [
       "['today i fucked up.\\nactually it was actually a few weeks ago as most posts on this subreddit are. while i fucked up, this could have ended much worst than it did, so i never got what was coming for my stupidity.\\na little background i am a 26 year old american living in the philippines, i live in the visayas region of the country.\\nso there i was, on a small 8 hour road trip up through the mountains on a 125cc scooter. i was travelling to my gf\\'s family reunion, up in the mountains, usually involves much drinking and roasted pig and tons of other wonderful things. for context, this region is extremely rural.\\nabout 5 hours into the trip the sun was starting to set and my scooter got a flat. no big deal, ill call my gf and she will send relatives from the area, but nope, left my cellphone at home. this being the philippines a passing motorist would surely offer help. after 15 minutes there had been no passing motorists. it is dark and i hear noises coming from the jungle.\\nfive men step out of the jungle, wearing fatigues, carrying an assortment of weaponry from assault rifles to grenades.\\nah great, i am being kidnapped for ransom.\\nmy grasp on the local dialect bisaya is rudimentary at best. i say \"hello\", they say \"good evening\" back, even ask me \"how are you doing?\" i explain i am not doing so well, my bike has a flat.\\nthey reply \"come with us\". oh chucklefuck.\\nthey ditch the bike in the jungle and we start a half kilometer hike up what must be the steepest hill in the world. we eventually reach what must be their camp. just green tarp to keep the rain off and sleeping pads on the ground. there is a small fire going in a depression of the land. they tell me to sit. i sit and we start speaking in broken english/bisaya to each other. they ask me where i am from, tell them i am american.i had my drivers licence on me, would rather them just find out now, than find out later while also finding out i had lied when they took my wallet(something they never ended up doing). they ask me questions about america, what i am doing in the philippines. they tell me they do not like america the country but do not care about the citizens. they tell me they are new people\\'s army, communist rebels. they ask if i am hungry i say yes, they feed me some dried fish and a handful of rice. they bring out a plastic bottle and pour me a drink. it is coconut wine(tuba), but very late in the day so it tastes more like vinegar...it is a large jug, and we start to get drunk. they seemed very childlike after drinking, most of them were in their early twenties, there were only 8 of them in total. i started to feel better about my predicament, as i began to realize that, even if they are communist rebels, they still have that warm filipino hospitality. i eventually ask them \"am i being kidnapped?\", this to them was hilarious, they told me \"no we are not abu sayyaf\" instead they were concerned about the white man standing on the side of an abandoned road right before dark in the middle of the philippines. with the jug of tuba finished, they tell me to \"go to sleep, we will wake up early\". one of the insurgents offers me his bedroll and walks off into the jungle to collect palm fronds to make his own bedding for the night. the next morning we walk down the hill, the men are in civilian clothing, they brought with them tools to vulcanize my scooter tire and they fix the flat! they then asked for a 500php(12 dollars or so) donation which i gladly gave them. they sent me on my way and one of them even said \"come back and visit\".\\nso while i fucked up, everything turned out alright. yet now as i am posting this i remember that the npa is listed as a terror organization by the united states government......sooo technically this may turn into a \"today i fucked up by supporting a terror organization\". we will see what the future brings.',\n",
       " \"this happened about half an hour ago :) i frequently ride my skateboard up to chick-fil-a to get some lunch on saturdays. and today was no exception. i order my food sit down and go to put my straw in my drink (dr pepper), but it wont go in all the way becuase the ice is in the way. normally if you just force it in it'll cooperate, but this straw  was different. i started pushing it down into my drink and moments later liquid starts gushing all over the tray with my food. i'd poked a hole in the bottom of the styrofoam cup -.- and on top of that, i got it on my jeans and shoes both of which were grey. i looked down is shock and dismay, threw the cup away, sorta cleaned up, ate then got the fuck out of there.\",\n",
       " 'this actually has been happening since 2015, i only just discovered my fuck up today.\\n\\ni’m sure many of you are aware of the app venmo. for any of you that are not, venmo is an app that you link your credit card to and you can send money to your friends. the thing with venmo is, you can only send the money you get from venmo to a bank account, not the credit card. here comes the fuck up.\\n\\nwhenever you put in the bank information you don’t have to verify it. you can put deposits into the bank account you entered right away, which was something i was not aware of. now i don’t use venmo all that often, but relatives often send me cash with it for holidays/birthdays or if i go through a drive-thru with some friends. something else that you should know about me is that i am not the most observant person. \\n\\nwhenever i would click “transfer to my bank” i noticed that it had a different bank than the one i use. i thought it must have been an error on venmo’s part, since the last numbers of the account number shown were correct. since the last numbers of the account number were correct, i just assumed that the transactions successfully went through, especially because venmo never sent me a notice saying the transaction failed.\\n\\nfast forward to now where i look at my bank statements and realize my recent venmo transaction didn’t go through. i start panicking and look back at all my past venmo statements, turns out none of them have gone through.\\n\\ni contact venmo to see what the issue is and it turns out that i had entered the wrong bank routing number three years ago. thinking back to that night, i remembered i entered that information was when me and a buddy got high together and played rocket league because he wanted to send me money so we could get domino’s. \\n\\nas it turns out my transactions have been going through, just not to my bank account. it is going to someone that shares the same account number that i do, just with a different bank. did some calculations to find that i have donated over $800 to this stranger.\\n\\ni am currently scrambling to figure out if there is any way i can see a fraction of the money back.',\n",
       " \"i am a straight male. i enjoy anal play. i have a plastic bag with two (rather large) toys and two containers of lube. i put this under my mattress and today my grandpa and i were putting carpet in my room. we move the bed and i realize my mistake right as we're removing the top mattress. my grandfather is on the other side of the bed where the plastic bag was. i turn my head the other way and continue moving the mattress to avoid the shame. i see him look through the bag suspiciously. no eye contact. he quickly realizes what it is and puts the bag to the side, making no comment to the contents; he can only guess whether the toys are for me or my so. we finish the job without a word about the bag.\",\n",
       " 'so there was this company that i was really aspired to work for. i aced the 2 hour online assessment, aced the phone interview last monday, and was scheduled for the personal interview with the hiring manager a day later. (last wednesday) the entire tuesday i used flash cards to help myself memorize about the company\\'s history, my job position\\'s responsibilities, and how to answer \"tell me about yourself\" for a solid 15+ hrs.\\n\\nthis was my 1st interview as i was very nervous, and excited because unlike other companies i had researched, this one seemed like a really cool place to work at. (they sold insurance to the armed forces.)\\n\\nbut to my surprise there were \"behavior questions,\" and it was not until i was in front of the hr manager that i knew i dong-goofed my preparation and was totally unprepared to answer his questions. he was even kind enough to ask me three times \"do you have any questions for us?\" i thought he covered everything and i had done enough research about what i would do day to day that i was in good shape. (wrong, it wasn\\'t until after i did more research on how to play the \"interview game\" and if i didn\\'t have any questions they would think i had no interest in the company.) \\n\\nfinally at the end the hr manager asked me: \"what makes you a good fit, for our company,\" in my mind, i wanted to tell him that \"i will most likely work harder than anyone else on the team because thats how i am, i am passionate at the things i do and i excel at what i do.\" instead, i started to mutter something along the lines of: \"man i know im suppose to sell myself here....uhhhh, if given the chance i want to the guy that will out perform everyone else,\" or something along those lines. i don\\'t even remember, i just knew i\\'ve blown my chance.\\n\\nheres the fu part, walking out of their hr building, i kept on analyzing how i goofed during the interview and what i should have said but didnt. today i was trying to find my portfolio and realized, that i had actually left my portfolio on top of my car when i was taking off my suit to hang in the backseat while still replaying how badly my 1st interview was. i then imagined someone turning my portfolio in the lost and found and telling their coe-workers \"a <insert name> fucked up and left his portfolio in the parking lot! what an idiot!\" and my hr manager found out.\\n\\ni received the \"rejection letter\" from them 2 days ago.\\n\\ni really, really want to work for this company, but i am afraid i\\'ve just blow my chances with them at all in the foreseeable future, i cant even find the phone # to their staffing office where the interview took place.\\n\\nlive and learn, right? >_<',\n",
       " \"(forgot to clarify: my cousin is two.)\\n\\nwell not really, accidentally i guess?\\n\\n \\n\\ntalking to my aunt later, apparently sometimes she'll say it if the situation is appropriate. (fortunately, my aunt did the same thing at one point, apparently, so she thinks it's her fault.)\\n\\nthis is why i suck with kids.\",\n",
       " \"so after i finished opening at my work today, i quickly drove over to my community college for my first class of the week. not wanting to wear khaki's all day, i park and take off my pants in the car. now for me, this is the easier part since everyone loves taking pants off, but putting on my shorts was a tad difficult, and i hate adjusting my driver seat, so i decided to step outside the car to put on my shorts. i hate going barefoot/shoeless on any floor that isn't in a building, so i'm on my tiptoes, bouncing because the asphalt is burning.\\n\\nas i pull my shorts up, i look up to see a girl pull up next to me, i smile at her, but in this moment of weakness, i lose my footing and begin to fall. naturally my hands grab at something to catch myself before face-planting in front of a relatively attractive person, but the only thing to grab was my boxers. so here i am, smiling like i just had a close-call, and she starts laughing in response. although i realize two seconds later she's laughing at my nether regions, so i look down horrified to find my package unwrapped. i haven't manscaped in a while, nor is my flaccid penis a shower, so i instantly turned around, butt to the world. \\n\\nbeing of asian indian descent, my hairiness is my gift to the world. behold my butt, which quickly became a hairy black hole (google that if you dare) as i bent over to pick up my shorts. realizing that, i turned once more, still bent over, only to show my reverse sinkhole to some mom's and their kids about to watch a school play. i decided the best course of action was to politely wave, pull up my pants, and march to class.\\n\\non the flip-side, some kind soul out there returned my iphone after it was stolen in the library, so thanks to that kind stranger.\",\n",
       " \"this happened a couple of weeks ago. i had recently started making homemade knifes. i make the blades, handles and leather sheaths. the leather i use is quite thick and the sheaths i make is very simple with just leather folded over the knife blade and stiched together. for that i need to make holes in the leather and sometimes mark where to put the holes from the other side of the leather. since i'm quite new at this i don't have professional tools, so i decided to make a hole through the leather with a small and cheap folding knife. i held it so that my thumb was over the gap where the blades foldes in to the handle and started pushing down whit a lot of force to get through the leather. under the force, the blade folded in towards the handle where my thumb was. i dropped the knife and i saw a long cut across the entire finger nail with blood coming out. if it wasn't for the bone in the finger, then i would probably have spilt my thumb in two. as a hobby craftsman, the only thing you can learn by is experience and your own faults. so the lesson is; don't try to stick a hole through something with a cheap folding knife.\",\n",
       " \"so recently i've taken on the task of creating a handheld retro gaming system using a raspberry pi, a very small computer.  this project, though, requires soldering components together, which i haven't done in a long time.  today, my new soldering iron came in the mail, and i was excited to finally get to work on the project again.  i gladly pulled the iron out and began soldering.  things were going smoothly until i decided that the tip i was using wasn't working as well as i wanted.  this is where the fuck up really starts.  i was letting the iron cool down, and when i thought it was cool enough, i began unscrewing the outer layer so i could replace the tip.  as you can probably guess, it wasn't cool enough.  the bolt was warm, and as i was pulling it off, the hot core in the middle felt even warmer and i then accidentally touched it.  of course, my finger was instantly burned from the 400 degree celsius iron and i pulled my hand back, dropping the bolt and watching as the tip fell off the iron onto my nylon carpet.  so here i am with a burnt finger and 2 pieces of metal slowly melting my carpet.  genius me decided to further melt my carpet my using the hot core of the iron to lift the tip into a paper towel and back onto the table.  as soon as i had everything off my carpet, i ran to the nearest sink and ran my scalding, blistering finger under water.  when i came back, i realized i had destroyed my new iron by having it covered in nylon.  the worst part was, when my mom came over and i told her what happened, she didn't even ask about my hand and instead just worried about the resale price of the house due to a now melted carpet.\",\n",
       " 'so, i went to go see straight outta compton with a few friends a few nights back (i know its not today, but i\\'ve seen tifu from years back). note i already saw the movie before with some other friends. i had nothing to do except moan about a broken finger and school work, so i just said fuck it and went. i bought my usual popcorn, and sat in a full theater. as we are in the theater, in the scene where eazy-e falls into a coma, and dr. dre came to visit, a popcorn kernel got stuck in my eye for some odd reason while i was eating. it caused my eye to water up, so i casually wiped it off. my friend saw, and he told my other bud, and started making fun of me for the rest of the movie and the ride home. i eventually went home, and thought nothing of it. the next morning at school, i walk into the class and everyone is giggling and cracking a smile. during class, i get a note thrown at me saying i was \"a pussy for eazy.\" so far, the jokes haven\\'t died down.']"
      ]
     },
     "execution_count": 37,
     "metadata": {},
     "output_type": "execute_result"
    }
   ],
   "source": [
    "final_art"
   ]
  },
  {
   "cell_type": "code",
   "execution_count": 38,
   "metadata": {},
   "outputs": [
    {
     "data": {
      "text/plain": [
       "['got drunk with members of a group that are on the u.s. list of terror organizations. may have helped fund terrorism inadvertently.',\n",
       " 'went to chick-fil-a, straw wouldnt go in my drink. forced it in, poked a hole in the cup and got dr pepper all over my jeans, shoes and tray with my food.',\n",
       " 'got high and put my wrong bank information into venmo, have been depositing my transactions into a complete stranger’s bank account instead of my own.',\n",
       " 'grandpa and i move bed. he finds my anal toys, tosses bag to the side. no conversation about it.',\n",
       " \"spent 15 hours preparing for the interview in the wrong way, and then after the interview left my portfolio on the top of my car and drove home in shame, can't even find their hr building's phone to ask if they found it, #sucking@life\",\n",
       " 'basically i\\'m at the playground with her, fall off something i\\'m probably ten years too old for, first thing out of my mouth is \"shit\", as you do.',\n",
       " 'displayed manliness. earned iphone.**',\n",
       " 'tried to stick a hole through thick leather with a cheap folding knife that folded across my thumb and nearly split it in two',\n",
       " ':  i bought a new soldering iron and burned my finger on it while dropping the hot metal onto my nylon carpet.',\n",
       " 'ate popcorn at straight outta compton, kernel got stuck in my eye and looked like i was crying, got made fun of at school really bad.']"
      ]
     },
     "execution_count": 38,
     "metadata": {},
     "output_type": "execute_result"
    }
   ],
   "source": [
    "final_gold"
   ]
  },
  {
   "cell_type": "code",
   "execution_count": 39,
   "metadata": {},
   "outputs": [
    {
     "data": {
      "text/plain": [
       "['The author recounts a harrowing experience of being \"kidnapped\" by communist rebels in the Philippines, but ultimately realizes that they were not abu sayyaf and were instead concerned about the author\\'s well-being',\n",
       " 'While eating at Chick-fil-A on a Saturday, the writer accidentally poked a hole in the bottom of their styrofoam cup with their straw, causing liquid to gush all over their tray and clothes',\n",
       " 'The author discovered that they had been unknowingly donating money to a stranger through the Venmo app since 2015, after entering the wrong bank routing number and having the transactions go to a different bank account with the same account number',\n",
       " 'As a straight male who enjoys anal play, I accidentally left a plastic bag containing two large toys and two containers of lube under my mattress, which my grandfather discovered while we were putting new carpet in my room',\n",
       " 'You had a first interview with a company you were very interested in, but you were unprepared for the behavior questions and struggled to answer them',\n",
       " 'My two-year-old cousin accidentally said \"forgot to clarify\" instead of \"I love you\" during a conversation, and my aunt also made the same mistake at one point, so they both think it\\'s their fault',\n",
       " 'After parking and taking off his pants in his car, the writer had a mishap while trying to put on his shorts and ended up exposing his underwear and butt to a passing girl and a group of moms and kids',\n",
       " \"As a hobby craftsman, it's important to learn from your own experiences and mistakes, such as not using a professional tool for a specific task, like making holes in leather with a cheap folding knife\",\n",
       " 'I recently received a new soldering iron and began working on a handheld retro gaming system, but my lack of experience with soldering led to a series of mishaps, including burning my finger and melting my carpet',\n",
       " \"You went to see Straight Outta Compton with friends, but during the movie, a popcorn kernel got stuck in your eye and caused watering, leading to teasing and jokes from your friends that haven't stopped the next morning at school\"]"
      ]
     },
     "execution_count": 39,
     "metadata": {},
     "output_type": "execute_result"
    }
   ],
   "source": [
    "final_orig"
   ]
  },
  {
   "cell_type": "code",
   "execution_count": 40,
   "metadata": {},
   "outputs": [
    {
     "data": {
      "text/plain": [
       "['You fucked up by getting lost in the mountains of the Philippines during a road trip and being rescued by communist rebels',\n",
       " 'I went to Chick-fil-A for lunch and attempted to insert my straw into my Dr Pepper, but the ice blocked the way and I inadvertently created a small opening in the cup, causing liquid to spill all over my tray, jeans, and shoes',\n",
       " 'The writer discovered that they had been unknowingly donating money to a stranger through the Venmo app since 2015, due to a mistake in entering their bank information',\n",
       " 'I, a straight male, accidentally left a plastic bag containing two large anal toys and lube under my mattress while installing new carpet with my grandfather, and he discovered the bag without commenting on its contents',\n",
       " 'The candidate had a disappointing first interview with a company they were eager to work for, and they believe they blew their chances due to unpreparedness and nervousness',\n",
       " 'My two-year-old cousin sometimes says \"I forgot\" when they forget something, which is a phrase my aunt also uses when she forgets something',\n",
       " 'After parking and taking off my pants in my car, I struggled to put on my shorts and lost my footing, causing me to clutch at my boxer shorts and almost fall face-first in front of someone I found moderately attractive',\n",
       " 'As a novice hobby craftsman, I learned the hard way that attempting to force a hole through thick leather with a flimsy folding knife is not a good idea, as it can lead to serious injury, such as cutting through my finger nail and almost splitting it in two',\n",
       " 'I was excited to start my handheld retro gaming system project using a Raspberry Pi, but my soldering iron adventure ended in disaster when I accidentally touched a 400°C hot iron to my finger, causing it to scorch and melt my nylon carpet',\n",
       " 'You went to see Straight Outta Compton with friends, and during the movie, a popcorn kernel got lodged in your eye, causing you to tear up and get teased mercilessly by your friends for the rest of the movie and the ride home']"
      ]
     },
     "execution_count": 40,
     "metadata": {},
     "output_type": "execute_result"
    }
   ],
   "source": [
    "final_para"
   ]
  },
  {
   "cell_type": "code",
   "execution_count": 41,
   "metadata": {},
   "outputs": [],
   "source": [
    "dic={\"Article\":final_art, \"Gold\":final_gold, \"Original\": final_orig, \"Paraphrased\": final_para}"
   ]
  },
  {
   "cell_type": "code",
   "execution_count": 42,
   "metadata": {},
   "outputs": [],
   "source": [
    "df=pd.DataFrame.from_dict(dic)"
   ]
  },
  {
   "cell_type": "code",
   "execution_count": 43,
   "metadata": {},
   "outputs": [],
   "source": [
    "# df.to_csv('../annotation/xsum_llama.csv')\n",
    "\n",
    "df.to_csv('../annotation/reddit_llama.csv')"
   ]
  },
  {
   "cell_type": "code",
   "execution_count": null,
   "metadata": {},
   "outputs": [],
   "source": []
  }
 ],
 "metadata": {
  "kernelspec": {
   "display_name": "acl",
   "language": "python",
   "name": "python3"
  },
  "language_info": {
   "codemirror_mode": {
    "name": "ipython",
    "version": 3
   },
   "file_extension": ".py",
   "mimetype": "text/x-python",
   "name": "python",
   "nbconvert_exporter": "python",
   "pygments_lexer": "ipython3",
   "version": "3.12.2"
  },
  "orig_nbformat": 4
 },
 "nbformat": 4,
 "nbformat_minor": 2
}
