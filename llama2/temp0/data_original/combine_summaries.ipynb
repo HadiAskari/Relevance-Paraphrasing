{
 "cells": [
  {
   "cell_type": "code",
   "execution_count": 96,
   "metadata": {},
   "outputs": [],
   "source": [
    "import pickle as pkl\n",
    "import nltk\n",
    "import os\n",
    "# from datasets import load_dataset\n",
    "# from nltk.tokenize import sent_tokenize, word_tokenize\n",
    "# import multiprocessing\n",
    "# import evaluate\n",
    "from rouge_score import rouge_scorer\n",
    "from tqdm.auto import tqdm\n",
    "from natsort import natsorted\n",
    "import random\n"
   ]
  },
  {
   "cell_type": "code",
   "execution_count": 97,
   "metadata": {},
   "outputs": [
    {
     "name": "stdout",
     "output_type": "stream",
     "text": [
      "115\n",
      " Sure! Here is a summary of the article in a numbered list format:\n",
      "\n",
      "1. Senate Republican leader Mitch McConnell told President Obama's Supreme Court nominee Merrick Garland by phone that Republicans will not act on his nomination or meet with him.\n",
      "2. McConnell decided it would be more considerate of Garland's time to speak with him by phone rather than putting him through unnecessary political routines orchestrated by the White House.\n",
      "3. McConnell told Garland that the Senate will not be acting on his nomination, and he wished him well.\n"
     ]
    }
   ],
   "source": [
    "pkls=os.listdir('news')\n",
    "pkls=natsorted(pkls)\n",
    "pkls_list=[]\n",
    "for pikl in pkls:\n",
    "    with open('news/{}'.format(pikl),'rb') as f:\n",
    "        file=pkl.load(f)\n",
    "    if not file:\n",
    "        file.append(' ')\n",
    "    pkls_list.extend(file)\n",
    "\n",
    "print(len(pkls_list))\n",
    "print(pkls_list[0])\n"
   ]
  },
  {
   "cell_type": "code",
   "execution_count": 98,
   "metadata": {},
   "outputs": [
    {
     "data": {
      "text/plain": [
       "4.2"
      ]
     },
     "execution_count": 98,
     "metadata": {},
     "output_type": "execute_result"
    }
   ],
   "source": [
    "total_count=0\n",
    "news_list=[]\n",
    "for i in range(len(pkls_list)):\n",
    "    temp=[]\n",
    "    splits=pkls_list[i].split('\\n')\n",
    "    for split in splits:\n",
    "        if split:\n",
    "            if split[0].isdigit():\n",
    "                try:\n",
    "                    \n",
    "                    temp.append(split.split(\".\")[1].strip())\n",
    "                except:\n",
    "                    print(split)\n",
    "    total_count+=len(temp)\n",
    "    news_list.append(temp)\n",
    "total_count/len(pkls_list)"
   ]
  },
  {
   "cell_type": "code",
   "execution_count": 99,
   "metadata": {},
   "outputs": [
    {
     "data": {
      "text/plain": [
       "115"
      ]
     },
     "execution_count": 99,
     "metadata": {},
     "output_type": "execute_result"
    }
   ],
   "source": [
    "len(news_list)"
   ]
  },
  {
   "cell_type": "code",
   "execution_count": 100,
   "metadata": {},
   "outputs": [
    {
     "data": {
      "text/plain": [
       "3"
      ]
     },
     "execution_count": 100,
     "metadata": {},
     "output_type": "execute_result"
    }
   ],
   "source": [
    "len(news_list[0])"
   ]
  },
  {
   "cell_type": "code",
   "execution_count": 101,
   "metadata": {},
   "outputs": [
    {
     "data": {
      "text/plain": [
       "[\"Senate Republican leader Mitch McConnell told President Obama's Supreme Court nominee Merrick Garland by phone that Republicans will not act on his nomination or meet with him\",\n",
       " \"McConnell decided it would be more considerate of Garland's time to speak with him by phone rather than putting him through unnecessary political routines orchestrated by the White House\",\n",
       " 'McConnell told Garland that the Senate will not be acting on his nomination, and he wished him well']"
      ]
     },
     "execution_count": 101,
     "metadata": {},
     "output_type": "execute_result"
    }
   ],
   "source": [
    "news_list[0]"
   ]
  },
  {
   "cell_type": "code",
   "execution_count": 102,
   "metadata": {},
   "outputs": [],
   "source": [
    "# #news\n",
    "\n",
    "# news_list_capped=[]\n",
    "# for item in news_list:\n",
    "#     try:\n",
    "#         length=len(item)\n",
    "#         # print(length)\n",
    "#         random.seed(42)\n",
    "#         choose1,choose2,choose3=random.sample(range(0,length),3)\n",
    "#         temp=[choose1,choose2,choose3]\n",
    "#         temp.sort()\n",
    "#         # print(temp)\n",
    "#         news_list_capped.append([item[temp[0]],item[temp[1]],item[temp[2]]])\n",
    "#     except:\n",
    "#         news_list_capped.append([])"
   ]
  },
  {
   "cell_type": "code",
   "execution_count": 103,
   "metadata": {},
   "outputs": [
    {
     "name": "stdout",
     "output_type": "stream",
     "text": [
      " Sure! Here is a summary of the article in a numbered list format:\n",
      "\n",
      "1. Senate Republican leader Mitch McConnell told President Obama's Supreme Court nominee Merrick Garland by phone that Republicans will not act on his nomination or meet with him.\n",
      "2. McConnell decided it would be more considerate of Garland's time to speak with him by phone rather than putting him through unnecessary political routines orchestrated by the White House.\n",
      "3. McConnell told Garland that the Senate will not be acting on his nomination, and he wished him well.\n"
     ]
    }
   ],
   "source": [
    "print(pkls_list[0])"
   ]
  },
  {
   "cell_type": "code",
   "execution_count": 104,
   "metadata": {},
   "outputs": [
    {
     "name": "stdout",
     "output_type": "stream",
     "text": [
      "Length: 3\n",
      "0\n",
      "Length: 5\n",
      "5\n",
      "Length: 1\n",
      "0\n",
      "Length: 10\n",
      "10\n",
      "Length: 2\n",
      "2\n",
      "Length: 2\n",
      "2\n",
      "Length: 1\n",
      "0\n",
      "Length: 4\n",
      "0\n",
      "Length: 4\n",
      "0\n",
      "Length: 1\n",
      "0\n",
      "Length: 5\n",
      "5\n",
      "Length: 2\n",
      "2\n",
      "Length: 5\n",
      "5\n",
      "Length: 6\n",
      "5\n",
      "Length: 2\n",
      "2\n",
      "Length: 6\n",
      "5\n",
      "Length: 3\n",
      "0\n",
      "Length: 6\n",
      "5\n",
      "Length: 5\n",
      "5\n",
      "Length: 2\n",
      "2\n",
      "Length: 5\n",
      "5\n",
      "Length: 1\n",
      "0\n",
      "Length: 6\n",
      "5\n",
      "Length: 4\n",
      "0\n",
      "Length: 5\n",
      "5\n",
      "Length: 3\n",
      "0\n",
      "Length: 5\n",
      "5\n",
      "Length: 5\n",
      "5\n",
      "Length: 6\n",
      "5\n",
      "Length: 5\n",
      "5\n",
      "Length: 7\n",
      "1\n",
      "Length: 3\n",
      "0\n",
      "Length: 3\n",
      "0\n",
      "Length: 3\n",
      "0\n",
      "Length: 5\n",
      "5\n",
      "Length: 4\n",
      "0\n",
      "Length: 6\n",
      "5\n",
      "Length: 2\n",
      "2\n",
      "Length: 2\n",
      "2\n",
      "Length: 3\n",
      "0\n",
      "Length: 5\n",
      "5\n",
      "Length: 6\n",
      "5\n",
      "Length: 5\n",
      "5\n",
      "Length: 1\n",
      "0\n",
      "Length: 5\n",
      "5\n",
      "Length: 4\n",
      "0\n",
      "Length: 5\n",
      "5\n",
      "Length: 4\n",
      "0\n",
      "Length: 4\n",
      "0\n",
      "Length: 5\n",
      "5\n",
      "Length: 5\n",
      "5\n",
      "Length: 4\n",
      "0\n",
      "Length: 5\n",
      "5\n",
      "Length: 7\n",
      "1\n",
      "Length: 3\n",
      "0\n",
      "Length: 5\n",
      "5\n",
      "Length: 5\n",
      "5\n",
      "Length: 4\n",
      "0\n",
      "Length: 4\n",
      "0\n",
      "Length: 5\n",
      "5\n",
      "Length: 8\n",
      "1\n",
      "Length: 4\n",
      "0\n",
      "Length: 1\n",
      "0\n",
      "Length: 6\n",
      "5\n",
      "Length: 5\n",
      "5\n",
      "Length: 3\n",
      "0\n",
      "Length: 4\n",
      "0\n",
      "Length: 5\n",
      "5\n",
      "Length: 2\n",
      "2\n",
      "Length: 6\n",
      "5\n",
      "Length: 1\n",
      "0\n",
      "Length: 3\n",
      "0\n",
      "Length: 6\n",
      "5\n",
      "Length: 4\n",
      "0\n",
      "Length: 3\n",
      "0\n",
      "Length: 5\n",
      "5\n",
      "Length: 2\n",
      "2\n",
      "Length: 6\n",
      "5\n",
      "Length: 4\n",
      "0\n",
      "Length: 4\n",
      "0\n",
      "Length: 5\n",
      "5\n",
      "Length: 5\n",
      "5\n",
      "Length: 4\n",
      "0\n",
      "Length: 6\n",
      "5\n",
      "Length: 5\n",
      "5\n",
      "Length: 5\n",
      "5\n",
      "Length: 4\n",
      "0\n",
      "Length: 8\n",
      "1\n",
      "Length: 5\n",
      "5\n",
      "Length: 1\n",
      "0\n",
      "Length: 2\n",
      "2\n",
      "Length: 3\n",
      "0\n",
      "Length: 3\n",
      "0\n",
      "Length: 1\n",
      "0\n",
      "Length: 5\n",
      "5\n",
      "Length: 5\n",
      "5\n",
      "Length: 3\n",
      "0\n",
      "Length: 5\n",
      "5\n",
      "Length: 5\n",
      "5\n",
      "Length: 2\n",
      "2\n",
      "Length: 5\n",
      "5\n",
      "Length: 1\n",
      "0\n",
      "Length: 7\n",
      "1\n",
      "Length: 3\n",
      "0\n",
      "Length: 1\n",
      "0\n",
      "Length: 5\n",
      "5\n",
      "Length: 5\n",
      "5\n",
      "Length: 6\n",
      "5\n",
      "Length: 5\n",
      "5\n",
      "Length: 5\n",
      "5\n",
      "Length: 5\n",
      "5\n",
      "Length: 5\n",
      "5\n",
      "Length: 6\n",
      "5\n",
      "Length: 6\n",
      "5\n",
      "Length: 5\n",
      "5\n"
     ]
    }
   ],
   "source": [
    "# #Non news\n",
    "\n",
    "news_list_capped=[]\n",
    "for item in news_list:\n",
    "    length=len(item)\n",
    "    print(\"Length: {}\".format(length))\n",
    "    if length == 0:\n",
    "        news_list_capped.append([])\n",
    "        continue\n",
    "    random.seed(42)\n",
    "    choose=random.randint(0,length)\n",
    "    print(choose)\n",
    "    try:\n",
    "        news_list_capped.append([item[choose]])\n",
    "    except:\n",
    "        news_list_capped.append([])"
   ]
  },
  {
   "cell_type": "code",
   "execution_count": 105,
   "metadata": {},
   "outputs": [
    {
     "data": {
      "text/plain": [
       "115"
      ]
     },
     "execution_count": 105,
     "metadata": {},
     "output_type": "execute_result"
    }
   ],
   "source": [
    "len(news_list)"
   ]
  },
  {
   "cell_type": "code",
   "execution_count": 106,
   "metadata": {},
   "outputs": [],
   "source": [
    "with open('news_capped_random.pkl', 'wb') as f:\n",
    "    pkl.dump(news_list_capped,f)"
   ]
  },
  {
   "cell_type": "code",
   "execution_count": 107,
   "metadata": {},
   "outputs": [],
   "source": [
    "with open('news_capped_random.pkl', 'rb') as f:\n",
    "    news=pkl.load(f)"
   ]
  },
  {
   "cell_type": "code",
   "execution_count": 108,
   "metadata": {},
   "outputs": [
    {
     "data": {
      "text/plain": [
       "[[\"Senate Republican leader Mitch McConnell told President Obama's Supreme Court nominee Merrick Garland by phone that Republicans will not act on his nomination or meet with him\"],\n",
       " [],\n",
       " ['Luis Miranda, the communications director for the Democratic National Committee, is expected to leave the party on Tuesday amid the ongoing email hacking scandal'],\n",
       " [],\n",
       " [],\n",
       " [],\n",
       " [\"Thousands of Rohingya Muslims in two remote villages in Myanmar's Rakhine state have been denied safe passage and are being forced to stay in their villages, despite running short of food and facing threats from Buddhist neighbors\"],\n",
       " ['Emmanuel Macron has brought a new pace and style to the French presidency, shaking up how the office is run and injecting fresh energy into the role'],\n",
       " [\"Amnesty International has urged Egyptian authorities to release 24 Nubian activists who were detained last week for protesting without permission, demanding that the authorities respect the activists' rights to freedom of expression and assembly\"],\n",
       " [\"A 29-year-old man from The Hague was shot by military police at Amsterdam's Schiphol Airport after making threats with a knife and was taken into custody, with no other injuries reported\"],\n",
       " [],\n",
       " [],\n",
       " [],\n",
       " ['Separate air strikes by Russia and the U'],\n",
       " [],\n",
       " [\"The parliamentary vote came a day after Sri Lanka's Supreme Court set a date for January 11 to rule on three petitions against the leasing of land around the port to China\"],\n",
       " ['An Israeli kibbutz, Kibbutz Shaar Haamakim, is taking pride in the fact that former volunteer and current U'],\n",
       " ['Some Democrats have rejected the plan, with one calling it \"alternative facts\" and another taping sheets of paper to their desks saying \"Rauner Budget = Fake News'],\n",
       " [],\n",
       " [],\n",
       " [],\n",
       " ['U'],\n",
       " ['Politicians and press freedom advocates around the world have condemned the arrests, including U'],\n",
       " ['Britain believes that North Korea was responsible for the WannaCry cyber attack in May, which affected over 300,000 computers in 150 countries and disrupted NHS services in England'],\n",
       " [],\n",
       " ['The North Korean foreign ministry spokesman stated that the more sanctions imposed by the US and its allies, the faster North Korea will complete its nuclear plans'],\n",
       " [],\n",
       " [],\n",
       " ['According to Comey, FBI technicians were unable to access data in about 1,200 of some 2,800 devices that state and local agencies asked the bureau to help open from October to December, hampering progress in criminal investigations'],\n",
       " [],\n",
       " [\"Trump's support for the pipeline is despite media reports that he owns a stake in Energy Transfer Partners, the company building the pipeline\"],\n",
       " ['Germany aims to maintain strong trans-Atlantic relations with the future U'],\n",
       " ['The Al-Imam Mohammed Ibn Saud Islamic University in Riyadh has announced that it will dismiss employees suspected of having ties to the banned Muslim Brotherhood, as part of a broader crackdown on dissent in academia and beyond'],\n",
       " ['U'],\n",
       " [],\n",
       " ['Former Republican presidential candidate Bob Dole, 94, has been hospitalized since last week due to low blood pressure and is expected to be released within a matter of days'],\n",
       " ['Automakers argue that the rules will impose significant costs and are out of step with consumer preferences, while environmentalists argue that the rules will reduce fuel costs and greenhouse gases'],\n",
       " [],\n",
       " [],\n",
       " ['China has warned the United States that it will impose sanctions on North Korea if the country carries out another nuclear test, according to U'],\n",
       " [],\n",
       " ['The German foreign ministry welcomed the agreement as an important step toward bringing peace to South Sudan, and called on all participating parties to implement it in a comprehensive and sustainable manner'],\n",
       " [],\n",
       " ['The 9th U'],\n",
       " [],\n",
       " ['Opponents of the \"Justice Against Sponsors of Terrorism Act\" (JASTA) are fighting against the bill, which would allow lawsuits against Saudi Arabia\\'s government for the 9/11 attacks, ahead of a expected veto override by the US Senate'],\n",
       " [],\n",
       " ['U'],\n",
       " ['Syrian warplanes took off from an air base hit by US cruise missiles and carried out air strikes on rebel-held areas in eastern Homs countryside'],\n",
       " [],\n",
       " [],\n",
       " ['German police arrested a 29-year-old man suspected of being an active member of Islamic State who was planning a truck attack on an ice rink in Karlsruhe'],\n",
       " [],\n",
       " ['The new measures will tighten rules on Americans traveling to Cuba and restrict U'],\n",
       " ['The Chinese military will make all necessary preparations to protect national sovereignty and regional peace and stability, according to Defense Ministry spokesman Wu Qian'],\n",
       " [],\n",
       " [],\n",
       " [\"China's Premier Li Keqiang emphasized the importance of enhancing protection of intellectual property rights (IPR) for the country's economy, citing inadequate protection as a contributing factor to the decline in private investment\"],\n",
       " [\"British Prime Minister Theresa May refused to say whether she would vote for Brexit if there was another referendum, avoiding an answer on the issue that will define Britain's fate for generations to come\"],\n",
       " [],\n",
       " ['The order, released on Friday, restricts travelers from Iran, Iraq, Libya, Somalia, Sudan, Syria, and Yemen from entering the US for at least 90 days'],\n",
       " ['U'],\n",
       " ['Carles Puigdemont, the former head of Catalonia, is on his way to Brussels to meet with lawyers and political representatives'],\n",
       " ['Lopez Obrador has also repeated his intention to consult with victims of drug crime about the possibility of offering amnesty to criminals who commit to rehabilitation, despite opposition from two-thirds of Mexicans'],\n",
       " [],\n",
       " ['Omarosa Manigault, a former contestant on \"The Apprentice\" and a visible African-American supporter of Donald Trump during his presidential campaign, is being considered for a job in his White House transition team'],\n",
       " [\"Boris Johnson, the British Foreign Secretary, compared any attempt to punish Britain for leaving the EU to a World War II escape movie, sparking condemnation from the European Parliament's chief Brexit negotiator\"],\n",
       " [],\n",
       " [],\n",
       " [\"The hearing also featured testimony from doctors and a patient with Wilson's Disease who was forced to stop using Syprine because of the price spike\"],\n",
       " ['Rex Tillerson, the U'],\n",
       " ['The head of the U'],\n",
       " [\"Lam reiterated Hong Kong's responsibility to uphold China's sovereignty, security, and development interests, while also emphasizing the need for a united and harmonious society\"],\n",
       " [\"Steve Mnuchin, President Trump's nominee for U\"],\n",
       " ['The United Nations has called for a humanitarian pause in Sanaa, Yemen on Tuesday to allow civilians to leave their homes, aid workers to reach them, and the wounded to receive medical care'],\n",
       " [],\n",
       " [],\n",
       " ['Trump\\'s lawyer, Sheri Dillon, argued at a press conference that payments to Trump\\'s hotels do not violate the Constitution because \"paying for a hotel room is not a gift or a present'],\n",
       " ['U'],\n",
       " ['British Prime Minister Theresa May will travel to the Middle East this week to support economic reforms in Saudi Arabia and Jordan, as well as to discuss the crisis in Yemen and the dispute in Qatar'],\n",
       " [],\n",
       " [],\n",
       " ['Mexico President Enrique Pena Nieto announced that Israel has offered to help Mexico and the United States develop Central America, and the two nations have agreed to update their free trade agreement'],\n",
       " ['Denny Burk, a biblical studies professor, condemned Trump\\'s remarks as \"morally bankrupt and completely unacceptable'],\n",
       " [],\n",
       " [],\n",
       " ['A stop-gap funding bill to avoid a federal government shutdown failed to garner enough votes in the Senate, with both Democrats and Republicans opposing the measure'],\n",
       " ['A wooden boat carrying migrants sank off Kalymnos island, resulting in the recovery of one body and the search for more missing people'],\n",
       " [],\n",
       " ['Israeli Prime Minister Benjamin Netanyahu will meet with President Donald Trump on February 15 to discuss a range of security issues, including strategic, technological, military, and intelligence cooperation'],\n",
       " [],\n",
       " ['Carles Puigdemont, the regional leader of Catalonia, will lose all powers and stop receiving a salary once the Senate approves article 155, which imposes direct central government rule on the region'],\n",
       " ['President-elect Donald Trump met with members of U'],\n",
       " [\"No firm date has been set yet for the proposed Congress of Syria's peoples, as the Kremlin is focusing on ensuring the forum is as inclusive as possible, according to Kremlin spokesman Dmitry Peskov\"],\n",
       " [],\n",
       " [],\n",
       " ['U'],\n",
       " [],\n",
       " [],\n",
       " [],\n",
       " [],\n",
       " ['Islamic State claimed responsibility for a car bomb attack outside the offices of the Yemeni finance ministry in Aden, which killed at least two people'],\n",
       " ['The Senate Budget Committee will hold a hearing on whether the Republican tax legislation meets the rules for fast-track reconciliation, which could allow for a quick introduction of the bill on the Senate floor'],\n",
       " ['The Kremlin has expressed interest in Cuba maintaining good relations with the United States, as the two countries have had decades of friendly relations'],\n",
       " ['North Korean Foreign Minister Ri Yong Ho stated that the country could consider conducting a hydrogen bomb test on the Pacific Ocean of an unprecedented scale, in response to the United States\\' \"highest level of hard-line countermeasure\" threat'],\n",
       " [],\n",
       " [],\n",
       " ['The NDAA also includes about $66 billion in special war funding, which is exempt from the so-called sequestration cap'],\n",
       " [],\n",
       " [],\n",
       " [],\n",
       " [],\n",
       " [\"The announcement has sparked legal threats from civil liberties advocates and protests from hundreds of people in New York's Times Square\"],\n",
       " ['Afghanistan accuses Islamabad of sheltering the leadership of the Afghan Taliban, and relations between the two countries have soured in recent years'],\n",
       " []]"
      ]
     },
     "execution_count": 108,
     "metadata": {},
     "output_type": "execute_result"
    }
   ],
   "source": [
    "news"
   ]
  },
  {
   "cell_type": "code",
   "execution_count": null,
   "metadata": {},
   "outputs": [],
   "source": []
  }
 ],
 "metadata": {
  "kernelspec": {
   "display_name": "acl",
   "language": "python",
   "name": "python3"
  },
  "language_info": {
   "codemirror_mode": {
    "name": "ipython",
    "version": 3
   },
   "file_extension": ".py",
   "mimetype": "text/x-python",
   "name": "python",
   "nbconvert_exporter": "python",
   "pygments_lexer": "ipython3",
   "version": "3.12.2"
  },
  "orig_nbformat": 4
 },
 "nbformat": 4,
 "nbformat_minor": 2
}
