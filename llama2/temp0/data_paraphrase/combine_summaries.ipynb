{
 "cells": [
  {
   "cell_type": "code",
   "execution_count": 81,
   "metadata": {},
   "outputs": [],
   "source": [
    "import pickle as pkl\n",
    "import nltk\n",
    "import os\n",
    "# from datasets import load_dataset\n",
    "# from nltk.tokenize import sent_tokenize, word_tokenize\n",
    "# import multiprocessing\n",
    "# import evaluate\n",
    "from rouge_score import rouge_scorer\n",
    "from tqdm.auto import tqdm\n",
    "from natsort import natsorted\n",
    "import random\n"
   ]
  },
  {
   "cell_type": "code",
   "execution_count": 82,
   "metadata": {},
   "outputs": [
    {
     "name": "stdout",
     "output_type": "stream",
     "text": [
      "115\n",
      " Sure! Here is a summary of the article in a numbered list format:\n",
      "\n",
      "1. Senate Republican leader Mitch McConnell notified President Obama's Supreme Court nominee Merrick Garland by phone on Wednesday that Republicans will not be taking any action on his nomination or meeting with him.\n",
      "2. According to McConnell spokesman Don Stewart, this decision was made out of respect for Garland's time and to avoid subjecting him to unnecessary political proceedings orchestrated by the White House.\n",
      "3. McConnell informed the appellate court judge that he would not be conducting a formal meeting for the nomination since the Senate was not taking action, but he offered well wishes to Judge Garland.\n"
     ]
    }
   ],
   "source": [
    "pkls=os.listdir('news')\n",
    "pkls=natsorted(pkls)\n",
    "pkls_list=[]\n",
    "for pikl in pkls:\n",
    "    with open('news/{}'.format(pikl),'rb') as f:\n",
    "        file=pkl.load(f)\n",
    "    if not file:\n",
    "        file.append(' ')\n",
    "    pkls_list.extend(file)\n",
    "\n",
    "print(len(pkls_list))\n",
    "print(pkls_list[0])\n"
   ]
  },
  {
   "cell_type": "code",
   "execution_count": 83,
   "metadata": {},
   "outputs": [
    {
     "data": {
      "text/plain": [
       "4.460869565217391"
      ]
     },
     "execution_count": 83,
     "metadata": {},
     "output_type": "execute_result"
    }
   ],
   "source": [
    "total_count=0\n",
    "news_list=[]\n",
    "for i in range(len(pkls_list)):\n",
    "    temp=[]\n",
    "    splits=pkls_list[i].split('\\n')\n",
    "    for split in splits:\n",
    "        if split:\n",
    "            if split[0].isdigit():\n",
    "                try:\n",
    "                    \n",
    "                    temp.append(split.split(\".\")[1].strip())\n",
    "                except:\n",
    "                    print(split)\n",
    "    total_count+=len(temp)\n",
    "    news_list.append(temp)\n",
    "total_count/len(pkls_list)"
   ]
  },
  {
   "cell_type": "code",
   "execution_count": 84,
   "metadata": {},
   "outputs": [
    {
     "data": {
      "text/plain": [
       "115"
      ]
     },
     "execution_count": 84,
     "metadata": {},
     "output_type": "execute_result"
    }
   ],
   "source": [
    "len(news_list)"
   ]
  },
  {
   "cell_type": "code",
   "execution_count": 85,
   "metadata": {},
   "outputs": [
    {
     "data": {
      "text/plain": [
       "3"
      ]
     },
     "execution_count": 85,
     "metadata": {},
     "output_type": "execute_result"
    }
   ],
   "source": [
    "len(news_list[0])"
   ]
  },
  {
   "cell_type": "code",
   "execution_count": 86,
   "metadata": {},
   "outputs": [
    {
     "data": {
      "text/plain": [
       "[\"Senate Republican leader Mitch McConnell notified President Obama's Supreme Court nominee Merrick Garland by phone on Wednesday that Republicans will not be taking any action on his nomination or meeting with him\",\n",
       " \"According to McConnell spokesman Don Stewart, this decision was made out of respect for Garland's time and to avoid subjecting him to unnecessary political proceedings orchestrated by the White House\",\n",
       " 'McConnell informed the appellate court judge that he would not be conducting a formal meeting for the nomination since the Senate was not taking action, but he offered well wishes to Judge Garland']"
      ]
     },
     "execution_count": 86,
     "metadata": {},
     "output_type": "execute_result"
    }
   ],
   "source": [
    "news_list[0]"
   ]
  },
  {
   "cell_type": "code",
   "execution_count": 87,
   "metadata": {},
   "outputs": [],
   "source": [
    "# #news\n",
    "\n",
    "# news_list_capped=[]\n",
    "# for item in news_list:\n",
    "#     try:\n",
    "#         length=len(item)\n",
    "#         # print(length)\n",
    "#         random.seed(42)\n",
    "#         choose1,choose2,choose3=random.sample(range(0,length),3)\n",
    "#         temp=[choose1,choose2,choose3]\n",
    "#         temp.sort()\n",
    "#         # print(temp)\n",
    "#         news_list_capped.append([item[temp[0]],item[temp[1]],item[temp[2]]])\n",
    "#     except:\n",
    "#         news_list_capped.append([])"
   ]
  },
  {
   "cell_type": "code",
   "execution_count": 88,
   "metadata": {},
   "outputs": [
    {
     "name": "stdout",
     "output_type": "stream",
     "text": [
      " Sure! Here is a summary of the article in a numbered list format:\n",
      "\n",
      "1. Senate Republican leader Mitch McConnell notified President Obama's Supreme Court nominee Merrick Garland by phone on Wednesday that Republicans will not be taking any action on his nomination or meeting with him.\n",
      "2. According to McConnell spokesman Don Stewart, this decision was made out of respect for Garland's time and to avoid subjecting him to unnecessary political proceedings orchestrated by the White House.\n",
      "3. McConnell informed the appellate court judge that he would not be conducting a formal meeting for the nomination since the Senate was not taking action, but he offered well wishes to Judge Garland.\n"
     ]
    }
   ],
   "source": [
    "print(pkls_list[0])"
   ]
  },
  {
   "cell_type": "code",
   "execution_count": 89,
   "metadata": {},
   "outputs": [
    {
     "name": "stdout",
     "output_type": "stream",
     "text": [
      "Length: 3\n",
      "0\n",
      "Length: 5\n",
      "5\n",
      "Length: 1\n",
      "0\n",
      "Length: 10\n",
      "10\n",
      "Length: 2\n",
      "2\n",
      "Length: 2\n",
      "2\n",
      "Length: 5\n",
      "5\n",
      "Length: 4\n",
      "0\n",
      "Length: 4\n",
      "0\n",
      "Length: 4\n",
      "0\n",
      "Length: 5\n",
      "5\n",
      "Length: 2\n",
      "2\n",
      "Length: 4\n",
      "0\n",
      "Length: 5\n",
      "5\n",
      "Length: 3\n",
      "0\n",
      "Length: 5\n",
      "5\n",
      "Length: 5\n",
      "5\n",
      "Length: 6\n",
      "5\n",
      "Length: 5\n",
      "5\n",
      "Length: 2\n",
      "2\n",
      "Length: 5\n",
      "5\n",
      "Length: 3\n",
      "0\n",
      "Length: 5\n",
      "5\n",
      "Length: 4\n",
      "0\n",
      "Length: 5\n",
      "5\n",
      "Length: 3\n",
      "0\n",
      "Length: 6\n",
      "5\n",
      "Length: 5\n",
      "5\n",
      "Length: 4\n",
      "0\n",
      "Length: 6\n",
      "5\n",
      "Length: 6\n",
      "5\n",
      "Length: 4\n",
      "0\n",
      "Length: 5\n",
      "5\n",
      "Length: 3\n",
      "0\n",
      "Length: 5\n",
      "5\n",
      "Length: 5\n",
      "5\n",
      "Length: 5\n",
      "5\n",
      "Length: 2\n",
      "2\n",
      "Length: 3\n",
      "0\n",
      "Length: 3\n",
      "0\n",
      "Length: 5\n",
      "5\n",
      "Length: 4\n",
      "0\n",
      "Length: 4\n",
      "0\n",
      "Length: 3\n",
      "0\n",
      "Length: 5\n",
      "5\n",
      "Length: 4\n",
      "0\n",
      "Length: 5\n",
      "5\n",
      "Length: 4\n",
      "0\n",
      "Length: 4\n",
      "0\n",
      "Length: 4\n",
      "0\n",
      "Length: 5\n",
      "5\n",
      "Length: 3\n",
      "0\n",
      "Length: 6\n",
      "5\n",
      "Length: 5\n",
      "5\n",
      "Length: 3\n",
      "0\n",
      "Length: 5\n",
      "5\n",
      "Length: 5\n",
      "5\n",
      "Length: 4\n",
      "0\n",
      "Length: 5\n",
      "5\n",
      "Length: 6\n",
      "5\n",
      "Length: 8\n",
      "1\n",
      "Length: 5\n",
      "5\n",
      "Length: 2\n",
      "2\n",
      "Length: 5\n",
      "5\n",
      "Length: 6\n",
      "5\n",
      "Length: 4\n",
      "0\n",
      "Length: 6\n",
      "5\n",
      "Length: 4\n",
      "0\n",
      "Length: 2\n",
      "2\n",
      "Length: 8\n",
      "1\n",
      "Length: 2\n",
      "2\n",
      "Length: 4\n",
      "0\n",
      "Length: 4\n",
      "0\n",
      "Length: 4\n",
      "0\n",
      "Length: 4\n",
      "0\n",
      "Length: 5\n",
      "5\n",
      "Length: 3\n",
      "0\n",
      "Length: 6\n",
      "5\n",
      "Length: 4\n",
      "0\n",
      "Length: 5\n",
      "5\n",
      "Length: 5\n",
      "5\n",
      "Length: 5\n",
      "5\n",
      "Length: 5\n",
      "5\n",
      "Length: 5\n",
      "5\n",
      "Length: 7\n",
      "1\n",
      "Length: 6\n",
      "5\n",
      "Length: 5\n",
      "5\n",
      "Length: 5\n",
      "5\n",
      "Length: 5\n",
      "5\n",
      "Length: 3\n",
      "0\n",
      "Length: 2\n",
      "2\n",
      "Length: 3\n",
      "0\n",
      "Length: 3\n",
      "0\n",
      "Length: 3\n",
      "0\n",
      "Length: 6\n",
      "5\n",
      "Length: 7\n",
      "1\n",
      "Length: 3\n",
      "0\n",
      "Length: 4\n",
      "0\n",
      "Length: 5\n",
      "5\n",
      "Length: 4\n",
      "0\n",
      "Length: 5\n",
      "5\n",
      "Length: 1\n",
      "0\n",
      "Length: 9\n",
      "1\n",
      "Length: 3\n",
      "0\n",
      "Length: 3\n",
      "0\n",
      "Length: 4\n",
      "0\n",
      "Length: 5\n",
      "5\n",
      "Length: 7\n",
      "1\n",
      "Length: 5\n",
      "5\n",
      "Length: 5\n",
      "5\n",
      "Length: 4\n",
      "0\n",
      "Length: 6\n",
      "5\n",
      "Length: 5\n",
      "5\n",
      "Length: 6\n",
      "5\n",
      "Length: 5\n",
      "5\n"
     ]
    }
   ],
   "source": [
    "# #Non news\n",
    "\n",
    "news_list_capped=[]\n",
    "for item in news_list:\n",
    "    length=len(item)\n",
    "    print(\"Length: {}\".format(length))\n",
    "    if length == 0:\n",
    "        news_list_capped.append([])\n",
    "        continue\n",
    "    random.seed(42)\n",
    "    choose=random.randint(0,length)\n",
    "    print(choose)\n",
    "    try:\n",
    "        news_list_capped.append([item[choose]])\n",
    "    except:\n",
    "        news_list_capped.append([])"
   ]
  },
  {
   "cell_type": "code",
   "execution_count": 90,
   "metadata": {},
   "outputs": [
    {
     "data": {
      "text/plain": [
       "115"
      ]
     },
     "execution_count": 90,
     "metadata": {},
     "output_type": "execute_result"
    }
   ],
   "source": [
    "len(news_list)"
   ]
  },
  {
   "cell_type": "code",
   "execution_count": 91,
   "metadata": {},
   "outputs": [],
   "source": [
    "with open('news_capped_random.pkl', 'wb') as f:\n",
    "    pkl.dump(news_list_capped,f)"
   ]
  },
  {
   "cell_type": "code",
   "execution_count": 92,
   "metadata": {},
   "outputs": [],
   "source": [
    "with open('news_capped_random.pkl', 'rb') as f:\n",
    "    news=pkl.load(f)"
   ]
  },
  {
   "cell_type": "code",
   "execution_count": 93,
   "metadata": {},
   "outputs": [
    {
     "data": {
      "text/plain": [
       "[[\"Senate Republican leader Mitch McConnell notified President Obama's Supreme Court nominee Merrick Garland by phone on Wednesday that Republicans will not be taking any action on his nomination or meeting with him\"],\n",
       " [],\n",
       " [\"Luis Miranda, the communications director for the Democratic Party, is expected to depart the Democratic National Committee on Tuesday, amidst the ongoing fallout from the party's email hacking scandal\"],\n",
       " [],\n",
       " [],\n",
       " [],\n",
       " [],\n",
       " [\"Under President Macron's leadership, the French presidency is experiencing a significant shake-up with a faster-paced and more demanding work environment that is pushing the limits of his predominantly young team\"],\n",
       " ['Amnesty International has called on Egyptian authorities to immediately release 24 Nubian activists who were detained last week for protesting without permission, demanding the right to return to their ancestral lands along the Nile river'],\n",
       " [\"A 29-year-old man from The Hague, armed with a knife, was shot and apprehended by military police at Amsterdam's Schiphol Airport on Friday, according to an official source\"],\n",
       " [],\n",
       " [],\n",
       " ['European Union leaders have expressed their political support for a European Commission proposal aimed at fostering educational exchange and collaboration across European nations, with the goal of fostering a European identity and making the EU more appealing to its citizens'],\n",
       " [],\n",
       " ['Senate Minority Leader Chuck Schumer predicts that Republicans will fail to repeal the Affordable Care Act (ACA), also known as Obamacare'],\n",
       " [],\n",
       " [],\n",
       " [\"The state's credit ratings have been downgraded six times since Rauner took office in 2015, and are now just two notches above junk level\"],\n",
       " [],\n",
       " [],\n",
       " [],\n",
       " ['Senator Rand Paul revealed that he had a phone conversation with President Donald Trump on Monday about healthcare reform, during which he informed the President that he believed Trump had the power to establish groups or associations that could offer group health insurance plans'],\n",
       " [],\n",
       " ['Britain has asserted that North Korea was responsible for the WannaCry cyber attack in May, which affected over 300,000 computers in 150 countries and caused widespread disruptions to businesses and government services, including the National Health Service (NHS) in England'],\n",
       " [],\n",
       " ['According to a North Korean foreign ministry spokesman, the more sanctions the US and its allies impose on the country, the faster it will progress in its nuclear plans'],\n",
       " [\"The changes come as Trudeau's Liberals still command a healthy lead in public opinion polls, with the next election scheduled for October 2019\"],\n",
       " [],\n",
       " ['FBI Director James Comey stated that he has no intention of resigning in the near future, despite tensions with President Trump over the wiretapping allegations'],\n",
       " [\"Despite the tensions, Canada's relations with North Korea appear to be warming up slightly, with a Canadian diplomat saying the North Koreans perceive Canada as not an enemy and potentially a friend\"],\n",
       " [\"Republican North Dakota Senator John Hoeven has met with Trump's transition team to discuss the delayed pipeline and has stated that Trump has voiced his backing for the Dakota Access Pipeline, which has fulfilled or surpassed all environmental benchmarks established by four states and the Army Corps of Engineers\"],\n",
       " [\"Germany aims to establish a close relationship with the incoming US administration under President-elect Donald Trump to protect and maintain crucial transatlantic ties, according to Chancellor Angela Merkel's foreign policy advisor Christoph Heusgen\"],\n",
       " [],\n",
       " ['Tillerson urged African leaders to take additional steps to pressure North Korea to discontinue its nuclear and missile programs, such as reducing diplomatic relations and expelling North Korean workers'],\n",
       " [],\n",
       " [],\n",
       " [],\n",
       " [],\n",
       " ['The Imam of Al Azhar, Sheikh Ahmed al-Tayeb, refused a meeting with U'],\n",
       " ['According to U'],\n",
       " [],\n",
       " ['South Sudanese rebels accused government forces of launching an attack on their base just one day after the two sides signed a ceasefire agreement, which aimed to bring an end to a four-year conflict that has killed tens of thousands of people'],\n",
       " ['Lawmakers are nearing an agreement on revamping a contentious National Security Agency (NSA) surveillance program, with a compromise proposal that would allow intelligence agencies to query a database of information on Americans in national security cases without a warrant, but would require a warrant for other cases'],\n",
       " ['The 9th U'],\n",
       " [],\n",
       " [\"Supporters of the Justice Against Sponsors of Terrorism Act (JASTA) continued to oppose the measure on Tuesday, a day before the US Senate is expected to overrule President Barack Obama's veto\"],\n",
       " [],\n",
       " ['President Donald Trump has appointed Mick Mulvaney as the interim head of the Consumer Financial Protection Bureau until a permanent director is nominated and confirmed'],\n",
       " ['Syrian fighter jets launched air raids on rebel-controlled areas in the eastern countryside of Homs after the US missile strike on an air base near Homs city'],\n",
       " ['A Somali TV journalist, Mohamed Ibrahim Gabow, was killed in a car bombing in Mogadishu on Monday, according to local authorities and the TV station where he worked'],\n",
       " [],\n",
       " ['German authorities have apprehended a 29-year-old man suspected of planning a vehicular attack on an ice rink in Karlsruhe, a year after the deadly Christmas market attack in Berlin'],\n",
       " ['The new U'],\n",
       " [],\n",
       " [\"China's Defense Ministry has announced that it will take all necessary measures to safeguard national sovereignty and maintain regional tranquility in response to concerns about the potential for conflict on the Korean peninsula\"],\n",
       " [],\n",
       " [],\n",
       " [\"China's economic growth depends on strengthening intellectual property protection, according to Premier Li Keqiang, and the government has pledged to refine regulations and increase punitive fines for infringements to protect the rights of private businesses and foreign companies\"],\n",
       " [],\n",
       " ['Senate votes from 2016 will be recounted to decide on a replacement for Kakoschke-Moore, and by-elections set for Dec'],\n",
       " ['The order, which was released on Friday, restricts travelers from Iran, Iraq, Libya, Somalia, Sudan, Syria, and Yemen from entering the US for at least 90 days'],\n",
       " [],\n",
       " [],\n",
       " [],\n",
       " ['The United States and other Western powers have urged the KRG to cancel the vote, while the U'],\n",
       " ['Omarosa Manigault, a former contestant on \"The Apprentice\" and a visible African-American supporter of President-elect Trump, is being considered for a position in the White House'],\n",
       " [\"He also endorsed Prime Minister Narendra Modi's call for tension in the South China Sea to be addressed under a rules-based order and expressed support for India's fight against terrorism\"],\n",
       " ['Despite recent speculation, Sean Spicer is still set to depart the White House by the end of August, according to a senior official'],\n",
       " [],\n",
       " ['Valeant raised the prices of Isuprel and Nitropress by 720% and 310%, respectively, and the other two drugs by 5,878% and 3,162%, respectively'],\n",
       " [],\n",
       " ['Senator Chuck Grassley, the Republican head of the Judiciary Committee, has stated that there will not be a forthcoming vacancy on the Supreme Court, reinforcing the notion that Justice Anthony Kennedy is unlikely to retire this year'],\n",
       " [\"Hong Kong's Chief Executive Carrie Lam has unveiled a package of housing and tax relief policies to address the city's significant challenges, including rising income inequality, slow implementation of public projects, and political tensions with mainland China\"],\n",
       " [\"Steve Mnuchin, President Trump's nominee for Treasury Secretary, plans to roll back the Volcker Rule, which restricts banks' involvement in risky investments\"],\n",
       " ['The UN urged a temporary suspension of hostilities in Sanaa to allow civilians to safely exit their homes, receive aid, and access medical care'],\n",
       " [],\n",
       " ['Turkish President Tayyip Erdogan has expressed his desire to initiate the construction of the Akkuyu nuclear plant in southern Turkey by the end of this month'],\n",
       " ['The Constitution prohibits government officials from accepting \"any present, Emolument, Office, or Title, of any kind whatever, from any King, Prince, or foreign State'],\n",
       " ['U'],\n",
       " [],\n",
       " [],\n",
       " [],\n",
       " [],\n",
       " [],\n",
       " ['The leaders met on the sidelines of the Asia Pacific Economic Cooperation (APEC) summit in the Vietnamese resort city of Danang'],\n",
       " ['Deregulation could potentially benefit private oil companies, such as Devon Energy Corp, Occidental Petroleum, and BP, who have sought to develop leases on reservations through partnerships with tribal governments'],\n",
       " [],\n",
       " [],\n",
       " [],\n",
       " ['Israeli Prime Minister Benjamin Netanyahu is scheduled to meet with President Donald Trump on February 15th to discuss a variety of security-related topics'],\n",
       " [],\n",
       " [\"According to the Deputy Prime Minister, Carles Puigdemont, the leader of Catalonia's regional government, will be stripped of all powers and will no longer receive a salary once the Senate approves a measure imposing direct rule from the central government over the region\"],\n",
       " ['President-elect Donald Trump met with U'],\n",
       " [\"According to the Kremlin, no specific date has been established for the proposed Congress of Syria's peoples, which Russia has suggested should be as comprehensive as possible\"],\n",
       " ['Grenell did not immediately respond to a request for comment'],\n",
       " ['Islamic State claimed responsibility for the attack, while the Taliban denied involvement'],\n",
       " ['According to U'],\n",
       " ['The Senate parliamentarian has ruled out certain provisions in the Better Care Reconciliation Act, including defunding Planned Parenthood, as inadmissible under the Byrd Rule, which requires 60 votes to pass'],\n",
       " [],\n",
       " ['President Trump urged Congress to expedite tax reform efforts, citing Hurricane Irma as a reason for haste, in a statement made on Saturday'],\n",
       " [],\n",
       " ['According to a report by Reuters, the extremist group Islamic State claimed responsibility for a car bomb attack outside the Yemeni finance ministry in Aden, which killed at least two people'],\n",
       " ['President Trump will meet with Senate Republicans on November 28 to urge quick passage of tax legislation'],\n",
       " [\"The Kremlin expressed that it is in Russia's best interest for Cuba, a long-time ally of Moscow, to have a positive relationship with the United States\"],\n",
       " ['According to North Korean Foreign Minister Ri Yong Ho, the North may consider conducting a hydrogen bomb test of unprecedented proportions in the Pacific Ocean as a response to the United States\\' \"highest level of hard-line countermeasure in history'],\n",
       " ['The Trump administration and congressional leaders are close to agreeing on key aspects of a tax overhaul plan, including cutting tax rates and simplifying the tax code, but they still need to decide on a border adjustment tax (BAT) proposal and how to pay for the plan'],\n",
       " [],\n",
       " ['The bill authorizes $634 billion in base defense spending, well above the $549 billion allowed under previous legislation, but does not provide a clear plan for how to fund the increase'],\n",
       " [],\n",
       " [],\n",
       " [\"Nigel Farage, the leader of the UK Independence Party (UKIP), visited Donald Trump's residence in New York City on Saturday, following his suggestion that he could serve as a mediator to improve the UK's relations with the US president-elect\"],\n",
       " ['The average of polls released by Radio New Zealand on Wednesday put the two parties at almost even support'],\n",
       " [],\n",
       " ['Afghanistan has alleged that Pakistan harbors the top leaders of the Afghan Taliban, leading to tensions between the two countries'],\n",
       " []]"
      ]
     },
     "execution_count": 93,
     "metadata": {},
     "output_type": "execute_result"
    }
   ],
   "source": [
    "news"
   ]
  },
  {
   "cell_type": "code",
   "execution_count": null,
   "metadata": {},
   "outputs": [],
   "source": []
  }
 ],
 "metadata": {
  "kernelspec": {
   "display_name": "acl",
   "language": "python",
   "name": "python3"
  },
  "language_info": {
   "codemirror_mode": {
    "name": "ipython",
    "version": 3
   },
   "file_extension": ".py",
   "mimetype": "text/x-python",
   "name": "python",
   "nbconvert_exporter": "python",
   "pygments_lexer": "ipython3",
   "version": "3.12.2"
  },
  "orig_nbformat": 4
 },
 "nbformat": 4,
 "nbformat_minor": 2
}
