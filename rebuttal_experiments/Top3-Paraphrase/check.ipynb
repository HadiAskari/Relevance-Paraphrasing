{
 "cells": [
  {
   "cell_type": "code",
   "execution_count": 1,
   "metadata": {},
   "outputs": [],
   "source": [
    "import pandas as pd\n",
    "import pickle as pkl\n",
    "import os\n",
    "from natsort import natsorted"
   ]
  },
  {
   "cell_type": "code",
   "execution_count": 17,
   "metadata": {},
   "outputs": [
    {
     "data": {
      "text/plain": [
       "['3.pkl', '1.pkl', '2.pkl']"
      ]
     },
     "execution_count": 17,
     "metadata": {},
     "output_type": "execute_result"
    }
   ],
   "source": [
    "os.listdir('cnn')"
   ]
  },
  {
   "cell_type": "code",
   "execution_count": 32,
   "metadata": {},
   "outputs": [],
   "source": [
    "with open('reddit/0.pkl' , 'rb') as f:\n",
    "    file=pkl.load(f)"
   ]
  },
  {
   "cell_type": "code",
   "execution_count": 33,
   "metadata": {},
   "outputs": [
    {
     "data": {
      "text/plain": [
       "['well this was around 9 years ago when i was a 2nd grader. so basically it was some kids birthday and since it was primary school most kids brought cupcakes and the teacher would pass it out to the class. me being the hungry little shit that i was i was desperately in the mood for some vanilla cupcakes but the teacher decided to pass out the chocolate ones first. after she had finished passing out the chocolate ones she picks up the vanilla ones and says, \"raise your hand if you want vanilla!\". at that moment i was talking to a friend and it took me a bit to process the fact that she just asked who wanted vanilla. i proceed to raise my hand and it turns out the cupcakes were right above me. Following several emails from my mother to the teacher, the issue was finally resolved and all was back to normal. she got bat-shit angry and begins to make a scene in the middle of the whole cafeteria. she explained how i \"ruined her brand new shoes\" and the bitch even asked me if i had an allowance so i could pay for her shoes. she had asked me at the time if i was messing around and i said yes because i literally didn\\'t know what else to say. after numerous emails from my mom to the teacher things finally cleared up and all was back to normal. **']"
      ]
     },
     "execution_count": 33,
     "metadata": {},
     "output_type": "execute_result"
    }
   ],
   "source": [
    "file"
   ]
  },
  {
   "cell_type": "code",
   "execution_count": 7,
   "metadata": {},
   "outputs": [
    {
     "name": "stdout",
     "output_type": "stream",
     "text": [
      "1000\n",
      " Sure! Here is a summary of the article in a numbered list format:\n",
      "\n",
      "1. Sweden has decided to cease providing new aid to Cambodia, with the exception of education and research initiatives, in response to the government's recent political crackdown and the banning of the main opposition party.\n",
      "2. The country will no longer support the government's reform program, and will review its engagement with Cambodia.\n",
      "3. The move is the first tangible response from a European Union country in protest against the political crackdown, which has seen the arrest of Prime Minister Hun Sen's main opponent and attacks on civil rights groups and independent media.\n",
      "4. The European Union has also threatened action, and the United States has cut election funding and said it would take more punitive steps after last week's ban on the Cambodia National Rescue Party (CNRP).\n",
      "5. Sweden's embassy in Phnom Penh said the country was reviewing its engagement with Cambodia and would not initiate any new government-to-government development cooperation agreements, except in the areas of education and research.\n"
     ]
    }
   ],
   "source": [
    "pkls=os.listdir('data_paraphrase/news')\n",
    "pkls=natsorted(pkls)\n",
    "pkls_list=[]\n",
    "for pikl in pkls:\n",
    "    with open('data_paraphrase/news/{}'.format(pikl),'rb') as f:\n",
    "        file=pkl.load(f)\n",
    "    if not file:\n",
    "        file.append(' ')\n",
    "    pkls_list.extend(file)\n",
    "\n",
    "print(len(pkls_list))\n",
    "print(pkls_list[0])"
   ]
  },
  {
   "cell_type": "code",
   "execution_count": 8,
   "metadata": {},
   "outputs": [],
   "source": [
    "cnn_list=[]\n",
    "for i in range(len(pkls_list)):\n",
    "    temp=[]\n",
    "    splits=pkls_list[i].split('\\n')\n",
    "    for split in splits:\n",
    "        if split:\n",
    "            if split[0].isdigit():\n",
    "                try:\n",
    "                    temp.append(split.split(\".\")[1].strip())\n",
    "                except:\n",
    "                    print(split)\n",
    "    cnn_list.append(temp)"
   ]
  },
  {
   "cell_type": "code",
   "execution_count": 9,
   "metadata": {},
   "outputs": [
    {
     "data": {
      "text/plain": [
       "['Republican candidate Donald Trump has won the endorsement of New Jersey Governor Chris Christie, a prominent mainstream Republican, in his bid for the White House',\n",
       " \"Christie said Trump has the best chance of beating Democrat Hillary Clinton in the November election, despite Clinton not yet securing her party's nomination\",\n",
       " 'The endorsement provides an additional boost to Trump ahead of the upcoming Super Tuesday primaries, after he took a battering from his two main rivals at a televised Republican debate',\n",
       " \"Trump's unorthodox candidacy has stirred controversy and shaken the Republican Party at its roots, but an increasing number of senior Republicans are becoming resigned to the idea he will be their candidate in November\"]"
      ]
     },
     "execution_count": 9,
     "metadata": {},
     "output_type": "execute_result"
    }
   ],
   "source": [
    "cnn_list[10]"
   ]
  },
  {
   "cell_type": "code",
   "execution_count": 10,
   "metadata": {},
   "outputs": [],
   "source": [
    "cnn_list_capped=[]\n",
    "for item in cnn_list:\n",
    "    try:\n",
    "        length=len(item)\n",
    "        #choose=random.randint(0,length-1)\n",
    "        cnn_list_capped.append([item[0]])\n",
    "    except:\n",
    "        cnn_list_capped.append([])"
   ]
  },
  {
   "cell_type": "code",
   "execution_count": 11,
   "metadata": {},
   "outputs": [],
   "source": [
    "with open('news_capped_random.pkl', 'wb') as f:\n",
    "    pkl.dump(cnn_list_capped,f) "
   ]
  }
 ],
 "metadata": {
  "kernelspec": {
   "display_name": "paraphrase",
   "language": "python",
   "name": "python3"
  },
  "language_info": {
   "codemirror_mode": {
    "name": "ipython",
    "version": 3
   },
   "file_extension": ".py",
   "mimetype": "text/x-python",
   "name": "python",
   "nbconvert_exporter": "python",
   "pygments_lexer": "ipython3",
   "version": "3.1.0"
  }
 },
 "nbformat": 4,
 "nbformat_minor": 2
}
