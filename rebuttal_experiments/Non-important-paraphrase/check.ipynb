{
 "cells": [
  {
   "cell_type": "code",
   "execution_count": 1,
   "metadata": {},
   "outputs": [],
   "source": [
    "import pandas as pd\n",
    "import pickle as pkl\n",
    "import os\n",
    "from natsort import natsorted"
   ]
  },
  {
   "cell_type": "code",
   "execution_count": 17,
   "metadata": {},
   "outputs": [
    {
     "data": {
      "text/plain": [
       "['3.pkl', '1.pkl', '2.pkl']"
      ]
     },
     "execution_count": 17,
     "metadata": {},
     "output_type": "execute_result"
    }
   ],
   "source": [
    "os.listdir('cnn')"
   ]
  },
  {
   "cell_type": "code",
   "execution_count": 32,
   "metadata": {},
   "outputs": [],
   "source": [
    "with open('reddit/0.pkl' , 'rb') as f:\n",
    "    file=pkl.load(f)"
   ]
  },
  {
   "cell_type": "code",
   "execution_count": 33,
   "metadata": {},
   "outputs": [
    {
     "data": {
      "text/plain": [
       "['well this was around 9 years ago when i was a 2nd grader. so basically it was some kids birthday and since it was primary school most kids brought cupcakes and the teacher would pass it out to the class. me being the hungry little shit that i was i was desperately in the mood for some vanilla cupcakes but the teacher decided to pass out the chocolate ones first. after she had finished passing out the chocolate ones she picks up the vanilla ones and says, \"raise your hand if you want vanilla!\". at that moment i was talking to a friend and it took me a bit to process the fact that she just asked who wanted vanilla. i proceed to raise my hand and it turns out the cupcakes were right above me. Following several emails from my mother to the teacher, the issue was finally resolved and all was back to normal. she got bat-shit angry and begins to make a scene in the middle of the whole cafeteria. she explained how i \"ruined her brand new shoes\" and the bitch even asked me if i had an allowance so i could pay for her shoes. she had asked me at the time if i was messing around and i said yes because i literally didn\\'t know what else to say. after numerous emails from my mom to the teacher things finally cleared up and all was back to normal. **']"
      ]
     },
     "execution_count": 33,
     "metadata": {},
     "output_type": "execute_result"
    }
   ],
   "source": [
    "file"
   ]
  },
  {
   "cell_type": "code",
   "execution_count": 7,
   "metadata": {},
   "outputs": [
    {
     "name": "stdout",
     "output_type": "stream",
     "text": [
      "2000\n",
      " Sure! Here is a summary of the text in a numbered list format:\n",
      "\n",
      "1. When the teacher asked who wanted vanilla cupcakes, I accidentally knocked them out of her hand and they spilled all over her, causing her to become angry and make a scene in the cafeteria.\n",
      "2. The teacher was upset because I had ruined her brand new shoes and even asked me if I had an allowance to pay for them.\n",
      "3. Following several emails from my mother to the teacher, the issue was resolved and everything returned to normal.\n"
     ]
    }
   ],
   "source": [
    "pkls=os.listdir('data_paraphrase/reddit')\n",
    "pkls=natsorted(pkls)\n",
    "pkls_list=[]\n",
    "for pikl in pkls:\n",
    "    with open('data_paraphrase/reddit/{}'.format(pikl),'rb') as f:\n",
    "        file=pkl.load(f)\n",
    "    if not file:\n",
    "        file.append(' ')\n",
    "    pkls_list.extend(file)\n",
    "\n",
    "print(len(pkls_list))\n",
    "print(pkls_list[0])"
   ]
  },
  {
   "cell_type": "code",
   "execution_count": 8,
   "metadata": {},
   "outputs": [
    {
     "name": "stdout",
     "output_type": "stream",
     "text": [
      "1**\n",
      "1ung1\n"
     ]
    }
   ],
   "source": [
    "cnn_list=[]\n",
    "for i in range(len(pkls_list)):\n",
    "    temp=[]\n",
    "    splits=pkls_list[i].split('\\n')\n",
    "    for split in splits:\n",
    "        if split:\n",
    "            if split[0].isdigit():\n",
    "                try:\n",
    "                    temp.append(split.split(\".\")[1].strip())\n",
    "                except:\n",
    "                    print(split)\n",
    "    cnn_list.append(temp)"
   ]
  },
  {
   "cell_type": "code",
   "execution_count": 9,
   "metadata": {},
   "outputs": [
    {
     "data": {
      "text/plain": [
       "['During the summer break, the author and their brother were being lazy and spent their time watching anime and playing games',\n",
       " 'The author allowed their brother to use their iPad, not realizing that he would use it to watch hentai porn',\n",
       " 'Hours later, the author received their iPad back and found dozens of tabs full of hentai porn videos, pictures, and gifs',\n",
       " \"The author's mother was shocked and angry when she saw the content, and the author had to explain that it wasn't them who looked up the sites\",\n",
       " \"The author's parents had a stern conversation with their brother about his pornography viewing habits and preferences\",\n",
       " 'The author learned a lesson about not giving their brother access to their iPad when they are alone']"
      ]
     },
     "execution_count": 9,
     "metadata": {},
     "output_type": "execute_result"
    }
   ],
   "source": [
    "cnn_list[10]"
   ]
  },
  {
   "cell_type": "code",
   "execution_count": 10,
   "metadata": {},
   "outputs": [],
   "source": [
    "cnn_list_capped=[]\n",
    "for item in cnn_list:\n",
    "    try:\n",
    "        length=len(item)\n",
    "        #choose=random.randint(0,length-1)\n",
    "        cnn_list_capped.append([item[0]])\n",
    "    except:\n",
    "        cnn_list_capped.append([])"
   ]
  },
  {
   "cell_type": "code",
   "execution_count": 11,
   "metadata": {},
   "outputs": [],
   "source": [
    "with open('reddit_capped_random.pkl', 'wb') as f:\n",
    "    pkl.dump(cnn_list_capped,f) "
   ]
  }
 ],
 "metadata": {
  "kernelspec": {
   "display_name": "paraphrase",
   "language": "python",
   "name": "python3"
  },
  "language_info": {
   "codemirror_mode": {
    "name": "ipython",
    "version": 3
   },
   "file_extension": ".py",
   "mimetype": "text/x-python",
   "name": "python",
   "nbconvert_exporter": "python",
   "pygments_lexer": "ipython3",
   "version": "3.12.2"
  }
 },
 "nbformat": 4,
 "nbformat_minor": 2
}
