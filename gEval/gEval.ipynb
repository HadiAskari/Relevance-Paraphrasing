{
 "cells": [
  {
   "cell_type": "code",
   "execution_count": 1,
   "metadata": {},
   "outputs": [
    {
     "name": "stderr",
     "output_type": "stream",
     "text": [
      "/home/mz/.local/lib/python3.10/site-packages/tqdm/auto.py:21: TqdmWarning: IProgress not found. Please update jupyter and ipywidgets. See https://ipywidgets.readthedocs.io/en/stable/user_install.html\n",
      "  from .autonotebook import tqdm as notebook_tqdm\n"
     ]
    }
   ],
   "source": [
    "import pickle as pkl\n",
    "from icecream import ic\n",
    "from datasets import load_dataset\n",
    "import pickle as pkl\n",
    "from llama import Llama, Dialog\n",
    "from typing import List, Optional"
   ]
  },
  {
   "cell_type": "code",
   "execution_count": 52,
   "metadata": {},
   "outputs": [],
   "source": [
    "with open(\"article.txt\", \"r\") as f:\n",
    "    article = f.read()"
   ]
  },
  {
   "cell_type": "code",
   "execution_count": 14,
   "metadata": {},
   "outputs": [
    {
     "data": {
      "text/plain": [
       "{'original': \" Sure! Here is a summary of the article in three numbered sentences:\\n\\n1. The Palestinian Authority officially became the 123rd member of the International Criminal Court (ICC) on Wednesday, giving the court jurisdiction over alleged crimes in Palestinian territories.\\n2. The ICC opened a preliminary examination into the situation in Palestinian territories in January, and the formal accession of the Palestinian Authority as a member of the court paves the way for possible war crimes investigations against Israelis.\\n3. The ICC's decision to allow the Palestinians to join the body despite opposition from Israel and the United States is seen as a step towards greater justice and accountability for alleged crimes committed in the region.\",\n",
       " 'paraphrased': \" Sure! Here is a summary of the article in three numbered sentences:\\n\\n1. The Palestinian Authority officially became the 123rd member of the International Criminal Court (ICC) on Wednesday, giving the court jurisdiction over alleged crimes in Palestinian territories.\\n2. The ICC has initiated a preliminary examination into the situation in the Palestinian territories, potentially paving the way for investigations into possible war crimes committed by Israelis and Palestinians.\\n3. The accession to the ICC is seen as a move towards greater justice and accountability for alleged crimes committed in the occupied Palestinian territories, but both Israel and the United States have objected to the Palestinians' attempts to join the court.\",\n",
       " 'para_para': \"\\n1. On Wednesday, the Palestinian Authority officially did join the International Criminal Court (ICC) as its 123rd member, granting the court jurisdiction over suspected crimes in Palestinian territories.\\n2. The ICC does have initiated a preliminary examination into the conditions in Palestinian territories, potentially leading to investigations into alleged war crimes involving both Israelis and Palestinians.\\n3. Joining the ICC is considered as a step toward increased justice and accountability for alleged offenses in the occupied Palestinian territories. However, objections from Israel and the United States regarding the Palestinians' ICC membership have been raised.\",\n",
       " 'dummySummary': \"\\nSure! Here is a summary of the article in three numbered sentences:\\n1. The Palestinian Authority officially became the 123rd member of the International Criminal Court on Wednesday.\\n2. The formal accession was marked with a ceremony at The Hague.\\n3. The International Criminal Court was set up in 2002 to prosecute genocide, crimes against humanity and war crimes. CNN's Vasco Cotovio, Kareem Khadder and Faith Karimi contributed to this report.\\n\",\n",
       " 'fakeSummary': \"\\nSure! Here is a summary of the article in three numbered sentences:\\n1. The Palestinian Authority is a big party in the middle east.\\n2. The International Criminal Court has some control on something that I don't quite comprehend.\\n3. CNN in United States and journalists in Israel work in the same field and communicate with each other.\\n\",\n",
       " 'reverseSummary': \"\\nSure! Here is a summary of the article in three numbered sentences:\\n\\n1. The Palestinian Authority officially exited the 123rd member of the International Criminal Court (ICC) on Wednesday, retrieving the court jurisdiction over alleged crimes in Palestinian territories.\\n2. The ICC has terminated a preliminary examination into the situation in the Palestinian territories, potentially paving the way for investigations into possible war crimes committed by Israelis and Palestinians.\\n3. The accession to the ICC is seen as a move towards less justice and accountability for alleged crimes committed in the occupied Palestinian territories, but both Israel and the United States have supported to the Palestinians' attempts to join the court.\\n\",\n",
       " 'twistSummary': \"\\nSure! Here is a summary of the article in three numbered sentences:\\n\\n1. The Palestinian Authority officially regained the 123rd member of the International Criminal Court (ICC) on Wednesday, pledging the court jurisdiction over alleged crimes in Palestinian territories.\\n2. The ICC has concluded a preliminary examination into the situation in the Palestinian territories, potentially paving the way for investigations into possible war crimes committed by Israelis and Palestinians.\\n3. The accession to the ICC is seen as a move towards conventional justice and accountability for alleged crimes committed in the occupied Palestinian territories, but both Israel and the United States have discussed to the Palestinians' attempts to join the court.\",\n",
       " 'addedSummary': \"Sure! Here is a summary of the article in three numbered sentences:\\n\\n1. The Palestinian Authority officially became the 123rd member of the International Criminal Court (ICC) within Middle East on Wednesday, giving the court jurisdiction over alleged crimes in Palestinian territories within Asia Minor.\\n2. The ICC has initiated a preliminary examination into the situation in the Palestinian territories, potentially paving the way for investigations into possible war crimes committed by Israelis and Palestinians.\\n3. The accession to the ICC is seen as a move towards greater justice and accountability for alleged crimes committed in the occupied Palestinian territories, but both Israel and the United States have objected to the Palestinians' attempts to join the court.\"}"
      ]
     },
     "execution_count": 14,
     "metadata": {},
     "output_type": "execute_result"
    }
   ],
   "source": [
    "import json\n",
    "\n",
    "with open(\"summaries.json\", \"r\") as f:\n",
    "    summaries = json.load(f)\n",
    "\n",
    "summaries"
   ]
  },
  {
   "cell_type": "code",
   "execution_count": 20,
   "metadata": {},
   "outputs": [],
   "source": [
    "with open(\"summaries.json\", \"w\") as f:\n",
    "    json.dump(summaries, f)"
   ]
  },
  {
   "cell_type": "code",
   "execution_count": 6,
   "metadata": {},
   "outputs": [],
   "source": [
    "def ratePromptBad(article, summary):\n",
    "    prompt = \"\"\"\n",
    "\n",
    "    You will be given one summary written for a news article. Your task is to rate the summary based on the following criteria:\n",
    "\n",
    "    Evaluation Criteria:\n",
    "    1. Read the news article carefully and identify the main topic and key points.\n",
    "    2. Read the summary and compare it to the news article. Check if the summary covers the main topic and key points of the news article, and if it resents them in a clear and logical order.\n",
    "    3. Rate the summary with 5 percentages, where each one represents how likely the summary is going to get a score from 1 to 5. For example, if you think the summary is 2% likely to get a score of 5, 3% likely to get a score of 4, 5% likely to get a score of 3, 10% likely to get a score of 2, and 80% likely to get a score of 1, you should rate the summary as 2, 3, 5, 10, 80.\n",
    "    4. Only report back with your final rating. For example: 2, 3, 5, 10, 80\n",
    "\n",
    "    Here is the article: {article}\n",
    "\n",
    "    Here is the summary: {summary}\n",
    "    \"\"\".format(article=article, summary=summary)\n",
    "\n",
    "    return prompt"
   ]
  },
  {
   "cell_type": "code",
   "execution_count": 7,
   "metadata": {},
   "outputs": [],
   "source": [
    "def ratePromptGood(article, summary):\n",
    "    prompt = \"\"\"\n",
    "\n",
    "    You will be given one summary written for a news article. Your task is to rate the summary based on the following criteria:\n",
    "\n",
    "    Evaluation Criteria:\n",
    "    1. Read the news article carefully and identify the main topic and key points.\n",
    "    2. Read the summary and compare it to the news article. Check if the summary covers the main topic and key points of the news article, and if it resents them in a clear and logical order.\n",
    "    3. Rate the summary with 5 percentages, where each one represents how likely the summary is going to get a score from 1 to 5. For example, if you think the summary is 80% likely to get a score of 5, 10% likely to get a score of 4, 5% likely to get a score of 3, 3% likely to get a score of 2, and 1% likely to get a score of 1, you should rate the summary as 80, 10, 5, 3, 2.\n",
    "    4. Only report back with your final rating. For example: 80,10,5,3,2\n",
    "\n",
    "    Here is the article: {article}\n",
    "\n",
    "    Here is the summary: {summary}\n",
    "    \"\"\".format(article=article, summary=summary)\n",
    "\n",
    "    return prompt"
   ]
  },
  {
   "cell_type": "code",
   "execution_count": 8,
   "metadata": {},
   "outputs": [],
   "source": [
    "def rankPrompt(article, summary1, summary2):\n",
    "    prompt = \"\"\"\n",
    "\n",
    "    You will be given two summaries written for a news article. Your task is to rank the summaries based on the following criteria:\n",
    "\n",
    "    Evaluation Criteria:\n",
    "    1. Read the news article carefully and identify the main topic and key points.\n",
    "    2. Read the summaries and compare them to the news article. Check if the summaries covers the main topic and key points of the news article, and if they resent them in a clear and logical order.\n",
    "    3. Rank the summaries based on how likely you would recommend them to others. For example, if you think the second summary is more likely to be recommended than the first summary, you should rank them as: summary 2, summary 1.\n",
    "    4. Only report back with your final ranking. For example: summary 2, summary 1\n",
    "\n",
    "    Here is the article: {article}\n",
    "\n",
    "    Here is the summary 1: {summary1}\n",
    "\n",
    "    Here is the summary 2: {summary2}\n",
    "\n",
    "\"\"\".format(article=article, summary1=summary1, summary2=summary2)\n",
    "\n",
    "    return prompt"
   ]
  },
  {
   "cell_type": "code",
   "execution_count": 47,
   "metadata": {},
   "outputs": [],
   "source": [
    "def rankPrompt2(article, summary1, summary2):\n",
    "    prompt = \"\"\"\n",
    "\n",
    "    You will be given two summaries written for a news article. Your task is to rank the summaries based on the following criteria:\n",
    "    \n",
    "    Rank the summaries based on how they meet the criteria defined here. For example, as long as summary 2 better meets the criteira, rank: summary 2, summary 1.\n",
    "\n",
    "    Output Format: \n",
    "    Only report back with your final ranking. For example: summary 2, summary 1\n",
    "\n",
    "    Evaluation Criteria:\n",
    "    1. Read the news article carefully and identify the main topic and key points.\n",
    "    2. Read the summaries and compare them to the news article. Check if the summaries covers the main topic and key points of the news article, and if they resent them in a clear and logical order.\n",
    "    3. If both summaries meet the requirements above, then rank them based on how concise and clear they are. For example, both summary 1 and summary 2 cover the key points of a news article, but summary 2 is shorter in lenght and summary 2 uses more common language, you should recommend summary 2 over summary 1.\n",
    "    4. If both summaries meet the requirements above, then rank them based on whether they are free from grammatical errors and typos. For example, if the first summary has more grammatical errors and typos than summary 2, then you should recommend summary 2 over summary 1.\n",
    "    5. If both summaries meet the requirements above, then rank them based on how likely you would recommend them to others. For example, if you think the summary 2 is more likely to be recommended than the first summary, you should rank them as: summary 2, summary 1.\n",
    "\n",
    "    Here is the article: {article}\n",
    "\n",
    "    Here is the summary 1: {summary1}\n",
    "\n",
    "    Here is the summary 2: {summary2}\n",
    "\n",
    "\"\"\".format(article=article, summary1=summary1, summary2=summary2)\n",
    "\n",
    "    return prompt"
   ]
  },
  {
   "cell_type": "code",
   "execution_count": 23,
   "metadata": {},
   "outputs": [
    {
     "name": "stdout",
     "output_type": "stream",
     "text": [
      "\n",
      "\n",
      "    You will be given two summaries written for a news article. Your task is to rank the summaries based on the following criteria:\n",
      "\n",
      "    Evaluation Criteria:\n",
      "    1. Read the news article carefully and identify the main topic and key points.\n",
      "    2. Read the summaries and compare them to the news article. Check if the summaries covers the main topic and key points of the news article, and if they resent them in a clear and logical order.\n",
      "    3. Rank the summaries based on how likely you would recommend them to others. For example, if you think the second summary is more likely to be recommended than the first summary, you should rank them as: summary 2, summary 1.\n",
      "    4. Only report back with your final ranking. For example: summary 2, summary 1\n",
      "\n",
      "    Here is the article: {'article': '(CNN)The Palestinian Authority officially became the 123rd member of the International Criminal Court on Wednesday, a step that gives the court jurisdiction over alleged crimes in Palestinian territories. The formal accession was marked with a ceremony at The Hague, in the Netherlands, where the court is based. The Palestinian authorities signed the ICC\\'s founding Rome Statute in January, thereby acknowledging the court\\'s authority to investigate and prosecute alleged crimes committed in the occupied Palestinian territories, including East Jerusalem, dating back to June 13, 2014. Later that month, the International Criminal Court initiated a preliminary examination into the situation in the Palestinian territories, potentially paving the way for investigations into possible war crimes committed by Israelis. As members of the court, Palestinians may be subject to counter-charges as well. Neither Israel nor the United States, both of which are not members of the International Criminal Court (ICC), objected to the Palestinians\\' attempts to join the ICC. But Palestinian Foreign Minister Riad al-Malki, speaking at Wednesday\\'s ceremony, said it was a move toward greater justice. \"As Palestine formally becomes a State Party to the Rome Statute today, the world is also a step closer to ending a long era of impunity and injustice,\" he said, according to an ICC news release. \"Indeed, today brings us closer to our shared goals of justice and peace.\" Judge Kuniko Ozaki, a vice president of the ICC, said acceding to the treaty was just the first step for the Palestinians. \"As the Rome Statute today enters into force for the State of Palestine, Palestine acquires all the rights as well as responsibilities that come with being a State Party to the Statute. These are substantive commitments, which cannot be taken lightly,\" she said. Rights group Human Rights Watch welcomed the development. \"Governments seeking to penalize Palestine for joining the ICC should immediately end their pressure, and countries that support universal acceptance of the court\\'s treaty should speak out to welcome its membership,\" said Balkees Jarrah, international justice counsel for the group. \"What\\'s objectionable is the attempts to undermine international justice, not Palestine\\'s decision to join a treaty to which over 100 countries around the world are members.\" In January, when the preliminary ICC examination was opened, Israeli Prime Minister Benjamin Netanyahu described it as an outrage, saying the court was overstepping its boundaries. The United States also said it \"strongly\" disagreed with the court\\'s decision. \"As we have said repeatedly, we do not believe that Palestine is a state and therefore we do not believe that it is eligible to join the ICC,\" the State Department said in a statement. It urged the warring sides to resolve their differences through direct negotiations. \"We will continue to oppose actions against Israel at the ICC as counterproductive to the cause of peace,\" it said. But the ICC begs to differ with the definition of a state for its purposes and refers to the territories as \"Palestine.\" While a preliminary examination is not a formal investigation, it allows the court to review evidence and determine whether to investigate suspects on both sides. Prosecutor Fatou Bensouda said her office would \"conduct its analysis in full independence and impartiality.\" The war between Israel and Hamas militants in Gaza last summer left more than 2,000 people dead. The investigation will focus on alleged atrocities committed during the conflict that began in June. The International Criminal Court was set up in 2002 to prosecute genocide, crimes against humanity and war crimes. CNN\\'s Vasco Cotovio, Kareem Khadder and Faith Karimi contributed to this report.'}\n",
      "\n",
      "    Here is the summary 1: \n",
      "1. On Wednesday, the Palestinian Authority officially did join the International Criminal Court (ICC) as its 123rd member, granting the court jurisdiction over suspected crimes in Palestinian territories.\n",
      "2. The ICC does have initiated a preliminary examination into the conditions in Palestinian territories, potentially leading to investigations into alleged war crimes involving both Israelis and Palestinians.\n",
      "3. Joining the ICC is considered as a step toward increased justice and accountability for alleged offenses in the occupied Palestinian territories. However, objections from Israel and the United States regarding the Palestinians' ICC membership have been raised.\n",
      "\n",
      "    Here is the summary 2: \n",
      "Sure! Here is a summary of the article in three numbered sentences:\n",
      "\n",
      "1. The Palestinian Authority officially regained the 123rd member of the International Criminal Court (ICC) on Wednesday, pledging the court jurisdiction over alleged crimes in Palestinian territories.\n",
      "2. The ICC has concluded a preliminary examination into the situation in the Palestinian territories, potentially paving the way for investigations into possible war crimes committed by Israelis and Palestinians.\n",
      "3. The accession to the ICC is seen as a move towards conventional justice and accountability for alleged crimes committed in the occupied Palestinian territories, but both Israel and the United States have discussed to the Palestinians' attempts to join the court.\n",
      "\n",
      "\n"
     ]
    }
   ],
   "source": [
    "print(rankPrompt(article, summaries['para_para_did'], summaries['twistSummary']))"
   ]
  },
  {
   "cell_type": "code",
   "execution_count": 48,
   "metadata": {},
   "outputs": [
    {
     "name": "stdout",
     "output_type": "stream",
     "text": [
      "\n",
      "\n",
      "    You will be given two summaries written for a news article. Your task is to rank the summaries based on the following criteria:\n",
      "    \n",
      "    Rank the summaries based on how they meet the criteria defined here. For example, as long as summary 2 better meets the criteira, rank: summary 2, summary 1.\n",
      "\n",
      "    Output Format: \n",
      "    Only report back with your final ranking. For example: summary 2, summary 1\n",
      "\n",
      "    Evaluation Criteria:\n",
      "    1. Read the news article carefully and identify the main topic and key points.\n",
      "    2. Read the summaries and compare them to the news article. Check if the summaries covers the main topic and key points of the news article, and if they resent them in a clear and logical order.\n",
      "    3. If both summaries meet the requirements above, then rank them based on how concise and clear they are. For example, both summary 1 and summary 2 cover the key points of a news article, but summary 2 is shorter in lenght and summary 2 uses more common language, you should recommend summary 2 over summary 1.\n",
      "    4. If both summaries meet the requirements above, then rank them based on whether they are free from grammatical errors and typos. For example, if the first summary has more grammatical errors and typos than summary 2, then you should recommend summary 2 over summary 1.\n",
      "    5. If both summaries meet the requirements above, then rank them based on how likely you would recommend them to others. For example, if you think the summary 2 is more likely to be recommended than the first summary, you should rank them as: summary 2, summary 1.\n",
      "\n",
      "    Here is the article: (CNN)The Palestinian Authority officially became the 123rd member of the International Criminal Court on Wednesday, a step that gives the court jurisdiction over alleged crimes in Palestinian territories. The formal accession was marked with a ceremony at The Hague, in the Netherlands, where the court is based. The Palestinian authorities signed the ICC's founding Rome Statute in January, thereby acknowledging the court's authority to investigate and prosecute alleged crimes committed in the occupied Palestinian territories, including East Jerusalem, dating back to June 13, 2014. Later that month, the International Criminal Court initiated a preliminary examination into the situation in the Palestinian territories, potentially paving the way for investigations into possible war crimes committed by Israelis. As members of the court, Palestinians may be subject to counter-charges as well. Neither Israel nor the United States, both of which are not members of the International Criminal Court (ICC), objected to the Palestinians' attempts to join the ICC. But Palestinian Foreign Minister Riad al-Malki, speaking at Wednesday's ceremony, said it was a move toward greater justice. \"As Palestine formally becomes a State Party to the Rome Statute today, the world is also a step closer to ending a long era of impunity and injustice,\" he said, according to an ICC news release. \"Indeed, today brings us closer to our shared goals of justice and peace.\" Judge Kuniko Ozaki, a vice president of the ICC, said acceding to the treaty was just the first step for the Palestinians. \"As the Rome Statute today enters into force for the State of Palestine, Palestine acquires all the rights as well as responsibilities that come with being a State Party to the Statute. These are substantive commitments, which cannot be taken lightly,\" she said. Rights group Human Rights Watch welcomed the development. \"Governments seeking to penalize Palestine for joining the ICC should immediately end their pressure, and countries that support universal acceptance of the court's treaty should speak out to welcome its membership,\" said Balkees Jarrah, international justice counsel for the group. \"What's objectionable is the attempts to undermine international justice, not Palestine's decision to join a treaty to which over 100 countries around the world are members.\" In January, when the preliminary ICC examination was opened, Israeli Prime Minister Benjamin Netanyahu described it as an outrage, saying the court was overstepping its boundaries. The United States also said it \"strongly\" disagreed with the court's decision. \"As we have said repeatedly, we do not believe that Palestine is a state and therefore we do not believe that it is eligible to join the ICC,\" the State Department said in a statement. It urged the warring sides to resolve their differences through direct negotiations. \"We will continue to oppose actions against Israel at the ICC as counterproductive to the cause of peace,\" it said. But the ICC begs to differ with the definition of a state for its purposes and refers to the territories as \"Palestine.\" While a preliminary examination is not a formal investigation, it allows the court to review evidence and determine whether to investigate suspects on both sides. Prosecutor Fatou Bensouda said her office would \"conduct its analysis in full independence and impartiality.\" The war between Israel and Hamas militants in Gaza last summer left more than 2,000 people dead. The investigation will focus on alleged atrocities committed during the conflict that began in June. The International Criminal Court was set up in 2002 to prosecute genocide, crimes against humanity and war crimes. CNN's Vasco Cotovio, Kareem Khadder and Faith Karimi contributed to this report.\n",
      "\n",
      "    Here is the summary 1: 1. On Wednesday, the Palestinian Authority officially joined the International Criminal Court (ICC) as its 123rd member, granting the court jurisdiction over suspected crimes in Palestinian territories.\n",
      "2. The ICC has initiated a preliminary examination into the conditions in Palestinian territories, potentially leading to investigations into alleged war crimes involving both Israelis and Palestinians.\n",
      "3. Joining the ICC is considered as a step toward increased justice and accountability for alleged offenses in the occupied Palestinian territories. However, objections from Israel and the United States regarding the Palestinians' ICC membership have been raised.\n",
      "\n",
      "    Here is the summary 2: \n",
      "Sure! Here is a summary of the article in three numbered sentences:\n",
      "\n",
      "1. The Palestinian Authority officially exited the 123rd member of the International Criminal Court (ICC) on Wednesday, retrieving the court jurisdiction over alleged crimes in Palestinian territories.\n",
      "2. The ICC has terminated a preliminary examination into the situation in the Palestinian territories, potentially paving the way for investigations into possible war crimes committed by Israelis and Palestinians.\n",
      "3. The accession to the ICC is seen as a move towards less justice and accountability for alleged crimes committed in the occupied Palestinian territories, but both Israel and the United States have supported to the Palestinians' attempts to join the court.\n",
      "\n",
      "\n",
      "\n"
     ]
    }
   ],
   "source": [
    "print(rankPrompt2(article, summaries['para_para'], summaries['reverseSummary']))"
   ]
  },
  {
   "cell_type": "code",
   "execution_count": 53,
   "metadata": {},
   "outputs": [
    {
     "name": "stdout",
     "output_type": "stream",
     "text": [
      "\n",
      "\n",
      "    You will be given one summary written for a news article. Your task is to rate the summary based on the following criteria:\n",
      "\n",
      "    Evaluation Criteria:\n",
      "    1. Read the news article carefully and identify the main topic and key points.\n",
      "    2. Read the summary and compare it to the news article. Check if the summary covers the main topic and key points of the news article, and if it resents them in a clear and logical order.\n",
      "    3. Rate the summary with 5 percentages, where each one represents how likely the summary is going to get a score from 1 to 5. For example, if you think the summary is 80% likely to get a score of 5, 10% likely to get a score of 4, 5% likely to get a score of 3, 3% likely to get a score of 2, and 1% likely to get a score of 1, you should rate the summary as 80, 10, 5, 3, 2.\n",
      "    4. Only report back with your final rating. For example: 80,10,5,3,2\n",
      "\n",
      "    Here is the article: (CNN)The Palestinian Authority officially became the 123rd member of the International Criminal Court on Wednesday, a step that gives the court jurisdiction over alleged crimes in Palestinian territories. The formal accession was marked with a ceremony at The Hague, in the Netherlands, where the court is based. The Palestinian authorities signed the ICC's founding Rome Statute in January, thereby acknowledging the court's authority to investigate and prosecute alleged crimes committed in the occupied Palestinian territories, including East Jerusalem, dating back to June 13, 2014. Later that month, the International Criminal Court initiated a preliminary examination into the situation in the Palestinian territories, potentially paving the way for investigations into possible war crimes committed by Israelis. As members of the court, Palestinians may be subject to counter-charges as well. Neither Israel nor the United States, both of which are not members of the International Criminal Court (ICC), objected to the Palestinians' attempts to join the ICC. But Palestinian Foreign Minister Riad al-Malki, speaking at Wednesday's ceremony, said it was a move toward greater justice. \"As Palestine formally becomes a State Party to the Rome Statute today, the world is also a step closer to ending a long era of impunity and injustice,\" he said, according to an ICC news release. \"Indeed, today brings us closer to our shared goals of justice and peace.\" Judge Kuniko Ozaki, a vice president of the ICC, said acceding to the treaty was just the first step for the Palestinians. \"As the Rome Statute today enters into force for the State of Palestine, Palestine acquires all the rights as well as responsibilities that come with being a State Party to the Statute. These are substantive commitments, which cannot be taken lightly,\" she said. Rights group Human Rights Watch welcomed the development. \"Governments seeking to penalize Palestine for joining the ICC should immediately end their pressure, and countries that support universal acceptance of the court's treaty should speak out to welcome its membership,\" said Balkees Jarrah, international justice counsel for the group. \"What's objectionable is the attempts to undermine international justice, not Palestine's decision to join a treaty to which over 100 countries around the world are members.\" In January, when the preliminary ICC examination was opened, Israeli Prime Minister Benjamin Netanyahu described it as an outrage, saying the court was overstepping its boundaries. The United States also said it \"strongly\" disagreed with the court's decision. \"As we have said repeatedly, we do not believe that Palestine is a state and therefore we do not believe that it is eligible to join the ICC,\" the State Department said in a statement. It urged the warring sides to resolve their differences through direct negotiations. \"We will continue to oppose actions against Israel at the ICC as counterproductive to the cause of peace,\" it said. But the ICC begs to differ with the definition of a state for its purposes and refers to the territories as \"Palestine.\" While a preliminary examination is not a formal investigation, it allows the court to review evidence and determine whether to investigate suspects on both sides. Prosecutor Fatou Bensouda said her office would \"conduct its analysis in full independence and impartiality.\" The war between Israel and Hamas militants in Gaza last summer left more than 2,000 people dead. The investigation will focus on alleged atrocities committed during the conflict that began in June. The International Criminal Court was set up in 2002 to prosecute genocide, crimes against humanity and war crimes. CNN's Vasco Cotovio, Kareem Khadder and Faith Karimi contributed to this report.\n",
      "\n",
      "    Here is the summary:  Sure! Here is a summary of the article in three numbered sentences:\n",
      "\n",
      "1. The Palestinian Authority officially became the 123rd member of the International Criminal Court (ICC) on Wednesday, giving the court jurisdiction over alleged crimes in Palestinian territories.\n",
      "2. The ICC opened a preliminary examination into the situation in Palestinian territories in January, and the formal accession of the Palestinian Authority as a member of the court paves the way for possible war crimes investigations against Israelis.\n",
      "3. The ICC's decision to allow the Palestinians to join the body despite opposition from Israel and the United States is seen as a step towards greater justice and accountability for alleged crimes committed in the region.\n",
      "    \n"
     ]
    }
   ],
   "source": [
    "from icecream import ic\n",
    "print(ratePromptGood(article, original))"
   ]
  },
  {
   "cell_type": "code",
   "execution_count": 14,
   "metadata": {},
   "outputs": [],
   "source": [
    "def build(ckpt_dir,tokenizer_path,max_seq_len,max_batch_size):\n",
    "    generator = Llama.build(\n",
    "        ckpt_dir=ckpt_dir,\n",
    "        tokenizer_path=tokenizer_path,\n",
    "        max_seq_len=max_seq_len,\n",
    "        max_batch_size=max_batch_size,\n",
    "    )\n",
    "    return generator\n",
    "\n",
    "def call(generator, article, summary, max_gen_len,temperature,top_p):\n",
    "    dialogs: List[Dialog] = []\n",
    "\n",
    "    user_input = prompt(article, summary)\n",
    "\n",
    "    dialogs.append([{\"role\": \"user\", \"content\": \"{}\".format(user_input)}])\n",
    "        \n",
    "    print(len(dialogs))\n",
    "\n",
    "    \n",
    "    results = generator.chat_completion(\n",
    "        dialogs,  # type: ignore\n",
    "        max_gen_len=max_gen_len,\n",
    "        temperature=temperature,\n",
    "        top_p=top_p,\n",
    "    )\n",
    "\n",
    "    #print(results)\n",
    "    for result in results:\n",
    "        # for msg in dialog:\n",
    "            # print(f\"{msg['role'].capitalize()}: {msg['content']}\\n\")\n",
    "        # if name=='cnn_dailymail':\n",
    "        #     final=prompt_output_parse_CNN(result['generation']['content'])\n",
    "\n",
    "        # else:\n",
    "        #     final=prompt_output_parse(result['generation']['content'])\n",
    "        \n",
    "        final=result['generation']['content']\n",
    "    \n",
    "    #print(final)\n",
    "    return final\n",
    "        "
   ]
  },
  {
   "cell_type": "code",
   "execution_count": 15,
   "metadata": {},
   "outputs": [],
   "source": [
    "\n",
    "def main(\n",
    "    ckpt_dir: str,\n",
    "    tokenizer_path: str,\n",
    "    temperature: float = 0.7,\n",
    "    top_p: float = 0.9,\n",
    "    max_seq_len: int = 8000,\n",
    "    max_batch_size: int = 2,\n",
    "    max_gen_len: Optional[int] = None,\n",
    "):\n",
    "    generator = build(ckpt_dir,tokenizer_path,max_seq_len,max_batch_size)\n",
    "\n",
    "    dataset = load_dataset(\"xsum\")\n",
    "    article_key = 'document'\n",
    "    summary_key = 'summary'\n",
    "    data=dataset['test']\n",
    "\n",
    "    with open(\"data_original/cnn/0.pkl\", 'rb') as f:\n",
    "        summary = pkl.load(f)\n",
    "    \n",
    "    with open(\"paraphrased_articles/cnn/0.pkl\", 'rb') as f:\n",
    "        article = pkl.load(f)\n",
    "\n",
    "    out = call(generator, article, summary, max_gen_len,temperature,top_p)\n",
    "\n",
    "    _ = ic(out)\n",
    "\n"
   ]
  },
  {
   "cell_type": "code",
   "execution_count": 20,
   "metadata": {},
   "outputs": [
    {
     "name": "stderr",
     "output_type": "stream",
     "text": [
      "usage: ipykernel_launcher.py [-h] [--local-rank LOCAL_RANK]\n",
      "ipykernel_launcher.py: error: unrecognized arguments: --f=/home/mz/.local/share/jupyter/runtime/kernel-v2-4758692bF7uh8GNRCX.json\n"
     ]
    },
    {
     "ename": "SystemExit",
     "evalue": "2",
     "output_type": "error",
     "traceback": [
      "An exception has occurred, use %tb to see the full traceback.\n",
      "\u001b[0;31mSystemExit\u001b[0m\u001b[0;31m:\u001b[0m 2\n"
     ]
    },
    {
     "name": "stderr",
     "output_type": "stream",
     "text": [
      "/home/mz/.local/lib/python3.10/site-packages/IPython/core/interactiveshell.py:3561: UserWarning: To exit: use 'exit', 'quit', or Ctrl-D.\n",
      "  warn(\"To exit: use 'exit', 'quit', or Ctrl-D.\", stacklevel=1)\n"
     ]
    }
   ],
   "source": [
    "import argparse\n",
    "parser = argparse.ArgumentParser()\n",
    "parser.add_argument(\"--local-rank\", type=int)\n",
    "args = parser.parse_args()\n",
    "\n",
    "local_rank = args.local_rank\n",
    "\n",
    "main('/home/mz/AIModels/llama/llama-2-7b-chat/', '/home/mz/Documents/github/Relevance-Paraphrasing-main/llama2/tokenizer.model')"
   ]
  }
 ],
 "metadata": {
  "kernelspec": {
   "display_name": "Python 3",
   "language": "python",
   "name": "python3"
  },
  "language_info": {
   "codemirror_mode": {
    "name": "ipython",
    "version": 3
   },
   "file_extension": ".py",
   "mimetype": "text/x-python",
   "name": "python",
   "nbconvert_exporter": "python",
   "pygments_lexer": "ipython3",
   "version": "3.10.12"
  }
 },
 "nbformat": 4,
 "nbformat_minor": 2
}
