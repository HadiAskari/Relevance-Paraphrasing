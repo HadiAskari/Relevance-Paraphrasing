{
 "cells": [
  {
   "cell_type": "code",
   "execution_count": 5,
   "metadata": {},
   "outputs": [],
   "source": [
    "import pickle as pkl\n",
    "import nltk\n",
    "import os\n",
    "from datasets import load_dataset\n",
    "from nltk.tokenize import sent_tokenize, word_tokenize\n",
    "import multiprocessing\n",
    "import evaluate\n",
    "from rouge_score import rouge_scorer\n",
    "from tqdm.auto import tqdm\n",
    "from natsort import natsorted\n",
    "import random\n"
   ]
  },
  {
   "cell_type": "code",
   "execution_count": 6,
   "metadata": {},
   "outputs": [
    {
     "name": "stdout",
     "output_type": "stream",
     "text": [
      "11334\n",
      "\n",
      "\n",
      "For the following article: Prison Link Cymru had 1,099 referrals in 2015-16 and said some ex-offenders were living rough for up to a year before finding suitable accommodation. Workers at the charity claim investment in housing would be cheaper than jailing homeless repeat offenders. The Welsh Government said more people than ever were getting help to address housing problems.  Prison Link Cymru, which helps people find accommodation after their release, said things were generally good for women because issues such as children or domestic violence were now considered. However, the same could not be said for men, the charity said, because issues which often affect them, such as post traumatic stress disorder or drug dependency, were often viewed as less of a priority.  \"There's a desperate need for it, finding suitable accommodation for those leaving prison there is just a lack of it everywhere,\" he said. \"It could take six months to a year, without a lot of help they could be on the streets for six months. \"When you think of the consequences of either being on the street, especially with the cold weather at the moment or you may have a roof over your head, sometimes there is only one choice.\" Mr Stevens believes building more one-bedroom flats could help ease the problem. \"The average price is a hundred pounds a week to keep someone in a rented flat, prison is a lot more than that so I would imagine it would save the public purse quite a few pounds,\" he said. Official figures show 830 one-bedroom properties were built in the year to March 2016, of an overall total of 6,900 new properties in Wales. Marc, 50, who has been in and out of prison for the past 20 years for burglary offences, said he struggled to find accommodation each time he was released. He said he would ask himself: \"Where am I going to stay? Where am I going to live? Have I got somewhere where I can see my daughter.\" \"You're put out among the same sort of people doing the same sort of thing, and it's difficult, it's difficult to get away from it. It's like every man for himself, there's nothing.\" Marc has now found stable accommodation with homeless charity Emmaus and said it had been life changing. \"You feel safe, you got hot food, you've got company of people in similar situations to yourself but all dealing with different issues. It's a constructive, helpful atmosphere,\" he said. Tom Clarke, chief executive of Emmaus South Wales, agreed there was not enough support available. \"We do still see [people] homeless on the streets, so clearly they haven't got accommodation and haven't got provision,\" he said. \"I think the key is connecting people with the services they need. I don't delude myself that Emmaus can offer a one size fits all for everyone, we can't. \"But there must be other opportunities and given suitable encouragement I believe that can and should happen.\" A Welsh Government spokesman said the national pathway for homeless services to children, young people and adults in the secure estate had prevented many people from losing their home whilst serving their prison sentence. It added there were already significant demands for one-bedroom flats across the public and private sector and it was providing 20,000 new affordable homes in the next five years. \n",
      "\n",
      "Return a summary comprising of 1 sentence. With the sentence in a numbered list format.\n",
      "\n",
      "For example:\n",
      "\n",
      "1. First sentence\n",
      "\n",
      "2. Second sentence\n",
      "\n",
      "3. Third sentence \n",
      "\n",
      "1. Prison Link Cymru had 1,099 referrals in 2015-16 and said some ex-offenders were living rough for up to a year before finding suitable accommodation.\n",
      "\n",
      "2. Workers at the charity claim investment in housing would be cheaper than jailing homeless repeat offenders.\n",
      "\n",
      "3. The Welsh Government said more people than ever were getting help to address housing problems. \n",
      "\n",
      "4. Prison Link Cymru, which helps people find accommodation after their release, said things were generally good for women because issues such as children or domestic violence were now considered.\n",
      "\n",
      "5. However, the same could not be said for men, the charity said, because issues which often affect them, such as post traumatic stress disorder or drug dependency, were often viewed as less of a priority.\n",
      "\n",
      "6. Building more one-bedroom flats could help ease the problem.\n",
      "\n",
      "7. Official figures show 830 one-bedroom properties were built in the year to March 2016, of an overall total of 6,900 new properties in Wales.\n",
      "\n",
      "8. Marc, 50, who has been in and out of prison for the past 20 years for burglary offences, said he struggled to find accommodation each time he was released.\n"
     ]
    }
   ],
   "source": [
    "pkls=os.listdir('xsum')\n",
    "pkls=natsorted(pkls)\n",
    "pkls_list=[]\n",
    "for pikl in pkls:\n",
    "    with open('xsum/{}'.format(pikl),'rb') as f:\n",
    "        file=pkl.load(f)\n",
    "    if not file:\n",
    "        file.append(' ')\n",
    "    pkls_list.extend(file)\n",
    "\n",
    "print(len(pkls_list))\n",
    "print(pkls_list[0])"
   ]
  },
  {
   "cell_type": "code",
   "execution_count": null,
   "metadata": {},
   "outputs": [],
   "source": [
    "# print(pkls_list[750])"
   ]
  },
  {
   "cell_type": "code",
   "execution_count": 8,
   "metadata": {},
   "outputs": [
    {
     "name": "stdout",
     "output_type": "stream",
     "text": [
      "135\n",
      "262\n",
      "336\n",
      "346\n",
      "567\n",
      "781\n",
      "926\n",
      "1044\n",
      "1329\n",
      "1402\n",
      "1566\n",
      "1632\n",
      "1634\n",
      "1907\n",
      "1915\n",
      "1947\n",
      "2079\n",
      "2417\n",
      "2536\n",
      "2550\n",
      "2680\n",
      "2687\n",
      "2723\n",
      "2851\n",
      "2911\n",
      "2916\n",
      "3011\n",
      "3053\n",
      "3138\n",
      "3571\n",
      "3607\n",
      "3714\n",
      "3777\n",
      "3934\n",
      "3992\n",
      "4166\n",
      "4837\n",
      "5038\n",
      "5111\n",
      "5171\n",
      "5320\n",
      "5368\n",
      "5832\n",
      "5965\n",
      "5986\n",
      "6324\n",
      "6363\n",
      "6404\n",
      "6432\n",
      "6611\n",
      "6914\n",
      "6924\n",
      "7041\n",
      "7068\n",
      "7828\n",
      "8018\n",
      "8037\n",
      "8047\n",
      "8387\n",
      "8603\n",
      "8770\n",
      "8807\n",
      "8866\n",
      "9414\n",
      "9459\n",
      "9549\n",
      "9795\n",
      "9910\n",
      "9929\n",
      "9939\n",
      "10065\n",
      "10531\n",
      "10630\n",
      "10727\n",
      "10951\n",
      "11058\n",
      "11094\n",
      "11119\n",
      "11155\n",
      "11203\n",
      "80\n"
     ]
    }
   ],
   "source": [
    "count=0\n",
    "for idx,item in enumerate(pkls_list):\n",
    "    if item == \" \":\n",
    "        print(idx)\n",
    "        count+=1\n",
    "print(count)"
   ]
  },
  {
   "cell_type": "code",
   "execution_count": 9,
   "metadata": {},
   "outputs": [
    {
     "name": "stdout",
     "output_type": "stream",
     "text": [
      "10884\n"
     ]
    }
   ],
   "source": [
    "count=0\n",
    "for pickle in pkls_list:\n",
    "    if \"3. Third sentence\" in pickle:\n",
    "        count+=1\n",
    "print(count)"
   ]
  },
  {
   "cell_type": "code",
   "execution_count": 20,
   "metadata": {},
   "outputs": [
    {
     "name": "stdout",
     "output_type": "stream",
     "text": [
      "\n",
      "['1. Prison Link Cymru had 1,099 referrals in 2015-16 and said some ex-offenders were living rough for up to a year before finding suitable accommodation.', '2. Workers at the charity claim investment in housing would be cheaper than jailing homeless repeat offenders.', '3. The Welsh Government said more people than ever were getting help to address housing problems.', '4. Prison Link Cymru, which helps people find accommodation after their release, said things were generally good for women because issues such as children or domestic violence were now considered.', '5. However, the same could not be said for men, the charity said, because issues which often affect them, such as post traumatic stress disorder or drug dependency, were often viewed as less of a priority.', '6. Building more one-bedroom flats could help ease the problem.', '7. Official figures show 830 one-bedroom properties were built in the year to March 2016, of an overall total of 6,900 new properties in Wales.', '8. Marc, 50, who has been in and out of prison for the past 20 years for burglary offences, said he struggled to find accommodation each time he was released.']\n"
     ]
    }
   ],
   "source": [
    "cnn_list=[]\n",
    "for i in range(len(pkls_list)):\n",
    "    temp=[]\n",
    "    splits=pkls_list[i].split('\\n\\n')\n",
    "    for split in splits:\n",
    "        try:\n",
    "            if split[0].isdigit():\n",
    "                temp.append(split.strip())\n",
    "        except:\n",
    "            print(split)\n",
    "            \n",
    "    indices_to_remove=[]\n",
    "    for k, items in enumerate(temp):\n",
    "        space_split=items.split(' ')\n",
    "\n",
    "        if space_split[-1].lower()=='sentence':\n",
    "            indices_to_remove.append(k)\n",
    "    cleaned_list = [item for index, item in enumerate(temp) if index not in indices_to_remove]\n",
    "    print(cleaned_list)\n",
    "    break"
   ]
  },
  {
   "cell_type": "code",
   "execution_count": 15,
   "metadata": {},
   "outputs": [
    {
     "name": "stdout",
     "output_type": "stream",
     "text": [
      "['[1. First Sentence, 2. Second Sentence, 3. Third Sentence]', '[4. Fourth Sentence, 5. Fifth Sentence, 6. Sixth Sentence]', '[7. Seventh Sentence, 8. Eighth Sentence, Ninth Sentence]']\n"
     ]
    }
   ],
   "source": [
    "\n"
   ]
  },
  {
   "cell_type": "code",
   "execution_count": null,
   "metadata": {},
   "outputs": [],
   "source": [
    "#CNN Split\n",
    "\n",
    "cnn_list=[]\n",
    "for i in range(len(pkls_list)):\n",
    "    temp=[]\n",
    "    try:\n",
    "        initial_input=pkls_list[i].split('3. Third Sentence')[1]\n",
    "    except:\n",
    "        print(pkls_list[i])\n",
    "    splits=initial_input.split('\\n')\n",
    "    for split in splits:\n",
    "        if split:\n",
    "            if split[0].isdigit():\n",
    "                try:\n",
    "                    temp.append(split.split(\".\")[1].strip())\n",
    "                except:\n",
    "                    print(split)\n",
    "    cnn_list.append(temp)"
   ]
  },
  {
   "cell_type": "code",
   "execution_count": null,
   "metadata": {},
   "outputs": [],
   "source": [
    "print(cnn_list[8])"
   ]
  },
  {
   "cell_type": "code",
   "execution_count": null,
   "metadata": {},
   "outputs": [],
   "source": [
    "len(cnn_list)"
   ]
  },
  {
   "cell_type": "code",
   "execution_count": null,
   "metadata": {},
   "outputs": [],
   "source": [
    "cnn_list[207]"
   ]
  },
  {
   "cell_type": "code",
   "execution_count": null,
   "metadata": {},
   "outputs": [],
   "source": [
    "with open('cnn.pkl', 'wb') as f:\n",
    "    pkl.dump(cnn_list,f) "
   ]
  },
  {
   "cell_type": "code",
   "execution_count": null,
   "metadata": {},
   "outputs": [],
   "source": [
    "with open('cnn.pkl', 'rb') as f:\n",
    "    file=pkl.load(f) "
   ]
  },
  {
   "cell_type": "code",
   "execution_count": null,
   "metadata": {},
   "outputs": [],
   "source": [
    "file[0]"
   ]
  },
  {
   "cell_type": "code",
   "execution_count": null,
   "metadata": {},
   "outputs": [],
   "source": []
  }
 ],
 "metadata": {
  "kernelspec": {
   "display_name": "Python 3 (ipykernel)",
   "language": "python",
   "name": "python3"
  },
  "language_info": {
   "codemirror_mode": {
    "name": "ipython",
    "version": 3
   },
   "file_extension": ".py",
   "mimetype": "text/x-python",
   "name": "python",
   "nbconvert_exporter": "python",
   "pygments_lexer": "ipython3",
   "version": "3.11.5"
  }
 },
 "nbformat": 4,
 "nbformat_minor": 4
}
