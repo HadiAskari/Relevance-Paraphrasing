{
 "cells": [
  {
   "cell_type": "code",
   "execution_count": 3,
   "metadata": {},
   "outputs": [
    {
     "name": "stderr",
     "output_type": "stream",
     "text": [
      "[nltk_data] Downloading package punkt to /home/haskari/nltk_data...\n",
      "[nltk_data]   Package punkt is already up-to-date!\n"
     ]
    }
   ],
   "source": [
    "import pickle as pkl\n",
    "import os\n",
    "from natsort import natsorted\n",
    "import nltk\n",
    "nltk.download('punkt')\n",
    "import random"
   ]
  },
  {
   "cell_type": "code",
   "execution_count": 10,
   "metadata": {},
   "outputs": [
    {
     "name": "stdout",
     "output_type": "stream",
     "text": [
      "4214\n",
      "['well this was around 9 years ago when i was a 2nd grader. so basically it was some kids birthday and since it was primary school most kids brought cupcakes and the teacher would pass it out to the class. me being the hungry little shit that i was i was desperately in the mood for some vanilla cupcakes but the teacher decided to pass out the chocolate ones first. after she had finished passing out the chocolate ones she picks up the vanilla ones and says, \"raise your hand if you want vanilla!\". at that moment i was talking to a friend and it took me a bit to process the fact that she just asked who wanted vanilla. I reached up and found the cupcakes were conveniently located just above me. I accidentally knocked the cupcakes out of her hand, causing them to spill all over her. she got bat-shit angry and begins to make a scene in the middle of the whole cafeteria. she explained how i \"ruined her brand new shoes\" and the bitch even asked me if i had an allowance so i could pay for her shoes. she had asked me at the time if i was messing around and i said yes because i literally didn\\'t know what else to say. after numerous emails from my']\n"
     ]
    }
   ],
   "source": [
    "pkls=os.listdir('reddit')\n",
    "pkls=natsorted(pkls)\n",
    "pkls_list=[]\n",
    "for pikl in pkls:\n",
    "    with open('reddit/{}'.format(pikl),'rb') as f:\n",
    "        file=pkl.load(f)\n",
    "    if not file:\n",
    "        file.append(' ')\n",
    "    pkls_list.append(file)\n",
    "\n",
    "print(len(pkls_list))\n",
    "print(pkls_list[0])\n"
   ]
  },
  {
   "cell_type": "code",
   "execution_count": 11,
   "metadata": {},
   "outputs": [],
   "source": [
    "cnn_list_capped=[]\n",
    "for item in pkls_list:\n",
    "    length=len(item)\n",
    "    choose=random.randint(0,length-1)\n",
    "    try:\n",
    "        cnn_list_capped.append([item[choose]])\n",
    "    except:\n",
    "        cnn_list_capped.append([])"
   ]
  },
  {
   "cell_type": "code",
   "execution_count": 12,
   "metadata": {},
   "outputs": [],
   "source": [
    "with open('reddit_capped_random.pkl', 'wb') as f:\n",
    "    pkl.dump(pkls_list,f)"
   ]
  },
  {
   "cell_type": "code",
   "execution_count": 6,
   "metadata": {},
   "outputs": [],
   "source": [
    "with open('reddit.pkl', 'rb') as f:\n",
    "    pkls_list=pkl.load(f)"
   ]
  },
  {
   "cell_type": "code",
   "execution_count": 7,
   "metadata": {},
   "outputs": [],
   "source": [
    "cnn_list_capped=[]\n",
    "\n",
    "for item in pkls_list:\n",
    "    item=nltk.sent_tokenize(item)\n",
    "    length=len(item)\n",
    "    choose=random.randint(0,length-1)\n",
    "    try:\n",
    "        cnn_list_capped.append([item[0]])\n",
    "    except:\n",
    "        cnn_list_capped.append([])"
   ]
  },
  {
   "cell_type": "code",
   "execution_count": 11,
   "metadata": {},
   "outputs": [
    {
     "data": {
      "text/plain": [
       "['This article describes a real experience that a young Redditor had today.']"
      ]
     },
     "execution_count": 11,
     "metadata": {},
     "output_type": "execute_result"
    }
   ],
   "source": [
    "cnn_list_capped[30]"
   ]
  },
  {
   "cell_type": "code",
   "execution_count": 12,
   "metadata": {},
   "outputs": [],
   "source": [
    "with open('reddit_capped_random.pkl', 'wb') as f:\n",
    "    pkl.dump(cnn_list_capped,f)"
   ]
  },
  {
   "cell_type": "code",
   "execution_count": 13,
   "metadata": {},
   "outputs": [],
   "source": [
    "with open('news.pkl', 'rb') as f:\n",
    "    pkls_list=pkl.load(f)"
   ]
  },
  {
   "cell_type": "code",
   "execution_count": 14,
   "metadata": {},
   "outputs": [],
   "source": [
    "cnn_list_capped=[]\n",
    "\n",
    "for item in pkls_list:\n",
    "    item=nltk.sent_tokenize(item)\n",
    "    length=len(item)\n",
    "    choose=random.randint(0,length-1)\n",
    "    try:\n",
    "        cnn_list_capped.append([item[0]])\n",
    "    except:\n",
    "        cnn_list_capped.append([])"
   ]
  },
  {
   "cell_type": "code",
   "execution_count": 16,
   "metadata": {},
   "outputs": [
    {
     "data": {
      "text/plain": [
       "[\"A reporter for the conservative website Breitbart News filed a criminal complaint against Trump's campaign manager, Corey Lewandowski, on Friday alleging that he grabbed her arm at a rally and left bruises.\"]"
      ]
     },
     "execution_count": 16,
     "metadata": {},
     "output_type": "execute_result"
    }
   ],
   "source": [
    "cnn_list_capped[50]"
   ]
  },
  {
   "cell_type": "code",
   "execution_count": null,
   "metadata": {},
   "outputs": [],
   "source": [
    "with open('news_capped_random.pkl', 'wb') as f:\n",
    "    pkl.dump(cnn_list_capped,f)"
   ]
  },
  {
   "cell_type": "code",
   "execution_count": 2,
   "metadata": {},
   "outputs": [
    {
     "name": "stderr",
     "output_type": "stream",
     "text": [
      "\n",
      "KeyboardInterrupt\n",
      "\n"
     ]
    }
   ],
   "source": [
    "with open('cnn-roleplay.pkl', 'wb') as f:\n",
    "    pkl.dump(cnn_list_capped,f)"
   ]
  },
  {
   "cell_type": "code",
   "execution_count": 23,
   "metadata": {},
   "outputs": [],
   "source": [
    "with open('xsum_roleplay/7.pkl', 'rb') as f:\n",
    "    pkls_list=pkl.load(f)"
   ]
  },
  {
   "cell_type": "code",
   "execution_count": 24,
   "metadata": {},
   "outputs": [
    {
     "data": {
      "text/plain": [
       "['From now on you are an expert summarizer of articles that will help me generate summaries. Assistant: Sure! I can help you in generating summaries for articles. Please go ahead and send me the article.']"
      ]
     },
     "execution_count": 24,
     "metadata": {},
     "output_type": "execute_result"
    }
   ],
   "source": [
    "pkls_list"
   ]
  }
 ],
 "metadata": {
  "kernelspec": {
   "display_name": "acl",
   "language": "python",
   "name": "python3"
  },
  "language_info": {
   "codemirror_mode": {
    "name": "ipython",
    "version": 3
   },
   "file_extension": ".py",
   "mimetype": "text/x-python",
   "name": "python",
   "nbconvert_exporter": "python",
   "pygments_lexer": "ipython3",
   "version": "3.11.5"
  }
 },
 "nbformat": 4,
 "nbformat_minor": 2
}
