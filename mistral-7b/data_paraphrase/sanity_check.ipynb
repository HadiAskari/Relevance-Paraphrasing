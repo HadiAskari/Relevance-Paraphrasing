{
 "cells": [
  {
   "cell_type": "code",
   "execution_count": 1,
   "metadata": {},
   "outputs": [],
   "source": [
    "import pandas as pd\n",
    "import pickle as pkl\n",
    "import os"
   ]
  },
  {
   "cell_type": "code",
   "execution_count": 18,
   "metadata": {},
   "outputs": [],
   "source": [
    "with open('news/21.pkl', 'rb') as f:\n",
    "    file=pkl.load(f)"
   ]
  },
  {
   "cell_type": "code",
   "execution_count": 19,
   "metadata": {},
   "outputs": [
    {
     "name": "stdout",
     "output_type": "stream",
     "text": [
      "['\\n\\nFor the following article: MOSCOW (Reuters) - Russian President Vladimir Putin hosted Saudi Arabia s King Salman for talks at the Kremlin on Thursday, cementing a relationship that is pivotal for world oil prices and could decide the outcome of the conflict in Syria. King Salman, the first Saudi monarch to visit Russia while in power, traveled to Moscow with a delegation that negotiated joint investment agreements worth several billion dollars, providing a much-needed economic boost to Russia, which has been struggling with low oil prices and Western sanctions. Saudi Arabia said it had signed a memorandum of understanding on the purchase from Russia of S-400 air defense systems. That marked a shift for the kingdom, which buys most of its military kit from the United States and Britain. On the political front, there was no sign of any substantial breakthrough on the issues that have long divided Moscow and Riyadh, including the fact that they back rival sides in Syria s war. However, any discord was eclipsed by mutual expressions of respect, and the pomp and ceremony laid on by Russian officials to greet the Saudi king. On his journey into central Moscow from Vnukovo airport late on Wednesday, King Salman s limousine passed billboards bearing his photograph and messages in Russian and Arabic welcoming him. On Thursday, Putin received the monarch in the gold-decorated St. Andrew Hall, one of the grandest spaces in the Kremlin, attended by soldiers in ceremonial dress and with an orchestra playing their countries  national anthems. I am sure that your visit will provide a good impulse for the development of relations between our two states,  Putin told King Salman later as they sat alongside each other in the Kremlin s lavishly-decorated Green Parlour. Russia and Saudi Arabia, despite their differences, have been drawn together by a common interest in propping up flagging world oil prices, and by the fact that Moscow, since its military intervention in Syria, has clout in the Middle East that other players in the region cannot ignore. The Saudi king invited Putin to visit his country - an offer the Russian leader accepted - and said they planned to keep cooperating to keep world oil prices stable. Moscow and Riyadh worked together to secure a deal between OPEC and other oil producers to cut output until the end of March 2018, helping support prices. Energy Minister Khalid al-Falih said Saudi Arabia was  flexible  regarding Moscow s suggestion to extend the pact until the end of next year. The message of further joint Saudi-Russia action on output helped push up oil prices on Thursday. Brent crude was up more than 2 percent at $57.12 a barrel by 1615 GMT. In Syria, Riyadh supports rebels fighting President Bashar al-Assad s army, while Russian and Iranian forces have sided with Assad. This leaves Moscow aligned with Saudi Arabia s arch-rival Iran, whose influence Riyadh fears is growing in the region. Briefing the media after the talks, Russian Foreign Minister Sergei Lavrov focused on the common ground, saying the two leaders had agreed on the importance of fighting terrorism, finding peaceful solutions to conflicts in the Middle East, and on the principle of territorial integrity. Adel al-Jubeir noted that the relationship between Russia and Saudi Arabia had expanded into unprecedented territories, presenting opportunities that were previously unimaginable. Relations between Russia and Saudi Arabia have reached a historical moment,  said Jubeir, speaking through an interpreter. We are certain that the further strengthening of Russian-Saudi relations will have a positive impact on strengthening stability and security in the region and the world. A package of investments announced during the visit will go some way to plugging the vacuum left by sluggish Western investment in Russia that is, in part, a result of sanctions imposed after Moscow annexed Crimea in 2014. Among the deals was an agreement between Russian sovereign wealth fund RDIF and Saudi Arabia s Public Investment Fund to invest up to $100 million in transport projects in Russia. The two countries also signed a deal to set up a $1 billion joint investment fund. Another memorandum of understanding was signed under which Russian petrochemicals firm Sibur would explore cooperation with Saudi Arabia. RDIF head Kirill Dmitriev said his fund was interested in partnering with Saudi investors to acquire a minority stake in Russian oilfield services firm Eurasia Drilling. Absent from the slew of deals was any agreement on Saudi Aramco taking a stake in an Arctic liquefied natural gas project run by Russia s Novatek. Russian Energy Minister Alexander Novak said earlier this month that Saudi officials were studying joint gas projects with Novatek. However, Aramco chief executive Amin Nasser said such a deal was not being discussed at this stage. \\n\\nReturn a summary comprising of 1 sentence. With the sentence in a numbered list format.\\n\\nFor example:\\n\\n1. First sentence\\n\\n2. Second sentence\\n\\n3. Third sentence\\n\\nList:\\n\\n1. Putin and Salman met at the Kremlin and discussed joint investment agreements worth several billion dollars.\\n\\n2. Saudi Arabia signed a memorandum of understanding on the purchase from Russia of S-400 air defense systems, marking a shift for the kingdom which buys most of its military kit from the United States and Britain.\\n\\n3. Despite their differences, Russia and Saudi Arabia have been drawn together by a common interest in propping up flagging world oil prices and by the fact that Moscow, since its military intervention in Syria, has clout in the Middle East that other players in the region cannot ignore.']\n"
     ]
    }
   ],
   "source": [
    "print(file)"
   ]
  },
  {
   "cell_type": "code",
   "execution_count": null,
   "metadata": {},
   "outputs": [],
   "source": []
  }
 ],
 "metadata": {
  "kernelspec": {
   "display_name": "acl",
   "language": "python",
   "name": "python3"
  },
  "language_info": {
   "codemirror_mode": {
    "name": "ipython",
    "version": 3
   },
   "file_extension": ".py",
   "mimetype": "text/x-python",
   "name": "python",
   "nbconvert_exporter": "python",
   "pygments_lexer": "ipython3",
   "version": "3.11.5"
  }
 },
 "nbformat": 4,
 "nbformat_minor": 2
}
