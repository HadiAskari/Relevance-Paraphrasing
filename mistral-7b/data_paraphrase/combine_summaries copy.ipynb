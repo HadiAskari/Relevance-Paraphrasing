{
 "cells": [
  {
   "cell_type": "code",
   "execution_count": 1,
   "metadata": {},
   "outputs": [
    {
     "name": "stderr",
     "output_type": "stream",
     "text": [
      "/home/haskari/miniconda3/envs/acl/lib/python3.11/site-packages/tqdm/auto.py:21: TqdmWarning: IProgress not found. Please update jupyter and ipywidgets. See https://ipywidgets.readthedocs.io/en/stable/user_install.html\n",
      "  from .autonotebook import tqdm as notebook_tqdm\n"
     ]
    },
    {
     "name": "stdout",
     "output_type": "stream",
     "text": [
      "[2024-01-24 18:30:26,392] [INFO] [real_accelerator.py:161:get_accelerator] Setting ds_accelerator to cuda (auto detect)\n"
     ]
    }
   ],
   "source": [
    "import pickle as pkl\n",
    "import nltk\n",
    "import os\n",
    "from datasets import load_dataset\n",
    "from nltk.tokenize import sent_tokenize, word_tokenize\n",
    "import multiprocessing\n",
    "import evaluate\n",
    "from rouge_score import rouge_scorer\n",
    "from tqdm.auto import tqdm\n",
    "from natsort import natsorted\n",
    "import random\n",
    "import pandas as pd\n",
    "from datasets import load_dataset, DatasetDict, load_from_disk"
   ]
  },
  {
   "cell_type": "code",
   "execution_count": 2,
   "metadata": {},
   "outputs": [
    {
     "name": "stdout",
     "output_type": "stream",
     "text": [
      "11490\n",
      " Sure! Here is a summary of the article in three numbered sentences:\n",
      "\n",
      "1. The Palestinian Authority officially became the 123rd member of the International Criminal Court (ICC) on Wednesday, giving the court jurisdiction over alleged crimes in Palestinian territories.\n",
      "2. The ICC has initiated a preliminary examination into the situation in the Palestinian territories, potentially paving the way for investigations into possible war crimes committed by Israelis and Palestinians.\n",
      "3. The accession to the ICC is seen as a move towards greater justice and accountability for alleged crimes committed in the occupied Palestinian territories, but both Israel and the United States have objected to the Palestinians' attempts to join the court.\n"
     ]
    }
   ],
   "source": [
    "pkls=os.listdir('cnn')\n",
    "pkls=natsorted(pkls)\n",
    "pkls_list=[]\n",
    "for pikl in pkls:\n",
    "    with open('cnn/{}'.format(pikl),'rb') as f:\n",
    "        file=pkl.load(f)\n",
    "    if not file:\n",
    "        file.append(' ')\n",
    "    pkls_list.extend(file)\n",
    "\n",
    "print(len(pkls_list))\n",
    "print(pkls_list[0])"
   ]
  },
  {
   "cell_type": "code",
   "execution_count": 3,
   "metadata": {},
   "outputs": [
    {
     "name": "stdout",
     "output_type": "stream",
     "text": [
      "13\n",
      "29\n",
      "56\n",
      "98\n",
      "187\n",
      "197\n",
      "216\n",
      "236\n",
      "237\n",
      "242\n",
      "259\n",
      "297\n",
      "304\n",
      "306\n",
      "347\n",
      "364\n",
      "397\n",
      "404\n",
      "408\n",
      "409\n",
      "430\n",
      "437\n",
      "456\n",
      "492\n",
      "493\n",
      "574\n",
      "582\n",
      "678\n",
      "716\n",
      "725\n",
      "727\n",
      "770\n",
      "805\n",
      "817\n",
      "827\n",
      "841\n",
      "842\n",
      "861\n",
      "865\n",
      "902\n",
      "904\n",
      "993\n",
      "1011\n",
      "1018\n",
      "1036\n",
      "1037\n",
      "1097\n",
      "1221\n",
      "1292\n",
      "1349\n",
      "1401\n",
      "1505\n",
      "1546\n",
      "1566\n",
      "1587\n",
      "1673\n",
      "1678\n",
      "1680\n",
      "2021\n",
      "2024\n",
      "2123\n",
      "2227\n",
      "2303\n",
      "2325\n",
      "2326\n",
      "2373\n",
      "2661\n",
      "2663\n",
      "2703\n",
      "2764\n",
      "2796\n",
      "2958\n",
      "2965\n",
      "2975\n",
      "2981\n",
      "3111\n",
      "3141\n",
      "3247\n",
      "3314\n",
      "3329\n",
      "3349\n",
      "3417\n",
      "3500\n",
      "3574\n",
      "3590\n",
      "3779\n",
      "4071\n",
      "4168\n",
      "4216\n",
      "4342\n",
      "4354\n",
      "4464\n",
      "4475\n",
      "4483\n",
      "4596\n",
      "4632\n",
      "4643\n",
      "4658\n",
      "4659\n",
      "4662\n",
      "4857\n",
      "4865\n",
      "4870\n",
      "4884\n",
      "4886\n",
      "4941\n",
      "4943\n",
      "4949\n",
      "4973\n",
      "4978\n",
      "4980\n",
      "4987\n",
      "4988\n",
      "5010\n",
      "5018\n",
      "5043\n",
      "5065\n",
      "5070\n",
      "5075\n",
      "5109\n",
      "5110\n",
      "5147\n",
      "5157\n",
      "5178\n",
      "5182\n",
      "5185\n",
      "5197\n",
      "5198\n",
      "5205\n",
      "5211\n",
      "5215\n",
      "5228\n",
      "5237\n",
      "5240\n",
      "5246\n",
      "5247\n",
      "5259\n",
      "5270\n",
      "5330\n",
      "5343\n",
      "5346\n",
      "5373\n",
      "5376\n",
      "5395\n",
      "5404\n",
      "5407\n",
      "5414\n",
      "5427\n",
      "5456\n",
      "5469\n",
      "5470\n",
      "5471\n",
      "5500\n",
      "5507\n",
      "5526\n",
      "5579\n",
      "5580\n",
      "5602\n",
      "5604\n",
      "5605\n",
      "5634\n",
      "5641\n",
      "5642\n",
      "5668\n",
      "5719\n",
      "5730\n",
      "5740\n",
      "5765\n",
      "5768\n",
      "5770\n",
      "5780\n",
      "5793\n",
      "5807\n",
      "5814\n",
      "5881\n",
      "5893\n",
      "5913\n",
      "5919\n",
      "5969\n",
      "6000\n",
      "6014\n",
      "6054\n",
      "6074\n",
      "6083\n",
      "6084\n",
      "6104\n",
      "6107\n",
      "6115\n",
      "6137\n",
      "6181\n",
      "6193\n",
      "6212\n",
      "6215\n",
      "6225\n",
      "6248\n",
      "6255\n",
      "6256\n",
      "6264\n",
      "6346\n",
      "6347\n",
      "6354\n",
      "6361\n",
      "6362\n",
      "6378\n",
      "6389\n",
      "6395\n",
      "6429\n",
      "6458\n",
      "6498\n",
      "6515\n",
      "6532\n",
      "6535\n",
      "6563\n",
      "6564\n",
      "6565\n",
      "6577\n",
      "6599\n",
      "6622\n",
      "6635\n",
      "6648\n",
      "6650\n",
      "6652\n",
      "6662\n",
      "6666\n",
      "6673\n",
      "6689\n",
      "6732\n",
      "6759\n",
      "6789\n",
      "6805\n",
      "6807\n",
      "6815\n",
      "6839\n",
      "6843\n",
      "6854\n",
      "6859\n",
      "6891\n",
      "6895\n",
      "6927\n",
      "6932\n",
      "6947\n",
      "6949\n",
      "6967\n",
      "6969\n",
      "6975\n",
      "6997\n",
      "7003\n",
      "7008\n",
      "7014\n",
      "7027\n",
      "7043\n",
      "7048\n",
      "7061\n",
      "7076\n",
      "7088\n",
      "7090\n",
      "7120\n",
      "7143\n",
      "7146\n",
      "7149\n",
      "7154\n",
      "7169\n",
      "7175\n",
      "7202\n",
      "7204\n",
      "7206\n",
      "7209\n",
      "7271\n",
      "7276\n",
      "7299\n",
      "7312\n",
      "7317\n",
      "7341\n",
      "7342\n",
      "7343\n",
      "7359\n",
      "7381\n",
      "7390\n",
      "7446\n",
      "7469\n",
      "7487\n",
      "7488\n",
      "7492\n",
      "7501\n",
      "7519\n",
      "7529\n",
      "7535\n",
      "7564\n",
      "7581\n",
      "7624\n",
      "7637\n",
      "7663\n",
      "7687\n",
      "7716\n",
      "7734\n",
      "7757\n",
      "7778\n",
      "7785\n",
      "7794\n",
      "7797\n",
      "7809\n",
      "7895\n",
      "7902\n",
      "7903\n",
      "7905\n",
      "7910\n",
      "7916\n",
      "7921\n",
      "7941\n",
      "7953\n",
      "7959\n",
      "7961\n",
      "8002\n",
      "8023\n",
      "8042\n",
      "8049\n",
      "8056\n",
      "8072\n",
      "8103\n",
      "8128\n",
      "8130\n",
      "8139\n",
      "8152\n",
      "8156\n",
      "8159\n",
      "8175\n",
      "8190\n",
      "8201\n",
      "8212\n",
      "8221\n",
      "8225\n",
      "8269\n",
      "8272\n",
      "8282\n",
      "8289\n",
      "8298\n",
      "8304\n",
      "8306\n",
      "8320\n",
      "8333\n",
      "8340\n",
      "8344\n",
      "8374\n",
      "8376\n",
      "8379\n",
      "8383\n",
      "8419\n",
      "8433\n",
      "8443\n",
      "8446\n",
      "8468\n",
      "8486\n",
      "8492\n",
      "8497\n",
      "8526\n",
      "8538\n",
      "8541\n",
      "8547\n",
      "8554\n",
      "8562\n",
      "8591\n",
      "8606\n",
      "8636\n",
      "8642\n",
      "8648\n",
      "8651\n",
      "8652\n",
      "8658\n",
      "8717\n",
      "8734\n",
      "8763\n",
      "8842\n",
      "8851\n",
      "8869\n",
      "8904\n",
      "8918\n",
      "8922\n",
      "8924\n",
      "8928\n",
      "8933\n",
      "8937\n",
      "8943\n",
      "8953\n",
      "8966\n",
      "8967\n",
      "8974\n",
      "8977\n",
      "9006\n",
      "9017\n",
      "9026\n",
      "9059\n",
      "9060\n",
      "9092\n",
      "9133\n",
      "9145\n",
      "9149\n",
      "9159\n",
      "9195\n",
      "9197\n",
      "9232\n",
      "9235\n",
      "9240\n",
      "9293\n",
      "9310\n",
      "9332\n",
      "9333\n",
      "9340\n",
      "9352\n",
      "9397\n",
      "9399\n",
      "9427\n",
      "9429\n",
      "9441\n",
      "9474\n",
      "9483\n",
      "9489\n",
      "9507\n",
      "9516\n",
      "9519\n",
      "9527\n",
      "9552\n",
      "9558\n",
      "9591\n",
      "9671\n",
      "9699\n",
      "9709\n",
      "9725\n",
      "9730\n",
      "9735\n",
      "9757\n",
      "9759\n",
      "9766\n",
      "9860\n",
      "9861\n",
      "9873\n",
      "9899\n",
      "9905\n",
      "9909\n",
      "9942\n",
      "9951\n",
      "9982\n",
      "9989\n",
      "9992\n",
      "9996\n",
      "10000\n",
      "10013\n",
      "10026\n",
      "10030\n",
      "10082\n",
      "10119\n",
      "10120\n",
      "10142\n",
      "10144\n",
      "10155\n",
      "10175\n",
      "10211\n",
      "10212\n",
      "10221\n",
      "10222\n",
      "10228\n",
      "10233\n",
      "10239\n",
      "10259\n",
      "10261\n",
      "10309\n",
      "10320\n",
      "10335\n",
      "10340\n",
      "10348\n",
      "10357\n",
      "10362\n",
      "10369\n",
      "10375\n",
      "10376\n",
      "10377\n",
      "10402\n",
      "10443\n",
      "10456\n",
      "10460\n",
      "10473\n",
      "10497\n",
      "10525\n",
      "10529\n",
      "10536\n",
      "10555\n",
      "10563\n",
      "10571\n",
      "10584\n",
      "10585\n",
      "10612\n",
      "10623\n",
      "10646\n",
      "10659\n",
      "10660\n",
      "10691\n",
      "10696\n",
      "10719\n",
      "10729\n",
      "10742\n",
      "10750\n",
      "10768\n",
      "10771\n",
      "10786\n",
      "10833\n",
      "10885\n",
      "10946\n",
      "10959\n",
      "10965\n",
      "10982\n",
      "11021\n",
      "11043\n",
      "11065\n",
      "11079\n",
      "11080\n",
      "11099\n",
      "11144\n",
      "11152\n",
      "11173\n",
      "11174\n",
      "11186\n",
      "11193\n",
      "11199\n",
      "11210\n",
      "11226\n",
      "11234\n",
      "11239\n",
      "11271\n",
      "11272\n",
      "11306\n",
      "11368\n",
      "11375\n",
      "11380\n",
      "11419\n",
      "11441\n",
      "11459\n",
      "11464\n",
      "11468\n",
      "11480\n",
      "11486\n",
      "539\n"
     ]
    }
   ],
   "source": [
    "count=0\n",
    "for idx,item in enumerate(pkls_list):\n",
    "    if item == \" \":\n",
    "        print(idx)\n",
    "        count+=1\n",
    "print(count)"
   ]
  },
  {
   "cell_type": "code",
   "execution_count": 4,
   "metadata": {},
   "outputs": [],
   "source": [
    "cnn_list=[]\n",
    "for i in range(len(pkls_list)):\n",
    "    temp=[]\n",
    "    splits=pkls_list[i].split('\\n')\n",
    "    for split in splits:\n",
    "        if split:\n",
    "            if split[0].isdigit():\n",
    "                try:\n",
    "                    temp.append(split.split(\".\")[1].strip())\n",
    "                except:\n",
    "                    print(split)\n",
    "    cnn_list.append(temp)"
   ]
  },
  {
   "cell_type": "code",
   "execution_count": 5,
   "metadata": {},
   "outputs": [
    {
     "data": {
      "text/plain": [
       "11490"
      ]
     },
     "execution_count": 5,
     "metadata": {},
     "output_type": "execute_result"
    }
   ],
   "source": [
    "len(cnn_list)"
   ]
  },
  {
   "cell_type": "code",
   "execution_count": 6,
   "metadata": {},
   "outputs": [
    {
     "data": {
      "text/plain": [
       "['Former New England Patriots player Aaron Hernandez is facing three more legal proceedings, including one criminal trial and two civil lawsuits, after being convicted of murder and other charges in the death of Odin Lloyd',\n",
       " 'The double-murder trial for the deaths of Daniel de Abreu and Safiro Furtado is set to resume, with a new court date to be determined, and Hernandez is also facing civil suits from the families of the victims and a man who claims Hernandez shot him in a Miami strip club',\n",
       " \"Hernandez's legal team has stated that he was unable to effectively defend himself during his trial in Massachusetts due to various factors, and the NFL players union has filed a grievance over unpaid bonus money on behalf of Hernandez\"]"
      ]
     },
     "execution_count": 6,
     "metadata": {},
     "output_type": "execute_result"
    }
   ],
   "source": [
    "cnn_list[200]"
   ]
  },
  {
   "cell_type": "code",
   "execution_count": 34,
   "metadata": {},
   "outputs": [],
   "source": [
    "# with open('reddit.pkl', 'wb') as f:\n",
    "#     pkl.dump(cnn_list,f) "
   ]
  },
  {
   "cell_type": "code",
   "execution_count": 20,
   "metadata": {},
   "outputs": [],
   "source": []
  },
  {
   "cell_type": "code",
   "execution_count": 3,
   "metadata": {},
   "outputs": [],
   "source": [
    "dataset = load_dataset(\"cnn_dailymail\", '3.0.0')\n",
    "article_key = 'article'\n",
    "summary_key = 'highlights'\n",
    "dataset=dataset['test']"
   ]
  },
  {
   "cell_type": "code",
   "execution_count": 2,
   "metadata": {},
   "outputs": [],
   "source": [
    "dataset = load_dataset(\"EdinburghNLP/xsum\")\n",
    "article_key = 'document'\n",
    "summary_key = 'summary'\n",
    "dataset=dataset['test']"
   ]
  },
  {
   "cell_type": "code",
   "execution_count": 290,
   "metadata": {},
   "outputs": [],
   "source": [
    "dataset = load_dataset(\"argilla/news-summary\")\n",
    "article_key = 'text'\n",
    "summary_key = 'prediction'\n",
    "dataset = DatasetDict({\n",
    "    'train': dataset['test'],\n",
    "    'test': dataset['train']})\n",
    "\n",
    "dataset=dataset['test']"
   ]
  },
  {
   "cell_type": "code",
   "execution_count": 341,
   "metadata": {},
   "outputs": [],
   "source": [
    "data = load_dataset('reddit_tifu', 'long')\n",
    "article_key = 'documents'\n",
    "summary_key = 'tldr'\n",
    "    # 80% train, 20% test + validation\n",
    "train_testvalid = data['train'].train_test_split(test_size=0.2, seed=42)\n",
    "# Split the 20% test + valid in half test, half valid\n",
    "test_valid = train_testvalid['test'].train_test_split(test_size=0.5, seed=42)\n",
    "# gather everyone if you want to have a single DatasetDict\n",
    "dataset = DatasetDict({\n",
    "    'train': train_testvalid['train'],\n",
    "    'test': test_valid['test'],\n",
    "    'validation': test_valid['train']})\n",
    "\n",
    "dataset=dataset['test']"
   ]
  },
  {
   "cell_type": "code",
   "execution_count": 144,
   "metadata": {},
   "outputs": [],
   "source": [
    "articles=dataset.select(range(10))[article_key]"
   ]
  },
  {
   "cell_type": "code",
   "execution_count": 30,
   "metadata": {},
   "outputs": [],
   "source": [
    "articles=dataset.select([2,5,7,8,9,13,14,15,18,21])[article_key]"
   ]
  },
  {
   "cell_type": "code",
   "execution_count": 323,
   "metadata": {},
   "outputs": [],
   "source": [
    "articles=dataset.select([1,2,4,5,6,7,11,12,14,15])[article_key]"
   ]
  },
  {
   "cell_type": "code",
   "execution_count": 4,
   "metadata": {},
   "outputs": [
    {
     "data": {
      "text/plain": [
       "['Prison Link Cymru had 1,099 referrals in 2015-16 and said some ex-offenders were living rough for up to a year before finding suitable accommodation.\\nWorkers at the charity claim investment in housing would be cheaper than jailing homeless repeat offenders.\\nThe Welsh Government said more people than ever were getting help to address housing problems.\\nChanges to the Housing Act in Wales, introduced in 2015, removed the right for prison leavers to be given priority for accommodation.\\nPrison Link Cymru, which helps people find accommodation after their release, said things were generally good for women because issues such as children or domestic violence were now considered.\\nHowever, the same could not be said for men, the charity said, because issues which often affect them, such as post traumatic stress disorder or drug dependency, were often viewed as less of a priority.\\nAndrew Stevens, who works in Welsh prisons trying to secure housing for prison leavers, said the need for accommodation was \"chronic\".\\n\"There\\'s a desperate need for it, finding suitable accommodation for those leaving prison there is just a lack of it everywhere,\" he said.\\n\"It could take six months to a year, without a lot of help they could be on the streets for six months.\\n\"When you think of the consequences of either being on the street, especially with the cold weather at the moment or you may have a roof over your head, sometimes there is only one choice.\"\\nMr Stevens believes building more one-bedroom flats could help ease the problem.\\n\"The average price is a hundred pounds a week to keep someone in a rented flat, prison is a lot more than that so I would imagine it would save the public purse quite a few pounds,\" he said.\\nOfficial figures show 830 one-bedroom properties were built in the year to March 2016, of an overall total of 6,900 new properties in Wales.\\nMarc, 50, who has been in and out of prison for the past 20 years for burglary offences, said he struggled to find accommodation each time he was released.\\nHe said he would ask himself: \"Where am I going to stay? Where am I going to live? Have I got somewhere where I can see my daughter.\"\\n\"You\\'re put out among the same sort of people doing the same sort of thing, and it\\'s difficult, it\\'s difficult to get away from it. It\\'s like every man for himself, there\\'s nothing.\"\\nMarc has now found stable accommodation with homeless charity Emmaus and said it had been life changing.\\n\"You feel safe, you got hot food, you\\'ve got company of people in similar situations to yourself but all dealing with different issues. It\\'s a constructive, helpful atmosphere,\" he said.\\nTom Clarke, chief executive of Emmaus South Wales, agreed there was not enough support available.\\n\"We do still see [people] homeless on the streets, so clearly they haven\\'t got accommodation and haven\\'t got provision,\" he said.\\n\"I think the key is connecting people with the services they need. I don\\'t delude myself that Emmaus can offer a one size fits all for everyone, we can\\'t.\\n\"But there must be other opportunities and given suitable encouragement I believe that can and should happen.\"\\nA Welsh Government spokesman said the national pathway for homeless services to children, young people and adults in the secure estate had prevented many people from losing their home whilst serving their prison sentence.\\nIt added there were already significant demands for one-bedroom flats across the public and private sector and it was providing 20,000 new affordable homes in the next five years.',\n",
       " 'Media playback is not supported on this device\\nThe Olympic silver medallist accused the organisation of \"ageism\" and having \"zero regard\" for her welfare.\\nShe is the latest high-profile cyclist to come forward after Jess Varnish, Nicole Cooke and Emma Pooley criticised the World Class programme.\\nHouvenaghel told the BBC she felt \"vindicated\" by a leaked draft report detailing British Cycling\\'s failures.\\nThe report said British Cycling \"sanitised\" its own investigation into claims former technical director Shane Sutton used sexist language towards Varnish, who went public last April about her treatment.\\nBritish Cycling subsequently admitted it did not pay \"sufficient care and attention\" to the wellbeing of staff and athletes at the expense of winning medals, an approach Houvenaghel attested to in her BBC interview.\\nBoth Sutton and predecessor Sir Dave Brailsford have now left British Cycling.\\nHouvenaghel, 42, spoke to BBC Sport during its State of Sport week, which on Thursday examines the issue of athlete welfare versus a win-at-all-costs culture.\\nA government-commissioned review, headed by 11-time Paralympic champion Baroness Grey-Thompson, into safety and wellbeing in British sport, is due to be published imminently.\\nIt is expected to recommend significant reforms designed to improve the way athletes are treated by governing bodies.\\nHouvenaghel claimed:\\nBritish Cycling said it \"has acknowledged and takes very seriously previous cultural and governance failings in the World Class Programme\".\\nIt said it has accepted the draft report\\'s findings and already put into a place a 39-point action plan to \"systematically address the cultural and behavioural shortcomings\".\\nThe statement added: \"Our new chair Jonathan Browning has apologised for instances where we have fallen short in our commitment to athlete welfare and has offered to meet with anyone who can help improve British Cycling.\"\\nWho else has spoken out?\\nHouvenaghel won silver in the individual pursuit at the Beijing Olympics in 2008, and gold in the World Championship team pursuit in 2008, 2009 and 2011.\\nShe retired in 2014, aged 39, after withdrawing from the Commonwealth Games in Glasgow with a back injury.\\nHouvenaghel was critical of both Sutton and her team-mates in the aftermath of the London 2012 Olympics, where she was left out of all three team pursuit races as Dani King, Laura Trott and Joanna Rowsell-Shand won gold in a world record time.\\nSpeaking to BBC Sport this week, the Northern Irish rider said that experience was \"very traumatic\" and she felt \"torment\" at having \"no explanation\" for her last-minute omission.\\nAt the time, Brailsford, then performance director, defended the selection saying they had to \"take the personal element out of it, and look at the data and be professional\".\\nHe added: \"I think when a team steps up and makes six world records on the trot and a gold medal, then I don\\'t think you can argue with that.\"\\nBritish Cycling reiterated that point on Thursday, adding it was \"proud to support Wendy in what was a wonderfully successful cycling career\" and she was \"part of a pioneering generation of riders who set new standards of excellence\", but was dropped in London 2012 \"based on her performance\".\\nOther elite cyclists, including King and Roswell-Shand have praised the leadership at British Cycling.\\nAsked whether she was simply not good enough for the 2012 team, Houvenaghel replied: \"It was definitely not about performance. I don\\'t think the fastest team on the day were permitted to race.\\n\"There are certain chosen riders on the team who will not have experienced the culture of fear and will not have been on the receiving end of that - the bullying, the harassment, being frozen out of opportunities.\\n\"It was horrid - it was not the training environment I expected. There was no choice. If you rocked the boat, you were out. There was no alternative.\\n\"Medals at any cost, that\\'s how it was whenever I was there, certainly in 2012.\"\\nHouvenaghel said she also witnessed the sexism that has been highlighted by other female riders, and also claims she was discriminated against because of her age.\\n\"I can certainly relate to the bullying,\" she said. \"For me personally, I felt it was more ageism - being a little bit older than my team-mates, it didn\\'t seem to be something that the staff necessarily wanted for our team in 2012.\\n\"They didn\\'t care about what happened to me afterwards. I never heard another thing from them.\\n\"After six years of constantly medalling at World Cups, World Championships, nationals, both on the track and on the road, they discarded me in a very undignified way from the team, which I don\\'t feel was right.\"\\nFourteen-time Paralympic gold medallist Dame Sarah Storey told BBC Sport that elite level sport in Britain is \"cut-throat\" but there are \"no excuses for crossing that line\" into bullying.\\nAsked about the balance between winning and athlete welfare, the 39-year-old replied: \"It\\'s a really difficult question because you have to be a human being, you have to allow for people to make mistakes. But the currency is race wins, the currency is gold medals.\\n\"It\\'s not an excuse but you have to have a thick skin in sport, you have to be able to take the rough with the smooth because of the racing that you go through.\\n\"But there are no excuses for crossing that line, and if those lines have been crossed they will be found out and they\\'ll be dealt with.\"',\n",
       " 'It\\'s no joke. But Kareem Badr says people did laugh in 2009 when he and two friends paid $20,000 (Â£13,000) for the Hideout in Austin, when it wasn\\'t making money and the previous owner decided not to renew the lease.\\n\"We took over a sinking ship and each brought a bucket to bail it out,\" says Mr Badr.\\n\"None of us had any experience of running a business. But we loved what we were doing enough that it carried us through.\"\\nThree years ago he was able to quit his day job and draw a salary from the club.\\nMr Badr says it\\'s still not as much as he used to make as a programmer (about $80,000 a year), but he now employs around 25 part time and contract workers.\\nAnd he recently expanded the premises, taking over the adjoining coffee house which sells alcohol, and leasing more theatre space.\\nMr Badr says: \"I think my background in computer science helped because I can take a big problem, break it up into small chunks, and figure out how to make it better and more efficient.\\n\"That\\'s basically what we did for every aspect of the business. And by doing that it naturally started to improve.\"\\nMr Badr may have been helped by national trends, which imply a growing enthusiasm for comedy clubs in the US.\\nAn industry report from data firm Ibis World expects total US annual comedy club revenue to grow by 1.8% over the next five years to $344.6m in 2020.\\n\"When the Hideout first opened it was the only improv theatre in Austin,\" says Mr Badr.\\n\"But now there are five [comedy] schools and four theatres. We were at the right place at the right time.\"\\nWhile the Ibis World report showed that dozens of US comedy clubs were forced to close in the wake of the 2008 recession, when fewer people had disposable income to spend on live entertainment, Stephen Rosenfield, director of the American Comedy Institute in New York, says stand-up comedy is now entering a new golden age.\\n\"The US has comedy clubs all over the country, not just in big cities, and they require talent,\" he says.\\n\"In any field there are those at the top who make dynastic fortunes. But because of the significance of the local comedy club, there is a career and a living to be made by good comedians who are not superstars.\"\\nMr Rosenfield says the growing popularity of stand-up comedy is fuelled in part by younger audiences, who view humorous TV hosts such as Jon Stewart, Jay Leno and Steve Colbert as their primary source for news.\\n\"It\\'s not just entertaining them, it\\'s also informing them,\" he says. \"There\\'s a new immediacy to stand-up that makes it much more appealing to a generation that\\'s on social media, tweeting, face booking and blogging.\"\\nBut clubs don\\'t only make money from entertainers. Alcohol alone can bring in as much as 40% of the night\\'s takings, and many clubs demand that audiences buy a minimum number of drinks per person.\\n\"A club really has three businesses going on,\" says Mr Rosenfield.\\n\"It\\'s an entertainment entity, a restaurant and a bar. They make money from selling drinks and dinners, and they make money from the cover charge.\\n\"There are usually three people on the bill. The opening act is the new comedian. They do about 20 minutes and introduce the other comics.\\nThe middle act does about half an hour, and then there\\'s the headliner. They almost always have TV credits, and are the ones people are coming to see. That headliner could be making six figures a year.\"\\nTop-tier performers make much more. According to Forbes, Canadian comedian Russell Peters grossed $19m with 64 shows in 2013, while industry veteran Jerry Seinfeld is the highest paid comedian in the US, set to earn $36m this year.\\nSteve Byrne, 41, is a veteran stand-up comedian based in LA, and star of his own television show Sullivan and Son, which ran for three seasons.\\nHe describes himself as a successful mid-level comedian who makes an annual six figure salary mainly from touring.\\nAnd although he was close to hitting a million dollars a year before his show was cancelled in 2014, he says most comedians make money at clubs and do television to boost their brand rather than their income.\\nMr Bryne says: \"Gigs vary because it depends what you\\'re contracted at.\\n\"If it\\'s somebody starting off in the business it could be $1,500 a show. For somebody who\\'s had some TV credits you could go from $4,500 to $7,500.\\n\"And if you\\'re just a knock out comic, then you\\'re coming in and getting a door deal. You\\'re taking all the tickets, and the club gets the concessions.\"\\nMr Byrne says hard work is the key to success. There is no magic short cut, and few lucky breaks.\\n\"The one single thing that an aspiring comedian should do is write, write, write. What is it that makes you laugh?\\n\"Your voice should resonate with your audience. So find your voice and you will find your audience.\"\\nWhile the music and film industries have been impacted by the internet, such as illegal downloads and reduced album sales, Mr Rosenfield says the online world has actually given live comedy a boost.\\n\"The format of comedy, particularly stand-up, lends itself to digital media like nothing else. One terrific joke can get a million hits,\" he says.\\n\"It\\'s become a new metric for a club manager. If a booker sees that a comic has 500,000 online followers - they\\'ll book him almost sight unseen. That\\'s it.\\n\"Digital is gigantically important and has been for a while.\"\\nBut in the end, the success of comedy comes down to a very simple fact - people need to laugh.\\nBack in 2001 Steve Byrne was a comedian in New York when terrorists flew two planes into the World Trade Centre on 11 September.\\nHe says: \"We all thought \\'who\\'s going to come to a comedy club? The dream\\'s over, I\\'ve got to get a real job now\\'.\\n\"But after a week, I forget which club was the first one to open its doors, but it was packed. People needed an outlet.\\n\"And I remember for months on end those clubs in New York City were just jam packed. That was the thing that told me that this was a profession that is foolproof.\"',\n",
       " 'Relieved that the giant telecoms company would not be broken up, they piled into the shares, sending them up 3% in early trading.\\nBT dodged a bullet - and, as the chief executive of Ofcom, Sharon White, admitted, it was for prosaic reasons.\\nShe said complications with land deals and BT\\'s giant pension scheme meant there were \"practical obstacles\" to a break-up that would delay the process several years.\\nIt\\'s the pension scheme that probably most influenced Ofcom\\'s thinking. BT\\'s retirement scheme, inherited from its time as a state-owned utility, has assets of about Â£40bn and a deficit, on some measures, of about Â£10bn, even though BT has poured in billions of pounds in recent years to redress the gap.\\nSenior sources at the company say that about 80% of the scheme relates to Openreach, the internet infrastructure provider that BT\\'s rivals would like to see spun off.\\nSeparating the pension as part of a break-up would be a costly headache - and there is the small matter of a government guarantee on part of the scheme, something that BT fought in the courts to preserve and won.\\nCreating two new pension schemes, with the risk of weakening the financial resources of one or the other, might be too hot a political potato, even in the pursuit of faster broadband.\\nBT\\'s share price reaction might turn out to be overdone. Ms White plans to enforce the separation by introducing not only a new board to run Openreach, but also new articles of association that will give directors a duty to serve customers of the network as much as the company\\'s owners.\\nThis holds out an obvious prospect of conflicts to come, and runs counter to the normal assumption that in private companies, the shareholder is king.\\nIt also carries an echo of the \"golden shares\" held by the government in Rolls-Royce and BAE Systems, two companies judged important for the defence of the realm. In each case, the golden share is actually enshrined by specific articles of association that give directors and the government powers beyond those normally enjoyed by company boards.\\nBT\\'s chief executive, Gavin Patterson, said he thought he could reach a compromise with Ofcom, but admitted they would need to see the detail of the new articles.\\nIf they prove too much at odds with BT\\'s own desire to control Openreach - which it will still own - get ready for a court battle and perhaps, eventually, a full break-up.',\n",
       " 'The leaflets said the patient had been referred for an urgent appointment as their symptoms might indicate cancer.\\nEast Sussex NHS Trust has put the mix-up down to an external company that distributes its printed material.\\nIt said the wrong patient information leaflets were added to hospital appointment letters sent out in March.\\nIt has now contacted everyone affected to apologise and explain what went wrong.\\nLiz Fellows, assistant director of operations at the trust, said: \"It was an administrative error and we apologise for any unnecessary anxiety this error may have caused.\"\\nEast Sussex Healthcare NHS Trust covers Hastings, Eastbourne and Rother, and is responsible for the Conquest Hospital and Eastbourne District Hospital.\\nThe trust said that due to the large number of appointment letters it sends out it uses an external printing company to print and distribute appointment letters.\\nIt said each letter is coded to indicate any supplementary information that needs to accompany it.\\nMs Fellows said: \"Unfortunately, for a short period in March, the printing company inadvertently miscoded approximately 850 letters resulting in a \\'two-week information leaflet\\' being inserted with an appointment letter.\\n\"As soon as the error became apparent it was stopped immediately, and letters of apology sent out.\"',\n",
       " 'The National League sold the Republic of Ireland midfielder to the Cherries for £175,000 in 2012 and had a 15% sell-on clause included in the deal.\\nO\\'Kane moved for an undisclosed fee, but Nicholson says any money will go to help the cash-strapped club.\\n\"I don\\'t think I\\'ll be getting anything,\" Nicholson told BBC Devon.\\n\"There\\'s more important things.\"\\nThe Gulls are still looking for new owners having been taken over by a consortium of local business people last summer.\\nThey were forced to close down the club\\'s academy and drastically reduce the playing budget after millionaire former owner Thea Bristow left the club.',\n",
       " 'Iwan Wyn Lewis of Penygroes, Gwynedd, had been sectioned at Ysbyty Gwynedd after allegedly assaulting his mother.\\nThe 36-year-old was visited by an officer in April 2016 about his bail arrangements, which a doctor said could have added to his distress.\\nHis body was found in the Menai Strait on 2 May.\\nMr Lewis was receiving treatment at the hospital\\'s Hergest unit and was later moved to the Cynan ward where he received the visit from the officer.\\nSpeaking at the inquest in Caernarfon on Thursday, consultant psychiatrist Dr Olufemi Adebajo said he was \"extremely unhappy\" about the visit.\\n\"I don\\'t think the police should be able to come to the ward without special permission,\" he said.\\nAsked by coroner Nicola Jones whether the conversation with the officer could have added to Mr Lewis\\' agitation and distress, Dr Adebajo said: \"It\\'s quite possible - even likely\".\\nHe said he had known Mr Lewis for more than two years and never considered him to be a suicide risk.\\nThe day before his death, he had asked staff for extra medication because he said he was feeling agitated, but they did not change his dosage because they could see no sign of agitation.\\nOn the evening of 2 May, Mr Lewis told staff he was going to the shop, but 45 minutes later his body was found in the Menai Strait.\\nThe inquest continues.',\n",
       " \"The 33-year-old has featured only twice for the Foxes this term, having signed a new one-year deal with the Premier League newcomers in the summer.\\nFormer Blackpool forward Taylor-Fletcher scored three goals in 23 games for his parent club last season.\\nHe joined the 13th-placed Owls prior to Saturday's Championship game against Norwich City.\",\n",
       " 'The 14-time major champion, playing in his first full PGA Tour event for almost 18 months, carded a level-par second round of 72, but missed the cut by four shots after his first-round 76.\\nWorld number one Jason Day and US Open champion Dustin Johnson also missed the cut at Torrey Pines in San Diego.\\nOvernight leader Rose carded a one-under 71 to put him on eight under.\\nCanada\\'s Adam Hadwin and USA\\'s Brandt Snedeker are tied in second on seven under, while US PGA champion Jimmy Walker missed the cut as he finished on three over.\\nWoods is playing in just his second tournament since 15 months out with a back injury.\\n\"It\\'s frustrating not being able to have a chance to win the tournament,\" said the 41-year-old, who won his last major, the US Open, at the same course in 2008.\\n\"Overall today was a lot better than yesterday. I hit it better, I putted well again. I hit a lot of beautiful putts that didn\\'t go in, but I hit it much better today, which was nice.\"\\nScotland\\'s Martin Laird and England\\'s Paul Casey are both on two under, while Ireland\\'s Shane Lowry is on level par.',\n",
       " 'The 26-year-old was injured in last week\\'s win over Exeter.\\nDirector of rugby Richard Cockerill told BBC Radio Leicester: \"With eight weeks of the season to go that is probably the last we will see of him.\"\\nMeanwhile, scrum-half Sam Harrison, 24, has signed a new deal, but the length of the contract has not been revealed.\\nBenjamin has been plagued by injuries since signing from Worcester in 2012, suffering a serious neck injury which delayed his first-team debut by 15 months.\\nHe also sustained a knee injury that ruled him out for four months last term.\\nBut Cockerill said: \"It is certainly not too serious and he will make a full recovery in the next eight to 10 weeks.\"']"
      ]
     },
     "execution_count": 4,
     "metadata": {},
     "output_type": "execute_result"
    }
   ],
   "source": [
    "articles"
   ]
  },
  {
   "cell_type": "code",
   "execution_count": 31,
   "metadata": {},
   "outputs": [],
   "source": [
    "for k,v in enumerate(articles):\n",
    "    articles[k]=v.replace('\\n',\"\")"
   ]
  },
  {
   "cell_type": "code",
   "execution_count": 326,
   "metadata": {},
   "outputs": [],
   "source": [
    "gold=dataset.select(range(10))[summary_key]"
   ]
  },
  {
   "cell_type": "code",
   "execution_count": 32,
   "metadata": {},
   "outputs": [],
   "source": [
    "gold=dataset.select([2,5,7,8,9,13,14,15,18,21])[summary_key]"
   ]
  },
  {
   "cell_type": "code",
   "execution_count": 327,
   "metadata": {},
   "outputs": [],
   "source": [
    "gold=dataset.select([1,2,4,5,6,7,11,12,14,15])[summary_key]"
   ]
  },
  {
   "cell_type": "code",
   "execution_count": 346,
   "metadata": {},
   "outputs": [
    {
     "ename": "TypeError",
     "evalue": "string indices must be integers, not 'str'",
     "output_type": "error",
     "traceback": [
      "\u001b[0;31m---------------------------------------------------------------------------\u001b[0m",
      "\u001b[0;31mTypeError\u001b[0m                                 Traceback (most recent call last)",
      "\u001b[1;32m/home/haskari/Hadi/paraphrasing_bias/mistral-7b/data_paraphrase/combine_summaries copy.ipynb Cell 21\u001b[0m line \u001b[0;36m3\n\u001b[1;32m      <a href='vscode-notebook-cell://ssh-remote%2B169.237.4.54/home/haskari/Hadi/paraphrasing_bias/mistral-7b/data_paraphrase/combine_summaries%20copy.ipynb#X24sdnNjb2RlLXJlbW90ZQ%3D%3D?line=0'>1</a>\u001b[0m gold_new\u001b[39m=\u001b[39m[]\n\u001b[1;32m      <a href='vscode-notebook-cell://ssh-remote%2B169.237.4.54/home/haskari/Hadi/paraphrasing_bias/mistral-7b/data_paraphrase/combine_summaries%20copy.ipynb#X24sdnNjb2RlLXJlbW90ZQ%3D%3D?line=1'>2</a>\u001b[0m \u001b[39mfor\u001b[39;00m i \u001b[39min\u001b[39;00m \u001b[39mrange\u001b[39m(\u001b[39m10\u001b[39m):\n\u001b[0;32m----> <a href='vscode-notebook-cell://ssh-remote%2B169.237.4.54/home/haskari/Hadi/paraphrasing_bias/mistral-7b/data_paraphrase/combine_summaries%20copy.ipynb#X24sdnNjb2RlLXJlbW90ZQ%3D%3D?line=2'>3</a>\u001b[0m     \u001b[39mprint\u001b[39m(gold[i][\u001b[39m0\u001b[39m][\u001b[39m'\u001b[39m\u001b[39mtext\u001b[39m\u001b[39m'\u001b[39m])\n\u001b[1;32m      <a href='vscode-notebook-cell://ssh-remote%2B169.237.4.54/home/haskari/Hadi/paraphrasing_bias/mistral-7b/data_paraphrase/combine_summaries%20copy.ipynb#X24sdnNjb2RlLXJlbW90ZQ%3D%3D?line=3'>4</a>\u001b[0m     gold_new\u001b[39m.\u001b[39mappend(gold[i][\u001b[39m0\u001b[39m][\u001b[39m'\u001b[39m\u001b[39mtext\u001b[39m\u001b[39m'\u001b[39m])\n",
      "\u001b[0;31mTypeError\u001b[0m: string indices must be integers, not 'str'"
     ]
    }
   ],
   "source": [
    "gold_new=[]\n",
    "for i in range(10):\n",
    "    print(gold[i][0]['text'])\n",
    "    gold_new.append(gold[i][0]['text'])\n",
    "    "
   ]
  },
  {
   "cell_type": "code",
   "execution_count": 33,
   "metadata": {},
   "outputs": [],
   "source": [
    "for k,v in enumerate(gold):\n",
    "    gold[k]=v.replace('\\n',\"\")"
   ]
  },
  {
   "cell_type": "code",
   "execution_count": 329,
   "metadata": {},
   "outputs": [],
   "source": [
    "for k,v in enumerate(gold_new):\n",
    "    gold_new[k]=v.replace('\\n',\"\")"
   ]
  },
  {
   "cell_type": "code",
   "execution_count": 330,
   "metadata": {},
   "outputs": [
    {
     "data": {
      "text/plain": [
       "[\"U.N. chief calls for united, 'appropriate action' on North Korea\",\n",
       " 'House tax positions begin to emerge ahead of talks with Senate',\n",
       " 'Trump strongly committed to partnership with EU, says VP Pence',\n",
       " \"Commentary: Trump can't fight Islamic State without wading into Syria's war\",\n",
       " 'Top Senate Republican tells Supreme Court nominee: Senate will not act',\n",
       " 'Ex-Michigan lawmaker to stand trial; charges dismissed against another',\n",
       " 'Iceland sets snap election for Oct. 28: president',\n",
       " 'Ex-Georgian leader risks extradition on return to Ukraine',\n",
       " \"China's Xi lays out vision for 'new era' led by 'still stronger' Communist Party\",\n",
       " 'Armed group seeks legitimacy with Tripoli migrant deal, source says']"
      ]
     },
     "execution_count": 330,
     "metadata": {},
     "output_type": "execute_result"
    }
   ],
   "source": [
    "gold_new"
   ]
  },
  {
   "cell_type": "code",
   "execution_count": 34,
   "metadata": {},
   "outputs": [
    {
     "data": {
      "text/plain": [
       "['Four people accused of kidnapping and torturing a mentally disabled man in a \"racially motivated\" attack streamed on Facebook have been denied bail.',\n",
       " 'Since their impending merger was announced in January, there has been remarkably little comment about the huge proposed deal to combine Essilor and Luxottica.',\n",
       " 'Have you heard the one about the computer programmer who bought a failing comedy club in Texas and turned it into a million dollar a year business?',\n",
       " \"The reaction from BT's investors told us much about media regulator Ofcom's ruling on the fate of Openreach, the BT subsidiary that provides much of the UK's broadband infrastructure.\",\n",
       " \"Manager Brendan Rodgers is sure Celtic can exploit the wide open spaces of Hampden when they meet Rangers in Sunday's League Cup semi-final.\",\n",
       " \"Torquay United boss Kevin Nicholson says none of the money from Eunan O'Kane's move to Leeds from Bournemouth will go to the playing squad.\",\n",
       " 'North Wales Police has been criticised at an inquest for sending an officer to speak to a hospital patient with paranoid schizophrenia.',\n",
       " 'Leicester City striker Gary Taylor-Fletcher has joined Sheffield Wednesday on an initial month-long loan.',\n",
       " \"Tiger Woods missed the cut at the Farmers Insurance Open, as England's Justin Rose maintained a one-shot lead.\",\n",
       " 'Leicester Tigers winger Miles Benjamin is likely to be out for the rest of the season because of a knee injury, reports BBC Radio Leicester.']"
      ]
     },
     "execution_count": 34,
     "metadata": {},
     "output_type": "execute_result"
    }
   ],
   "source": [
    "gold"
   ]
  },
  {
   "cell_type": "code",
   "execution_count": 35,
   "metadata": {},
   "outputs": [],
   "source": [
    "with open('xsum_capped_random.pkl', 'rb') as f:\n",
    "    para_file=pkl.load(f) "
   ]
  },
  {
   "cell_type": "code",
   "execution_count": 36,
   "metadata": {},
   "outputs": [],
   "source": [
    "paraphrased=[]\n",
    "#for i in range(10):\n",
    "for i in [2,5,7,8,9,13,14,15,18,21]:\n",
    "#for i in [1,2,4,5,6,7,11,12,14,15]:\n",
    "    paraphrased.append(\" \".join(para_file[i]))\n",
    "    "
   ]
  },
  {
   "cell_type": "code",
   "execution_count": 37,
   "metadata": {},
   "outputs": [],
   "source": [
    "with open('../data_original/xsum_capped_random.pkl', 'rb') as f:\n",
    "    orig_file=pkl.load(f) "
   ]
  },
  {
   "cell_type": "code",
   "execution_count": 38,
   "metadata": {},
   "outputs": [],
   "source": [
    "original=[]\n",
    "#for i in range(10):\n",
    "for i in [2,5,7,8,9,13,14,15,18,21]:\n",
    "#for i in [1,2,4,5,6,7,11,12,14,15]:\n",
    "    original.append(\" \".join(orig_file[i]))"
   ]
  },
  {
   "cell_type": "code",
   "execution_count": 39,
   "metadata": {},
   "outputs": [
    {
     "data": {
      "text/plain": [
       "['He believes the pitch will suit the speed and intensity of his team']"
      ]
     },
     "execution_count": 39,
     "metadata": {},
     "output_type": "execute_result"
    }
   ],
   "source": [
    "orig_file[9]"
   ]
  },
  {
   "cell_type": "code",
   "execution_count": 40,
   "metadata": {},
   "outputs": [
    {
     "data": {
      "text/plain": [
       "[\"Celtic's previous trip to Hampden Park ended in a loss against Rangers in the Scottish Cup semi-final\"]"
      ]
     },
     "execution_count": 40,
     "metadata": {},
     "output_type": "execute_result"
    }
   ],
   "source": [
    "para_file[9]"
   ]
  },
  {
   "cell_type": "code",
   "execution_count": 41,
   "metadata": {},
   "outputs": [],
   "source": [
    "dic={'Article':articles, 'Paraphrased':paraphrased, 'Original': original, 'Gold':gold }"
   ]
  },
  {
   "cell_type": "code",
   "execution_count": 376,
   "metadata": {},
   "outputs": [
    {
     "data": {
      "text/plain": [
       "['Luckily, my garbage was still in my bin so i fished it out']"
      ]
     },
     "execution_count": 376,
     "metadata": {},
     "output_type": "execute_result"
    }
   ],
   "source": [
    "orig_file[21]"
   ]
  },
  {
   "cell_type": "code",
   "execution_count": 42,
   "metadata": {},
   "outputs": [],
   "source": [
    "df=pd.DataFrame.from_dict(dic)"
   ]
  },
  {
   "cell_type": "code",
   "execution_count": 43,
   "metadata": {},
   "outputs": [],
   "source": [
    "df.to_csv('../annotation/mistral-xsum.csv', index=False)"
   ]
  },
  {
   "cell_type": "code",
   "execution_count": 69,
   "metadata": {},
   "outputs": [
    {
     "data": {
      "text/plain": [
       "['Prison Link Cymru had 1,099 referrals in 2015-16 and said some ex-offenders were living rough for up to a year before finding suitable accommodation Workers at the charity claim investment in housing would be cheaper than jailing homeless repeat offenders The Welsh Government said more people than ever were getting help to address housing problems Prison Link Cymru, which helps people find accommodation after their release, said things were generally good for women because issues such as children or domestic violence were now considered However, the same could not be said for men, the charity said, because issues which often affect them, such as post traumatic stress disorder or drug dependency, were often viewed as less of a priority Building more one-bedroom flats could help ease the problem Official figures show 830 one-bedroom properties were built in the year to March 2016, of an overall total of 6,900 new properties in Wales Marc, 50, who has been in and out of prison for the past 20 years for burglary offences, said he struggled to find accommodation each time he was released',\n",
       " 'Officers searched properties in the Waterfront Park and Colonsay View areas of the city on Wednesday  ',\n",
       " 'Jordan Hill, Brittany Covington and Tesfaye Cooper, all 18, and Tanishia Covington, 24, appeared in a Chicago court on Friday An online fundraiser for their victim has collected $51,000 (Â£42,500) so far Denying the four suspects bail, Judge Maria Kuriakos Ciesil asked: \"Where was your sense of decency?\" Prosecutors told the court the beating started in a van and continued at a house, where the suspects allegedly forced the 18-year-old white victim, who suffers from schizophrenia and attention deficit disorder, to drink toilet water and kiss the floor Police allege the van was earlier stolen by Mr Hill, who is also accused of demanding $300 from the victim\\'s mother while they held him captive, according to the Chicago Tribune The court was also told the suspects stuffed a sock into his mouth, taped his mouth shut and bound his hands with a belt The victim had been dropped off at a McDonalds to meet Mr Hill - who was one of his friends - on 31 December He was found by a police officer on Tuesday, 3 January, a day after he was reported missing by his parents Prosecutors say the suspects each face two hate crimes counts, one because of the victim\\'s race and the other because of his disabilities',\n",
       " 'Played for the Royals for four years                                                                                                                                                                                    ',\n",
       " 'The modified form of the \"fasting-mimicking diet\" reboots the body The diet regenerated a special type of cell in the pancreas called a beta cell The findings could become a new treatment for the disease The experiments were on mice put on the diet The diet resembles a vegan diet with nuts and soups, but with around 800 to 1,100 calories a day The diet mimics periods of feast and famine The study, published in the journal Cell, says the diet reboots the body The diet regenerated a special type of cell in the pancreas called a beta cell The findings are potentially very exciting as they could become a new treatment for the disease The experiments were on mice put on the diet The diet resembles a vegan diet with nuts and soups, but with around 800 to 1,100 calories a day The diet mimics periods of feast and famine The study, published in the journal Cell, says the diet reboots the body The diet regenerated a special type of cell in the pancreas called a beta cell The findings are potentially very exciting as they could become a new treatment for the disease The experiments were on mice put on the diet The diet resembles a vegan diet with nuts and soups, but with around 800 to 1,100 calories a day The diet mimics periods of feast and famine The study, published in the journal Cell, says the diet reboots the body The diet regenerated a special type of cell in the pancreas called a beta cell The findings are potentially very exciting as they could become a new treatment for the disease The experiments were on mice put on the diet The diet resembles a vegan diet with nuts and soups, but with around 800 to 1,100 calories a day The diet mimics periods of feast and famine The study, published in the journal Cell, says the diet reboots the body The diet regenerated a special type of cell in the pancreas called a beta cell The findings are potentially very exciting as they could become a new treatment for the disease The experiments were on mice put on the diet The diet resembles a vegan diet with nuts and soups, but with around 800 to 1,100 calories a day The diet mimics periods of feast and famine The study, published in the journal Cell, says the diet reboots the body The diet regenerated a special type of cell in the pancreas called a beta cell The findings are potentially very exciting as they could become a new treatment for the disease The experiments were on mice put on the diet The diet resembles a vegan diet with nuts and soups, but with around 800 to 1,100 calories a day The diet mimics periods of feast and famine The study, published in the journal Cell, says the diet reboots the body The diet regenerated a special type of cell in the pancreas called a beta cell The findings are potentially very exciting as they could become a new treatment for the disease The experiments were on mice put on the diet The diet resembles a vegan diet with nuts and soups, but with around 800 to 1,100 calories a day The diet mimics periods of feast and famine The study, published in the journal Cell, says the',\n",
       " 'The two firms in question are Essilor and Luxottica',\n",
       " 'The Olympic silver medallist accused the organisation of \"ageism\" and having \"zero regard\" for her welfare She is the latest high-profile cyclist to come forward after Jess Varnish, Nicole Cooke and Emma Pooley criticised the World Class programme British Cycling acknowledged that they prioritized winning medals over the wellbeing of their staff and athletes, a approach that Houvenaghel confirmed in her interview with the BBC',\n",
       " 'They took over a sinking ship and each brought a bucket to bail it out Three years ago he was able to quit his day job and draw a salary from the club He recently expanded the premises, taking over the adjoining coffee house which sells alcohol, and leasing more theatre space Stephen Rosenfield, director of the American Comedy Institute in New York, says stand-up comedy is now entering a new golden age He says the growing popularity of stand-up comedy is fuelled in part by younger audiences, who view humorous TV hosts such as Jon Stewart, Jay Leno and Steve Colbert as their primary source for news Top-tier performers make much more There is no magic short cut, and few lucky breaks There is no magic short cut, and few lucky breaks Mr Byrne says hard work is the key to success',\n",
       " 'The giant telecoms company, BT, dodged a bullet after Ofcom admitted there were \"practical obstacles\" to a break-up, citing complications with land deals and the company\\'s giant pension scheme The pension scheme, which was inherited from its days as a state-owned company, has assets worth around £40 billion and a deficit of around £10 billion, despite the fact that BT has invested billions of pounds in recent years to address the shortfall Approximately 80% of the scheme involves Openreach, the internet infrastructure provider that competitors of BT would like to see separated from the company Creating two new pension schemes, with the risk of weakening the financial resources of one or the other, might be too hot a political potato, even in the pursuit of faster broadband',\n",
       " \"The manager has said that the technical area at Hampden Park goes right out to the end of the pitch Celtic won 5-1 against Rangers at Celtic Park in their last league meeting Rodgers lost two semi-finals in his time at Liverpool and is aiming to make it third time lucky at the club The manager would not be drawn on this semi-final being a step on the way to a potential domestic treble Rodgers is focusing on his own team's performance and impose their style of play to give problems to opponents Celtic's previous trip to Hampden Park ended in a loss against Rangers in the Scottish Cup semi-final Rodgers is aiming to make it third time lucky at the club he joined in the summer\"]"
      ]
     },
     "execution_count": 69,
     "metadata": {},
     "output_type": "execute_result"
    }
   ],
   "source": [
    "paraphrased"
   ]
  },
  {
   "cell_type": "code",
   "execution_count": null,
   "metadata": {},
   "outputs": [],
   "source": []
  }
 ],
 "metadata": {
  "kernelspec": {
   "display_name": "acl",
   "language": "python",
   "name": "python3"
  },
  "language_info": {
   "codemirror_mode": {
    "name": "ipython",
    "version": 3
   },
   "file_extension": ".py",
   "mimetype": "text/x-python",
   "name": "python",
   "nbconvert_exporter": "python",
   "pygments_lexer": "ipython3",
   "version": "3.11.5"
  }
 },
 "nbformat": 4,
 "nbformat_minor": 2
}
