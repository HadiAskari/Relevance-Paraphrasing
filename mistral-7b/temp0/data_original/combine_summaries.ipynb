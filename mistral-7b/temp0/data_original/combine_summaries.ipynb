{
 "cells": [
  {
   "cell_type": "code",
   "execution_count": 106,
   "metadata": {},
   "outputs": [],
   "source": [
    "import pickle as pkl\n",
    "import nltk\n",
    "import os\n",
    "# from datasets import load_dataset\n",
    "# from nltk.tokenize import sent_tokenize, word_tokenize\n",
    "# import multiprocessing\n",
    "# import evaluate\n",
    "from rouge_score import rouge_scorer\n",
    "from tqdm.auto import tqdm\n",
    "from natsort import natsorted\n",
    "import random\n"
   ]
  },
  {
   "cell_type": "code",
   "execution_count": 107,
   "metadata": {},
   "outputs": [
    {
     "name": "stdout",
     "output_type": "stream",
     "text": [
      "115\n",
      "\n",
      "\n",
      "For the following article: WASHINGTON (Reuters) - Senate Republican leader Mitch McConnell told President Barack Obama’s Supreme Court nominee Merrick Garland by phone on Wednesday that Republicans will not act on his nomination or meet with him, a McConnell spokesman said.”Rather than put Judge Garland through more unnecessary political routines orchestrated by the White House, the leader decided it would be more considerate of the nominee’s time to speak with him today by phone,” McConnell spokesman Don Stewart said in a statement.  McConnell told the appellate court judge that “since the Senate will not be acting on this nomination, he would not be holding a perfunctory meeting, but he wished Judge Garland well,” Stewart added.   \n",
      "\n",
      "Return a summary comprising of 1 sentence. With the sentence in a numbered list format.\n",
      "\n",
      "For example:\n",
      "\n",
      "1. First sentence\n",
      "\n",
      "2. Second sentence\n",
      "\n",
      "3. Third sentence\n",
      "\n",
      "1. McConnell told Garland that Republicans will not act on his nomination or meet with him.\n",
      "\n",
      "2. McConnell spoke with Garland by phone on Wednesday.\n",
      "\n",
      "3. McConnell wished Garland well.\n"
     ]
    }
   ],
   "source": [
    "pkls=os.listdir('news')\n",
    "pkls=natsorted(pkls)\n",
    "pkls_list=[]\n",
    "for pikl in pkls:\n",
    "    with open('news/{}'.format(pikl),'rb') as f:\n",
    "        file=pkl.load(f)\n",
    "    if not file:\n",
    "        file.append(' ')\n",
    "    pkls_list.extend(file)\n",
    "\n",
    "print(len(pkls_list))\n",
    "print(pkls_list[0])\n"
   ]
  },
  {
   "cell_type": "code",
   "execution_count": 108,
   "metadata": {},
   "outputs": [
    {
     "data": {
      "text/plain": [
       "5.6347826086956525"
      ]
     },
     "execution_count": 108,
     "metadata": {},
     "output_type": "execute_result"
    }
   ],
   "source": [
    "news_list=[]\n",
    "total_count=0\n",
    "for i in range(len(pkls_list)):\n",
    "    temp=[]\n",
    "    splits=pkls_list[i].split('\\n\\n')\n",
    "    for split in splits:\n",
    "        try:\n",
    "            if split[0].isdigit():\n",
    "                temp.append(split.split(\".\")[1].strip())\n",
    "        except:\n",
    "            #print(split)\n",
    "            pass\n",
    "            \n",
    "    indices_to_remove=[]\n",
    "    for k, items in enumerate(temp):\n",
    "        space_split=items.split(' ')\n",
    "\n",
    "        if space_split[-1].lower()=='sentence':\n",
    "            indices_to_remove.append(k)\n",
    "    cleaned_list = [item for index, item in enumerate(temp) if index not in indices_to_remove]\n",
    "    total_count+=len(cleaned_list)\n",
    "    news_list.append(cleaned_list)\n",
    "total_count/len(pkls_list)"
   ]
  },
  {
   "cell_type": "code",
   "execution_count": 109,
   "metadata": {},
   "outputs": [
    {
     "data": {
      "text/plain": [
       "115"
      ]
     },
     "execution_count": 109,
     "metadata": {},
     "output_type": "execute_result"
    }
   ],
   "source": [
    "len(news_list)"
   ]
  },
  {
   "cell_type": "code",
   "execution_count": 110,
   "metadata": {},
   "outputs": [
    {
     "data": {
      "text/plain": [
       "3"
      ]
     },
     "execution_count": 110,
     "metadata": {},
     "output_type": "execute_result"
    }
   ],
   "source": [
    "len(news_list[0])"
   ]
  },
  {
   "cell_type": "code",
   "execution_count": 111,
   "metadata": {},
   "outputs": [
    {
     "data": {
      "text/plain": [
       "['Luis Miranda, the communications director for the Democratic Party, is expected to leave the Democratic National Committee on Tuesday',\n",
       " 'This comes after the party’s email hacking scandal',\n",
       " 'A source familiar with the matter told Reuters']"
      ]
     },
     "execution_count": 111,
     "metadata": {},
     "output_type": "execute_result"
    }
   ],
   "source": [
    "news_list[2]"
   ]
  },
  {
   "cell_type": "code",
   "execution_count": 84,
   "metadata": {},
   "outputs": [],
   "source": [
    "# #news\n",
    "\n",
    "news_list_capped=[]\n",
    "for item in news_list:\n",
    "    try:\n",
    "        length=len(item)\n",
    "        # print(length)\n",
    "        random.seed(42)\n",
    "        choose1,choose2,choose3=random.sample(range(0,length),3)\n",
    "        temp=[choose1,choose2,choose3]\n",
    "        temp.sort()\n",
    "        # print(temp)\n",
    "        news_list_capped.append([item[temp[0]],item[temp[1]],item[temp[2]]])\n",
    "    except:\n",
    "        news_list_capped.append([])"
   ]
  },
  {
   "cell_type": "code",
   "execution_count": 112,
   "metadata": {},
   "outputs": [
    {
     "name": "stdout",
     "output_type": "stream",
     "text": [
      "\n",
      "\n",
      "For the following article: WASHINGTON (Reuters) - Senate Republican leader Mitch McConnell told President Barack Obama’s Supreme Court nominee Merrick Garland by phone on Wednesday that Republicans will not act on his nomination or meet with him, a McConnell spokesman said.”Rather than put Judge Garland through more unnecessary political routines orchestrated by the White House, the leader decided it would be more considerate of the nominee’s time to speak with him today by phone,” McConnell spokesman Don Stewart said in a statement.  McConnell told the appellate court judge that “since the Senate will not be acting on this nomination, he would not be holding a perfunctory meeting, but he wished Judge Garland well,” Stewart added.   \n",
      "\n",
      "Return a summary comprising of 1 sentence. With the sentence in a numbered list format.\n",
      "\n",
      "For example:\n",
      "\n",
      "1. First sentence\n",
      "\n",
      "2. Second sentence\n",
      "\n",
      "3. Third sentence\n",
      "\n",
      "1. McConnell told Garland that Republicans will not act on his nomination or meet with him.\n",
      "\n",
      "2. McConnell spoke with Garland by phone on Wednesday.\n",
      "\n",
      "3. McConnell wished Garland well.\n"
     ]
    }
   ],
   "source": [
    "print(pkls_list[0])"
   ]
  },
  {
   "cell_type": "code",
   "execution_count": 113,
   "metadata": {},
   "outputs": [
    {
     "name": "stdout",
     "output_type": "stream",
     "text": [
      "Length: 3\n",
      "0\n",
      "Length: 7\n",
      "1\n",
      "Length: 3\n",
      "0\n",
      "Length: 10\n",
      "10\n",
      "Length: 2\n",
      "2\n",
      "Length: 3\n",
      "0\n",
      "Length: 10\n",
      "10\n",
      "Length: 3\n",
      "0\n",
      "Length: 3\n",
      "0\n",
      "Length: 8\n",
      "1\n",
      "Length: 7\n",
      "1\n",
      "Length: 1\n",
      "0\n",
      "Length: 3\n",
      "0\n",
      "Length: 11\n",
      "10\n",
      "Length: 3\n",
      "0\n",
      "Length: 3\n",
      "0\n",
      "Length: 3\n",
      "0\n",
      "Length: 10\n",
      "10\n",
      "Length: 10\n",
      "10\n",
      "Length: 3\n",
      "0\n",
      "Length: 3\n",
      "0\n",
      "Length: 3\n",
      "0\n",
      "Length: 1\n",
      "0\n",
      "Length: 7\n",
      "1\n",
      "Length: 6\n",
      "5\n",
      "Length: 3\n",
      "0\n",
      "Length: 3\n",
      "0\n",
      "Length: 3\n",
      "0\n",
      "Length: 3\n",
      "0\n",
      "Length: 6\n",
      "5\n",
      "Length: 3\n",
      "0\n",
      "Length: 4\n",
      "0\n",
      "Length: 3\n",
      "0\n",
      "Length: 3\n",
      "0\n",
      "Length: 3\n",
      "0\n",
      "Length: 3\n",
      "0\n",
      "Length: 16\n",
      "3\n",
      "Length: 1\n",
      "0\n",
      "Length: 2\n",
      "2\n",
      "Length: 3\n",
      "0\n",
      "Length: 3\n",
      "0\n",
      "Length: 6\n",
      "5\n",
      "Length: 3\n",
      "0\n",
      "Length: 3\n",
      "0\n",
      "Length: 6\n",
      "5\n",
      "Length: 4\n",
      "0\n",
      "Length: 3\n",
      "0\n",
      "Length: 3\n",
      "0\n",
      "Length: 4\n",
      "0\n",
      "Length: 6\n",
      "5\n",
      "Length: 3\n",
      "0\n",
      "Length: 4\n",
      "0\n",
      "Length: 3\n",
      "0\n",
      "Length: 3\n",
      "0\n",
      "Length: 3\n",
      "0\n",
      "Length: 3\n",
      "0\n",
      "Length: 10\n",
      "10\n",
      "Length: 9\n",
      "1\n",
      "Length: 3\n",
      "0\n",
      "Length: 3\n",
      "0\n",
      "Length: 10\n",
      "10\n",
      "Length: 3\n",
      "0\n",
      "Length: 3\n",
      "0\n",
      "Length: 11\n",
      "10\n",
      "Length: 3\n",
      "0\n",
      "Length: 3\n",
      "0\n",
      "Length: 3\n",
      "0\n",
      "Length: 6\n",
      "5\n",
      "Length: 2\n",
      "2\n",
      "Length: 10\n",
      "10\n",
      "Length: 1\n",
      "0\n",
      "Length: 10\n",
      "10\n",
      "Length: 1\n",
      "0\n",
      "Length: 3\n",
      "0\n",
      "Length: 3\n",
      "0\n",
      "Length: 3\n",
      "0\n",
      "Length: 3\n",
      "0\n",
      "Length: 15\n",
      "3\n",
      "Length: 3\n",
      "0\n",
      "Length: 8\n",
      "1\n",
      "Length: 10\n",
      "10\n",
      "Length: 3\n",
      "0\n",
      "Length: 8\n",
      "1\n",
      "Length: 13\n",
      "10\n",
      "Length: 3\n",
      "0\n",
      "Length: 3\n",
      "0\n",
      "Length: 30\n",
      "20\n",
      "Length: 9\n",
      "1\n",
      "Length: 18\n",
      "3\n",
      "Length: 3\n",
      "0\n",
      "Length: 2\n",
      "2\n",
      "Length: 3\n",
      "0\n",
      "Length: 3\n",
      "0\n",
      "Length: 3\n",
      "0\n",
      "Length: 3\n",
      "0\n",
      "Length: 14\n",
      "10\n",
      "Length: 3\n",
      "0\n",
      "Length: 3\n",
      "0\n",
      "Length: 10\n",
      "10\n",
      "Length: 1\n",
      "0\n",
      "Length: 3\n",
      "0\n",
      "Length: 3\n",
      "0\n",
      "Length: 15\n",
      "3\n",
      "Length: 3\n",
      "0\n",
      "Length: 3\n",
      "0\n",
      "Length: 16\n",
      "3\n",
      "Length: 3\n",
      "0\n",
      "Length: 12\n",
      "10\n",
      "Length: 14\n",
      "10\n",
      "Length: 10\n",
      "10\n",
      "Length: 3\n",
      "0\n",
      "Length: 3\n",
      "0\n",
      "Length: 24\n",
      "20\n",
      "Length: 3\n",
      "0\n",
      "Length: 14\n",
      "10\n"
     ]
    }
   ],
   "source": [
    "# #Non news\n",
    "\n",
    "news_list_capped=[]\n",
    "for item in news_list:\n",
    "    length=len(item)\n",
    "    print(\"Length: {}\".format(length))\n",
    "    if length == 0:\n",
    "        news_list_capped.append([])\n",
    "        continue\n",
    "    random.seed(42)\n",
    "    choose=random.randint(0,length)\n",
    "    print(choose)\n",
    "    try:\n",
    "        news_list_capped.append([item[choose]])\n",
    "    except:\n",
    "        news_list_capped.append([])"
   ]
  },
  {
   "cell_type": "code",
   "execution_count": 114,
   "metadata": {},
   "outputs": [
    {
     "data": {
      "text/plain": [
       "115"
      ]
     },
     "execution_count": 114,
     "metadata": {},
     "output_type": "execute_result"
    }
   ],
   "source": [
    "len(news_list)"
   ]
  },
  {
   "cell_type": "code",
   "execution_count": 115,
   "metadata": {},
   "outputs": [
    {
     "data": {
      "text/plain": [
       "['McConnell told Garland that Republicans will not act on his nomination or meet with him',\n",
       " 'McConnell spoke with Garland by phone on Wednesday',\n",
       " 'McConnell wished Garland well']"
      ]
     },
     "execution_count": 115,
     "metadata": {},
     "output_type": "execute_result"
    }
   ],
   "source": [
    "news_list[0]"
   ]
  },
  {
   "cell_type": "code",
   "execution_count": 116,
   "metadata": {},
   "outputs": [
    {
     "data": {
      "text/plain": [
       "['McConnell told Garland that Republicans will not act on his nomination or meet with him']"
      ]
     },
     "execution_count": 116,
     "metadata": {},
     "output_type": "execute_result"
    }
   ],
   "source": [
    "news_list_capped[0]"
   ]
  },
  {
   "cell_type": "code",
   "execution_count": 117,
   "metadata": {},
   "outputs": [],
   "source": [
    "with open('news_capped_random.pkl', 'wb') as f:\n",
    "    pkl.dump(news_list_capped,f)"
   ]
  },
  {
   "cell_type": "code",
   "execution_count": 118,
   "metadata": {},
   "outputs": [],
   "source": [
    "with open('news_capped_random.pkl', 'rb') as f:\n",
    "    news=pkl.load(f)"
   ]
  },
  {
   "cell_type": "code",
   "execution_count": 119,
   "metadata": {},
   "outputs": [
    {
     "data": {
      "text/plain": [
       "[['McConnell told Garland that Republicans will not act on his nomination or meet with him'],\n",
       " ['Pakistan summoned the Afghan charge d affaires in Islamabad to protest against the killing of consular official Nayyar Iqbal Rana on Monday near his residence in the eastern city of Jalalabad, Pakistan s foreign office said in a statement'],\n",
       " ['Luis Miranda, the communications director for the Democratic Party, is expected to leave the Democratic National Committee on Tuesday'],\n",
       " [],\n",
       " [],\n",
       " ['Israel expressed disappointment at the decision of U'],\n",
       " [],\n",
       " ['The article discusses the changes in pace and style of work in the French presidency under Emmanuel Macron'],\n",
       " ['Amnesty International urged Egyptian authorities on Tuesday to release 24 Nubian activists detained last week on charges of protesting without permission as they rallied for resettlement on the banks of the Nile river'],\n",
       " ['There were no reports of other injuries'],\n",
       " ['The three killings and the wounding of a fourth employee occurred in four separate attacks on Friday'],\n",
       " ['The Republican Party’s Senate campaign wing has severed its fundraising deal with Alabama Republican Senate nominee Roy Moore, Politico reported on Friday, a day after allegations emerged that he initiated a sexual encounter with a 14-year-old girl when he was 32'],\n",
       " ['The European Union leaders are turning to the Erasmus student exchange scheme to foster cross-border education and European unity'],\n",
       " ['The SDF said it had taken 14 villages and farms, two towns, and some factories on the eastern bank of the Euphrates since launching its assault last week'],\n",
       " ['The top Democrat in the U'],\n",
       " ['The Sri Lankan parliament approved tax concessions for a Chinese-led joint venture that will handle the southern port of Hambantota under a $1'],\n",
       " ['The article discusses the pride that an Israeli kibbutz, Kibbutz Shaar Haamakim, has in former volunteer Bernie Sanders, even though no one on the communal farm can quite remember him'],\n",
       " [],\n",
       " [],\n",
       " ['The latest U'],\n",
       " [\"The UNHCR urged Australia to accept New Zealand's offer to resettle 150 refugees from an abandoned Australian-run detention center in Papua New Guinea\"],\n",
       " ['Senator Rand Paul spoke to President Donald Trump by phone about healthcare reform on Monday'],\n",
       " ['The United Nations and journalist groups are demanding the release of Reuters reporters Wa Lone and Kyaw Soe Oo from detention in Myanmar'],\n",
       " ['Security Minister Ben Wallace said Britain believed quite strongly that the ransomware attack came from a foreign state'],\n",
       " ['The EPA has hit Korean automakers Hyundai Motor Co and affiliate Kia Motors Corp with $350 million in penalties for overstating fuel economy ratings'],\n",
       " ['The more sanctions the United States and its allies impose on North Korea, the faster it will move to complete its nuclear plans, the reclusive nation s official KCNA news agency said on Monday, citing a foreign ministry spokesman'],\n",
       " ['Canadian Prime Minister Justin Trudeau reshuffled his cabinet on Monday to put more emphasis on helping aboriginal people'],\n",
       " [\"Tillerson arrived in Riyadh on Saturday to attend a landmark meeting between officials from Saudi Arabia and Iraq aimed at improving relations between the two countries and countering Iran's growing regional influence\"],\n",
       " ['FBI Director James Comey said he has no plans to step down anytime soon in a speech on Wednesday, days after he reportedly pushed back against President Donald Trump’s allegations that the Obama administration had tapped phones at Trump Tower'],\n",
       " [\"Canada's relations with North Korea appear to be warming up slightly, with a Canadian diplomat saying the North Koreans perceive Canada as not an enemy and therefore potentially a friend\"],\n",
       " ['Trump has expressed support for the completion of the Dakota Access Pipeline near a North Dakota Indian reservation'],\n",
       " ['Germany wants to reach out to the future U'],\n",
       " ['Saudi Arabia has banned the Muslim Brotherhood and designated it a terrorist organization'],\n",
       " ['Tillerson urged African leaders to take further actions to pressure North Korea to end its nuclear and missile programs'],\n",
       " ['The U'],\n",
       " ['Former Republican presidential candidate Bob Dole, 94, has been hospitalized since last week due to low blood pressure, his spokeswoman said on Friday'],\n",
       " ['A formal notice by U'],\n",
       " ['Turkish President Tayyip Erdogan said on Saturday that Turkish soldiers were not in Syria s Idlib yet, but that Free Syria Army was carrying out the operation, news channel NTV reported'],\n",
       " [],\n",
       " ['China has warned North Korea that it would impose sanctions on its own if Pyongyang carries out another nuclear test, according to US Secretary of State Rex Tillerson'],\n",
       " ['Gorsuch was chosen by Trump after being one of six finalists'],\n",
       " ['The German foreign ministry welcomed the agreement as an important step toward bringing peace to South Sudan'],\n",
       " ['Members of the U'],\n",
       " ['The 9th U'],\n",
       " ['However, we do have some budget hawks in our conference who will have a difficult time supporting a package that adds to the deficit, and we’ll have to take that into account, because once again we can’t afford to lose too many votes'],\n",
       " ['Opponents of a bill that would allow lawsuits against Saudi Arabia’s government over the Sept'],\n",
       " [\"Qatar's Foreign Minister Sheikh Mohammed bin Abdulrahman Al Thani criticized reckless leadership in the Gulf for the Gulf rift and Lebanon\"],\n",
       " ['The White House has designated White House Budget Director Mick Mulvaney as acting director of the Consumer Financial Protection Bureau (CFPB) until a permanent director is nominated and confirmed'],\n",
       " ['Syrian warplanes took off from an air base which was hit by U'],\n",
       " ['Somalia has been convulsed by instability, violence and lawlessness since early 1990s following the toppling of military dictator Mohamed Siad Barre'],\n",
       " ['Republicans struggled to agree on healthcare legislation to overhaul Obamacare'],\n",
       " ['German police arrested a 29-year-old man named Dasbar W'],\n",
       " ['The Trump administration will not issue executive orders calling for a review of international treaties and U'],\n",
       " ['The news of the reversion of the historic detente with Cuba has left Cubans crestfallen'],\n",
       " [\"China's Defense Ministry said on Thursday that the Chinese military will make all necessary preparations to protect national sovereignty and regional peace and stability, when asked about the risk of conflict on the Korean peninsula\"],\n",
       " [\"Pope Francis will meet the head of Myanmar's army and Rohingya refugees in Bangladesh, both late additions to a tour of the two countries next week\"],\n",
       " [],\n",
       " ['The cabinet plans to increase costs for those caught infringing on intellectual property rights, and will make rights protection more affordable'],\n",
       " ['Theresa May refused to say whether she would vote for Brexit if there was another referendum'],\n",
       " ['A ninth Australian lawmaker quit parliament on Wednesday after discovering she was a dual national, the latest casualty in a widening constitutional crisis that has already cost the government its majority'],\n",
       " [],\n",
       " ['Tillerson urged the Iraqi government and the Kurdistan region on Monday to resolve their conflict over Kurdish self-determination and disputed territories through dialogue'],\n",
       " ['The former head of Catalonia is on his way to Brussels to see lawyers'],\n",
       " ['He did not say how he would finance his spending plans, but in the past has said all new spending would be funded by ending government corruption and waste'],\n",
       " ['The Kurdish delegation met with representatives of the Shi ite ruling coalition in Baghdad, and with the Iraqi president, Fuad Masum, whose role is largely ceremonial'],\n",
       " ['Omarosa Manigault, best-known for repeatedly being fired on the TV show “The Apprentice,” is being considered for a job in Donald Trump’s White House'],\n",
       " ['Boris Johnson, the British Foreign Secretary, compared any attempt to punish Britain for leaving the European Union to a World War Two escape movie'],\n",
       " ['A senior homeland security official said Kelly is considering bringing veteran government spokesman David Lapan with him to the White House as communications director'],\n",
       " [],\n",
       " [],\n",
       " ['Tillerson does not agree with Trump’s comments that it would not be a bad thing if other countries, including Japan, acquired nuclear weapons'],\n",
       " [],\n",
       " [\"Hong Kong's Chief Executive Carrie Lam has warned that the city faces grave challenges and must develop a more diversified economy, unveiling a mix of housing and tax relief policies to raise competitiveness\"],\n",
       " [\"Mnuchin wants to loosen the Volcker Rule, which limits banks' ability to engage in speculative investments, by giving the Financial Stability Oversight Council a stricter definition of proprietary trading\"],\n",
       " ['The United Nations called on Monday for a humanitarian pause in the Yemeni capital of Sanaa on Tuesday to allow civilians to leave their homes, aid workers to reach them, and the wounded to get medical care'],\n",
       " ['The Northern Cheyenne Tribe in southern Montana sued the Trump administration on Wednesday for lifting a moratorium on coal leases on public land without consulting tribal leaders and conducting a full environmental review'],\n",
       " ['Erdogan wants the foundations to be laid for the Akkuyu nuclear plant in southern Turkey by the end of this month'],\n",
       " ['One of Trump’s lawyers, Sheri Dillon, pledged at a Jan'],\n",
       " ['The U'],\n",
       " ['Her trip comes as Britain is looking for new relationships around the world, to replace those it will lose after it quits the European Union in a little more than a year'],\n",
       " [],\n",
       " ['The Kremlin said on Monday it was worried that proposed new U'],\n",
       " ['Speaking at a news conference with Israeli Prime Minister Benjamin Netanyahu, Pena Nieto added that the two nations had agreed to update their free trade agreement, which was signed in 2000'],\n",
       " ['Franklin Graham, the president and CEO of the Billy Graham Evangelistic Association, denounced bigotry and racism on his Facebook page a day after the Charlottesville violence, but at the same time, he also took aim at politicians who tried to connect Trump to that turmoil'],\n",
       " ['Japan and China have agreed to deepen their cooperation on North Korea and hold a trilateral summit with South Korea at the earliest possible date'],\n",
       " ['The Native American Affairs Coalition, which was appointed by President-elect Donald Trump, proposes to free up 56 million acres of tribal lands for private ownership'],\n",
       " ['The bill includes $1'],\n",
       " ['Greek authorities recovered the body of a woman and searched for more people missing after a wooden boat carrying migrants sank off Kalymnos island, close to the Turkish coast'],\n",
       " ['The core aim of the outstanding part of Basel III that regulators are working on - dubbed Basel IV by critical banks who worry about more stringent capital requirements - is to impose more consistency into how banks calculate the amount of capital they hold against risky assets like loans'],\n",
       " ['Netanyahu will meet with Trump on Feb'],\n",
       " [],\n",
       " ['The regional leader of Catalonia Carles Puigdemont will lose all powers and will stop receiving a salary once the Senate approves article 155 which imposes direct central government rule on the region'],\n",
       " ['Trump had a \"constructive\" meeting with members of U'],\n",
       " [\"No firm date has been set yet for a Congress of Syria's peoples proposed by Russia, the Kremlin said on Tuesday, stressing that such a forum should be as inclusive as possible\"],\n",
       " ['President Donald Trump has picked former U'],\n",
       " ['A witness to Thursday\\'s bombing said: \"We are proud to be martyred because of our country and our rights'],\n",
       " ['McCain said there is \"no information\" that Russian hacking of American political organizations was aimed at affecting the outcome of the 2016 presidential election'],\n",
       " ['Republicans in the U'],\n",
       " [],\n",
       " ['Trump said on Saturday that he will ask the Republican-controlled Congress to further speed up its efforts to overhaul the U'],\n",
       " [\"The rise of Fresh News reflects a shift in control of information in the run-up to next year's general election at the same time as a crackdown on Hun Sen's opponents\"],\n",
       " ['Islamic State claimed responsibility for a car bomb attack outside the offices of the Yemeni finance ministry in the southern port city of Aden'],\n",
       " ['The Senate Budget Committee holds a hearing on whether Republican tax legislation meets Senate rules for fast-track reconciliation bills'],\n",
       " ['The Kremlin on Monday commented on U'],\n",
       " ['North Korean Foreign Minister Ri Yong Ho said on Friday he believes the North could consider a hydrogen bomb test on the Pacific Ocean of an unprecedented scale, South Korea s Yonhap news agency reported'],\n",
       " ['President Donald Trump has pledged to make a tax overhaul a priority'],\n",
       " ['Prosecutors in Vietnam are seeking the death sentence in an embezzlement case against a former chairman of state energy firm PetroVietnam'],\n",
       " ['However, a budget fight is expected because Senate Democrats may not agree to big increases in funds for the military if spending caps on non-defense programs are not also eased'],\n",
       " ['It hurt some health insurers, like Anthem Inc (ANTM'],\n",
       " [],\n",
       " ['Nigel Farage visited Donald Trump at his home on Saturday, after suggesting he could act as a go-between to help smooth British relations with the U'],\n",
       " ['Labour Party promises no new taxes until 2020, poll shows support rising'],\n",
       " ['Retired Colonel Sheri Swokowski, 67, the highest-ranking openly transgender veteran, joined the criticism'],\n",
       " ['Pakistan is building a 2,500 km long fence along the disputed frontier with Afghanistan'],\n",
       " ['Under Armour was not immediately available for comment on Thursday']]"
      ]
     },
     "execution_count": 119,
     "metadata": {},
     "output_type": "execute_result"
    }
   ],
   "source": [
    "news"
   ]
  },
  {
   "cell_type": "code",
   "execution_count": null,
   "metadata": {},
   "outputs": [],
   "source": []
  }
 ],
 "metadata": {
  "kernelspec": {
   "display_name": "acl",
   "language": "python",
   "name": "python3"
  },
  "language_info": {
   "codemirror_mode": {
    "name": "ipython",
    "version": 3
   },
   "file_extension": ".py",
   "mimetype": "text/x-python",
   "name": "python",
   "nbconvert_exporter": "python",
   "pygments_lexer": "ipython3",
   "version": "3.12.2"
  },
  "orig_nbformat": 4
 },
 "nbformat": 4,
 "nbformat_minor": 2
}
