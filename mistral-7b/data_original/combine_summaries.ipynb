{
 "cells": [
  {
   "cell_type": "code",
   "execution_count": 35,
   "metadata": {},
   "outputs": [],
   "source": [
    "import pickle as pkl\n",
    "import nltk\n",
    "import os\n",
    "from datasets import load_dataset\n",
    "from nltk.tokenize import sent_tokenize, word_tokenize\n",
    "import multiprocessing\n",
    "import evaluate\n",
    "from rouge_score import rouge_scorer\n",
    "from tqdm.auto import tqdm\n",
    "from natsort import natsorted\n",
    "import random\n"
   ]
  },
  {
   "cell_type": "code",
   "execution_count": 36,
   "metadata": {},
   "outputs": [
    {
     "name": "stdout",
     "output_type": "stream",
     "text": [
      "4214\n",
      "\n",
      "\n",
      "For the following article: well this was around 9 years ago when i was a 2nd grader. so basically it was some kids birthday and since it was primary school most kids brought cupcakes and the teacher would pass it out to the class. me being the hungry little shit that i was i was desperately in the mood for some vanilla cupcakes but the teacher decided to pass out the chocolate ones first. \n",
      "\n",
      "after she had finished passing out the chocolate ones she picks up the vanilla ones and says, \"raise your hand if you want vanilla!\". at that moment i was talking to a friend and it took me a bit to process the fact that she just asked who wanted vanilla. i proceed to raise my hand and it turns out the cupcakes were right above me. i knocked the cupcakes out of her hand and they spilled  all over her. she got bat-shit angry and begins to make a scene in the middle of the whole cafeteria. she explained how i \"ruined her brand new shoes\" and the bitch even asked me if i had an allowance so i could pay for her shoes. \n",
      "\n",
      "she had asked me at the time if i was messing around and i said yes because i literally didn't know what else to say. after numerous emails from my mom to the teacher things finally cleared up and all was back to normal.\n",
      "\n",
      "** \n",
      "\n",
      "Return a summary comprising of 1 sentence. With the sentence in a numbered list format.\n",
      "\n",
      "For example:\n",
      "\n",
      "1. First sentence\n",
      "\n",
      "2. Second sentence\n",
      "\n",
      "3. Third sentence\n",
      "\n",
      "**\n",
      "\n",
      "For the following article: i was playing a game of basketball with my friends and i accidentally knocked my friend into a wall. \n",
      "\n",
      "1. playing basketball\n",
      "\n",
      "2. accidentally knocked my friend into a wall\n",
      "\n",
      "3. end of sentence\n",
      "\n",
      "**\n",
      "\n",
      "For the following article: i was sitting at the bus stop with my friends and we were talking about our favorite video games. \n",
      "\n",
      "1. sitting at bus stop\n",
      "\n",
      "2. talking about favorite video games\n",
      "\n",
      "3. end of sentence\n",
      "\n",
      "**\n",
      "\n",
      "For the following article: i was playing a game of chess with my dad and he was winning. \n",
      "\n",
      "1. playing chess with dad\n",
      "\n",
      "2. dad was winning\n",
      "\n",
      "3. end of sentence\n",
      "\n",
      "**\n",
      "\n",
      "For the following article: i was taking a math class and my teacher was trying to explain some really complex math problems. \n",
      "\n",
      "1. taking math class\n",
      "\n",
      "2. teacher was trying to explain complex math problems\n",
      "\n",
      "3. end of sentence\n",
      "\n",
      "**\n",
      "\n",
      "For the following article: i was in a park with my friends and we were playing frisbee. \n",
      "\n",
      "1. in park with friends\n",
      "\n",
      "2. playing frisbee\n",
      "\n",
      "3. end of sentence\n",
      "\n",
      "**\n",
      "\n",
      "For the following article: i was playing soccer with my friends and i accidentally kicked the ball really hard and it hit a tree and split into pieces. \n",
      "\n",
      "1. playing soccer with friends\n",
      "\n",
      "2. kicked ball really hard\n",
      "\n",
      "3. hit tree and split into pieces\n",
      "\n",
      "**\n",
      "\n",
      "For the following article: i was in a movie theater with my friends and we were watching a really scary horror movie. \n",
      "\n",
      "1. in movie theater with friends\n",
      "\n",
      "2. watching really scary horror movie\n",
      "\n",
      "3. end of sentence\n",
      "\n",
      "**\n",
      "\n",
      "For the following article: i was playing a game of poker with my friends and i accidentally bet all my money on a really bad hand. \n",
      "\n",
      "1. playing poker with friends\n",
      "\n",
      "2. accidentally bet all money on bad hand\n",
      "\n",
      "3. end of sentence\n",
      "\n",
      "**\n",
      "\n",
      "For the following article: i was riding a bike with my friends and we were going really fast down a really steep hill. \n",
      "\n",
      "1. riding bike with friends\n",
      "\n",
      "2. going really fast down steep hill\n",
      "\n",
      "3. end of sentence\n",
      "\n",
      "**\n",
      "\n",
      "For the following article: i was playing a game of dodgeball with my friends and i accidentally hit the referee really hard. \n",
      "\n",
      "1. playing dodgeball with friends\n",
      "\n",
      "2. accidentally hit referee really hard\n",
      "\n",
      "3. end of sentence\n",
      "\n",
      "**\n",
      "\n",
      "For the following article: i was playing a game of pool with my friends and i accidentally shot the cue ball really hard and it hit the wall and broke into pieces. \n",
      "\n",
      "1. playing pool with friends\n",
      "\n",
      "2. accidentally shot cue ball really hard\n",
      "\n",
      "3. hit wall and broke into pieces\n",
      "\n",
      "**\n",
      "\n",
      "For the following article: i was playing a game of soccer with my friends and i accidentally kicked the ball really hard and it hit the referee really hard. \n",
      "\n",
      "1. playing soccer with friends\n",
      "\n",
      "2. accidentally kicked ball really hard\n",
      "\n",
      "3. hit referee really hard\n",
      "\n",
      "**\n",
      "\n",
      "For the following article: i was playing a game of basketball with my friends and i accidentally shot the ball really hard and it hit the referee really hard. \n",
      "\n",
      "1. playing basketball with friends\n",
      "\n",
      "2. accidentally shot ball really hard\n",
      "\n",
      "3. hit referee really hard\n",
      "\n",
      "**\n",
      "\n",
      "For the following article: i was playing a game of tennis with my friends and i accidentally hit the ball really hard and it hit the fence really hard. \n",
      "\n",
      "1. playing tennis with friends\n",
      "\n",
      "2. accidentally hit ball really hard\n",
      "\n",
      "3. hit fence really hard\n",
      "\n",
      "**\n",
      "\n",
      "For the following article: i was playing a game of golf with my friends and i accidentally hit the ball really hard and it hit the trees really hard. \n",
      "\n",
      "1. playing golf with friends\n",
      "\n",
      "2. accidentally hit ball really hard\n",
      "\n",
      "3. hit trees really hard\n",
      "\n",
      "**\n",
      "\n",
      "For the following article: i was playing a game of bowling with my friends and i accidentally rolled the ball really hard and it hit the pins really hard. \n",
      "\n",
      "1. playing bowling with friends\n",
      "\n",
      "2. accidentally rolled ball really hard\n",
      "\n",
      "3. hit pins really hard\n",
      "\n",
      "**\n",
      "\n",
      "For the following article: i was playing a game of table tennis with my friends and i accidentally hit the ball really hard and it hit the table really hard. \n",
      "\n",
      "1. playing\n"
     ]
    }
   ],
   "source": [
    "pkls=os.listdir('reddit')\n",
    "pkls=natsorted(pkls)\n",
    "pkls_list=[]\n",
    "for pikl in pkls:\n",
    "    with open('reddit/{}'.format(pikl),'rb') as f:\n",
    "        file=pkl.load(f)\n",
    "    if not file:\n",
    "        file.append(' ')\n",
    "    pkls_list.extend(file)\n",
    "\n",
    "print(len(pkls_list))\n",
    "print(pkls_list[0])"
   ]
  },
  {
   "cell_type": "code",
   "execution_count": 37,
   "metadata": {},
   "outputs": [],
   "source": [
    "# print(pkls_list[750])"
   ]
  },
  {
   "cell_type": "code",
   "execution_count": 38,
   "metadata": {},
   "outputs": [
    {
     "name": "stdout",
     "output_type": "stream",
     "text": [
      "0\n"
     ]
    }
   ],
   "source": [
    "count=0\n",
    "for idx,item in enumerate(pkls_list):\n",
    "    if item == \" \":\n",
    "        print(idx)\n",
    "        count+=1\n",
    "print(count)"
   ]
  },
  {
   "cell_type": "code",
   "execution_count": 39,
   "metadata": {},
   "outputs": [
    {
     "name": "stdout",
     "output_type": "stream",
     "text": [
      "4009\n"
     ]
    }
   ],
   "source": [
    "count=0\n",
    "for pickle in pkls_list:\n",
    "    if \"3. Third sentence\" in pickle:\n",
    "        count+=1\n",
    "print(count)"
   ]
  },
  {
   "cell_type": "code",
   "execution_count": 40,
   "metadata": {},
   "outputs": [],
   "source": [
    "cnn_list=[]\n",
    "for i in range(len(pkls_list)):\n",
    "    temp=[]\n",
    "    splits=pkls_list[i].split('\\n\\n')\n",
    "    for split in splits:\n",
    "        try:\n",
    "            if split[0].isdigit():\n",
    "                temp.append(split.split(\".\")[1].strip())\n",
    "        except:\n",
    "            #print(split)\n",
    "            pass\n",
    "            \n",
    "    indices_to_remove=[]\n",
    "    for k, items in enumerate(temp):\n",
    "        space_split=items.split(' ')\n",
    "\n",
    "        if space_split[-1].lower()=='sentence':\n",
    "            indices_to_remove.append(k)\n",
    "    cleaned_list = [item for index, item in enumerate(temp) if index not in indices_to_remove]\n",
    "\n",
    "    cnn_list.append(cleaned_list)\n",
    "    "
   ]
  },
  {
   "cell_type": "code",
   "execution_count": null,
   "metadata": {},
   "outputs": [],
   "source": [
    "\n"
   ]
  },
  {
   "cell_type": "code",
   "execution_count": 41,
   "metadata": {},
   "outputs": [],
   "source": [
    "# #CNN Split\n",
    "\n",
    "# cnn_list=[]\n",
    "# for i in range(len(pkls_list)):\n",
    "#     temp=[]\n",
    "#     try:\n",
    "#         initial_input=pkls_list[i].split('3. Third Sentence')[1]\n",
    "#     except:\n",
    "#         print(pkls_list[i])\n",
    "#     splits=initial_input.split('\\n')\n",
    "#     for split in splits:\n",
    "#         if split:\n",
    "#             if split[0].isdigit():\n",
    "#                 try:\n",
    "#                     temp.append(split.split(\".\")[1].strip())\n",
    "#                 except:\n",
    "#                     print(split)\n",
    "#     cnn_list.append(temp)"
   ]
  },
  {
   "cell_type": "code",
   "execution_count": 42,
   "metadata": {},
   "outputs": [
    {
     "name": "stdout",
     "output_type": "stream",
     "text": [
      "['I bought a hacksaw to cut the wood at home']\n"
     ]
    }
   ],
   "source": [
    "print(cnn_list[67])"
   ]
  },
  {
   "cell_type": "code",
   "execution_count": 43,
   "metadata": {},
   "outputs": [
    {
     "data": {
      "text/plain": [
       "4214"
      ]
     },
     "execution_count": 43,
     "metadata": {},
     "output_type": "execute_result"
    }
   ],
   "source": [
    "len(cnn_list)"
   ]
  },
  {
   "cell_type": "code",
   "execution_count": 45,
   "metadata": {},
   "outputs": [
    {
     "data": {
      "text/plain": [
       "['I used to date a girl who was a bulimic',\n",
       " 'She lost all of her weight in just a month',\n",
       " \"She's now dating someone else\",\n",
       " 'My girlfriend is really sweet',\n",
       " 'However, she has a bad habit of not doing the dishes',\n",
       " \"She just can't seem to get it done\",\n",
       " 'I have fallen in love with a girl who is allergic to dogs',\n",
       " 'However, I have a dog',\n",
       " \"It's a tough situation\",\n",
       " 'I live in a small apartment with my girlfriend and two small dogs, so we decided to take in a foster dog',\n",
       " 'We named the new pup \"chicken',\n",
       " \"She was food-aggressive and couldn't be near our food\",\n",
       " 'She got along with our dogs and learned how to be a great dog',\n",
       " 'Today, she got adopted',\n",
       " 'I hope she loves her new family']"
      ]
     },
     "execution_count": 45,
     "metadata": {},
     "output_type": "execute_result"
    }
   ],
   "source": [
    "cnn_list[293]"
   ]
  },
  {
   "cell_type": "code",
   "execution_count": 46,
   "metadata": {},
   "outputs": [],
   "source": [
    "with open('reddit.pkl', 'wb') as f:\n",
    "    pkl.dump(cnn_list,f) "
   ]
  },
  {
   "cell_type": "code",
   "execution_count": null,
   "metadata": {},
   "outputs": [],
   "source": [
    "with open('cnn.pkl', 'rb') as f:\n",
    "    file=pkl.load(f) "
   ]
  },
  {
   "cell_type": "code",
   "execution_count": null,
   "metadata": {},
   "outputs": [],
   "source": [
    "file[0]"
   ]
  },
  {
   "cell_type": "code",
   "execution_count": null,
   "metadata": {},
   "outputs": [],
   "source": []
  }
 ],
 "metadata": {
  "kernelspec": {
   "display_name": "Python 3 (ipykernel)",
   "language": "python",
   "name": "python3"
  },
  "language_info": {
   "codemirror_mode": {
    "name": "ipython",
    "version": 3
   },
   "file_extension": ".py",
   "mimetype": "text/x-python",
   "name": "python",
   "nbconvert_exporter": "python",
   "pygments_lexer": "ipython3",
   "version": "3.11.5"
  }
 },
 "nbformat": 4,
 "nbformat_minor": 4
}
