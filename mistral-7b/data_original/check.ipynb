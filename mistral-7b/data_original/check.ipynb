{
 "cells": [
  {
   "cell_type": "code",
   "execution_count": 1,
   "metadata": {},
   "outputs": [
    {
     "ename": "ModuleNotFoundError",
     "evalue": "No module named 'MENLI'",
     "output_type": "error",
     "traceback": [
      "\u001b[0;31m---------------------------------------------------------------------------\u001b[0m",
      "\u001b[0;31mModuleNotFoundError\u001b[0m                       Traceback (most recent call last)",
      "Cell \u001b[0;32mIn[1], line 4\u001b[0m\n\u001b[1;32m      1\u001b[0m \u001b[38;5;28;01mimport\u001b[39;00m \u001b[38;5;21;01mpickle\u001b[39;00m \u001b[38;5;28;01mas\u001b[39;00m \u001b[38;5;21;01mpkl\u001b[39;00m\n\u001b[1;32m      2\u001b[0m \u001b[38;5;28;01mimport\u001b[39;00m \u001b[38;5;21;01mrandom\u001b[39;00m\n\u001b[0;32m----> 4\u001b[0m \u001b[38;5;28;01mfrom\u001b[39;00m \u001b[38;5;21;01mMENLI\u001b[39;00m\u001b[38;5;21;01m.\u001b[39;00m\u001b[38;5;21;01mMENLI\u001b[39;00m \u001b[38;5;28;01mimport\u001b[39;00m MENLI\n\u001b[1;32m      6\u001b[0m \u001b[38;5;66;03m# scorer = MENLI(direction=\"avg\", formula=\"e\", src=False, nli_weight=0.3, combine_with=\"BERTScore-F\", model=\"D\")\u001b[39;00m\n\u001b[1;32m      7\u001b[0m \u001b[38;5;66;03m# res=[]\u001b[39;00m\n\u001b[1;32m      8\u001b[0m \u001b[38;5;66;03m# count=0\u001b[39;00m\n\u001b[0;32m   (...)\u001b[0m\n\u001b[1;32m     22\u001b[0m    \n\u001b[1;32m     23\u001b[0m \u001b[38;5;66;03m# return sum(res)/len(res)\u001b[39;00m\n",
      "\u001b[0;31mModuleNotFoundError\u001b[0m: No module named 'MENLI'"
     ]
    }
   ],
   "source": [
    "import pickle as pkl\n",
    "import random\n",
    "\n",
    "from MENLI.MENLI import MENLI\n",
    "\n",
    "scorer = MENLI(direction=\"avg\", formula=\"e\", src=False, nli_weight=0.3, combine_with=\"BERTScore-F\", model=\"D\")\n",
    "res=[]\n",
    "count=0\n",
    "# refs and hyps in form of list of String\n",
    "for cand, ref in tqdm(zip(p_data_mistral_cnn['highlights'],p_data_mistral_cnn['model_summaries'])):\n",
    "    count+=1\n",
    "    # if count>=20:\n",
    "    #     break\n",
    "    if len(cand)!=len(ref):\n",
    "        continue\n",
    "    if not cand or not ref:\n",
    "        continue\n",
    "    scores=scorer.score_all(srcs=[],refs=cand, hyps=ref) \n",
    "\n",
    "    res.append(sum(scores)/len(scores))\n",
    "    \n",
    "   \n",
    "# return sum(res)/len(res)"
   ]
  },
  {
   "cell_type": "code",
   "execution_count": 9,
   "metadata": {},
   "outputs": [],
   "source": [
    "with open('xsum_new_new.pkl', 'rb') as f:\n",
    "    pkls_list=pkl.load(f)"
   ]
  },
  {
   "cell_type": "code",
   "execution_count": 10,
   "metadata": {},
   "outputs": [],
   "source": [
    "cnn_list_capped=[]\n",
    "\n",
    "for item in pkls_list:\n",
    "    try:\n",
    "        length=len(item)\n",
    "        choose=random.randint(0,length-1)\n",
    "        cnn_list_capped.append([item[0]])\n",
    "    except:\n",
    "        cnn_list_capped.append([])"
   ]
  },
  {
   "cell_type": "code",
   "execution_count": 11,
   "metadata": {},
   "outputs": [
    {
     "data": {
      "text/plain": [
       "['16 tie.']"
      ]
     },
     "execution_count": 11,
     "metadata": {},
     "output_type": "execute_result"
    }
   ],
   "source": [
    "cnn_list_capped[59]"
   ]
  },
  {
   "cell_type": "code",
   "execution_count": 12,
   "metadata": {},
   "outputs": [],
   "source": [
    "with open('xsum_capped-random.pkl', 'wb') as f:\n",
    "    pkl.dump(cnn_list_capped,f)"
   ]
  },
  {
   "cell_type": "code",
   "execution_count": 1,
   "metadata": {},
   "outputs": [],
   "source": [
    "import pickle as pkl\n",
    "import nltk\n",
    "import os\n",
    "from datasets import load_dataset\n",
    "from nltk.tokenize import sent_tokenize, word_tokenize\n",
    "import multiprocessing\n",
    "import evaluate\n",
    "from rouge_score import rouge_scorer\n",
    "from tqdm.auto import tqdm\n",
    "from natsort import natsorted\n",
    "import random\n",
    "import pandas as pd\n",
    "from datasets import load_dataset, DatasetDict, load_from_disk\n",
    "import datasets"
   ]
  },
  {
   "cell_type": "code",
   "execution_count": 22,
   "metadata": {},
   "outputs": [
    {
     "name": "stdout",
     "output_type": "stream",
     "text": [
      "4214\n",
      "1. As a second grader at a birthday celebration in primary school, the author accidentally knocked vanilla cupcakes onto the teacher, causing a scene and leading to accusations of ruining her shoes.\n"
     ]
    }
   ],
   "source": [
    "pkls=os.listdir('reddit')\n",
    "pkls=natsorted(pkls)\n",
    "pkls_list=[]\n",
    "for pikl in pkls:\n",
    "    with open('reddit/{}'.format(pikl),'rb') as f:\n",
    "        file=pkl.load(f)\n",
    "    if not file:\n",
    "        file.append(' ')\n",
    "    pkls_list.extend(file)\n",
    "\n",
    "print(len(pkls_list))\n",
    "print(pkls_list[0])"
   ]
  },
  {
   "cell_type": "code",
   "execution_count": 23,
   "metadata": {},
   "outputs": [
    {
     "name": "stdout",
     "output_type": "stream",
     "text": [
      "0\n"
     ]
    }
   ],
   "source": [
    "count=0\n",
    "for idx,item in enumerate(pkls_list):\n",
    "    if item == \" \":\n",
    "        print(idx)\n",
    "        count+=1\n",
    "print(count)"
   ]
  },
  {
   "cell_type": "code",
   "execution_count": 24,
   "metadata": {},
   "outputs": [],
   "source": [
    "cnn_list=[]\n",
    "for i in range(len(pkls_list)):\n",
    "    temp=[]\n",
    "    splits=pkls_list[i].split('\\n')\n",
    "    for split in splits:\n",
    "        if split:\n",
    "            if split[0].isdigit():\n",
    "                try:\n",
    "                    temp.append(split.split(\".\")[1].strip())\n",
    "                except:\n",
    "                    print(split)\n",
    "    cnn_list.append(temp)"
   ]
  },
  {
   "cell_type": "code",
   "execution_count": 25,
   "metadata": {},
   "outputs": [
    {
     "data": {
      "text/plain": [
       "4214"
      ]
     },
     "execution_count": 25,
     "metadata": {},
     "output_type": "execute_result"
    }
   ],
   "source": [
    "len(cnn_list)"
   ]
  },
  {
   "cell_type": "code",
   "execution_count": 26,
   "metadata": {},
   "outputs": [
    {
     "data": {
      "text/plain": [
       "[\"During lunch, a student's attempt to focus on copying notes led to a disruptive outburst that resulted in a 2-hour detention for causing a commotion in the lunchroom\"]"
      ]
     },
     "execution_count": 26,
     "metadata": {},
     "output_type": "execute_result"
    }
   ],
   "source": [
    "cnn_list[213]"
   ]
  },
  {
   "cell_type": "code",
   "execution_count": 27,
   "metadata": {},
   "outputs": [],
   "source": [
    "with open('reddit_final.pkl', 'wb') as f:\n",
    "    pkl.dump(cnn_list,f) "
   ]
  },
  {
   "cell_type": "code",
   "execution_count": 143,
   "metadata": {},
   "outputs": [],
   "source": [
    "xsum_ds = datasets.load_dataset(\"EdinburghNLP/xsum\")    \n",
    "xsum_ds = xsum_ds['test']\n",
    "\n",
    "# reddit_ds = datasets.load_dataset(\"reddit_tifu\", \"long\")\n",
    "# train_testvalid = reddit_ds['train'].train_test_split(test_size=0.2, seed=42)\n",
    "# test_valid = train_testvalid['test'].train_test_split(test_size=0.5, seed=42)\n",
    "# reddit_ds = test_valid['test']"
   ]
  },
  {
   "cell_type": "code",
   "execution_count": 144,
   "metadata": {},
   "outputs": [],
   "source": [
    "articles=xsum_ds['document']\n",
    "gold_summaries=xsum_ds['summary']\n",
    "\n",
    "# articles=reddit_ds['documents']\n",
    "# gold_summaries=reddit_ds['tldr']"
   ]
  },
  {
   "cell_type": "code",
   "execution_count": 145,
   "metadata": {},
   "outputs": [],
   "source": [
    "with open('xsum_capped_random.pkl', 'rb') as f:\n",
    "    original_summaries=pkl.load(f)\n",
    "\n",
    "# with open('reddit_capped_random.pkl', 'rb') as f:\n",
    "#     original_summaries=pkl.load(f)"
   ]
  },
  {
   "cell_type": "code",
   "execution_count": 146,
   "metadata": {},
   "outputs": [
    {
     "data": {
      "text/plain": [
       "['Domestically, his legacy is contested']"
      ]
     },
     "execution_count": 146,
     "metadata": {},
     "output_type": "execute_result"
    }
   ],
   "source": [
    "original_summaries[43]"
   ]
  },
  {
   "cell_type": "code",
   "execution_count": 147,
   "metadata": {},
   "outputs": [],
   "source": [
    "with open('../data_paraphrase/xsum_capped_random.pkl', 'rb') as f:\n",
    "    paraphrased_summaries=pkl.load(f)\n",
    "\n",
    "# with open('../data_paraphrase/reddit_capped_random.pkl', 'rb') as f:\n",
    "#     paraphrased_summaries=pkl.load(f)"
   ]
  },
  {
   "cell_type": "code",
   "execution_count": 148,
   "metadata": {},
   "outputs": [
    {
     "data": {
      "text/plain": [
       "['Prison Link Cymru, which helps people find accommodation after their release, said things were generally good for women because issues such as children or domestic violence were now considered']"
      ]
     },
     "execution_count": 148,
     "metadata": {},
     "output_type": "execute_result"
    }
   ],
   "source": [
    "paraphrased_summaries[0]"
   ]
  },
  {
   "cell_type": "code",
   "execution_count": 149,
   "metadata": {},
   "outputs": [
    {
     "name": "stdout",
     "output_type": "stream",
     "text": [
      "11334\n",
      "11334\n",
      "11334\n",
      "11334\n"
     ]
    }
   ],
   "source": [
    "print(len(articles))\n",
    "print(len(gold_summaries))\n",
    "print(len(original_summaries))\n",
    "print(len(paraphrased_summaries))"
   ]
  },
  {
   "cell_type": "code",
   "execution_count": 150,
   "metadata": {},
   "outputs": [],
   "source": [
    "articles=articles[-30:]\n",
    "gold_summaries=gold_summaries[-30:]\n",
    "original_summaries=original_summaries[-30:]\n",
    "paraphrased_summaries=paraphrased_summaries[-30:]\n",
    "\n",
    "# articles=articles[-20:]\n",
    "# gold_summaries=gold_summaries[-20:]\n",
    "# original_summaries=original_summaries[-20:]\n",
    "# paraphrased_summaries=paraphrased_summaries[-20:]"
   ]
  },
  {
   "cell_type": "code",
   "execution_count": 151,
   "metadata": {},
   "outputs": [],
   "source": [
    "final_art=[]\n",
    "final_gold=[]\n",
    "final_orig=[]\n",
    "final_para=[]"
   ]
  },
  {
   "cell_type": "code",
   "execution_count": 152,
   "metadata": {},
   "outputs": [
    {
     "name": "stdout",
     "output_type": "stream",
     "text": [
      "here\n"
     ]
    }
   ],
   "source": [
    "count=0\n",
    "for art, gold, orig, para in zip(articles,gold_summaries,original_summaries,paraphrased_summaries):\n",
    "    if art and gold and orig and para:\n",
    "        # print(count)\n",
    "        if count>=11:\n",
    "            print('here')\n",
    "            break\n",
    "        final_art.append(art)\n",
    "        final_gold.append(gold)\n",
    "        final_orig.append(orig[0])\n",
    "        final_para.append(para[0])\n",
    "        count+=1\n",
    "        \n",
    "        "
   ]
  },
  {
   "cell_type": "code",
   "execution_count": 153,
   "metadata": {},
   "outputs": [],
   "source": [
    "final_art=final_art[1:]"
   ]
  },
  {
   "cell_type": "code",
   "execution_count": 154,
   "metadata": {},
   "outputs": [
    {
     "data": {
      "text/plain": [
       "['Patrick Ah Van scored two tries on his return from a five-match ban to help Widnes to victory at Castleford.',\n",
       " 'A baby has been born to a previously infertile couple in Ukraine using a new type of \"three-person IVF\".',\n",
       " 'A failing health trust has been placed in special measures, meaning all Cumbria hospital trusts are now getting extra help to boost performance.',\n",
       " \"Gareth O'Brien kicked a drop-goal in golden-point extra time as Salford won the 'Million Pound Game' 19-18 to relegate Hull KR from Super League.\",\n",
       " '\"I think it\\'s really sad and wrong they think we\\'re terrorists, because we\\'re not,\" says Chilla, a bright and articulate sixth-former at the elite Kharisma Bangsa high school near Jakarta, Indonesia\\'s capital.',\n",
       " 'A man in his 40s has been arrested after a man found with head injuries in Waterford city centre on Christmas Day died in hospital.',\n",
       " 'School lunches can tempt fussy eaters to try new foods, a survey for the School Food Trust has suggested.',\n",
       " 'A pilot has died after his microlight hit an electricity pylon and burst into flames near Rochester in Kent.',\n",
       " 'A sea captain has been convicted of being drunk in charge of a merchant ship in Belfast Lough.',\n",
       " 'The two candidates competing to be the next managing director of the International Monetary Fund (IMF) could not be more different in their appearance.']"
      ]
     },
     "execution_count": 154,
     "metadata": {},
     "output_type": "execute_result"
    }
   ],
   "source": [
    "final_gold=final_gold[1:]\n",
    "final_gold"
   ]
  },
  {
   "cell_type": "code",
   "execution_count": 155,
   "metadata": {},
   "outputs": [
    {
     "data": {
      "text/plain": [
       "['Tries from Macgraff Leuluai, Ah Van and Chris Bridge gave Widnes a 14-6 half-time lead',\n",
       " 'Valery Zukin, who led the work, said they had a hunch it would work for the Ukrainian couple who had not been able to conceive with conventional IVF',\n",
       " 'The overall recruitment of nurses and doctors was identified as a \"fundamental\" worry with \"too much reliance\" on temporary staff',\n",
       " 'It was a dramatic end to an enthralling game and resulted in Hull KR dropping out of Super League after a 10-year spell in the top flight',\n",
       " 'Schools shut down in Turkey',\n",
       " \"Agnius Naumovas from Lithuania died after being found seriously injured on Margaret's Avenue, Dublin\",\n",
       " 'The most popular vegetables were carrots, sweetcorn and peas',\n",
       " 'The 56-year-old man, from Essex, was pronounced dead at the scene of the crash in a field off Burrows Lane, in the Middle Stoke area, on Sunday',\n",
       " 'Eugenijus Tulauskas was up to four times over the maritime limit when arrested in September last year',\n",
       " \"Carstens's economic credentials are also highlighted, including his master's and PhD in economics from the University of Chicago and his experience in dealing with financial crises\"]"
      ]
     },
     "execution_count": 155,
     "metadata": {},
     "output_type": "execute_result"
    }
   ],
   "source": [
    "final_orig=final_orig[1:]\n",
    "final_orig"
   ]
  },
  {
   "cell_type": "code",
   "execution_count": 156,
   "metadata": {},
   "outputs": [
    {
     "data": {
      "text/plain": [
       "['Widnes led Castleford 14-6 at halftime',\n",
       " 'It is not the first baby born with DNA from three parents, however',\n",
       " 'The Royal Lancaster Infirmary and Furness General Hospital in Barrow fell short in terms of delivering high-quality care',\n",
       " \"O'Brien's failed conversion attempt sent the game into extra time, but he redeemed himself by kicking a drop goal from midfield to secure the victory\",\n",
       " 'In recent years, there have been concerns about the links between the Gulen movement and extremist groups, as well as allegations that the movement has been involved in illegal activities',\n",
       " \"Naumovas was found on Margaret's Avenue\",\n",
       " 'Researchers found that four out of five children in England who ate school lunches had tried food at school that they had not tried at home',\n",
       " 'The Air Accidents Investigation Branch (AAIB) is investigating the cause of the crash',\n",
       " 'Eugenijus Tulauskas, from Lithuania, was up to four times over the maritime limit when arrested in September last year',\n",
       " 'Agustin Carstens, 53, is by no means a joke candidate in the race to lead the IMF']"
      ]
     },
     "execution_count": 156,
     "metadata": {},
     "output_type": "execute_result"
    }
   ],
   "source": [
    "final_para=final_para[1:]\n",
    "final_para"
   ]
  },
  {
   "cell_type": "code",
   "execution_count": 157,
   "metadata": {},
   "outputs": [],
   "source": [
    "dic={\"Article\":final_art, \"Gold\":final_gold, \"Original\": final_orig, \"Paraphrased\": final_para}"
   ]
  },
  {
   "cell_type": "code",
   "execution_count": 158,
   "metadata": {},
   "outputs": [],
   "source": [
    "df=pd.DataFrame.from_dict(dic)"
   ]
  },
  {
   "cell_type": "code",
   "execution_count": 159,
   "metadata": {},
   "outputs": [],
   "source": [
    "df.to_csv('../annotation/xsum_mistral.csv')\n",
    "\n",
    "# df.to_csv('../annotation/reddit_mistral.csv')"
   ]
  },
  {
   "cell_type": "code",
   "execution_count": null,
   "metadata": {},
   "outputs": [],
   "source": []
  }
 ],
 "metadata": {
  "kernelspec": {
   "display_name": "acl",
   "language": "python",
   "name": "python3"
  },
  "language_info": {
   "codemirror_mode": {
    "name": "ipython",
    "version": 3
   },
   "file_extension": ".py",
   "mimetype": "text/x-python",
   "name": "python",
   "nbconvert_exporter": "python",
   "pygments_lexer": "ipython3",
   "version": "3.12.2"
  },
  "orig_nbformat": 4
 },
 "nbformat": 4,
 "nbformat_minor": 2
}
