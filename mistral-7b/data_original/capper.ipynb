{
 "cells": [
  {
   "cell_type": "code",
   "execution_count": 1,
   "metadata": {},
   "outputs": [
    {
     "name": "stderr",
     "output_type": "stream",
     "text": [
      "[nltk_data] Downloading package punkt to /home/haskari/nltk_data...\n",
      "[nltk_data]   Package punkt is already up-to-date!\n"
     ]
    }
   ],
   "source": [
    "import pickle as pkl\n",
    "import os\n",
    "from natsort import natsorted\n",
    "import nltk\n",
    "nltk.download('punkt')\n",
    "import random"
   ]
  },
  {
   "cell_type": "code",
   "execution_count": 24,
   "metadata": {},
   "outputs": [],
   "source": [
    "# pkls=os.listdir('xsum')\n",
    "# pkls=natsorted(pkls)\n",
    "# pkls_list=[]\n",
    "# for pikl in pkls:\n",
    "#     with open('xsum/{}'.format(pikl),'rb') as f:\n",
    "#         file=pkl.load(f)\n",
    "#     if not file:\n",
    "#         file.append(' ')\n",
    "#     pkls_list.append(file)\n",
    "\n",
    "# print(len(pkls_list))\n",
    "# print(pkls_list[0])\n"
   ]
  },
  {
   "cell_type": "code",
   "execution_count": 12,
   "metadata": {},
   "outputs": [],
   "source": [
    "with open('reddit.pkl', 'rb') as f:\n",
    "    pkls_list=pkl.load(f)"
   ]
  },
  {
   "cell_type": "code",
   "execution_count": 13,
   "metadata": {},
   "outputs": [],
   "source": [
    "cnn_list_capped=[]\n",
    "for item in pkls_list:\n",
    "    length=len(item)\n",
    "    if length == 0:\n",
    "        cnn_list_capped.append([])\n",
    "        continue\n",
    "    choose=random.randint(0,length-1)\n",
    "    try:\n",
    "        cnn_list_capped.append([item[choose]])\n",
    "    except:\n",
    "        cnn_list_capped.append([])"
   ]
  },
  {
   "cell_type": "code",
   "execution_count": 14,
   "metadata": {},
   "outputs": [
    {
     "data": {
      "text/plain": [
       "4214"
      ]
     },
     "execution_count": 14,
     "metadata": {},
     "output_type": "execute_result"
    }
   ],
   "source": [
    "len(cnn_list_capped)"
   ]
  },
  {
   "cell_type": "code",
   "execution_count": 15,
   "metadata": {},
   "outputs": [
    {
     "data": {
      "text/plain": [
       "['I had to crawl to the bathroom to vomit']"
      ]
     },
     "execution_count": 15,
     "metadata": {},
     "output_type": "execute_result"
    }
   ],
   "source": [
    "cnn_list_capped[90]"
   ]
  },
  {
   "cell_type": "code",
   "execution_count": 16,
   "metadata": {},
   "outputs": [],
   "source": [
    "with open('reddit_capped_random.pkl', 'wb') as f:\n",
    "    pkl.dump(cnn_list_capped,f)"
   ]
  },
  {
   "cell_type": "code",
   "execution_count": 6,
   "metadata": {},
   "outputs": [],
   "source": [
    "# with open('reddit.pkl', 'rb') as f:\n",
    "#     pkls_list=pkl.load(f)"
   ]
  },
  {
   "cell_type": "code",
   "execution_count": 7,
   "metadata": {},
   "outputs": [],
   "source": [
    "# cnn_list_capped=[]\n",
    "\n",
    "# for item in pkls_list:\n",
    "#     item=nltk.sent_tokenize(item)\n",
    "#     length=len(item)\n",
    "#     choose=random.randint(0,length-1)\n",
    "#     try:\n",
    "#         cnn_list_capped.append([item[0]])\n",
    "#     except:\n",
    "#         cnn_list_capped.append([])"
   ]
  },
  {
   "cell_type": "code",
   "execution_count": 11,
   "metadata": {},
   "outputs": [
    {
     "data": {
      "text/plain": [
       "['This article describes a real experience that a young Redditor had today.']"
      ]
     },
     "execution_count": 11,
     "metadata": {},
     "output_type": "execute_result"
    }
   ],
   "source": [
    "# cnn_list_capped[30]"
   ]
  },
  {
   "cell_type": "code",
   "execution_count": 12,
   "metadata": {},
   "outputs": [],
   "source": [
    "# with open('reddit_capped_random.pkl', 'wb') as f:\n",
    "#     pkl.dump(cnn_list_capped,f)"
   ]
  },
  {
   "cell_type": "code",
   "execution_count": 13,
   "metadata": {},
   "outputs": [],
   "source": [
    "# with open('news.pkl', 'rb') as f:\n",
    "#     pkls_list=pkl.load(f)"
   ]
  },
  {
   "cell_type": "code",
   "execution_count": 14,
   "metadata": {},
   "outputs": [],
   "source": [
    "# cnn_list_capped=[]\n",
    "\n",
    "# for item in pkls_list:\n",
    "#     item=nltk.sent_tokenize(item)\n",
    "#     length=len(item)\n",
    "#     choose=random.randint(0,length-1)\n",
    "#     try:\n",
    "#         cnn_list_capped.append([item[0]])\n",
    "#     except:\n",
    "#         cnn_list_capped.append([])"
   ]
  },
  {
   "cell_type": "code",
   "execution_count": 16,
   "metadata": {},
   "outputs": [
    {
     "data": {
      "text/plain": [
       "[\"A reporter for the conservative website Breitbart News filed a criminal complaint against Trump's campaign manager, Corey Lewandowski, on Friday alleging that he grabbed her arm at a rally and left bruises.\"]"
      ]
     },
     "execution_count": 16,
     "metadata": {},
     "output_type": "execute_result"
    }
   ],
   "source": [
    "# cnn_list_capped[50]"
   ]
  },
  {
   "cell_type": "code",
   "execution_count": null,
   "metadata": {},
   "outputs": [],
   "source": [
    "# with open('news_capped_random.pkl', 'wb') as f:\n",
    "#     pkl.dump(cnn_list_capped,f)"
   ]
  },
  {
   "cell_type": "code",
   "execution_count": 2,
   "metadata": {},
   "outputs": [
    {
     "name": "stderr",
     "output_type": "stream",
     "text": [
      "\n",
      "KeyboardInterrupt\n",
      "\n"
     ]
    }
   ],
   "source": [
    "# with open('cnn-roleplay.pkl', 'wb') as f:\n",
    "#     pkl.dump(cnn_list_capped,f)"
   ]
  },
  {
   "cell_type": "code",
   "execution_count": 23,
   "metadata": {},
   "outputs": [],
   "source": [
    "# with open('xsum_roleplay/7.pkl', 'rb') as f:\n",
    "#     pkls_list=pkl.load(f)"
   ]
  },
  {
   "cell_type": "code",
   "execution_count": 24,
   "metadata": {},
   "outputs": [
    {
     "data": {
      "text/plain": [
       "['From now on you are an expert summarizer of articles that will help me generate summaries. Assistant: Sure! I can help you in generating summaries for articles. Please go ahead and send me the article.']"
      ]
     },
     "execution_count": 24,
     "metadata": {},
     "output_type": "execute_result"
    }
   ],
   "source": [
    "# pkls_list"
   ]
  }
 ],
 "metadata": {
  "kernelspec": {
   "display_name": "Python 3 (ipykernel)",
   "language": "python",
   "name": "python3"
  },
  "language_info": {
   "codemirror_mode": {
    "name": "ipython",
    "version": 3
   },
   "file_extension": ".py",
   "mimetype": "text/x-python",
   "name": "python",
   "nbconvert_exporter": "python",
   "pygments_lexer": "ipython3",
   "version": "3.11.5"
  }
 },
 "nbformat": 4,
 "nbformat_minor": 2
}
